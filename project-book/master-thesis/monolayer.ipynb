{
 "cells": [
  {
   "cell_type": "markdown",
   "metadata": {},
   "source": [
    "# Monolayer WSe$_2$"
   ]
  },
  {
   "cell_type": "code",
   "execution_count": null,
   "metadata": {
    "tags": [
     "remove-cell"
    ]
   },
   "outputs": [],
   "source": [
    "import moire_functions as moire\n",
    "import numpy as np\n",
    "import drawSvg as draw\n",
    "from myst_nb import glue"
   ]
  },
  {
   "cell_type": "markdown",
   "metadata": {},
   "source": [
    "## Lattice\n",
    "\n",
    "We base our tight binding model of monolayer WSe$_2$ (mWSe$_2$) on the three band model by Liu et al. {cite}`three_band`. In this model of mWSe2 we consider only the tungsten sites, which form a triangular lattice in the $xy$ plane:"
   ]
  },
  {
   "cell_type": "code",
   "execution_count": null,
   "metadata": {
    "tags": [
     "remove-cell"
    ]
   },
   "outputs": [],
   "source": [
    "width, height = 4, 2.6\n",
    "drawing = draw.Drawing(width, height, origin=\"center\")\n",
    "W = moire.LatticeAtom([0, 0], atom_radius=0.2)\n",
    "Se2 = moire.LatticeAtom([1/2, 1/(2*np.sqrt(3))], atom_color='red', atom_radius=0.1)\n",
    "lattice = moire.Lattice([1, 0], [1/2, np.sqrt(3)/2], width, height)\n",
    "lattice.add_atom(W)\n",
    "lattice.add_atom(Se2)\n",
    "lattice.NN(W, W, [(1, 0), (0, 1), (1, -1), (-1, 0), (0, -1), (-1, 1)])\n",
    "drawing.append(lattice.draw_lattice())\n",
    "drawing.append(lattice.draw_lattice_vectors(centralize=False, color='red', stroke_width=0.04))\n",
    "drawing.setRenderSize(500)\n",
    "glue(\"fig:lattice\", drawing)"
   ]
  },
  {
   "cell_type": "markdown",
   "metadata": {},
   "source": [
    "```{glue:figure} fig:lattice\n",
    "Triangular lattice of WSe$_2$, the blue atoms respresent the tungsten atoms while the red the (di)selenide.\n",
    "```\n",
    "\n",
    "with real space unit vectors:\n",
    "\n",
    "$$\n",
    "\\vec a_1=\\begin{pmatrix}1\\\\ 0\\end{pmatrix}\\text{ and } \\vec a_2=\\frac12\\begin{pmatrix}1\\\\ \\sqrt{3}\\end{pmatrix},    \n",
    "$$\n",
    "\n",
    "and reciprocal lattice vectors:\n",
    "\n",
    "$$\n",
    "\\vec b_1=2\\pi\\begin{pmatrix}1\\\\ -1/\\sqrt{3}\\end{pmatrix}\\text{ and } \\vec b_2=2\\pi\\begin{pmatrix}0\\\\ 2/\\sqrt{3}\\end{pmatrix},    \n",
    "$$\n",
    "\n",
    "where length is in units of the lattice spacing $a$ between two tungsten atoms."
   ]
  },
  {
   "cell_type": "markdown",
   "metadata": {},
   "source": [
    "## Symmetries\n",
    "\n",
    "The symmetric point group of this triangular lattice is $D_3$ with generators $\\{C_3, \\sigma\\}$. $C_3$ is a rotation of $2\\pi/3$ in the $xy$ plane and $\\sigma$ is a reflection with respect to the bisector of $\\vec a_1$ and $\\vec a_2$. $C_6$ is not a symmetry element of this lattice since this operation exchanges triangles containing Se$_2$ and empty triangles.\n",
    "\n",
    "We restrict the orbitals of tungsten to the $d$ orbitals $d_{x^2-y^2}$, $d_{xy}$ and $d_{z^2}$, which dictate the low energy $K$ points. The other orbitals are either at a different energy scale or do not mix with these orbitals due to the symmetries of the lattice. The tight binding hopping matrix between these orbitals in the hopping direction $\\vec a_1$ writes:\n",
    "\n",
    "$$\n",
    "    \\mathcal H_0 = \\begin{pmatrix}\n",
    "        t_1&t_{12}&t_{13}\\\\\n",
    "        -t_{12}&t_2&t_{23}\\\\\n",
    "        t_{13}&-t_{23}&t_3\n",
    "    \\end{pmatrix},\n",
    "$$\n",
    "\n",
    "in the basis $(d_{x^2-y^2}\\, d_{xy}\\,d_{z^2})$."
   ]
  },
  {
   "cell_type": "code",
   "execution_count": null,
   "metadata": {
    "tags": [
     "remove-cell"
    ]
   },
   "outputs": [],
   "source": [
    "var_dic = moire.WSe2.var_dic\n",
    "for var_key in var_dic:\n",
    "    glue(\"var:\"+var_key, var_dic[var_key])"
   ]
  },
  {
   "cell_type": "markdown",
   "metadata": {},
   "source": [
    "````{admonition} GGA coupling constants in eV\n",
    "GGA coupling constants for WSe$_2$ in the hopping direction $\\vec{a}_1$, subscripts 1, 2 and 3 refer to the $d_{x^2-y^2}$, $d_{xy}$ and $d_{z^2}$ orbitals respectively. $\\varepsilon_i$ are the on-site energies where $\\varepsilon_1=\\varepsilon_2$ due to symmetry. $\\lambda_\\text{SOC}$ is the spin orbit coupling. {cite}`three_band`.\n",
    "```{list-table}\n",
    ":header-rows: 1\n",
    ":name: tab:constants\n",
    "* - $t_1$\n",
    "  - $t_2$\n",
    "  - $t_3$\n",
    "  - $t_{12}$\n",
    "  - $t_{13}$\n",
    "  - $t_{23}$\n",
    "  - $\\varepsilon_1$\n",
    "  - $\\varepsilon_3$\n",
    "  - $\\lambda_\\text{SOC}$\n",
    "* - {glue:}`var:t_1`\n",
    "  - {glue:}`var:t_2`\n",
    "  - {glue:}`var:t_3`\n",
    "  - {glue:}`var:t_12`\n",
    "  - {glue:}`var:t_13`\n",
    "  - {glue:}`var:t_23`\n",
    "  - {glue:}`var:ε_1`\n",
    "  - {glue:}`var:ε_3`\n",
    "  - {glue:}`var:λ_SOC`\n",
    "```\n",
    "where all energies are measured in eV. \n",
    "````\n",
    "\n",
    "\n",
    "Surprisingly, $\\mathcal H_0$ is not symmetric. We recognize the lack of $C_6$ symmetry as the source of this irregularity. This is more easily understood when we consider the interaction between orbitals $d_{xy}$ and $d_{z^2}$:\n",
    "\n",
    "```{glue:figure} fig:d_z2-d_xy\n",
    "Representation of atomic orbitals $d_{xy}$ and $d_{z^2}$, the colors represent the different signs of the lobes. We see that the $d_{z^2}$ orbital is symmetric under reflection while the $d_{xy}$ are antisymmetric.\n",
    "```\n",
    "Mirroring the hopping direction is equivalent to applying a reflection with respect to the $y$-axis. The $d_{xy}$ orbital changes sign under this operation so $t_{32}=-t_{23}$. If this reflection was a symmetry of the lattice we would require $t_{32}=t^*_{23}$, forcing $t_{23}=0$. We can use a similar argument to exclude the $d_{xz}$ and $d_{yz}$ orbitals from our model, since for a monolayer we do have a reflection symmetry with respect to the $xy$ plane."
   ]
  },
  {
   "cell_type": "markdown",
   "metadata": {},
   "source": [
    "## Rotating orbitals"
   ]
  },
  {
   "cell_type": "code",
   "execution_count": null,
   "metadata": {
    "tags": [
     "remove-cell"
    ]
   },
   "outputs": [],
   "source": [
    "drawing = draw.Drawing(10, 3.5, origin=\"center\")\n",
    "stroke_width = 0.03\n",
    "orb = moire.Orbital()\n",
    "drawing.append(orb.d_z2())\n",
    "drawing.append(orb.d_xy(translate=(3, 0)))\n",
    "drawing.append(orb.d_xy(translate=(-3, 0)))\n",
    "drawing.append(draw.Line(0, -2, 0, 2, stroke='black', stroke_width=stroke_width, stroke_dasharray=\"0.05,0.05\"))\n",
    "drawing.setRenderSize(700)\n",
    "glue('fig:d_z2-d_xy', drawing)"
   ]
  },
  {
   "cell_type": "code",
   "execution_count": null,
   "metadata": {
    "tags": [
     "remove-cell"
    ]
   },
   "outputs": [],
   "source": [
    "pos_1 = (1.5, 1.5)\n",
    "pos_2 = (4.5, 1.5+np.sqrt(3))\n",
    "R = 0.5\n",
    "stroke_width = 0.03\n",
    "color = 'black'\n",
    "drawing = draw.Drawing(7, 5)\n",
    "orb = moire.Orbital()\n",
    "drawing.append(orb.d_x2y2(translate=(pos_1[0], -pos_1[1])))\n",
    "drawing.append(orb.d_x2y2(translate=(pos_2[0], -pos_2[1])))\n",
    "drawing.append(draw.Line(*pos_1, *pos_2, stroke=color, stroke_width=stroke_width))\n",
    "drawing.append(draw.Line(*pos_1, pos_2[0], pos_1[1], stroke=color, stroke_width=stroke_width, stroke_dasharray=\"0.05,0.05\"))\n",
    "drawing.append(draw.Line(pos_2[0], pos_1[1], *pos_2, stroke=color, stroke_width=stroke_width, stroke_dasharray=\"0.05,0.05\"))\n",
    "drawing.append(draw.Arc(*pos_1, R, 30, 0, cw=True, stroke=color, stroke_width=stroke_width, fill='none'))\n",
    "drawing.append(draw.Text('θ', R*2/3, pos_1[0]+1.5*R*np.cos(np.pi/12), pos_1[1]+1.5*R*np.sin(np.pi/12), center=0.6, fill=color))\n",
    "drawing.setRenderSize(500)\n",
    "glue('fig:rotate_orbital', drawing)"
   ]
  },
  {
   "cell_type": "markdown",
   "metadata": {},
   "source": [
    "Having figured out the hopping terms for $\\pm\\vec a_1$, we need also formulate the coupling between orbitals at an angle with respect to the principal axis:\n",
    "\n",
    "```{glue:figure} fig:rotate_orbital\n",
    "Two $d_{x^2-y^2}$ orbitals at angle $\\theta$ with respect to the principal axis of the orbitals.\n",
    "```\n",
    "\n",
    "We can however decompose any misaligned $d$ orbital as a linear sum of all $d$ orbitals aligned with the hopping axis. Since $d_{z^2}$ is symmetric under rotation in the $xy$ plane we can exclude this orbital from our analysis. We assume the existence of some matrix $R(\\theta) = R'(\\theta)\\oplus 1$ which governs rotations in our basis and apply it to the $d_{x^2-y^2}$ orbital:\n",
    "\n",
    "$$\n",
    "\\begin{align*}\n",
    "R'(\\theta)|{x^2-y^2}\\rangle &= |{(x\\cos\\theta +y\\sin\\theta )^2-(y\\cos\\theta -x\\sin\\theta )^2}\\rangle\\\\\n",
    "&=|{x^2\\cos^2\\theta +y^2\\sin^2\\theta +xy\\sin2\\theta-y^2\\cos^2\\theta -x^2\\sin^2\\theta +xy\\sin2\\theta}\\rangle\\\\\n",
    "&=\\cos2\\theta|x^2-y^2\\rangle + \\sin2\\theta|2xy\\rangle,\n",
    "\\end{align*}\n",
    "$$\n",
    "\n",
    "which leads us to express $R'(\\theta)$ in matrix form as:\n",
    "\n",
    "$$\n",
    "R'(\\theta)=\\begin{pmatrix}\\cos2\\theta&-\\sin2\\theta\\\\ \\sin2\\theta&\\cos2\\theta\\end{pmatrix}\\rightarrow \\mathcal R=R'(\\pi/3)\\oplus 1=\\begin{pmatrix}-1/2&-\\sqrt{3}/2\\\\ \\sqrt{3}/2&-1/2\\end{pmatrix} \\oplus 1.\n",
    "$$ (eq:rotation_matrix)\n",
    "\n",
    "Powers of $\\mathcal R$ now rotate the orbitals towards the respective hopping axes. Next we need also rotate $\\mathcal H_0$ to adhere to the lattice symmetries. We use powers of $C_6$ which we express as $\\text{Diag}([1, -1, 1])$ in accordance with the arguments of the previous part on lattice symmetry. \n",
    "\n",
    "We now give the hopping matrix for each hopping vector in: \n",
    "\n",
    "$$A = \\{ \\vec a_1, \\vec a_2, -\\vec a_1+\\vec a_2, -\\vec a_1, -\\vec a_2, \\vec a_1-\\vec a_2 \\} ,$$ \n",
    "\n",
    "where enumeration starts at zero:\n",
    "\n",
    "$$\n",
    "\\mathcal H_i = \\mathcal R^i C_6^i \\mathcal H_0C_6^i \\mathcal R^{-i}.\n",
    "$$"
   ]
  },
  {
   "cell_type": "markdown",
   "metadata": {},
   "source": [
    "## Hamiltonian\n",
    "\n",
    "The total hopping Hamiltonian is now the sum of all $\\mathcal H_i$ multiplied by the appropriate complex phases:\n",
    "\n",
    "$$\n",
    "\\mathcal H_\\text{hop}(\\mathbf k) = \\sum_{i=0}^5\\mathcal H_i \\text e^{i \\mathbf k\\cdot A_i} =    \\begin{pmatrix}\n",
    "        h_1&h_{12}&h_{13}\\\\ h_{12}^\\dagger&h_2&h_{23}\\\\\n",
    "        h_{13}^\\dagger&h_{23}^\\dagger&h_3\n",
    "    \\end{pmatrix} ,\n",
    "$$\n",
    "\n",
    "````{dropdown} with: (click dropdown for justification)\n",
    "\n",
    "We start by noticing that all rotation matrices share a quite similar form:\n",
    "\n",
    "```{list-table} The matrix expressions for $\\mathcal R^iC_6^i$ excluding the $d_{z^2}$ component which is block diagonal.\n",
    ":header-rows: 1\n",
    ":name: tab:rotation-matrices\n",
    "* - $I_3$\n",
    "  - $\\mathcal RC_6$\n",
    "  - $\\mathcal R^2C_6^2=\\mathcal R^2$\n",
    "  - $\\mathcal R^3C_6^3=C_6$\n",
    "  - $\\mathcal R^4C_6^4=\\mathcal R$\n",
    "  - $\\mathcal R^5C_6^5=\\mathcal R^2C_6$\n",
    "* - $I_2$\n",
    "  - $\\begin{pmatrix}-1/2&\\sqrt{3}/2\\\\\\sqrt{3}/2&1/2 \\end{pmatrix}$\n",
    "  - $\\begin{pmatrix}-1/2&\\sqrt{3}/2\\\\-\\sqrt{3}/2&-1/2 \\end{pmatrix}$\n",
    "  - $\\begin{pmatrix}1&0\\\\0&-1 \\end{pmatrix}$\n",
    "  - $\\begin{pmatrix}-1/2&-\\sqrt{3}/2\\\\\\sqrt{3}/2&-1/2 \\end{pmatrix}$\n",
    "  - $\\begin{pmatrix}-1/2&-\\sqrt{3}/2\\\\-\\sqrt{3}/2&1/2 \\end{pmatrix}$ \n",
    "```\n",
    "As such we can express all of them as some variant of:\n",
    "\n",
    "$$\n",
    "\\mathcal{\\tilde R}(\\alpha, \\alpha', \\beta, \\beta')=\\begin{pmatrix}\\alpha&\\beta&0\\\\\\beta'&\\alpha'&0\\\\0&0&1\\end{pmatrix}\n",
    "$$\n",
    "\n",
    "where $\\alpha^2=\\alpha'^2$, $\\beta^2=\\beta'^2$ and $\\alpha\\beta'=-\\alpha'\\beta$. This rotation allows a general expression for the matrix components of $\\mathcal H_i$ where the constants in $\\mathcal{\\tilde R}$ come from {numref}`tab:rotation-matrices`:\n",
    "\n",
    "$$\n",
    "    \\mathcal M=\\mathcal {\\tilde RH_0\\tilde R}^\\dagger=\n",
    "    \\begin{pmatrix}\n",
    "        \\alpha^2t_1+\\beta^2t_2&\\alpha\\beta'(t_1-t_2)+(\\alpha\\alpha'-\\beta\\beta')t_{12}&\\alpha t_{13}+\\beta t_{23}\\\\\n",
    "        \\alpha\\beta'(t_1-t_2)-(\\alpha\\alpha'-\\beta\\beta')t_{12}&\\alpha^2t_2+\\beta^2t_1&\\beta't_{13}+\\alpha't_{23}\\\\\n",
    "        \\alpha t_{13}-\\beta t_{23}&\\beta't_{13}-\\alpha't_{23}&t_3\n",
    "        \\label{eq:rot applied}\n",
    "    \\end{pmatrix}.\n",
    "$$\n",
    "\n",
    "Now we express the hopping Hamiltonian as a sum of $\\mathcal M$ matrices:\n",
    "\n",
    "$$\n",
    "\\mathcal H_\\text{hop} = \\sum_{\\sigma\\in\\{-1, 1\\}}\\mathcal M(1, \\sigma, 0, 0)\\text e^{i\\sigma k_x}+\\sum_{\\sigma,\\tau\\in\\{-1, 1\\}}\\mathcal M\\left(-\\frac12,\\frac\\sigma2, \\frac{\\tau\\sqrt3}{2},\\frac{\\sigma\\tau\\sqrt3}2\\right)\\text e^{i\\sigma k_x/2+i\\tau k_y\\sqrt3/2},\n",
    "$$\n",
    "\n",
    "the advantage of which is that we quickly see which terms contribute (co)sines. For example we see that a component proportional to $\\alpha\\beta'\\propto \\sigma\\tau$ will result in a sine for both $k_x$ and $k_y$ for the second sum. Collecting all terms we acquire {numref}`tab:hopping-terms`  \n",
    "````\n",
    "\n",
    "```{list-table} Hamiltonian components with $\\tilde k_x=k_x/2$ and $\\tilde k_y = k_y\\cdot \\sqrt3/2$. We split the terms in real and imaginary parts for clarity.\n",
    ":header-rows: 1\n",
    ":name: tab:hopping-terms\n",
    "* -  \n",
    "  - Real\n",
    "  - Imaginary\n",
    "* - $h_1$\n",
    "  - $2t_1\\cos 2\\tilde k_x+(t_1+3t_2)\\cos\\tilde k_x\\cos\\tilde k_y$\n",
    "  - 0\n",
    "* - $h_2$\n",
    "  - $2t_2\\cos 2\\tilde k_x+(t_2+3t_1)\\cos\\tilde k_x\\cos\\tilde k_y$\n",
    "  - 0\n",
    "* - $h_3$\n",
    "  - $2t_3\\cos 2\\tilde k_x+4t_3\\cos\\tilde k_x\\cos\\tilde k_y$\n",
    "  - 0\n",
    "* - $h_{12}$\n",
    "  - $\\sqrt3(t_1-t_2)\\sin\\tilde k_x\\sin\\tilde k_y$\n",
    "  - $2t_{12}(\\sin 2\\tilde k_x-2\\sin\\tilde k_x\\cos\\tilde k_y)$\n",
    "* - $h_{13}$\n",
    "  - $2t_{13}(\\cos2\\tilde k_x-\\cos\\tilde k_x\\cos\\tilde k_y)$\n",
    "  - $2\\sqrt{3}t_{23}\\cos\\tilde k_x\\sin\\tilde k_y$\n",
    "* - $h_{23}$\n",
    "  - $-2\\sqrt3t_{13}\\sin\\tilde k_x\\sin\\tilde k_y$\n",
    "  - $2t_{23}(\\sin 2\\tilde k_x+\\sin\\tilde k_x\\cos\\tilde k_y)$\n",
    "```\n",
    "\n",
    "Now for the total Hamiltonian we need only to include the on-site energies. Here the spin-orbit coupling, which is quite high for tungsten, also plays an important role. We follow {cite}`three_band` which gives the SOC contribution of the Hamiltonian as $\\lambda_{SOC}/2\\cdot\\mathbf{L\\cdot S}$, with pure $z$ polarized spin, doubling the degrees of freedom. We write, with $\\sigma=\\pm1$ as the two spin possibilities:\n",
    "\n",
    "$$\n",
    "    \\mathcal H_\\text{on-site}(\\sigma)=\\begin{pmatrix}\n",
    "        \\varepsilon_{1}&\\lambda_\\text{SOC}\\sigma i&0\\\\\n",
    "        -\\lambda_\\text{SOC}\\sigma i&\\varepsilon_{1}&0\\\\\n",
    "        0&0&\\varepsilon_{3}\n",
    "    \\end{pmatrix},\n",
    "$$\n",
    "\n",
    "with $\\varepsilon$ the energy of the $d_{x^2-y^2}$ and $d_{xy}$ orbitals, which are equal due to symmetry. $\\varepsilon_3$ is the energy of the $d_{z^2}$ orbital. All values are given in {numref}`tab:constants`. The total Hamiltonian is:\n",
    "\n",
    "$$\n",
    "\\mathcal H^\\sigma(\\mathbf k) = \\mathcal H_\\text{hop}(\\mathbf k)+\\mathcal H_\\text{on-site}(\\sigma).\n",
    "$$"
   ]
  },
  {
   "cell_type": "markdown",
   "metadata": {},
   "source": [
    "## Band structure"
   ]
  },
  {
   "cell_type": "code",
   "execution_count": null,
   "metadata": {
    "tags": [
     "remove-cell"
    ]
   },
   "outputs": [],
   "source": [
    "color = 'red'\n",
    "arrow_width = 0.02\n",
    "corners = [(1/2, np.sqrt(3)/2), (-1/2, np.sqrt(3)/2), (-1, 0), (-1/2, -np.sqrt(3)/2), (1/2, -np.sqrt(3)/2)]\n",
    "path = [np.array(point) for point in [(0, 0), (1, 0), (3/4, np.sqrt(3)/4)]]\n",
    "path_symbols = [\"Γ\", \"K\", \"M\"]\n",
    "offset = [(-0.1, 0), (0.1, 0), (0.1, 0.1)]\n",
    "drawing = draw.Drawing(3, 3, origin=\"center\")\n",
    "p = draw.Path(stroke_width=0.01, stroke='blue', fill='none')\n",
    "p.M(1, 0)\n",
    "for corner in corners:\n",
    "    p.L(*corner)\n",
    "p.Z()\n",
    "drawing.append(p)\n",
    "for i in range(3):\n",
    "    mid = (path[(i+1)%3] + path[i]) / 2\n",
    "    drawing.append(moire.arrow(path[i], mid, stroke=color, stroke_width=arrow_width))\n",
    "    drawing.append(draw.Line(*(path[i]), *(path[(i+1)%3]), stroke=color, stroke_width=arrow_width))\n",
    "for i in range(3):\n",
    "    drawing.append(draw.Circle(*(path[i]), 0.02, fill=color))\n",
    "    drawing.append(draw.Text(path_symbols[i], 0.2, *(path[i]+offset[i]), center=0.6, fill='black'))\n",
    "drawing.setRenderSize(500)\n",
    "glue('fig:k_path', drawing)"
   ]
  },
  {
   "cell_type": "markdown",
   "metadata": {},
   "source": [
    "````{margin}\n",
    "```{glue:figure} fig:k_path\n",
    ":name: fig:k_path\n",
    "Path along high symmetry points of the Brillouin zone: $\\Gamma:(0,\\,0)$, $K:(4\\pi/3, \\,0)$ and $M:(\\pi,\\,\\pi/\\sqrt3)$.\n",
    "```\n",
    "````\n",
    "\n",
    "We solve for the bandstructure along the path connecting the high symmetry $\\Gamma$, $K$ and $M$ points as shown in {numref}`fig:k_path`. We set the zero of energy at the maximum of the valence band, at the $K$ point: $(4\\pi/3, \\,0)$. Here the couplings with the $d_{z^2}$ orbital in {numref}`tab:hopping-terms` go to zero and we solve for the eigenvalues of the Hamiltonian:\n",
    "\n",
    "$$\n",
    "\\mathcal H^\\sigma(K) = \\begin{pmatrix}\n",
    "        -\\frac32(t_1+t_2)+\\varepsilon_1&-i(3\\sqrt3t_{12}+\\lambda_\\text{SOC}\\sigma)\\\\\n",
    "        i(3\\sqrt3t_{12}+\\lambda_\\text{SOC}\\sigma)&-\\frac32(t_1+t_2)+\\varepsilon_1\n",
    "    \\end{pmatrix}\n",
    "    \\oplus \\begin{pmatrix}-3t_3+\\varepsilon_3\\end{pmatrix},\n",
    "$$\n",
    "\n",
    "and we conclude that the maximum of the valence band is at energy:\n",
    "\n",
    "$$\n",
    "    E_K(\\sigma) = \\varepsilon_1-\\frac32(t_1+t_2)-(3\\sqrt3t_{12}-\\lambda_\\text{SOC}\\sigma).\n",
    "$$\n",
    "\n",
    "We notice that the SOC lowers (raises) the $K$ point of the valence band, at the $-K$ point the opposite takes place. The $K$ and $-K$ points of the conduction band at energies $-3t_3+\\varepsilon_3$ are however unaffected."
   ]
  },
  {
   "cell_type": "code",
   "execution_count": null,
   "metadata": {
    "tags": [
     "remove-input"
    ]
   },
   "outputs": [],
   "source": [
    "WSe2 = moire.WSe2(1, 2)\n",
    "\n",
    "def H(k, σ):\n",
    "    return WSe2.H_mono(k, σ)\n",
    "\n",
    "bs = moire.BandStructure(H)\n",
    "bs.set_k_path([np.array([0, 0]), np.array([4*np.pi/3, 0]), np.array([np.pi, np.pi/np.sqrt(3)]), np.zeros(2)], \n",
    "          [r'$\\Gamma$', 'K', 'M', r'$\\Gamma$'], 300)\n",
    "bs.plot_band_structure([-1, 0, 1])"
   ]
  },
  {
   "cell_type": "code",
   "execution_count": null,
   "metadata": {},
   "outputs": [],
   "source": []
  }
 ],
 "metadata": {
  "kernelspec": {
   "display_name": "Python 3",
   "language": "python",
   "name": "python3"
  },
  "language_info": {
   "codemirror_mode": {
    "name": "ipython",
    "version": 3
   },
   "file_extension": ".py",
   "mimetype": "text/x-python",
   "name": "python",
   "nbconvert_exporter": "python",
   "pygments_lexer": "ipython3",
   "version": "3.7.6"
  }
 },
 "nbformat": 4,
 "nbformat_minor": 4
}
