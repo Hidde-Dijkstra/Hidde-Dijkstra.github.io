{
 "cells": [
  {
   "cell_type": "markdown",
   "metadata": {},
   "source": [
    "# Monolayer WSe$_2$"
   ]
  },
  {
   "cell_type": "code",
   "execution_count": 2,
   "metadata": {},
   "outputs": [],
   "source": [
    "from moire.lattice import Lattice\n",
    "from moire.plot import Orbital, BandStructure, arrow\n",
    "import ipywidgets as widgets\n",
    "import numpy as np\n",
    "from myst_nb import glue\n",
    "import drawSvg as draw"
   ]
  },
  {
   "cell_type": "markdown",
   "metadata": {},
   "source": [
    "## Lattice\n",
    "\n",
    "We base our tight binding model of monolayer WSe$_2$ (mWSe$_2$) on the three band model by Liu et al. {cite}`three_band`. In this model of mWSe2 we consider only the tungsten sites, which form a triangular lattice in the $xy$ plane:\n",
    "\n",
    "```{figure} logo.png\n",
    "---\n",
    "height: 0px\n",
    "name: WSe2_lattice\n",
    "figclass: margin\n",
    "---\n",
    "Lattice structure of WSe$_2$, forming a triangular lattice of tungsten atoms.\n",
    "```"
   ]
  },
  {
   "cell_type": "code",
   "execution_count": 6,
   "metadata": {
    "tags": [
     "hide-output",
     "remove-input"
    ]
   },
   "outputs": [
    {
     "data": {
      "application/vnd.plotly.v1+json": {
       "config": {
        "plotlyServerURL": "https://plot.ly"
       },
       "data": [
        {
         "line": {
          "width": 1
         },
         "marker": {
          "color": "red",
          "line": {
           "width": 1
          },
          "size": 12.030075187969924
         },
         "mode": "markers",
         "name": "W",
         "showlegend": true,
         "type": "scatter3d",
         "x": [
          -3.325,
          -4.987500000000001,
          0,
          -1.6625,
          -3.325,
          -4.987500000000001,
          3.325,
          1.6625,
          0,
          -1.6625,
          -3.325,
          4.987500000000001,
          3.325,
          1.6625,
          0,
          4.987500000000001,
          3.325
         ],
         "y": [
          -5.759068935166517,
          -2.8795344675832584,
          -5.759068935166517,
          -2.8795344675832584,
          0,
          2.8795344675832584,
          -5.759068935166517,
          -2.8795344675832584,
          0,
          2.8795344675832584,
          5.759068935166517,
          -2.8795344675832584,
          0,
          2.8795344675832584,
          5.759068935166517,
          2.8795344675832584,
          5.759068935166517
         ],
         "z": [
          0,
          0,
          0,
          0,
          0,
          0,
          0,
          0,
          0,
          0,
          0,
          0,
          0,
          0,
          0,
          0,
          0
         ]
        },
        {
         "line": {
          "width": 1
         },
         "marker": {
          "color": "blue",
          "line": {
           "width": 1
          },
          "size": 9.022556390977444
         },
         "mode": "markers",
         "name": "Se",
         "showlegend": true,
         "type": "scatter3d",
         "x": [
          -3.325,
          -4.987500000000001,
          0,
          -1.6625,
          -3.325,
          -4.987500000000001,
          3.325,
          1.6625,
          0,
          -1.6625,
          4.987500000000001,
          3.325,
          1.6625,
          4.987500000000001,
          -3.325,
          -4.987500000000001,
          0,
          -1.6625,
          -3.325,
          -4.987500000000001,
          3.325,
          1.6625,
          0,
          -1.6625,
          4.987500000000001,
          3.325,
          1.6625,
          4.987500000000001
         ],
         "y": [
          -3.8393792901665167,
          -0.9598448225832584,
          -3.8393792901665167,
          -0.9598448225832584,
          1.919689645,
          4.799224112583258,
          -3.8393792901665167,
          -0.9598448225832584,
          1.919689645,
          4.799224112583258,
          -0.9598448225832584,
          1.919689645,
          4.799224112583258,
          4.799224112583258,
          -3.8393792901665167,
          -0.9598448225832584,
          -3.8393792901665167,
          -0.9598448225832584,
          1.919689645,
          4.799224112583258,
          -3.8393792901665167,
          -0.9598448225832584,
          1.919689645,
          4.799224112583258,
          -0.9598448225832584,
          1.919689645,
          4.799224112583258,
          4.799224112583258
         ],
         "z": [
          1.67871166,
          1.67871166,
          1.67871166,
          1.67871166,
          1.67871166,
          1.67871166,
          1.67871166,
          1.67871166,
          1.67871166,
          1.67871166,
          1.67871166,
          1.67871166,
          1.67871166,
          1.67871166,
          -1.67871166,
          -1.67871166,
          -1.67871166,
          -1.67871166,
          -1.67871166,
          -1.67871166,
          -1.67871166,
          -1.67871166,
          -1.67871166,
          -1.67871166,
          -1.67871166,
          -1.67871166,
          -1.67871166,
          -1.67871166
         ]
        }
       ],
       "layout": {
        "autosize": true,
        "scene": {
         "aspectratio": {
          "x": 1,
          "y": 1,
          "z": 1
         },
         "camera": {
          "center": {
           "x": 0,
           "y": 0,
           "z": 0
          },
          "eye": {
           "x": 0.36468341396614035,
           "y": 0.8327542389737409,
           "z": 0.5885399130009311
          },
          "projection": {
           "type": "perspective"
          },
          "up": {
           "x": 0,
           "y": 0,
           "z": 1
          }
         },
         "xaxis": {
          "range": [
           -6.65,
           6.65
          ],
          "title": {
           "text": "Å"
          },
          "type": "linear"
         },
         "yaxis": {
          "range": [
           -6.65,
           6.65
          ],
          "title": {
           "text": "Å"
          },
          "type": "linear"
         },
         "zaxis": {
          "range": [
           -6.65,
           6.65
          ],
          "title": {
           "text": "Å"
          },
          "type": "linear"
         }
        },
        "template": {
         "data": {
          "bar": [
           {
            "error_x": {
             "color": "#2a3f5f"
            },
            "error_y": {
             "color": "#2a3f5f"
            },
            "marker": {
             "line": {
              "color": "#E5ECF6",
              "width": 0.5
             }
            },
            "type": "bar"
           }
          ],
          "barpolar": [
           {
            "marker": {
             "line": {
              "color": "#E5ECF6",
              "width": 0.5
             }
            },
            "type": "barpolar"
           }
          ],
          "carpet": [
           {
            "aaxis": {
             "endlinecolor": "#2a3f5f",
             "gridcolor": "white",
             "linecolor": "white",
             "minorgridcolor": "white",
             "startlinecolor": "#2a3f5f"
            },
            "baxis": {
             "endlinecolor": "#2a3f5f",
             "gridcolor": "white",
             "linecolor": "white",
             "minorgridcolor": "white",
             "startlinecolor": "#2a3f5f"
            },
            "type": "carpet"
           }
          ],
          "choropleth": [
           {
            "colorbar": {
             "outlinewidth": 0,
             "ticks": ""
            },
            "type": "choropleth"
           }
          ],
          "contour": [
           {
            "colorbar": {
             "outlinewidth": 0,
             "ticks": ""
            },
            "colorscale": [
             [
              0,
              "#0d0887"
             ],
             [
              0.1111111111111111,
              "#46039f"
             ],
             [
              0.2222222222222222,
              "#7201a8"
             ],
             [
              0.3333333333333333,
              "#9c179e"
             ],
             [
              0.4444444444444444,
              "#bd3786"
             ],
             [
              0.5555555555555556,
              "#d8576b"
             ],
             [
              0.6666666666666666,
              "#ed7953"
             ],
             [
              0.7777777777777778,
              "#fb9f3a"
             ],
             [
              0.8888888888888888,
              "#fdca26"
             ],
             [
              1,
              "#f0f921"
             ]
            ],
            "type": "contour"
           }
          ],
          "contourcarpet": [
           {
            "colorbar": {
             "outlinewidth": 0,
             "ticks": ""
            },
            "type": "contourcarpet"
           }
          ],
          "heatmap": [
           {
            "colorbar": {
             "outlinewidth": 0,
             "ticks": ""
            },
            "colorscale": [
             [
              0,
              "#0d0887"
             ],
             [
              0.1111111111111111,
              "#46039f"
             ],
             [
              0.2222222222222222,
              "#7201a8"
             ],
             [
              0.3333333333333333,
              "#9c179e"
             ],
             [
              0.4444444444444444,
              "#bd3786"
             ],
             [
              0.5555555555555556,
              "#d8576b"
             ],
             [
              0.6666666666666666,
              "#ed7953"
             ],
             [
              0.7777777777777778,
              "#fb9f3a"
             ],
             [
              0.8888888888888888,
              "#fdca26"
             ],
             [
              1,
              "#f0f921"
             ]
            ],
            "type": "heatmap"
           }
          ],
          "heatmapgl": [
           {
            "colorbar": {
             "outlinewidth": 0,
             "ticks": ""
            },
            "colorscale": [
             [
              0,
              "#0d0887"
             ],
             [
              0.1111111111111111,
              "#46039f"
             ],
             [
              0.2222222222222222,
              "#7201a8"
             ],
             [
              0.3333333333333333,
              "#9c179e"
             ],
             [
              0.4444444444444444,
              "#bd3786"
             ],
             [
              0.5555555555555556,
              "#d8576b"
             ],
             [
              0.6666666666666666,
              "#ed7953"
             ],
             [
              0.7777777777777778,
              "#fb9f3a"
             ],
             [
              0.8888888888888888,
              "#fdca26"
             ],
             [
              1,
              "#f0f921"
             ]
            ],
            "type": "heatmapgl"
           }
          ],
          "histogram": [
           {
            "marker": {
             "colorbar": {
              "outlinewidth": 0,
              "ticks": ""
             }
            },
            "type": "histogram"
           }
          ],
          "histogram2d": [
           {
            "colorbar": {
             "outlinewidth": 0,
             "ticks": ""
            },
            "colorscale": [
             [
              0,
              "#0d0887"
             ],
             [
              0.1111111111111111,
              "#46039f"
             ],
             [
              0.2222222222222222,
              "#7201a8"
             ],
             [
              0.3333333333333333,
              "#9c179e"
             ],
             [
              0.4444444444444444,
              "#bd3786"
             ],
             [
              0.5555555555555556,
              "#d8576b"
             ],
             [
              0.6666666666666666,
              "#ed7953"
             ],
             [
              0.7777777777777778,
              "#fb9f3a"
             ],
             [
              0.8888888888888888,
              "#fdca26"
             ],
             [
              1,
              "#f0f921"
             ]
            ],
            "type": "histogram2d"
           }
          ],
          "histogram2dcontour": [
           {
            "colorbar": {
             "outlinewidth": 0,
             "ticks": ""
            },
            "colorscale": [
             [
              0,
              "#0d0887"
             ],
             [
              0.1111111111111111,
              "#46039f"
             ],
             [
              0.2222222222222222,
              "#7201a8"
             ],
             [
              0.3333333333333333,
              "#9c179e"
             ],
             [
              0.4444444444444444,
              "#bd3786"
             ],
             [
              0.5555555555555556,
              "#d8576b"
             ],
             [
              0.6666666666666666,
              "#ed7953"
             ],
             [
              0.7777777777777778,
              "#fb9f3a"
             ],
             [
              0.8888888888888888,
              "#fdca26"
             ],
             [
              1,
              "#f0f921"
             ]
            ],
            "type": "histogram2dcontour"
           }
          ],
          "mesh3d": [
           {
            "colorbar": {
             "outlinewidth": 0,
             "ticks": ""
            },
            "type": "mesh3d"
           }
          ],
          "parcoords": [
           {
            "line": {
             "colorbar": {
              "outlinewidth": 0,
              "ticks": ""
             }
            },
            "type": "parcoords"
           }
          ],
          "pie": [
           {
            "automargin": true,
            "type": "pie"
           }
          ],
          "scatter": [
           {
            "marker": {
             "colorbar": {
              "outlinewidth": 0,
              "ticks": ""
             }
            },
            "type": "scatter"
           }
          ],
          "scatter3d": [
           {
            "line": {
             "colorbar": {
              "outlinewidth": 0,
              "ticks": ""
             }
            },
            "marker": {
             "colorbar": {
              "outlinewidth": 0,
              "ticks": ""
             }
            },
            "type": "scatter3d"
           }
          ],
          "scattercarpet": [
           {
            "marker": {
             "colorbar": {
              "outlinewidth": 0,
              "ticks": ""
             }
            },
            "type": "scattercarpet"
           }
          ],
          "scattergeo": [
           {
            "marker": {
             "colorbar": {
              "outlinewidth": 0,
              "ticks": ""
             }
            },
            "type": "scattergeo"
           }
          ],
          "scattergl": [
           {
            "marker": {
             "colorbar": {
              "outlinewidth": 0,
              "ticks": ""
             }
            },
            "type": "scattergl"
           }
          ],
          "scattermapbox": [
           {
            "marker": {
             "colorbar": {
              "outlinewidth": 0,
              "ticks": ""
             }
            },
            "type": "scattermapbox"
           }
          ],
          "scatterpolar": [
           {
            "marker": {
             "colorbar": {
              "outlinewidth": 0,
              "ticks": ""
             }
            },
            "type": "scatterpolar"
           }
          ],
          "scatterpolargl": [
           {
            "marker": {
             "colorbar": {
              "outlinewidth": 0,
              "ticks": ""
             }
            },
            "type": "scatterpolargl"
           }
          ],
          "scatterternary": [
           {
            "marker": {
             "colorbar": {
              "outlinewidth": 0,
              "ticks": ""
             }
            },
            "type": "scatterternary"
           }
          ],
          "surface": [
           {
            "colorbar": {
             "outlinewidth": 0,
             "ticks": ""
            },
            "colorscale": [
             [
              0,
              "#0d0887"
             ],
             [
              0.1111111111111111,
              "#46039f"
             ],
             [
              0.2222222222222222,
              "#7201a8"
             ],
             [
              0.3333333333333333,
              "#9c179e"
             ],
             [
              0.4444444444444444,
              "#bd3786"
             ],
             [
              0.5555555555555556,
              "#d8576b"
             ],
             [
              0.6666666666666666,
              "#ed7953"
             ],
             [
              0.7777777777777778,
              "#fb9f3a"
             ],
             [
              0.8888888888888888,
              "#fdca26"
             ],
             [
              1,
              "#f0f921"
             ]
            ],
            "type": "surface"
           }
          ],
          "table": [
           {
            "cells": {
             "fill": {
              "color": "#EBF0F8"
             },
             "line": {
              "color": "white"
             }
            },
            "header": {
             "fill": {
              "color": "#C8D4E3"
             },
             "line": {
              "color": "white"
             }
            },
            "type": "table"
           }
          ]
         },
         "layout": {
          "annotationdefaults": {
           "arrowcolor": "#2a3f5f",
           "arrowhead": 0,
           "arrowwidth": 1
          },
          "coloraxis": {
           "colorbar": {
            "outlinewidth": 0,
            "ticks": ""
           }
          },
          "colorscale": {
           "diverging": [
            [
             0,
             "#8e0152"
            ],
            [
             0.1,
             "#c51b7d"
            ],
            [
             0.2,
             "#de77ae"
            ],
            [
             0.3,
             "#f1b6da"
            ],
            [
             0.4,
             "#fde0ef"
            ],
            [
             0.5,
             "#f7f7f7"
            ],
            [
             0.6,
             "#e6f5d0"
            ],
            [
             0.7,
             "#b8e186"
            ],
            [
             0.8,
             "#7fbc41"
            ],
            [
             0.9,
             "#4d9221"
            ],
            [
             1,
             "#276419"
            ]
           ],
           "sequential": [
            [
             0,
             "#0d0887"
            ],
            [
             0.1111111111111111,
             "#46039f"
            ],
            [
             0.2222222222222222,
             "#7201a8"
            ],
            [
             0.3333333333333333,
             "#9c179e"
            ],
            [
             0.4444444444444444,
             "#bd3786"
            ],
            [
             0.5555555555555556,
             "#d8576b"
            ],
            [
             0.6666666666666666,
             "#ed7953"
            ],
            [
             0.7777777777777778,
             "#fb9f3a"
            ],
            [
             0.8888888888888888,
             "#fdca26"
            ],
            [
             1,
             "#f0f921"
            ]
           ],
           "sequentialminus": [
            [
             0,
             "#0d0887"
            ],
            [
             0.1111111111111111,
             "#46039f"
            ],
            [
             0.2222222222222222,
             "#7201a8"
            ],
            [
             0.3333333333333333,
             "#9c179e"
            ],
            [
             0.4444444444444444,
             "#bd3786"
            ],
            [
             0.5555555555555556,
             "#d8576b"
            ],
            [
             0.6666666666666666,
             "#ed7953"
            ],
            [
             0.7777777777777778,
             "#fb9f3a"
            ],
            [
             0.8888888888888888,
             "#fdca26"
            ],
            [
             1,
             "#f0f921"
            ]
           ]
          },
          "colorway": [
           "#636efa",
           "#EF553B",
           "#00cc96",
           "#ab63fa",
           "#FFA15A",
           "#19d3f3",
           "#FF6692",
           "#B6E880",
           "#FF97FF",
           "#FECB52"
          ],
          "font": {
           "color": "#2a3f5f"
          },
          "geo": {
           "bgcolor": "white",
           "lakecolor": "white",
           "landcolor": "#E5ECF6",
           "showlakes": true,
           "showland": true,
           "subunitcolor": "white"
          },
          "hoverlabel": {
           "align": "left"
          },
          "hovermode": "closest",
          "mapbox": {
           "style": "light"
          },
          "paper_bgcolor": "white",
          "plot_bgcolor": "#E5ECF6",
          "polar": {
           "angularaxis": {
            "gridcolor": "white",
            "linecolor": "white",
            "ticks": ""
           },
           "bgcolor": "#E5ECF6",
           "radialaxis": {
            "gridcolor": "white",
            "linecolor": "white",
            "ticks": ""
           }
          },
          "scene": {
           "xaxis": {
            "backgroundcolor": "#E5ECF6",
            "gridcolor": "white",
            "gridwidth": 2,
            "linecolor": "white",
            "showbackground": true,
            "ticks": "",
            "zerolinecolor": "white"
           },
           "yaxis": {
            "backgroundcolor": "#E5ECF6",
            "gridcolor": "white",
            "gridwidth": 2,
            "linecolor": "white",
            "showbackground": true,
            "ticks": "",
            "zerolinecolor": "white"
           },
           "zaxis": {
            "backgroundcolor": "#E5ECF6",
            "gridcolor": "white",
            "gridwidth": 2,
            "linecolor": "white",
            "showbackground": true,
            "ticks": "",
            "zerolinecolor": "white"
           }
          },
          "shapedefaults": {
           "line": {
            "color": "#2a3f5f"
           }
          },
          "ternary": {
           "aaxis": {
            "gridcolor": "white",
            "linecolor": "white",
            "ticks": ""
           },
           "baxis": {
            "gridcolor": "white",
            "linecolor": "white",
            "ticks": ""
           },
           "bgcolor": "#E5ECF6",
           "caxis": {
            "gridcolor": "white",
            "linecolor": "white",
            "ticks": ""
           }
          },
          "title": {
           "x": 0.05
          },
          "xaxis": {
           "automargin": true,
           "gridcolor": "white",
           "linecolor": "white",
           "ticks": "",
           "title": {
            "standoff": 15
           },
           "zerolinecolor": "white",
           "zerolinewidth": 2
          },
          "yaxis": {
           "automargin": true,
           "gridcolor": "white",
           "linecolor": "white",
           "ticks": "",
           "title": {
            "standoff": 15
           },
           "zerolinecolor": "white",
           "zerolinewidth": 2
          }
         }
        },
        "xaxis": {
         "constrain": "domain",
         "range": [
          -6.65,
          6.65
         ],
         "title": {
          "text": "Å"
         }
        },
        "yaxis": {
         "range": [
          -6.65,
          6.65
         ],
         "scaleanchor": "x",
         "scaleratio": 1,
         "title": {
          "text": "Å"
         }
        }
       }
      },
      "image/png": "[encoded data removed]",
      "text/html": [
       "<div>                            <div id=\"b2339355-b952-4929-9ec5-055401fbd1a5\" class=\"plotly-graph-div\" style=\"height:525px; width:100%;\"></div>            <script type=\"text/javascript\">                require([\"plotly\"], function(Plotly) {                    window.PLOTLYENV=window.PLOTLYENV || {};                                    if (document.getElementById(\"b2339355-b952-4929-9ec5-055401fbd1a5\")) {                    Plotly.newPlot(                        \"b2339355-b952-4929-9ec5-055401fbd1a5\",                        [{\"line\": {\"width\": 1}, \"marker\": {\"color\": \"red\", \"line\": {\"width\": 1}, \"size\": 12.030075187969924}, \"mode\": \"markers\", \"name\": \"W\", \"showlegend\": true, \"type\": \"scatter3d\", \"x\": [-3.325, -4.987500000000001, 0.0, -1.6625, -3.325, -4.987500000000001, 3.325, 1.6625, 0.0, -1.6625, -3.325, 4.987500000000001, 3.325, 1.6625, 0.0, 4.987500000000001, 3.325], \"y\": [-5.759068935166517, -2.8795344675832584, -5.759068935166517, -2.8795344675832584, 0.0, 2.8795344675832584, -5.759068935166517, -2.8795344675832584, 0.0, 2.8795344675832584, 5.759068935166517, -2.8795344675832584, 0.0, 2.8795344675832584, 5.759068935166517, 2.8795344675832584, 5.759068935166517], \"z\": [0.0, 0.0, 0.0, 0.0, 0.0, 0.0, 0.0, 0.0, 0.0, 0.0, 0.0, 0.0, 0.0, 0.0, 0.0, 0.0, 0.0]}, {\"line\": {\"width\": 1}, \"marker\": {\"color\": \"blue\", \"line\": {\"width\": 1}, \"size\": 9.022556390977444}, \"mode\": \"markers\", \"name\": \"Se\", \"showlegend\": true, \"type\": \"scatter3d\", \"x\": [-3.325, -4.987500000000001, 0.0, -1.6625, -3.325, -4.987500000000001, 3.325, 1.6625, 0.0, -1.6625, 4.987500000000001, 3.325, 1.6625, 4.987500000000001, -3.325, -4.987500000000001, 0.0, -1.6625, -3.325, -4.987500000000001, 3.325, 1.6625, 0.0, -1.6625, 4.987500000000001, 3.325, 1.6625, 4.987500000000001], \"y\": [-3.8393792901665167, -0.9598448225832584, -3.8393792901665167, -0.9598448225832584, 1.919689645, 4.799224112583258, -3.8393792901665167, -0.9598448225832584, 1.919689645, 4.799224112583258, -0.9598448225832584, 1.919689645, 4.799224112583258, 4.799224112583258, -3.8393792901665167, -0.9598448225832584, -3.8393792901665167, -0.9598448225832584, 1.919689645, 4.799224112583258, -3.8393792901665167, -0.9598448225832584, 1.919689645, 4.799224112583258, -0.9598448225832584, 1.919689645, 4.799224112583258, 4.799224112583258], \"z\": [1.67871166, 1.67871166, 1.67871166, 1.67871166, 1.67871166, 1.67871166, 1.67871166, 1.67871166, 1.67871166, 1.67871166, 1.67871166, 1.67871166, 1.67871166, 1.67871166, -1.67871166, -1.67871166, -1.67871166, -1.67871166, -1.67871166, -1.67871166, -1.67871166, -1.67871166, -1.67871166, -1.67871166, -1.67871166, -1.67871166, -1.67871166, -1.67871166]}],                        {\"scene\": {\"aspectratio\": {\"x\": 1, \"y\": 1, \"z\": 1}, \"xaxis\": {\"range\": [-6.65, 6.65], \"title\": {\"text\": \"\\u00c5\"}}, \"yaxis\": {\"range\": [-6.65, 6.65], \"title\": {\"text\": \"\\u00c5\"}}, \"zaxis\": {\"range\": [-6.65, 6.65], \"title\": {\"text\": \"\\u00c5\"}}}, \"template\": {\"data\": {\"bar\": [{\"error_x\": {\"color\": \"#2a3f5f\"}, \"error_y\": {\"color\": \"#2a3f5f\"}, \"marker\": {\"line\": {\"color\": \"#E5ECF6\", \"width\": 0.5}}, \"type\": \"bar\"}], \"barpolar\": [{\"marker\": {\"line\": {\"color\": \"#E5ECF6\", \"width\": 0.5}}, \"type\": \"barpolar\"}], \"carpet\": [{\"aaxis\": {\"endlinecolor\": \"#2a3f5f\", \"gridcolor\": \"white\", \"linecolor\": \"white\", \"minorgridcolor\": \"white\", \"startlinecolor\": \"#2a3f5f\"}, \"baxis\": {\"endlinecolor\": \"#2a3f5f\", \"gridcolor\": \"white\", \"linecolor\": \"white\", \"minorgridcolor\": \"white\", \"startlinecolor\": \"#2a3f5f\"}, \"type\": \"carpet\"}], \"choropleth\": [{\"colorbar\": {\"outlinewidth\": 0, \"ticks\": \"\"}, \"type\": \"choropleth\"}], \"contour\": [{\"colorbar\": {\"outlinewidth\": 0, \"ticks\": \"\"}, \"colorscale\": [[0.0, \"#0d0887\"], [0.1111111111111111, \"#46039f\"], [0.2222222222222222, \"#7201a8\"], [0.3333333333333333, \"#9c179e\"], [0.4444444444444444, \"#bd3786\"], [0.5555555555555556, \"#d8576b\"], [0.6666666666666666, \"#ed7953\"], [0.7777777777777778, \"#fb9f3a\"], [0.8888888888888888, \"#fdca26\"], [1.0, \"#f0f921\"]], \"type\": \"contour\"}], \"contourcarpet\": [{\"colorbar\": {\"outlinewidth\": 0, \"ticks\": \"\"}, \"type\": \"contourcarpet\"}], \"heatmap\": [{\"colorbar\": {\"outlinewidth\": 0, \"ticks\": \"\"}, \"colorscale\": [[0.0, \"#0d0887\"], [0.1111111111111111, \"#46039f\"], [0.2222222222222222, \"#7201a8\"], [0.3333333333333333, \"#9c179e\"], [0.4444444444444444, \"#bd3786\"], [0.5555555555555556, \"#d8576b\"], [0.6666666666666666, \"#ed7953\"], [0.7777777777777778, \"#fb9f3a\"], [0.8888888888888888, \"#fdca26\"], [1.0, \"#f0f921\"]], \"type\": \"heatmap\"}], \"heatmapgl\": [{\"colorbar\": {\"outlinewidth\": 0, \"ticks\": \"\"}, \"colorscale\": [[0.0, \"#0d0887\"], [0.1111111111111111, \"#46039f\"], [0.2222222222222222, \"#7201a8\"], [0.3333333333333333, \"#9c179e\"], [0.4444444444444444, \"#bd3786\"], [0.5555555555555556, \"#d8576b\"], [0.6666666666666666, \"#ed7953\"], [0.7777777777777778, \"#fb9f3a\"], [0.8888888888888888, \"#fdca26\"], [1.0, \"#f0f921\"]], \"type\": \"heatmapgl\"}], \"histogram\": [{\"marker\": {\"colorbar\": {\"outlinewidth\": 0, \"ticks\": \"\"}}, \"type\": \"histogram\"}], \"histogram2d\": [{\"colorbar\": {\"outlinewidth\": 0, \"ticks\": \"\"}, \"colorscale\": [[0.0, \"#0d0887\"], [0.1111111111111111, \"#46039f\"], [0.2222222222222222, \"#7201a8\"], [0.3333333333333333, \"#9c179e\"], [0.4444444444444444, \"#bd3786\"], [0.5555555555555556, \"#d8576b\"], [0.6666666666666666, \"#ed7953\"], [0.7777777777777778, \"#fb9f3a\"], [0.8888888888888888, \"#fdca26\"], [1.0, \"#f0f921\"]], \"type\": \"histogram2d\"}], \"histogram2dcontour\": [{\"colorbar\": {\"outlinewidth\": 0, \"ticks\": \"\"}, \"colorscale\": [[0.0, \"#0d0887\"], [0.1111111111111111, \"#46039f\"], [0.2222222222222222, \"#7201a8\"], [0.3333333333333333, \"#9c179e\"], [0.4444444444444444, \"#bd3786\"], [0.5555555555555556, \"#d8576b\"], [0.6666666666666666, \"#ed7953\"], [0.7777777777777778, \"#fb9f3a\"], [0.8888888888888888, \"#fdca26\"], [1.0, \"#f0f921\"]], \"type\": \"histogram2dcontour\"}], \"mesh3d\": [{\"colorbar\": {\"outlinewidth\": 0, \"ticks\": \"\"}, \"type\": \"mesh3d\"}], \"parcoords\": [{\"line\": {\"colorbar\": {\"outlinewidth\": 0, \"ticks\": \"\"}}, \"type\": \"parcoords\"}], \"pie\": [{\"automargin\": true, \"type\": \"pie\"}], \"scatter\": [{\"marker\": {\"colorbar\": {\"outlinewidth\": 0, \"ticks\": \"\"}}, \"type\": \"scatter\"}], \"scatter3d\": [{\"line\": {\"colorbar\": {\"outlinewidth\": 0, \"ticks\": \"\"}}, \"marker\": {\"colorbar\": {\"outlinewidth\": 0, \"ticks\": \"\"}}, \"type\": \"scatter3d\"}], \"scattercarpet\": [{\"marker\": {\"colorbar\": {\"outlinewidth\": 0, \"ticks\": \"\"}}, \"type\": \"scattercarpet\"}], \"scattergeo\": [{\"marker\": {\"colorbar\": {\"outlinewidth\": 0, \"ticks\": \"\"}}, \"type\": \"scattergeo\"}], \"scattergl\": [{\"marker\": {\"colorbar\": {\"outlinewidth\": 0, \"ticks\": \"\"}}, \"type\": \"scattergl\"}], \"scattermapbox\": [{\"marker\": {\"colorbar\": {\"outlinewidth\": 0, \"ticks\": \"\"}}, \"type\": \"scattermapbox\"}], \"scatterpolar\": [{\"marker\": {\"colorbar\": {\"outlinewidth\": 0, \"ticks\": \"\"}}, \"type\": \"scatterpolar\"}], \"scatterpolargl\": [{\"marker\": {\"colorbar\": {\"outlinewidth\": 0, \"ticks\": \"\"}}, \"type\": \"scatterpolargl\"}], \"scatterternary\": [{\"marker\": {\"colorbar\": {\"outlinewidth\": 0, \"ticks\": \"\"}}, \"type\": \"scatterternary\"}], \"surface\": [{\"colorbar\": {\"outlinewidth\": 0, \"ticks\": \"\"}, \"colorscale\": [[0.0, \"#0d0887\"], [0.1111111111111111, \"#46039f\"], [0.2222222222222222, \"#7201a8\"], [0.3333333333333333, \"#9c179e\"], [0.4444444444444444, \"#bd3786\"], [0.5555555555555556, \"#d8576b\"], [0.6666666666666666, \"#ed7953\"], [0.7777777777777778, \"#fb9f3a\"], [0.8888888888888888, \"#fdca26\"], [1.0, \"#f0f921\"]], \"type\": \"surface\"}], \"table\": [{\"cells\": {\"fill\": {\"color\": \"#EBF0F8\"}, \"line\": {\"color\": \"white\"}}, \"header\": {\"fill\": {\"color\": \"#C8D4E3\"}, \"line\": {\"color\": \"white\"}}, \"type\": \"table\"}]}, \"layout\": {\"annotationdefaults\": {\"arrowcolor\": \"#2a3f5f\", \"arrowhead\": 0, \"arrowwidth\": 1}, \"coloraxis\": {\"colorbar\": {\"outlinewidth\": 0, \"ticks\": \"\"}}, \"colorscale\": {\"diverging\": [[0, \"#8e0152\"], [0.1, \"#c51b7d\"], [0.2, \"#de77ae\"], [0.3, \"#f1b6da\"], [0.4, \"#fde0ef\"], [0.5, \"#f7f7f7\"], [0.6, \"#e6f5d0\"], [0.7, \"#b8e186\"], [0.8, \"#7fbc41\"], [0.9, \"#4d9221\"], [1, \"#276419\"]], \"sequential\": [[0.0, \"#0d0887\"], [0.1111111111111111, \"#46039f\"], [0.2222222222222222, \"#7201a8\"], [0.3333333333333333, \"#9c179e\"], [0.4444444444444444, \"#bd3786\"], [0.5555555555555556, \"#d8576b\"], [0.6666666666666666, \"#ed7953\"], [0.7777777777777778, \"#fb9f3a\"], [0.8888888888888888, \"#fdca26\"], [1.0, \"#f0f921\"]], \"sequentialminus\": [[0.0, \"#0d0887\"], [0.1111111111111111, \"#46039f\"], [0.2222222222222222, \"#7201a8\"], [0.3333333333333333, \"#9c179e\"], [0.4444444444444444, \"#bd3786\"], [0.5555555555555556, \"#d8576b\"], [0.6666666666666666, \"#ed7953\"], [0.7777777777777778, \"#fb9f3a\"], [0.8888888888888888, \"#fdca26\"], [1.0, \"#f0f921\"]]}, \"colorway\": [\"#636efa\", \"#EF553B\", \"#00cc96\", \"#ab63fa\", \"#FFA15A\", \"#19d3f3\", \"#FF6692\", \"#B6E880\", \"#FF97FF\", \"#FECB52\"], \"font\": {\"color\": \"#2a3f5f\"}, \"geo\": {\"bgcolor\": \"white\", \"lakecolor\": \"white\", \"landcolor\": \"#E5ECF6\", \"showlakes\": true, \"showland\": true, \"subunitcolor\": \"white\"}, \"hoverlabel\": {\"align\": \"left\"}, \"hovermode\": \"closest\", \"mapbox\": {\"style\": \"light\"}, \"paper_bgcolor\": \"white\", \"plot_bgcolor\": \"#E5ECF6\", \"polar\": {\"angularaxis\": {\"gridcolor\": \"white\", \"linecolor\": \"white\", \"ticks\": \"\"}, \"bgcolor\": \"#E5ECF6\", \"radialaxis\": {\"gridcolor\": \"white\", \"linecolor\": \"white\", \"ticks\": \"\"}}, \"scene\": {\"xaxis\": {\"backgroundcolor\": \"#E5ECF6\", \"gridcolor\": \"white\", \"gridwidth\": 2, \"linecolor\": \"white\", \"showbackground\": true, \"ticks\": \"\", \"zerolinecolor\": \"white\"}, \"yaxis\": {\"backgroundcolor\": \"#E5ECF6\", \"gridcolor\": \"white\", \"gridwidth\": 2, \"linecolor\": \"white\", \"showbackground\": true, \"ticks\": \"\", \"zerolinecolor\": \"white\"}, \"zaxis\": {\"backgroundcolor\": \"#E5ECF6\", \"gridcolor\": \"white\", \"gridwidth\": 2, \"linecolor\": \"white\", \"showbackground\": true, \"ticks\": \"\", \"zerolinecolor\": \"white\"}}, \"shapedefaults\": {\"line\": {\"color\": \"#2a3f5f\"}}, \"ternary\": {\"aaxis\": {\"gridcolor\": \"white\", \"linecolor\": \"white\", \"ticks\": \"\"}, \"baxis\": {\"gridcolor\": \"white\", \"linecolor\": \"white\", \"ticks\": \"\"}, \"bgcolor\": \"#E5ECF6\", \"caxis\": {\"gridcolor\": \"white\", \"linecolor\": \"white\", \"ticks\": \"\"}}, \"title\": {\"x\": 0.05}, \"xaxis\": {\"automargin\": true, \"gridcolor\": \"white\", \"linecolor\": \"white\", \"ticks\": \"\", \"title\": {\"standoff\": 15}, \"zerolinecolor\": \"white\", \"zerolinewidth\": 2}, \"yaxis\": {\"automargin\": true, \"gridcolor\": \"white\", \"linecolor\": \"white\", \"ticks\": \"\", \"title\": {\"standoff\": 15}, \"zerolinecolor\": \"white\", \"zerolinewidth\": 2}}}, \"xaxis\": {\"constrain\": \"domain\", \"range\": [-6.65, 6.65], \"title\": {\"text\": \"\\u00c5\"}}, \"yaxis\": {\"range\": [-6.65, 6.65], \"scaleanchor\": \"x\", \"scaleratio\": 1, \"title\": {\"text\": \"\\u00c5\"}}},                        {\"responsive\": true}                    ).then(function(){\n",
       "                            \n",
       "var gd = document.getElementById('b2339355-b952-4929-9ec5-055401fbd1a5');\n",
       "var x = new MutationObserver(function (mutations, observer) {{\n",
       "        var display = window.getComputedStyle(gd).display;\n",
       "        if (!display || display === 'none') {{\n",
       "            console.log([gd, 'removed!']);\n",
       "            Plotly.purge(gd);\n",
       "            observer.disconnect();\n",
       "        }}\n",
       "}});\n",
       "\n",
       "// Listen for the removal of the full notebook cells\n",
       "var notebookContainer = gd.closest('#notebook-container');\n",
       "if (notebookContainer) {{\n",
       "    x.observe(notebookContainer, {childList: true});\n",
       "}}\n",
       "\n",
       "// Listen for the clearing of the current output cell\n",
       "var outputEl = gd.closest('.output');\n",
       "if (outputEl) {{\n",
       "    x.observe(outputEl, {childList: true});\n",
       "}}\n",
       "\n",
       "                        })                };                });            </script>        </div>"
      ]
     },
     "metadata": {},
     "output_type": "display_data"
    }
   ],
   "source": [
    "W_dic = dict(name='W', color='red', draw_radius=40, key= 'W')\n",
    "Se_dic = dict(name='Se', color='blue', draw_radius=30, key='Se')\n",
    "\n",
    "wse2_lat = Lattice(3.325)\n",
    "wse2_lat.set_atom([0, 0], W_dic)\n",
    "wse2_lat.set_atom([0, 1.919689645, 1.67871166], Se_dic)\n",
    "wse2_lat.set_atom([0, 1.919689645, -1.67871166], Se_dic)\n",
    "\n",
    "wse2_lat.plot(4, 4, plot_3d=True, all=dict(showlegend=True))"
   ]
  },
  {
   "cell_type": "code",
   "execution_count": 7,
   "metadata": {
    "tags": [
     "remove-input"
    ]
   },
   "outputs": [
    {
     "data": {
      "application/vnd.plotly.v1+json": {
       "config": {
        "plotlyServerURL": "https://plot.ly"
       },
       "data": [
        {
         "legendgroup": "cell",
         "line": {
          "color": "black",
          "dash": "dash"
         },
         "mode": "lines",
         "name": "cell border",
         "showlegend": true,
         "type": "scatter",
         "x": [
          -4.154403461427843,
          -6.65
         ],
         "y": [
          -4.322500000000001,
          0
         ]
        },
        {
         "legendgroup": "cell",
         "line": {
          "color": "black",
          "dash": "dash"
         },
         "mode": "lines",
         "name": "cell border",
         "showlegend": false,
         "type": "scatter",
         "x": [
          -0.8294034614278426,
          -5.820596538572158
         ],
         "y": [
          -4.322500000000001,
          4.322500000000001
         ]
        },
        {
         "legendgroup": "cell",
         "line": {
          "color": "black",
          "dash": "dash"
         },
         "mode": "lines",
         "name": "cell border",
         "showlegend": false,
         "type": "scatter",
         "x": [
          -6.65,
          6.65
         ],
         "y": [
          -2.8795344675832584,
          -2.8795344675832584
         ]
        },
        {
         "legendgroup": "cell",
         "line": {
          "color": "black",
          "dash": "dash"
         },
         "mode": "lines",
         "name": "cell border",
         "showlegend": false,
         "type": "scatter",
         "x": [
          2.4955965385721575,
          -2.4955965385721575
         ],
         "y": [
          -4.322500000000001,
          4.322500000000001
         ]
        },
        {
         "legendgroup": "cell",
         "line": {
          "color": "black",
          "dash": "dash"
         },
         "mode": "lines",
         "name": "cell border",
         "showlegend": false,
         "type": "scatter",
         "x": [
          -6.65,
          6.65
         ],
         "y": [
          0,
          0
         ]
        },
        {
         "legendgroup": "cell",
         "line": {
          "color": "black",
          "dash": "dash"
         },
         "mode": "lines",
         "name": "cell border",
         "showlegend": false,
         "type": "scatter",
         "x": [
          5.820596538572158,
          0.8294034614278426
         ],
         "y": [
          -4.322500000000001,
          4.322500000000001
         ]
        },
        {
         "legendgroup": "cell",
         "line": {
          "color": "black",
          "dash": "dash"
         },
         "mode": "lines",
         "name": "cell border",
         "showlegend": false,
         "type": "scatter",
         "x": [
          -6.65,
          6.65
         ],
         "y": [
          2.8795344675832584,
          2.8795344675832584
         ]
        },
        {
         "legendgroup": "cell",
         "line": {
          "color": "black",
          "dash": "dash"
         },
         "mode": "lines",
         "name": "cell border",
         "showlegend": false,
         "type": "scatter",
         "x": [
          4.154403461427843,
          6.65
         ],
         "y": [
          4.322500000000001,
          0
         ]
        },
        {
         "line": {
          "width": 1
         },
         "marker": {
          "color": "red",
          "line": {
           "width": 1
          },
          "size": 12.030075187969924
         },
         "mode": "markers",
         "name": "W",
         "showlegend": true,
         "type": "scatter",
         "x": [
          -4.987500000000001,
          -1.6625,
          -3.325,
          -4.987500000000001,
          1.6625,
          0,
          -1.6625,
          4.987500000000001,
          3.325,
          1.6625,
          4.987500000000001
         ],
         "y": [
          -2.8795344675832584,
          -2.8795344675832584,
          0,
          2.8795344675832584,
          -2.8795344675832584,
          0,
          2.8795344675832584,
          -2.8795344675832584,
          0,
          2.8795344675832584,
          2.8795344675832584
         ]
        },
        {
         "line": {
          "width": 1
         },
         "marker": {
          "color": "blue",
          "line": {
           "width": 1
          },
          "size": 9.022556390977444
         },
         "mode": "markers",
         "name": "Se",
         "showlegend": true,
         "type": "scatter",
         "x": [
          -3.325,
          -4.987500000000001,
          0,
          -1.6625,
          -3.325,
          3.325,
          1.6625,
          0,
          4.987500000000001,
          3.325,
          -3.325,
          -4.987500000000001,
          0,
          -1.6625,
          -3.325,
          3.325,
          1.6625,
          0,
          4.987500000000001,
          3.325
         ],
         "y": [
          -3.8393792901665167,
          -0.9598448225832584,
          -3.8393792901665167,
          -0.9598448225832584,
          1.919689645,
          -3.8393792901665167,
          -0.9598448225832584,
          1.919689645,
          -0.9598448225832584,
          1.919689645,
          -3.8393792901665167,
          -0.9598448225832584,
          -3.8393792901665167,
          -0.9598448225832584,
          1.919689645,
          -3.8393792901665167,
          -0.9598448225832584,
          1.919689645,
          -0.9598448225832584,
          1.919689645
         ]
        }
       ],
       "layout": {
        "autosize": true,
        "template": {
         "data": {
          "bar": [
           {
            "error_x": {
             "color": "#2a3f5f"
            },
            "error_y": {
             "color": "#2a3f5f"
            },
            "marker": {
             "line": {
              "color": "#E5ECF6",
              "width": 0.5
             }
            },
            "type": "bar"
           }
          ],
          "barpolar": [
           {
            "marker": {
             "line": {
              "color": "#E5ECF6",
              "width": 0.5
             }
            },
            "type": "barpolar"
           }
          ],
          "carpet": [
           {
            "aaxis": {
             "endlinecolor": "#2a3f5f",
             "gridcolor": "white",
             "linecolor": "white",
             "minorgridcolor": "white",
             "startlinecolor": "#2a3f5f"
            },
            "baxis": {
             "endlinecolor": "#2a3f5f",
             "gridcolor": "white",
             "linecolor": "white",
             "minorgridcolor": "white",
             "startlinecolor": "#2a3f5f"
            },
            "type": "carpet"
           }
          ],
          "choropleth": [
           {
            "colorbar": {
             "outlinewidth": 0,
             "ticks": ""
            },
            "type": "choropleth"
           }
          ],
          "contour": [
           {
            "colorbar": {
             "outlinewidth": 0,
             "ticks": ""
            },
            "colorscale": [
             [
              0,
              "#0d0887"
             ],
             [
              0.1111111111111111,
              "#46039f"
             ],
             [
              0.2222222222222222,
              "#7201a8"
             ],
             [
              0.3333333333333333,
              "#9c179e"
             ],
             [
              0.4444444444444444,
              "#bd3786"
             ],
             [
              0.5555555555555556,
              "#d8576b"
             ],
             [
              0.6666666666666666,
              "#ed7953"
             ],
             [
              0.7777777777777778,
              "#fb9f3a"
             ],
             [
              0.8888888888888888,
              "#fdca26"
             ],
             [
              1,
              "#f0f921"
             ]
            ],
            "type": "contour"
           }
          ],
          "contourcarpet": [
           {
            "colorbar": {
             "outlinewidth": 0,
             "ticks": ""
            },
            "type": "contourcarpet"
           }
          ],
          "heatmap": [
           {
            "colorbar": {
             "outlinewidth": 0,
             "ticks": ""
            },
            "colorscale": [
             [
              0,
              "#0d0887"
             ],
             [
              0.1111111111111111,
              "#46039f"
             ],
             [
              0.2222222222222222,
              "#7201a8"
             ],
             [
              0.3333333333333333,
              "#9c179e"
             ],
             [
              0.4444444444444444,
              "#bd3786"
             ],
             [
              0.5555555555555556,
              "#d8576b"
             ],
             [
              0.6666666666666666,
              "#ed7953"
             ],
             [
              0.7777777777777778,
              "#fb9f3a"
             ],
             [
              0.8888888888888888,
              "#fdca26"
             ],
             [
              1,
              "#f0f921"
             ]
            ],
            "type": "heatmap"
           }
          ],
          "heatmapgl": [
           {
            "colorbar": {
             "outlinewidth": 0,
             "ticks": ""
            },
            "colorscale": [
             [
              0,
              "#0d0887"
             ],
             [
              0.1111111111111111,
              "#46039f"
             ],
             [
              0.2222222222222222,
              "#7201a8"
             ],
             [
              0.3333333333333333,
              "#9c179e"
             ],
             [
              0.4444444444444444,
              "#bd3786"
             ],
             [
              0.5555555555555556,
              "#d8576b"
             ],
             [
              0.6666666666666666,
              "#ed7953"
             ],
             [
              0.7777777777777778,
              "#fb9f3a"
             ],
             [
              0.8888888888888888,
              "#fdca26"
             ],
             [
              1,
              "#f0f921"
             ]
            ],
            "type": "heatmapgl"
           }
          ],
          "histogram": [
           {
            "marker": {
             "colorbar": {
              "outlinewidth": 0,
              "ticks": ""
             }
            },
            "type": "histogram"
           }
          ],
          "histogram2d": [
           {
            "colorbar": {
             "outlinewidth": 0,
             "ticks": ""
            },
            "colorscale": [
             [
              0,
              "#0d0887"
             ],
             [
              0.1111111111111111,
              "#46039f"
             ],
             [
              0.2222222222222222,
              "#7201a8"
             ],
             [
              0.3333333333333333,
              "#9c179e"
             ],
             [
              0.4444444444444444,
              "#bd3786"
             ],
             [
              0.5555555555555556,
              "#d8576b"
             ],
             [
              0.6666666666666666,
              "#ed7953"
             ],
             [
              0.7777777777777778,
              "#fb9f3a"
             ],
             [
              0.8888888888888888,
              "#fdca26"
             ],
             [
              1,
              "#f0f921"
             ]
            ],
            "type": "histogram2d"
           }
          ],
          "histogram2dcontour": [
           {
            "colorbar": {
             "outlinewidth": 0,
             "ticks": ""
            },
            "colorscale": [
             [
              0,
              "#0d0887"
             ],
             [
              0.1111111111111111,
              "#46039f"
             ],
             [
              0.2222222222222222,
              "#7201a8"
             ],
             [
              0.3333333333333333,
              "#9c179e"
             ],
             [
              0.4444444444444444,
              "#bd3786"
             ],
             [
              0.5555555555555556,
              "#d8576b"
             ],
             [
              0.6666666666666666,
              "#ed7953"
             ],
             [
              0.7777777777777778,
              "#fb9f3a"
             ],
             [
              0.8888888888888888,
              "#fdca26"
             ],
             [
              1,
              "#f0f921"
             ]
            ],
            "type": "histogram2dcontour"
           }
          ],
          "mesh3d": [
           {
            "colorbar": {
             "outlinewidth": 0,
             "ticks": ""
            },
            "type": "mesh3d"
           }
          ],
          "parcoords": [
           {
            "line": {
             "colorbar": {
              "outlinewidth": 0,
              "ticks": ""
             }
            },
            "type": "parcoords"
           }
          ],
          "pie": [
           {
            "automargin": true,
            "type": "pie"
           }
          ],
          "scatter": [
           {
            "marker": {
             "colorbar": {
              "outlinewidth": 0,
              "ticks": ""
             }
            },
            "type": "scatter"
           }
          ],
          "scatter3d": [
           {
            "line": {
             "colorbar": {
              "outlinewidth": 0,
              "ticks": ""
             }
            },
            "marker": {
             "colorbar": {
              "outlinewidth": 0,
              "ticks": ""
             }
            },
            "type": "scatter3d"
           }
          ],
          "scattercarpet": [
           {
            "marker": {
             "colorbar": {
              "outlinewidth": 0,
              "ticks": ""
             }
            },
            "type": "scattercarpet"
           }
          ],
          "scattergeo": [
           {
            "marker": {
             "colorbar": {
              "outlinewidth": 0,
              "ticks": ""
             }
            },
            "type": "scattergeo"
           }
          ],
          "scattergl": [
           {
            "marker": {
             "colorbar": {
              "outlinewidth": 0,
              "ticks": ""
             }
            },
            "type": "scattergl"
           }
          ],
          "scattermapbox": [
           {
            "marker": {
             "colorbar": {
              "outlinewidth": 0,
              "ticks": ""
             }
            },
            "type": "scattermapbox"
           }
          ],
          "scatterpolar": [
           {
            "marker": {
             "colorbar": {
              "outlinewidth": 0,
              "ticks": ""
             }
            },
            "type": "scatterpolar"
           }
          ],
          "scatterpolargl": [
           {
            "marker": {
             "colorbar": {
              "outlinewidth": 0,
              "ticks": ""
             }
            },
            "type": "scatterpolargl"
           }
          ],
          "scatterternary": [
           {
            "marker": {
             "colorbar": {
              "outlinewidth": 0,
              "ticks": ""
             }
            },
            "type": "scatterternary"
           }
          ],
          "surface": [
           {
            "colorbar": {
             "outlinewidth": 0,
             "ticks": ""
            },
            "colorscale": [
             [
              0,
              "#0d0887"
             ],
             [
              0.1111111111111111,
              "#46039f"
             ],
             [
              0.2222222222222222,
              "#7201a8"
             ],
             [
              0.3333333333333333,
              "#9c179e"
             ],
             [
              0.4444444444444444,
              "#bd3786"
             ],
             [
              0.5555555555555556,
              "#d8576b"
             ],
             [
              0.6666666666666666,
              "#ed7953"
             ],
             [
              0.7777777777777778,
              "#fb9f3a"
             ],
             [
              0.8888888888888888,
              "#fdca26"
             ],
             [
              1,
              "#f0f921"
             ]
            ],
            "type": "surface"
           }
          ],
          "table": [
           {
            "cells": {
             "fill": {
              "color": "#EBF0F8"
             },
             "line": {
              "color": "white"
             }
            },
            "header": {
             "fill": {
              "color": "#C8D4E3"
             },
             "line": {
              "color": "white"
             }
            },
            "type": "table"
           }
          ]
         },
         "layout": {
          "annotationdefaults": {
           "arrowcolor": "#2a3f5f",
           "arrowhead": 0,
           "arrowwidth": 1
          },
          "coloraxis": {
           "colorbar": {
            "outlinewidth": 0,
            "ticks": ""
           }
          },
          "colorscale": {
           "diverging": [
            [
             0,
             "#8e0152"
            ],
            [
             0.1,
             "#c51b7d"
            ],
            [
             0.2,
             "#de77ae"
            ],
            [
             0.3,
             "#f1b6da"
            ],
            [
             0.4,
             "#fde0ef"
            ],
            [
             0.5,
             "#f7f7f7"
            ],
            [
             0.6,
             "#e6f5d0"
            ],
            [
             0.7,
             "#b8e186"
            ],
            [
             0.8,
             "#7fbc41"
            ],
            [
             0.9,
             "#4d9221"
            ],
            [
             1,
             "#276419"
            ]
           ],
           "sequential": [
            [
             0,
             "#0d0887"
            ],
            [
             0.1111111111111111,
             "#46039f"
            ],
            [
             0.2222222222222222,
             "#7201a8"
            ],
            [
             0.3333333333333333,
             "#9c179e"
            ],
            [
             0.4444444444444444,
             "#bd3786"
            ],
            [
             0.5555555555555556,
             "#d8576b"
            ],
            [
             0.6666666666666666,
             "#ed7953"
            ],
            [
             0.7777777777777778,
             "#fb9f3a"
            ],
            [
             0.8888888888888888,
             "#fdca26"
            ],
            [
             1,
             "#f0f921"
            ]
           ],
           "sequentialminus": [
            [
             0,
             "#0d0887"
            ],
            [
             0.1111111111111111,
             "#46039f"
            ],
            [
             0.2222222222222222,
             "#7201a8"
            ],
            [
             0.3333333333333333,
             "#9c179e"
            ],
            [
             0.4444444444444444,
             "#bd3786"
            ],
            [
             0.5555555555555556,
             "#d8576b"
            ],
            [
             0.6666666666666666,
             "#ed7953"
            ],
            [
             0.7777777777777778,
             "#fb9f3a"
            ],
            [
             0.8888888888888888,
             "#fdca26"
            ],
            [
             1,
             "#f0f921"
            ]
           ]
          },
          "colorway": [
           "#636efa",
           "#EF553B",
           "#00cc96",
           "#ab63fa",
           "#FFA15A",
           "#19d3f3",
           "#FF6692",
           "#B6E880",
           "#FF97FF",
           "#FECB52"
          ],
          "font": {
           "color": "#2a3f5f"
          },
          "geo": {
           "bgcolor": "white",
           "lakecolor": "white",
           "landcolor": "#E5ECF6",
           "showlakes": true,
           "showland": true,
           "subunitcolor": "white"
          },
          "hoverlabel": {
           "align": "left"
          },
          "hovermode": "closest",
          "mapbox": {
           "style": "light"
          },
          "paper_bgcolor": "white",
          "plot_bgcolor": "#E5ECF6",
          "polar": {
           "angularaxis": {
            "gridcolor": "white",
            "linecolor": "white",
            "ticks": ""
           },
           "bgcolor": "#E5ECF6",
           "radialaxis": {
            "gridcolor": "white",
            "linecolor": "white",
            "ticks": ""
           }
          },
          "scene": {
           "xaxis": {
            "backgroundcolor": "#E5ECF6",
            "gridcolor": "white",
            "gridwidth": 2,
            "linecolor": "white",
            "showbackground": true,
            "ticks": "",
            "zerolinecolor": "white"
           },
           "yaxis": {
            "backgroundcolor": "#E5ECF6",
            "gridcolor": "white",
            "gridwidth": 2,
            "linecolor": "white",
            "showbackground": true,
            "ticks": "",
            "zerolinecolor": "white"
           },
           "zaxis": {
            "backgroundcolor": "#E5ECF6",
            "gridcolor": "white",
            "gridwidth": 2,
            "linecolor": "white",
            "showbackground": true,
            "ticks": "",
            "zerolinecolor": "white"
           }
          },
          "shapedefaults": {
           "line": {
            "color": "#2a3f5f"
           }
          },
          "ternary": {
           "aaxis": {
            "gridcolor": "white",
            "linecolor": "white",
            "ticks": ""
           },
           "baxis": {
            "gridcolor": "white",
            "linecolor": "white",
            "ticks": ""
           },
           "bgcolor": "#E5ECF6",
           "caxis": {
            "gridcolor": "white",
            "linecolor": "white",
            "ticks": ""
           }
          },
          "title": {
           "x": 0.05
          },
          "xaxis": {
           "automargin": true,
           "gridcolor": "white",
           "linecolor": "white",
           "ticks": "",
           "title": {
            "standoff": 15
           },
           "zerolinecolor": "white",
           "zerolinewidth": 2
          },
          "yaxis": {
           "automargin": true,
           "gridcolor": "white",
           "linecolor": "white",
           "ticks": "",
           "title": {
            "standoff": 15
           },
           "zerolinecolor": "white",
           "zerolinewidth": 2
          }
         }
        },
        "xaxis": {
         "constrain": "domain",
         "domain": [
          0.039484905338564025,
          0.9605150946614359
         ],
         "range": [
          -6.65,
          6.65
         ],
         "title": {
          "text": "Å"
         },
         "type": "linear"
        },
        "yaxis": {
         "domain": [
          0,
          1
         ],
         "range": [
          -4.322500000000002,
          4.322500000000002
         ],
         "scaleanchor": "x",
         "scaleratio": 1,
         "title": {
          "text": "Å"
         },
         "type": "linear"
        }
       }
      },
      "image/png": "[encoded data removed]",
      "text/html": [
       "<div>                            <div id=\"f5ce4110-cfd8-4344-a995-2451e6ba7d27\" class=\"plotly-graph-div\" style=\"height:525px; width:100%;\"></div>            <script type=\"text/javascript\">                require([\"plotly\"], function(Plotly) {                    window.PLOTLYENV=window.PLOTLYENV || {};                                    if (document.getElementById(\"f5ce4110-cfd8-4344-a995-2451e6ba7d27\")) {                    Plotly.newPlot(                        \"f5ce4110-cfd8-4344-a995-2451e6ba7d27\",                        [{\"legendgroup\": \"cell\", \"line\": {\"color\": \"black\", \"dash\": \"dash\"}, \"mode\": \"lines\", \"name\": \"cell border\", \"showlegend\": true, \"type\": \"scatter\", \"x\": [-4.154403461427843, -6.65], \"y\": [-4.322500000000001, 0.0]}, {\"legendgroup\": \"cell\", \"line\": {\"color\": \"black\", \"dash\": \"dash\"}, \"mode\": \"lines\", \"name\": \"cell border\", \"showlegend\": false, \"type\": \"scatter\", \"x\": [-0.8294034614278426, -5.820596538572158], \"y\": [-4.322500000000001, 4.322500000000001]}, {\"legendgroup\": \"cell\", \"line\": {\"color\": \"black\", \"dash\": \"dash\"}, \"mode\": \"lines\", \"name\": \"cell border\", \"showlegend\": false, \"type\": \"scatter\", \"x\": [-6.65, 6.65], \"y\": [-2.8795344675832584, -2.8795344675832584]}, {\"legendgroup\": \"cell\", \"line\": {\"color\": \"black\", \"dash\": \"dash\"}, \"mode\": \"lines\", \"name\": \"cell border\", \"showlegend\": false, \"type\": \"scatter\", \"x\": [2.4955965385721575, -2.4955965385721575], \"y\": [-4.322500000000001, 4.322500000000001]}, {\"legendgroup\": \"cell\", \"line\": {\"color\": \"black\", \"dash\": \"dash\"}, \"mode\": \"lines\", \"name\": \"cell border\", \"showlegend\": false, \"type\": \"scatter\", \"x\": [-6.65, 6.65], \"y\": [0.0, 0.0]}, {\"legendgroup\": \"cell\", \"line\": {\"color\": \"black\", \"dash\": \"dash\"}, \"mode\": \"lines\", \"name\": \"cell border\", \"showlegend\": false, \"type\": \"scatter\", \"x\": [5.820596538572158, 0.8294034614278426], \"y\": [-4.322500000000001, 4.322500000000001]}, {\"legendgroup\": \"cell\", \"line\": {\"color\": \"black\", \"dash\": \"dash\"}, \"mode\": \"lines\", \"name\": \"cell border\", \"showlegend\": false, \"type\": \"scatter\", \"x\": [-6.65, 6.65], \"y\": [2.8795344675832584, 2.8795344675832584]}, {\"legendgroup\": \"cell\", \"line\": {\"color\": \"black\", \"dash\": \"dash\"}, \"mode\": \"lines\", \"name\": \"cell border\", \"showlegend\": false, \"type\": \"scatter\", \"x\": [4.154403461427843, 6.65], \"y\": [4.322500000000001, 0.0]}, {\"line\": {\"width\": 1}, \"marker\": {\"color\": \"red\", \"line\": {\"width\": 1}, \"size\": 12.030075187969924}, \"mode\": \"markers\", \"name\": \"W\", \"showlegend\": true, \"type\": \"scatter\", \"x\": [-4.987500000000001, -1.6625, -3.325, -4.987500000000001, 1.6625, 0.0, -1.6625, 4.987500000000001, 3.325, 1.6625, 4.987500000000001], \"y\": [-2.8795344675832584, -2.8795344675832584, 0.0, 2.8795344675832584, -2.8795344675832584, 0.0, 2.8795344675832584, -2.8795344675832584, 0.0, 2.8795344675832584, 2.8795344675832584]}, {\"line\": {\"width\": 1}, \"marker\": {\"color\": \"blue\", \"line\": {\"width\": 1}, \"size\": 9.022556390977444}, \"mode\": \"markers\", \"name\": \"Se\", \"showlegend\": true, \"type\": \"scatter\", \"x\": [-3.325, -4.987500000000001, 0.0, -1.6625, -3.325, 3.325, 1.6625, 0.0, 4.987500000000001, 3.325, -3.325, -4.987500000000001, 0.0, -1.6625, -3.325, 3.325, 1.6625, 0.0, 4.987500000000001, 3.325], \"y\": [-3.8393792901665167, -0.9598448225832584, -3.8393792901665167, -0.9598448225832584, 1.919689645, -3.8393792901665167, -0.9598448225832584, 1.919689645, -0.9598448225832584, 1.919689645, -3.8393792901665167, -0.9598448225832584, -3.8393792901665167, -0.9598448225832584, 1.919689645, -3.8393792901665167, -0.9598448225832584, 1.919689645, -0.9598448225832584, 1.919689645]}],                        {\"template\": {\"data\": {\"bar\": [{\"error_x\": {\"color\": \"#2a3f5f\"}, \"error_y\": {\"color\": \"#2a3f5f\"}, \"marker\": {\"line\": {\"color\": \"#E5ECF6\", \"width\": 0.5}}, \"type\": \"bar\"}], \"barpolar\": [{\"marker\": {\"line\": {\"color\": \"#E5ECF6\", \"width\": 0.5}}, \"type\": \"barpolar\"}], \"carpet\": [{\"aaxis\": {\"endlinecolor\": \"#2a3f5f\", \"gridcolor\": \"white\", \"linecolor\": \"white\", \"minorgridcolor\": \"white\", \"startlinecolor\": \"#2a3f5f\"}, \"baxis\": {\"endlinecolor\": \"#2a3f5f\", \"gridcolor\": \"white\", \"linecolor\": \"white\", \"minorgridcolor\": \"white\", \"startlinecolor\": \"#2a3f5f\"}, \"type\": \"carpet\"}], \"choropleth\": [{\"colorbar\": {\"outlinewidth\": 0, \"ticks\": \"\"}, \"type\": \"choropleth\"}], \"contour\": [{\"colorbar\": {\"outlinewidth\": 0, \"ticks\": \"\"}, \"colorscale\": [[0.0, \"#0d0887\"], [0.1111111111111111, \"#46039f\"], [0.2222222222222222, \"#7201a8\"], [0.3333333333333333, \"#9c179e\"], [0.4444444444444444, \"#bd3786\"], [0.5555555555555556, \"#d8576b\"], [0.6666666666666666, \"#ed7953\"], [0.7777777777777778, \"#fb9f3a\"], [0.8888888888888888, \"#fdca26\"], [1.0, \"#f0f921\"]], \"type\": \"contour\"}], \"contourcarpet\": [{\"colorbar\": {\"outlinewidth\": 0, \"ticks\": \"\"}, \"type\": \"contourcarpet\"}], \"heatmap\": [{\"colorbar\": {\"outlinewidth\": 0, \"ticks\": \"\"}, \"colorscale\": [[0.0, \"#0d0887\"], [0.1111111111111111, \"#46039f\"], [0.2222222222222222, \"#7201a8\"], [0.3333333333333333, \"#9c179e\"], [0.4444444444444444, \"#bd3786\"], [0.5555555555555556, \"#d8576b\"], [0.6666666666666666, \"#ed7953\"], [0.7777777777777778, \"#fb9f3a\"], [0.8888888888888888, \"#fdca26\"], [1.0, \"#f0f921\"]], \"type\": \"heatmap\"}], \"heatmapgl\": [{\"colorbar\": {\"outlinewidth\": 0, \"ticks\": \"\"}, \"colorscale\": [[0.0, \"#0d0887\"], [0.1111111111111111, \"#46039f\"], [0.2222222222222222, \"#7201a8\"], [0.3333333333333333, \"#9c179e\"], [0.4444444444444444, \"#bd3786\"], [0.5555555555555556, \"#d8576b\"], [0.6666666666666666, \"#ed7953\"], [0.7777777777777778, \"#fb9f3a\"], [0.8888888888888888, \"#fdca26\"], [1.0, \"#f0f921\"]], \"type\": \"heatmapgl\"}], \"histogram\": [{\"marker\": {\"colorbar\": {\"outlinewidth\": 0, \"ticks\": \"\"}}, \"type\": \"histogram\"}], \"histogram2d\": [{\"colorbar\": {\"outlinewidth\": 0, \"ticks\": \"\"}, \"colorscale\": [[0.0, \"#0d0887\"], [0.1111111111111111, \"#46039f\"], [0.2222222222222222, \"#7201a8\"], [0.3333333333333333, \"#9c179e\"], [0.4444444444444444, \"#bd3786\"], [0.5555555555555556, \"#d8576b\"], [0.6666666666666666, \"#ed7953\"], [0.7777777777777778, \"#fb9f3a\"], [0.8888888888888888, \"#fdca26\"], [1.0, \"#f0f921\"]], \"type\": \"histogram2d\"}], \"histogram2dcontour\": [{\"colorbar\": {\"outlinewidth\": 0, \"ticks\": \"\"}, \"colorscale\": [[0.0, \"#0d0887\"], [0.1111111111111111, \"#46039f\"], [0.2222222222222222, \"#7201a8\"], [0.3333333333333333, \"#9c179e\"], [0.4444444444444444, \"#bd3786\"], [0.5555555555555556, \"#d8576b\"], [0.6666666666666666, \"#ed7953\"], [0.7777777777777778, \"#fb9f3a\"], [0.8888888888888888, \"#fdca26\"], [1.0, \"#f0f921\"]], \"type\": \"histogram2dcontour\"}], \"mesh3d\": [{\"colorbar\": {\"outlinewidth\": 0, \"ticks\": \"\"}, \"type\": \"mesh3d\"}], \"parcoords\": [{\"line\": {\"colorbar\": {\"outlinewidth\": 0, \"ticks\": \"\"}}, \"type\": \"parcoords\"}], \"pie\": [{\"automargin\": true, \"type\": \"pie\"}], \"scatter\": [{\"marker\": {\"colorbar\": {\"outlinewidth\": 0, \"ticks\": \"\"}}, \"type\": \"scatter\"}], \"scatter3d\": [{\"line\": {\"colorbar\": {\"outlinewidth\": 0, \"ticks\": \"\"}}, \"marker\": {\"colorbar\": {\"outlinewidth\": 0, \"ticks\": \"\"}}, \"type\": \"scatter3d\"}], \"scattercarpet\": [{\"marker\": {\"colorbar\": {\"outlinewidth\": 0, \"ticks\": \"\"}}, \"type\": \"scattercarpet\"}], \"scattergeo\": [{\"marker\": {\"colorbar\": {\"outlinewidth\": 0, \"ticks\": \"\"}}, \"type\": \"scattergeo\"}], \"scattergl\": [{\"marker\": {\"colorbar\": {\"outlinewidth\": 0, \"ticks\": \"\"}}, \"type\": \"scattergl\"}], \"scattermapbox\": [{\"marker\": {\"colorbar\": {\"outlinewidth\": 0, \"ticks\": \"\"}}, \"type\": \"scattermapbox\"}], \"scatterpolar\": [{\"marker\": {\"colorbar\": {\"outlinewidth\": 0, \"ticks\": \"\"}}, \"type\": \"scatterpolar\"}], \"scatterpolargl\": [{\"marker\": {\"colorbar\": {\"outlinewidth\": 0, \"ticks\": \"\"}}, \"type\": \"scatterpolargl\"}], \"scatterternary\": [{\"marker\": {\"colorbar\": {\"outlinewidth\": 0, \"ticks\": \"\"}}, \"type\": \"scatterternary\"}], \"surface\": [{\"colorbar\": {\"outlinewidth\": 0, \"ticks\": \"\"}, \"colorscale\": [[0.0, \"#0d0887\"], [0.1111111111111111, \"#46039f\"], [0.2222222222222222, \"#7201a8\"], [0.3333333333333333, \"#9c179e\"], [0.4444444444444444, \"#bd3786\"], [0.5555555555555556, \"#d8576b\"], [0.6666666666666666, \"#ed7953\"], [0.7777777777777778, \"#fb9f3a\"], [0.8888888888888888, \"#fdca26\"], [1.0, \"#f0f921\"]], \"type\": \"surface\"}], \"table\": [{\"cells\": {\"fill\": {\"color\": \"#EBF0F8\"}, \"line\": {\"color\": \"white\"}}, \"header\": {\"fill\": {\"color\": \"#C8D4E3\"}, \"line\": {\"color\": \"white\"}}, \"type\": \"table\"}]}, \"layout\": {\"annotationdefaults\": {\"arrowcolor\": \"#2a3f5f\", \"arrowhead\": 0, \"arrowwidth\": 1}, \"coloraxis\": {\"colorbar\": {\"outlinewidth\": 0, \"ticks\": \"\"}}, \"colorscale\": {\"diverging\": [[0, \"#8e0152\"], [0.1, \"#c51b7d\"], [0.2, \"#de77ae\"], [0.3, \"#f1b6da\"], [0.4, \"#fde0ef\"], [0.5, \"#f7f7f7\"], [0.6, \"#e6f5d0\"], [0.7, \"#b8e186\"], [0.8, \"#7fbc41\"], [0.9, \"#4d9221\"], [1, \"#276419\"]], \"sequential\": [[0.0, \"#0d0887\"], [0.1111111111111111, \"#46039f\"], [0.2222222222222222, \"#7201a8\"], [0.3333333333333333, \"#9c179e\"], [0.4444444444444444, \"#bd3786\"], [0.5555555555555556, \"#d8576b\"], [0.6666666666666666, \"#ed7953\"], [0.7777777777777778, \"#fb9f3a\"], [0.8888888888888888, \"#fdca26\"], [1.0, \"#f0f921\"]], \"sequentialminus\": [[0.0, \"#0d0887\"], [0.1111111111111111, \"#46039f\"], [0.2222222222222222, \"#7201a8\"], [0.3333333333333333, \"#9c179e\"], [0.4444444444444444, \"#bd3786\"], [0.5555555555555556, \"#d8576b\"], [0.6666666666666666, \"#ed7953\"], [0.7777777777777778, \"#fb9f3a\"], [0.8888888888888888, \"#fdca26\"], [1.0, \"#f0f921\"]]}, \"colorway\": [\"#636efa\", \"#EF553B\", \"#00cc96\", \"#ab63fa\", \"#FFA15A\", \"#19d3f3\", \"#FF6692\", \"#B6E880\", \"#FF97FF\", \"#FECB52\"], \"font\": {\"color\": \"#2a3f5f\"}, \"geo\": {\"bgcolor\": \"white\", \"lakecolor\": \"white\", \"landcolor\": \"#E5ECF6\", \"showlakes\": true, \"showland\": true, \"subunitcolor\": \"white\"}, \"hoverlabel\": {\"align\": \"left\"}, \"hovermode\": \"closest\", \"mapbox\": {\"style\": \"light\"}, \"paper_bgcolor\": \"white\", \"plot_bgcolor\": \"#E5ECF6\", \"polar\": {\"angularaxis\": {\"gridcolor\": \"white\", \"linecolor\": \"white\", \"ticks\": \"\"}, \"bgcolor\": \"#E5ECF6\", \"radialaxis\": {\"gridcolor\": \"white\", \"linecolor\": \"white\", \"ticks\": \"\"}}, \"scene\": {\"xaxis\": {\"backgroundcolor\": \"#E5ECF6\", \"gridcolor\": \"white\", \"gridwidth\": 2, \"linecolor\": \"white\", \"showbackground\": true, \"ticks\": \"\", \"zerolinecolor\": \"white\"}, \"yaxis\": {\"backgroundcolor\": \"#E5ECF6\", \"gridcolor\": \"white\", \"gridwidth\": 2, \"linecolor\": \"white\", \"showbackground\": true, \"ticks\": \"\", \"zerolinecolor\": \"white\"}, \"zaxis\": {\"backgroundcolor\": \"#E5ECF6\", \"gridcolor\": \"white\", \"gridwidth\": 2, \"linecolor\": \"white\", \"showbackground\": true, \"ticks\": \"\", \"zerolinecolor\": \"white\"}}, \"shapedefaults\": {\"line\": {\"color\": \"#2a3f5f\"}}, \"ternary\": {\"aaxis\": {\"gridcolor\": \"white\", \"linecolor\": \"white\", \"ticks\": \"\"}, \"baxis\": {\"gridcolor\": \"white\", \"linecolor\": \"white\", \"ticks\": \"\"}, \"bgcolor\": \"#E5ECF6\", \"caxis\": {\"gridcolor\": \"white\", \"linecolor\": \"white\", \"ticks\": \"\"}}, \"title\": {\"x\": 0.05}, \"xaxis\": {\"automargin\": true, \"gridcolor\": \"white\", \"linecolor\": \"white\", \"ticks\": \"\", \"title\": {\"standoff\": 15}, \"zerolinecolor\": \"white\", \"zerolinewidth\": 2}, \"yaxis\": {\"automargin\": true, \"gridcolor\": \"white\", \"linecolor\": \"white\", \"ticks\": \"\", \"title\": {\"standoff\": 15}, \"zerolinecolor\": \"white\", \"zerolinewidth\": 2}}}, \"xaxis\": {\"constrain\": \"domain\", \"range\": [-6.65, 6.65], \"title\": {\"text\": \"\\u00c5\"}}, \"yaxis\": {\"range\": [-4.322500000000001, 4.322500000000001], \"scaleanchor\": \"x\", \"scaleratio\": 1, \"title\": {\"text\": \"\\u00c5\"}}},                        {\"responsive\": true}                    ).then(function(){\n",
       "                            \n",
       "var gd = document.getElementById('f5ce4110-cfd8-4344-a995-2451e6ba7d27');\n",
       "var x = new MutationObserver(function (mutations, observer) {{\n",
       "        var display = window.getComputedStyle(gd).display;\n",
       "        if (!display || display === 'none') {{\n",
       "            console.log([gd, 'removed!']);\n",
       "            Plotly.purge(gd);\n",
       "            observer.disconnect();\n",
       "        }}\n",
       "}});\n",
       "\n",
       "// Listen for the removal of the full notebook cells\n",
       "var notebookContainer = gd.closest('#notebook-container');\n",
       "if (notebookContainer) {{\n",
       "    x.observe(notebookContainer, {childList: true});\n",
       "}}\n",
       "\n",
       "// Listen for the clearing of the current output cell\n",
       "var outputEl = gd.closest('.output');\n",
       "if (outputEl) {{\n",
       "    x.observe(outputEl, {childList: true});\n",
       "}}\n",
       "\n",
       "                        })                };                });            </script>        </div>"
      ]
     },
     "metadata": {},
     "output_type": "display_data"
    }
   ],
   "source": [
    "wse2_lat.plot(4, 2.6, plot_3d=False, all=dict(showlegend=True))"
   ]
  },
  {
   "cell_type": "markdown",
   "metadata": {},
   "source": [
    "with real space unit vectors:\n",
    "\n",
    "$$\n",
    "\\vec a_1=\\begin{pmatrix}1\\\\ 0\\end{pmatrix}\\text{ and } \\vec a_2=\\frac12\\begin{pmatrix}1\\\\ \\sqrt{3}\\end{pmatrix},    \n",
    "$$\n",
    "\n",
    "and reciprocal lattice vectors:\n",
    "\n",
    "$$\n",
    "\\vec b_1=2\\pi\\begin{pmatrix}1\\\\ -1/\\sqrt{3}\\end{pmatrix}\\text{ and } \\vec b_2=2\\pi\\begin{pmatrix}0\\\\ 2/\\sqrt{3}\\end{pmatrix},    \n",
    "$$\n",
    "\n",
    "where length is in units of the lattice spacing $a$ between two tungsten atoms."
   ]
  },
  {
   "cell_type": "markdown",
   "metadata": {},
   "source": [
    "## Symmetries\n",
    "\n",
    "The symmetric point group of this triangular lattice is $D_3$ with generators $\\{C_3, \\sigma\\}$. $C_3$ is a rotation of $2\\pi/3$ in the $xy$ plane and $\\sigma$ is a reflection with respect to the bisector of $\\vec a_1$ and $\\vec a_2$. $C_6$ is not a symmetry element of this lattice due to the hexagonal nature of the lattice.\n",
    "\n",
    "We restrict the orbitals of tungsten to the $d$ orbitals $d_{x^2-y^2}$, $d_{xy}$ and $d_{z^2}$, which dictate the low energy $K$ points. The other orbitals are either at a different energy scale or do not mix with these orbitals due to the symmetries of the lattice. The tight binding hopping matrix between these orbitals in the hopping direction $\\vec a_1$ writes:\n",
    "\n",
    "$$\n",
    "    \\mathcal H_0 = \\begin{pmatrix}\n",
    "        t_1&t_{12}&t_{13}\\\\\n",
    "        -t_{12}&t_2&t_{23}\\\\\n",
    "        t_{13}&-t_{23}&t_3\n",
    "    \\end{pmatrix},\n",
    "$$\n",
    "\n",
    "in the basis $(d_{x^2-y^2}\\, d_{xy}\\,d_{z^2})$."
   ]
  },
  {
   "cell_type": "code",
   "execution_count": 4,
   "metadata": {
    "tags": [
     "remove-cell"
    ]
   },
   "outputs": [
    {
     "data": {
      "text/plain": [
       "0.034"
      ]
     },
     "metadata": {
      "scrapbook": {
       "mime_prefix": "",
       "name": "var:t_1"
      }
     },
     "output_type": "display_data"
    },
    {
     "data": {
      "text/plain": [
       "0.263"
      ]
     },
     "metadata": {
      "scrapbook": {
       "mime_prefix": "",
       "name": "var:t_2"
      }
     },
     "output_type": "display_data"
    },
    {
     "data": {
      "text/plain": [
       "-0.207"
      ]
     },
     "metadata": {
      "scrapbook": {
       "mime_prefix": "",
       "name": "var:t_3"
      }
     },
     "output_type": "display_data"
    },
    {
     "data": {
      "text/plain": [
       "0.329"
      ]
     },
     "metadata": {
      "scrapbook": {
       "mime_prefix": "",
       "name": "var:t_12"
      }
     },
     "output_type": "display_data"
    },
    {
     "data": {
      "text/plain": [
       "0.486"
      ]
     },
     "metadata": {
      "scrapbook": {
       "mime_prefix": "",
       "name": "var:t_13"
      }
     },
     "output_type": "display_data"
    },
    {
     "data": {
      "text/plain": [
       "0.457"
      ]
     },
     "metadata": {
      "scrapbook": {
       "mime_prefix": "",
       "name": "var:t_23"
      }
     },
     "output_type": "display_data"
    },
    {
     "data": {
      "text/plain": [
       "2.179"
      ]
     },
     "metadata": {
      "scrapbook": {
       "mime_prefix": "",
       "name": "var:ε_1"
      }
     },
     "output_type": "display_data"
    },
    {
     "data": {
      "text/plain": [
       "0.942"
      ]
     },
     "metadata": {
      "scrapbook": {
       "mime_prefix": "",
       "name": "var:ε_3"
      }
     },
     "output_type": "display_data"
    },
    {
     "data": {
      "text/plain": [
       "0.228"
      ]
     },
     "metadata": {
      "scrapbook": {
       "mime_prefix": "",
       "name": "var:λ_SOC"
      }
     },
     "output_type": "display_data"
    }
   ],
   "source": [
    "wse2_var_dic = {\n",
    "        \"t_1\": 0.034, \n",
    "        \"t_2\": 0.263, \n",
    "        \"t_3\": -0.207, \n",
    "        \"t_12\": 0.329, \n",
    "        \"t_13\": 0.486, \n",
    "        \"t_23\": 0.457, \n",
    "        \"ε_1\": 2.179, \n",
    "        \"ε_3\": 0.942, \n",
    "        \"λ_SOC\": 0.228\n",
    "    }\n",
    "for key, value in wse2_var_dic.items():\n",
    "    glue(\"var:\"+key, value)"
   ]
  },
  {
   "cell_type": "markdown",
   "metadata": {},
   "source": [
    "````{admonition} GGA coupling constants in eV\n",
    "GGA coupling constants for WSe$_2$ in the hopping direction $\\vec{a}_1$, subscripts 1, 2 and 3 refer to the $d_{x^2-y^2}$, $d_{xy}$ and $d_{z^2}$ orbitals respectively. $\\varepsilon_i$ are the on-site energies where $\\varepsilon_1=\\varepsilon_2$ due to symmetry. $\\lambda_\\text{SOC}$ is the spin orbit coupling. {cite}`three_band`.\n",
    "```{list-table}\n",
    ":header-rows: 1\n",
    ":name: tab:constants\n",
    "* - $t_1$\n",
    "  - $t_2$\n",
    "  - $t_3$\n",
    "  - $t_{12}$\n",
    "  - $t_{13}$\n",
    "  - $t_{23}$\n",
    "  - $\\varepsilon_1$\n",
    "  - $\\varepsilon_3$\n",
    "  - $\\lambda_\\text{SOC}$\n",
    "* - {glue:}`var:t_1`\n",
    "  - {glue:}`var:t_2`\n",
    "  - {glue:}`var:t_3`\n",
    "  - {glue:}`var:t_12`\n",
    "  - {glue:}`var:t_13`\n",
    "  - {glue:}`var:t_23`\n",
    "  - {glue:}`var:ε_1`\n",
    "  - {glue:}`var:ε_3`\n",
    "  - {glue:}`var:λ_SOC`\n",
    "```\n",
    "where all energies are measured in eV. \n",
    "````\n",
    "\n",
    "\n",
    "Surprisingly, $\\mathcal H_0$ is not symmetric. We recognize the lack of $C_6$ symmetry as the source of this irregularity. This is more easily understood when we consider the interaction between orbitals $d_{xy}$ and $d_{z^2}$:\n",
    "\n",
    "```{glue:figure} fig:d_z2-d_xy\n",
    "Representation of atomic orbitals $d_{xy}$ and $d_{z^2}$, the colors represent the different signs of the lobes. We see that the $d_{z^2}$ orbital is symmetric under reflection while the $d_{xy}$ are antisymmetric.\n",
    "```\n",
    "Mirroring the hopping direction is equivalent to applying a reflection with respect to the $y$-axis. The $d_{xy}$ orbital changes sign under this operation so $t_{32}=-t_{23}$. If this reflection was a symmetry of the lattice we would require $t_{32}=t^*_{23}$, forcing $t_{23}=0$. We can use a similar argument to exclude the $d_{xz}$ and $d_{yz}$ orbitals from our model, since for a monolayer we do have a reflection symmetry with respect to the $xy$ plane."
   ]
  },
  {
   "cell_type": "markdown",
   "metadata": {},
   "source": [
    "## Rotating orbitals"
   ]
  },
  {
   "cell_type": "code",
   "execution_count": 3,
   "metadata": {
    "tags": [
     "remove-cell"
    ]
   },
   "outputs": [
    {
     "data": {
      "image/svg+xml": [
       "<?xml version=\"1.0\" encoding=\"UTF-8\"?>\n",
       "<svg xmlns=\"http://www.w3.org/2000/svg\" xmlns:xlink=\"http://www.w3.org/1999/xlink\"\n",
       "     width=\"700\" height=\"245.0\" viewBox=\"-5.0 -1.75 10 3.5\">\n",
       "<defs>\n",
       "<radialGradient cx=\"0\" cy=\"-1\" r=\"0.5\" gradientUnits=\"userSpaceOnUse\" id=\"d0\">\n",
       "<stop offset=\"0\" stop-color=\"white\" stop-opacity=\"0.7\" />\n",
       "<stop offset=\"1.7320508075688772\" stop-color=\"dodgerblue\" stop-opacity=\"0.7\" />\n",
       "</radialGradient>\n",
       "<radialGradient cx=\"0\" cy=\"0\" r=\"0.5\" gradientUnits=\"userSpaceOnUse\" id=\"d1\">\n",
       "<stop offset=\"0\" stop-color=\"white\" stop-opacity=\"0.7\" />\n",
       "<stop offset=\"1.7320508075688772\" stop-color=\"red\" stop-opacity=\"0.7\" />\n",
       "</radialGradient>\n",
       "<radialGradient cx=\"0\" cy=\"-1\" r=\"0.5\" gradientUnits=\"userSpaceOnUse\" id=\"d2\">\n",
       "<stop offset=\"0\" stop-color=\"white\" stop-opacity=\"0.7\" />\n",
       "<stop offset=\"1.7320508075688772\" stop-color=\"dodgerblue\" stop-opacity=\"0.7\" />\n",
       "</radialGradient>\n",
       "<radialGradient cx=\"0\" cy=\"-1\" r=\"0.5\" gradientUnits=\"userSpaceOnUse\" id=\"d3\">\n",
       "<stop offset=\"0\" stop-color=\"white\" stop-opacity=\"0.7\" />\n",
       "<stop offset=\"1.7320508075688772\" stop-color=\"dodgerblue\" stop-opacity=\"0.7\" />\n",
       "</radialGradient>\n",
       "<radialGradient cx=\"0\" cy=\"-1\" r=\"0.5\" gradientUnits=\"userSpaceOnUse\" id=\"d4\">\n",
       "<stop offset=\"0\" stop-color=\"white\" stop-opacity=\"0.7\" />\n",
       "<stop offset=\"1.7320508075688772\" stop-color=\"red\" stop-opacity=\"0.7\" />\n",
       "</radialGradient>\n",
       "<radialGradient cx=\"0\" cy=\"-1\" r=\"0.5\" gradientUnits=\"userSpaceOnUse\" id=\"d5\">\n",
       "<stop offset=\"0\" stop-color=\"white\" stop-opacity=\"0.7\" />\n",
       "<stop offset=\"1.7320508075688772\" stop-color=\"red\" stop-opacity=\"0.7\" />\n",
       "</radialGradient>\n",
       "<radialGradient cx=\"0\" cy=\"-1\" r=\"0.5\" gradientUnits=\"userSpaceOnUse\" id=\"d6\">\n",
       "<stop offset=\"0\" stop-color=\"white\" stop-opacity=\"0.7\" />\n",
       "<stop offset=\"1.7320508075688772\" stop-color=\"dodgerblue\" stop-opacity=\"0.7\" />\n",
       "</radialGradient>\n",
       "<radialGradient cx=\"0\" cy=\"-1\" r=\"0.5\" gradientUnits=\"userSpaceOnUse\" id=\"d7\">\n",
       "<stop offset=\"0\" stop-color=\"white\" stop-opacity=\"0.7\" />\n",
       "<stop offset=\"1.7320508075688772\" stop-color=\"dodgerblue\" stop-opacity=\"0.7\" />\n",
       "</radialGradient>\n",
       "<radialGradient cx=\"0\" cy=\"-1\" r=\"0.5\" gradientUnits=\"userSpaceOnUse\" id=\"d8\">\n",
       "<stop offset=\"0\" stop-color=\"white\" stop-opacity=\"0.7\" />\n",
       "<stop offset=\"1.7320508075688772\" stop-color=\"red\" stop-opacity=\"0.7\" />\n",
       "</radialGradient>\n",
       "<radialGradient cx=\"0\" cy=\"-1\" r=\"0.5\" gradientUnits=\"userSpaceOnUse\" id=\"d9\">\n",
       "<stop offset=\"0\" stop-color=\"white\" stop-opacity=\"0.7\" />\n",
       "<stop offset=\"1.7320508075688772\" stop-color=\"red\" stop-opacity=\"0.7\" />\n",
       "</radialGradient>\n",
       "<radialGradient cx=\"0\" cy=\"-1\" r=\"0.5\" gradientUnits=\"userSpaceOnUse\" id=\"d10\">\n",
       "<stop offset=\"0\" stop-color=\"white\" stop-opacity=\"0.7\" />\n",
       "<stop offset=\"1.7320508075688772\" stop-color=\"dodgerblue\" stop-opacity=\"0.7\" />\n",
       "</radialGradient>\n",
       "</defs>\n",
       "<g>\n",
       "<path d=\"M 0,0 C -1.7320508075688772,-2 1.7320508075688772,-2 0,0 z\" stroke=\"black\" stroke-width=\"0.01\" fill=\"url(#d0)\" transform=\"translate(0 0)\n",
       "rotate(180 0 0)\" />\n",
       "<ellipse cx=\"0\" cy=\"0\" rx=\"1\" ry=\"0.25\" stroke=\"black\" stroke-width=\"0.01\" fill=\"url(#d1)\" transform=\"rotate(0 0 0)\n",
       "translate(0 0)\" />\n",
       "<path d=\"M 0,0 C -1.7320508075688772,-2 1.7320508075688772,-2 0,0 z\" stroke=\"black\" stroke-width=\"0.01\" fill=\"url(#d2)\" transform=\"translate(0 0)\n",
       "rotate(0 0 0)\" />\n",
       "</g>\n",
       "<g>\n",
       "<path d=\"M 0,0 C -1.7320508075688772,-2 1.7320508075688772,-2 0,0 z\" stroke=\"black\" stroke-width=\"0.01\" fill=\"url(#d3)\" transform=\"translate(3 0)\n",
       "rotate(85 0 0)\" />\n",
       "<path d=\"M 0,0 C -1.7320508075688772,-2 1.7320508075688772,-2 0,0 z\" stroke=\"black\" stroke-width=\"0.01\" fill=\"url(#d4)\" transform=\"translate(3 0)\n",
       "rotate(95 0 0)\" />\n",
       "<path d=\"M 0,0 C -1.7320508075688772,-2 1.7320508075688772,-2 0,0 z\" stroke=\"black\" stroke-width=\"0.01\" fill=\"url(#d5)\" transform=\"translate(3 0)\n",
       "rotate(275 0 0)\" />\n",
       "<path d=\"M 0,0 C -1.7320508075688772,-2 1.7320508075688772,-2 0,0 z\" stroke=\"black\" stroke-width=\"0.01\" fill=\"url(#d6)\" transform=\"translate(3 0)\n",
       "rotate(265 0 0)\" />\n",
       "</g>\n",
       "<g>\n",
       "<path d=\"M 0,0 C -1.7320508075688772,-2 1.7320508075688772,-2 0,0 z\" stroke=\"black\" stroke-width=\"0.01\" fill=\"url(#d7)\" transform=\"translate(-3 0)\n",
       "rotate(85 0 0)\" />\n",
       "<path d=\"M 0,0 C -1.7320508075688772,-2 1.7320508075688772,-2 0,0 z\" stroke=\"black\" stroke-width=\"0.01\" fill=\"url(#d8)\" transform=\"translate(-3 0)\n",
       "rotate(95 0 0)\" />\n",
       "<path d=\"M 0,0 C -1.7320508075688772,-2 1.7320508075688772,-2 0,0 z\" stroke=\"black\" stroke-width=\"0.01\" fill=\"url(#d9)\" transform=\"translate(-3 0)\n",
       "rotate(275 0 0)\" />\n",
       "<path d=\"M 0,0 C -1.7320508075688772,-2 1.7320508075688772,-2 0,0 z\" stroke=\"black\" stroke-width=\"0.01\" fill=\"url(#d10)\" transform=\"translate(-3 0)\n",
       "rotate(265 0 0)\" />\n",
       "</g>\n",
       "<path d=\"M0,2 L0,-2\" stroke=\"black\" stroke-width=\"0.03\" stroke-dasharray=\"0.05,0.05\" />\n",
       "</svg>"
      ],
      "text/plain": [
       "<drawSvg.drawing.Drawing at 0x7f1224794910>"
      ]
     },
     "metadata": {
      "scrapbook": {
       "mime_prefix": "",
       "name": "fig:d_z2-d_xy"
      }
     },
     "output_type": "display_data"
    }
   ],
   "source": [
    "drawing = draw.Drawing(10, 3.5, origin=\"center\")\n",
    "stroke_width = 0.03\n",
    "orb = Orbital()\n",
    "drawing.append(orb.d_z2())\n",
    "drawing.append(orb.d_xy(translate=(3, 0)))\n",
    "drawing.append(orb.d_xy(translate=(-3, 0)))\n",
    "drawing.append(draw.Line(0, -2, 0, 2, stroke='black', stroke_width=stroke_width, stroke_dasharray=\"0.05,0.05\"))\n",
    "drawing.setRenderSize(700)\n",
    "glue('fig:d_z2-d_xy', drawing)"
   ]
  },
  {
   "cell_type": "code",
   "execution_count": 4,
   "metadata": {
    "tags": [
     "remove-cell"
    ]
   },
   "outputs": [
    {
     "data": {
      "image/svg+xml": [
       "<?xml version=\"1.0\" encoding=\"UTF-8\"?>\n",
       "<svg xmlns=\"http://www.w3.org/2000/svg\" xmlns:xlink=\"http://www.w3.org/1999/xlink\"\n",
       "     width=\"500\" height=\"357.14285714285717\" viewBox=\"0 -5 7 5\">\n",
       "<defs>\n",
       "<radialGradient cx=\"0\" cy=\"-1\" r=\"0.5\" gradientUnits=\"userSpaceOnUse\" id=\"d0\">\n",
       "<stop offset=\"0\" stop-color=\"white\" stop-opacity=\"0.7\" />\n",
       "<stop offset=\"1.7320508075688772\" stop-color=\"dodgerblue\" stop-opacity=\"0.7\" />\n",
       "</radialGradient>\n",
       "<radialGradient cx=\"0\" cy=\"-1\" r=\"0.5\" gradientUnits=\"userSpaceOnUse\" id=\"d1\">\n",
       "<stop offset=\"0\" stop-color=\"white\" stop-opacity=\"0.7\" />\n",
       "<stop offset=\"1.7320508075688772\" stop-color=\"dodgerblue\" stop-opacity=\"0.7\" />\n",
       "</radialGradient>\n",
       "<radialGradient cx=\"0\" cy=\"-1\" r=\"0.5\" gradientUnits=\"userSpaceOnUse\" id=\"d2\">\n",
       "<stop offset=\"0\" stop-color=\"white\" stop-opacity=\"0.7\" />\n",
       "<stop offset=\"1.7320508075688772\" stop-color=\"red\" stop-opacity=\"0.7\" />\n",
       "</radialGradient>\n",
       "<radialGradient cx=\"0\" cy=\"-1\" r=\"0.5\" gradientUnits=\"userSpaceOnUse\" id=\"d3\">\n",
       "<stop offset=\"0\" stop-color=\"white\" stop-opacity=\"0.7\" />\n",
       "<stop offset=\"1.7320508075688772\" stop-color=\"red\" stop-opacity=\"0.7\" />\n",
       "</radialGradient>\n",
       "<radialGradient cx=\"0\" cy=\"-1\" r=\"0.5\" gradientUnits=\"userSpaceOnUse\" id=\"d4\">\n",
       "<stop offset=\"0\" stop-color=\"white\" stop-opacity=\"0.7\" />\n",
       "<stop offset=\"1.7320508075688772\" stop-color=\"dodgerblue\" stop-opacity=\"0.7\" />\n",
       "</radialGradient>\n",
       "<radialGradient cx=\"0\" cy=\"-1\" r=\"0.5\" gradientUnits=\"userSpaceOnUse\" id=\"d5\">\n",
       "<stop offset=\"0\" stop-color=\"white\" stop-opacity=\"0.7\" />\n",
       "<stop offset=\"1.7320508075688772\" stop-color=\"dodgerblue\" stop-opacity=\"0.7\" />\n",
       "</radialGradient>\n",
       "<radialGradient cx=\"0\" cy=\"-1\" r=\"0.5\" gradientUnits=\"userSpaceOnUse\" id=\"d6\">\n",
       "<stop offset=\"0\" stop-color=\"white\" stop-opacity=\"0.7\" />\n",
       "<stop offset=\"1.7320508075688772\" stop-color=\"red\" stop-opacity=\"0.7\" />\n",
       "</radialGradient>\n",
       "<radialGradient cx=\"0\" cy=\"-1\" r=\"0.5\" gradientUnits=\"userSpaceOnUse\" id=\"d7\">\n",
       "<stop offset=\"0\" stop-color=\"white\" stop-opacity=\"0.7\" />\n",
       "<stop offset=\"1.7320508075688772\" stop-color=\"red\" stop-opacity=\"0.7\" />\n",
       "</radialGradient>\n",
       "</defs>\n",
       "<g>\n",
       "<path d=\"M 0,0 C -1.7320508075688772,-2 1.7320508075688772,-2 0,0 z\" stroke=\"black\" stroke-width=\"0.01\" fill=\"url(#d0)\" transform=\"translate(1.5 -1.5)\n",
       "rotate(180 0 0)\" />\n",
       "<path d=\"M 0,0 C -1.7320508075688772,-2 1.7320508075688772,-2 0,0 z\" stroke=\"black\" stroke-width=\"0.01\" fill=\"url(#d1)\" transform=\"translate(1.5 -1.5)\n",
       "rotate(0 0 0)\" />\n",
       "<path d=\"M 0,0 C -1.7320508075688772,-2 1.7320508075688772,-2 0,0 z\" stroke=\"black\" stroke-width=\"0.01\" fill=\"url(#d2)\" transform=\"translate(1.5 -1.5)\n",
       "rotate(90 0 0)\" />\n",
       "<path d=\"M 0,0 C -1.7320508075688772,-2 1.7320508075688772,-2 0,0 z\" stroke=\"black\" stroke-width=\"0.01\" fill=\"url(#d3)\" transform=\"translate(1.5 -1.5)\n",
       "rotate(270 0 0)\" />\n",
       "</g>\n",
       "<g>\n",
       "<path d=\"M 0,0 C -1.7320508075688772,-2 1.7320508075688772,-2 0,0 z\" stroke=\"black\" stroke-width=\"0.01\" fill=\"url(#d4)\" transform=\"translate(4.5 -3.232050807568877)\n",
       "rotate(180 0 0)\" />\n",
       "<path d=\"M 0,0 C -1.7320508075688772,-2 1.7320508075688772,-2 0,0 z\" stroke=\"black\" stroke-width=\"0.01\" fill=\"url(#d5)\" transform=\"translate(4.5 -3.232050807568877)\n",
       "rotate(0 0 0)\" />\n",
       "<path d=\"M 0,0 C -1.7320508075688772,-2 1.7320508075688772,-2 0,0 z\" stroke=\"black\" stroke-width=\"0.01\" fill=\"url(#d6)\" transform=\"translate(4.5 -3.232050807568877)\n",
       "rotate(90 0 0)\" />\n",
       "<path d=\"M 0,0 C -1.7320508075688772,-2 1.7320508075688772,-2 0,0 z\" stroke=\"black\" stroke-width=\"0.01\" fill=\"url(#d7)\" transform=\"translate(4.5 -3.232050807568877)\n",
       "rotate(270 0 0)\" />\n",
       "</g>\n",
       "<path d=\"M1.5,-1.5 L4.5,-3.232050807568877\" stroke=\"black\" stroke-width=\"0.03\" />\n",
       "<path d=\"M1.5,-1.5 L4.5,-1.5\" stroke=\"black\" stroke-width=\"0.03\" stroke-dasharray=\"0.05,0.05\" />\n",
       "<path d=\"M4.5,-1.5 L4.5,-3.232050807568877\" stroke=\"black\" stroke-width=\"0.03\" stroke-dasharray=\"0.05,0.05\" />\n",
       "<path d=\"M1.9330127018922194,-1.75 A0.5,0.5,0,0,1,2.0,-1.5\" stroke=\"black\" stroke-width=\"0.03\" fill=\"none\" />\n",
       "<text x=\"2.2244443697168013\" y=\"-1.6941142838268906\" font-size=\"0.3333333333333333\" fill=\"black\" text-anchor=\"middle\" transform=\"translate(0,0.09999999999999999)\">θ</text>\n",
       "</svg>"
      ],
      "text/plain": [
       "<drawSvg.drawing.Drawing at 0x7f1224758e90>"
      ]
     },
     "metadata": {
      "scrapbook": {
       "mime_prefix": "",
       "name": "fig:rotate_orbital"
      }
     },
     "output_type": "display_data"
    }
   ],
   "source": [
    "pos_1 = (1.5, 1.5)\n",
    "pos_2 = (4.5, 1.5+np.sqrt(3))\n",
    "R = 0.5\n",
    "stroke_width = 0.03\n",
    "color = 'black'\n",
    "drawing = draw.Drawing(7, 5)\n",
    "orb = Orbital()\n",
    "drawing.append(orb.d_x2y2(translate=(pos_1[0], -pos_1[1])))\n",
    "drawing.append(orb.d_x2y2(translate=(pos_2[0], -pos_2[1])))\n",
    "drawing.append(draw.Line(*pos_1, *pos_2, stroke=color, stroke_width=stroke_width))\n",
    "drawing.append(draw.Line(*pos_1, pos_2[0], pos_1[1], stroke=color, stroke_width=stroke_width, stroke_dasharray=\"0.05,0.05\"))\n",
    "drawing.append(draw.Line(pos_2[0], pos_1[1], *pos_2, stroke=color, stroke_width=stroke_width, stroke_dasharray=\"0.05,0.05\"))\n",
    "drawing.append(draw.Arc(*pos_1, R, 30, 0, cw=True, stroke=color, stroke_width=stroke_width, fill='none'))\n",
    "drawing.append(draw.Text('θ', R*2/3, pos_1[0]+1.5*R*np.cos(np.pi/12), pos_1[1]+1.5*R*np.sin(np.pi/12), center=0.6, fill=color))\n",
    "drawing.setRenderSize(500)\n",
    "glue('fig:rotate_orbital', drawing)"
   ]
  },
  {
   "cell_type": "markdown",
   "metadata": {},
   "source": [
    "Having figured out the hopping terms for $\\pm\\vec a_1$, we need also formulate the coupling between orbitals at an angle with respect to the principal axis:\n",
    "\n",
    "```{glue:figure} fig:rotate_orbital\n",
    "Two $d_{x^2-y^2}$ orbitals at angle $\\theta$ with respect to the principal axis of the orbitals.\n",
    "```\n",
    "\n",
    "We can however decompose any misaligned $d$ orbital as a linear sum of all $d$ orbitals aligned with the hopping axis. Since $d_{z^2}$ is symmetric under rotation in the $xy$ plane we can exclude this orbital from our analysis. We assume the existence of some matrix $R(\\theta) = R'(\\theta)\\oplus 1$ which governs rotations in our basis and apply it to the $d_{x^2-y^2}$ orbital:\n",
    "\n",
    "$$\n",
    "\\begin{align*}\n",
    "R'(\\theta)|{x^2-y^2}\\rangle &= |{(x\\cos\\theta +y\\sin\\theta )^2-(y\\cos\\theta -x\\sin\\theta )^2}\\rangle\\\\\n",
    "&=|{x^2\\cos^2\\theta +y^2\\sin^2\\theta +xy\\sin2\\theta-y^2\\cos^2\\theta -x^2\\sin^2\\theta +xy\\sin2\\theta}\\rangle\\\\\n",
    "&=\\cos2\\theta|x^2-y^2\\rangle + \\sin2\\theta|2xy\\rangle,\n",
    "\\end{align*}\n",
    "$$\n",
    "\n",
    "which leads us to express $R'(\\theta)$ in matrix form as:\n",
    "\n",
    "$$\n",
    "R'(\\theta)=\\begin{pmatrix}\\cos2\\theta&-\\sin2\\theta\\\\ \\sin2\\theta&\\cos2\\theta\\end{pmatrix}\\rightarrow \\mathcal R=R'(\\pi/3)\\oplus 1=\\begin{pmatrix}-1/2&-\\sqrt{3}/2\\\\ \\sqrt{3}/2&-1/2\\end{pmatrix} \\oplus 1.\n",
    "$$ (eq:rotation_matrix)\n",
    "\n",
    "Powers of $\\mathcal R$ now rotate the orbitals towards the respective hopping axes. Next we need also rotate $\\mathcal H_0$ to adhere to the lattice symmetries. We use powers of $C_6$ which we express as $\\text{Diag}([1, -1, 1])$ in accordance with the arguments of the previous part on lattice symmetry. \n",
    "\n",
    "We now give the hopping matrix for each hopping vector in: \n",
    "\n",
    "$$A = \\{ \\vec a_1, \\vec a_2, -\\vec a_1+\\vec a_2, -\\vec a_1, -\\vec a_2, \\vec a_1-\\vec a_2 \\} ,$$ \n",
    "\n",
    "where enumeration starts at zero:\n",
    "\n",
    "$$\n",
    "\\mathcal H_i = \\mathcal R^i C_6^i \\mathcal H_0C_6^i \\mathcal R^{-i}.\n",
    "$$"
   ]
  },
  {
   "cell_type": "markdown",
   "metadata": {},
   "source": [
    "## Hamiltonian\n",
    "\n",
    "The total hopping Hamiltonian is now the sum of all $\\mathcal H_i$ multiplied by the appropriate complex phases:\n",
    "\n",
    "$$\n",
    "\\mathcal H_\\text{hop}(\\mathbf k) = \\sum_{i=0}^5\\mathcal H_i \\text e^{i \\mathbf k\\cdot A_i} =    \\begin{pmatrix}\n",
    "        h_1&h_{12}&h_{13}\\\\ h_{12}^\\dagger&h_2&h_{23}\\\\\n",
    "        h_{13}^\\dagger&h_{23}^\\dagger&h_3\n",
    "    \\end{pmatrix} ,\n",
    "$$\n",
    "\n",
    "````{dropdown} with: (click dropdown for justification)\n",
    "\n",
    "We start by noticing that all rotation matrices share a quite similar form:\n",
    "\n",
    "```{list-table} The matrix expressions for $\\mathcal R^iC_6^i$ excluding the $d_{z^2}$ component which is block diagonal.\n",
    ":header-rows: 1\n",
    ":name: tab:rotation-matrices\n",
    "* - $I_3$\n",
    "  - $\\mathcal RC_6$\n",
    "  - $\\mathcal R^2C_6^2=\\mathcal R^2$\n",
    "  - $\\mathcal R^3C_6^3=C_6$\n",
    "  - $\\mathcal R^4C_6^4=\\mathcal R$\n",
    "  - $\\mathcal R^5C_6^5=\\mathcal R^2C_6$\n",
    "* - $I_2$\n",
    "  - $\\begin{pmatrix}-1/2&\\sqrt{3}/2\\\\\\sqrt{3}/2&1/2 \\end{pmatrix}$\n",
    "  - $\\begin{pmatrix}-1/2&\\sqrt{3}/2\\\\-\\sqrt{3}/2&-1/2 \\end{pmatrix}$\n",
    "  - $\\begin{pmatrix}1&0\\\\0&-1 \\end{pmatrix}$\n",
    "  - $\\begin{pmatrix}-1/2&-\\sqrt{3}/2\\\\\\sqrt{3}/2&-1/2 \\end{pmatrix}$\n",
    "  - $\\begin{pmatrix}-1/2&-\\sqrt{3}/2\\\\-\\sqrt{3}/2&1/2 \\end{pmatrix}$ \n",
    "```\n",
    "As such we can express all of them as some variant of:\n",
    "\n",
    "$$\n",
    "\\mathcal{\\tilde R}(\\alpha, \\alpha', \\beta, \\beta')=\\begin{pmatrix}\\alpha&\\beta&0\\\\\\beta'&\\alpha'&0\\\\0&0&1\\end{pmatrix}\n",
    "$$\n",
    "\n",
    "where $\\alpha^2=\\alpha'^2$, $\\beta^2=\\beta'^2$ and $\\alpha\\beta'=-\\alpha'\\beta$. This rotation allows a general expression for the matrix components of $\\mathcal H_i$ where the constants in $\\mathcal{\\tilde R}$ come from {numref}`tab:rotation-matrices`:\n",
    "\n",
    "$$\n",
    "    \\mathcal M=\\mathcal {\\tilde RH_0\\tilde R}^\\dagger=\n",
    "    \\begin{pmatrix}\n",
    "        \\alpha^2t_1+\\beta^2t_2&\\alpha\\beta'(t_1-t_2)+(\\alpha\\alpha'-\\beta\\beta')t_{12}&\\alpha t_{13}+\\beta t_{23}\\\\\n",
    "        \\alpha\\beta'(t_1-t_2)-(\\alpha\\alpha'-\\beta\\beta')t_{12}&\\alpha^2t_2+\\beta^2t_1&\\beta't_{13}+\\alpha't_{23}\\\\\n",
    "        \\alpha t_{13}-\\beta t_{23}&\\beta't_{13}-\\alpha't_{23}&t_3\n",
    "        \\label{eq:rot applied}\n",
    "    \\end{pmatrix}.\n",
    "$$\n",
    "\n",
    "Now we express the hopping Hamiltonian as a sum of $\\mathcal M$ matrices:\n",
    "\n",
    "$$\n",
    "\\mathcal H_\\text{hop} = \\sum_{\\sigma\\in\\{-1, 1\\}}\\mathcal M(1, \\sigma, 0, 0)\\text e^{i\\sigma k_x}+\\sum_{\\sigma,\\tau\\in\\{-1, 1\\}}\\mathcal M\\left(-\\frac12,\\frac\\sigma2, \\frac{\\tau\\sqrt3}{2},\\frac{\\sigma\\tau\\sqrt3}2\\right)\\text e^{i\\sigma k_x/2+i\\tau k_y\\sqrt3/2},\n",
    "$$\n",
    "\n",
    "the advantage of which is that we quickly see which terms contribute (co)sines. For example we see that a component proportional to $\\alpha\\beta'\\propto \\sigma\\tau$ will result in a sine for both $k_x$ and $k_y$ for the second sum. Collecting all terms we acquire {numref}`tab:hopping-terms`  \n",
    "````\n",
    "\n",
    "```{list-table} Hamiltonian components with $\\tilde k_x=k_x/2$ and $\\tilde k_y = k_y\\cdot \\sqrt3/2$. We split the terms in real and imaginary parts for clarity.\n",
    ":header-rows: 1\n",
    ":name: tab:hopping-terms\n",
    "* -  \n",
    "  - Real\n",
    "  - Imaginary\n",
    "* - $h_1$\n",
    "  - $2t_1\\cos 2\\tilde k_x+(t_1+3t_2)\\cos\\tilde k_x\\cos\\tilde k_y$\n",
    "  - 0\n",
    "* - $h_2$\n",
    "  - $2t_2\\cos 2\\tilde k_x+(t_2+3t_1)\\cos\\tilde k_x\\cos\\tilde k_y$\n",
    "  - 0\n",
    "* - $h_3$\n",
    "  - $2t_3\\cos 2\\tilde k_x+4t_3\\cos\\tilde k_x\\cos\\tilde k_y$\n",
    "  - 0\n",
    "* - $h_{12}$\n",
    "  - $\\sqrt3(t_1-t_2)\\sin\\tilde k_x\\sin\\tilde k_y$\n",
    "  - $2t_{12}(\\sin 2\\tilde k_x-2\\sin\\tilde k_x\\cos\\tilde k_y)$\n",
    "* - $h_{13}$\n",
    "  - $2t_{13}(\\cos2\\tilde k_x-\\cos\\tilde k_x\\cos\\tilde k_y)$\n",
    "  - $2\\sqrt{3}t_{23}\\cos\\tilde k_x\\sin\\tilde k_y$\n",
    "* - $h_{23}$\n",
    "  - $-2\\sqrt3t_{13}\\sin\\tilde k_x\\sin\\tilde k_y$\n",
    "  - $2t_{23}(\\sin 2\\tilde k_x+\\sin\\tilde k_x\\cos\\tilde k_y)$\n",
    "```\n",
    "\n",
    "Now for the total Hamiltonian we need only to include the on-site energies. Here the spin-orbit coupling, which is quite high for tungsten, also plays an important role. We follow {cite}`three_band` which gives the SOC contribution of the Hamiltonian as $\\lambda_{SOC}/2\\cdot\\mathbf{L\\cdot S}$, with pure $z$ polarized spin, doubling the degrees of freedom. We write, with $\\sigma=\\pm1$ as the two spin possibilities:\n",
    "\n",
    "$$\n",
    "    \\mathcal H_\\text{on-site}(\\sigma)=\\begin{pmatrix}\n",
    "        \\varepsilon_{1}&\\lambda_\\text{SOC}\\sigma i&0\\\\\n",
    "        -\\lambda_\\text{SOC}\\sigma i&\\varepsilon_{1}&0\\\\\n",
    "        0&0&\\varepsilon_{3}\n",
    "    \\end{pmatrix},\n",
    "$$\n",
    "\n",
    "with $\\varepsilon$ the energy of the $d_{x^2-y^2}$ and $d_{xy}$ orbitals, which are equal due to symmetry. $\\varepsilon_3$ is the energy of the $d_{z^2}$ orbital. All values are given in {numref}`tab:constants`. The total Hamiltonian is:\n",
    "\n",
    "$$\n",
    "\\mathcal H^\\sigma(\\mathbf k) = \\mathcal H_\\text{hop}(\\mathbf k)+\\mathcal H_\\text{on-site}(\\sigma).\n",
    "$$"
   ]
  },
  {
   "cell_type": "code",
   "execution_count": 5,
   "metadata": {
    "tags": [
     "remove-cell"
    ]
   },
   "outputs": [
    {
     "data": {
      "image/svg+xml": [
       "<?xml version=\"1.0\" encoding=\"UTF-8\"?>\n",
       "<svg xmlns=\"http://www.w3.org/2000/svg\" xmlns:xlink=\"http://www.w3.org/1999/xlink\"\n",
       "     width=\"500\" height=\"500.0\" viewBox=\"-1.5 -1.5 3 3\">\n",
       "<defs>\n",
       "<marker markerWidth=\"4.0\" markerHeight=\"4.0\" viewBox=\"-0.25 -0.5 1.0 1.0\" orient=\"auto\" id=\"d0\">\n",
       "<path d=\"M-0.25,0.5 L-0.25,-0.5 L0.75,0 Z\" fill=\"red\" />\n",
       "</marker>\n",
       "<marker markerWidth=\"4.0\" markerHeight=\"4.0\" viewBox=\"-0.25 -0.5 1.0 1.0\" orient=\"auto\" id=\"d1\">\n",
       "<path d=\"M-0.25,0.5 L-0.25,-0.5 L0.75,0 Z\" fill=\"red\" />\n",
       "</marker>\n",
       "<marker markerWidth=\"4.0\" markerHeight=\"4.0\" viewBox=\"-0.25 -0.5 1.0 1.0\" orient=\"auto\" id=\"d2\">\n",
       "<path d=\"M-0.25,0.5 L-0.25,-0.5 L0.75,0 Z\" fill=\"red\" />\n",
       "</marker>\n",
       "</defs>\n",
       "<path d=\"M1,0 L0.5,-0.8660254037844386 L-0.5,-0.8660254037844386 L-1,0 L-0.5,0.8660254037844386 L0.5,0.8660254037844386 Z\" stroke-width=\"0.01\" stroke=\"blue\" fill=\"none\" />\n",
       "<path d=\"M0,0 L0.44,-0.0\" stroke=\"red\" stroke-width=\"0.02\" fill=\"none\" marker-end=\"url(#d0)\" />\n",
       "<path d=\"M0,0 L1,0\" stroke=\"red\" stroke-width=\"0.02\" />\n",
       "<path d=\"M1,0 L0.905,-0.16454482671904333\" stroke=\"red\" stroke-width=\"0.02\" fill=\"none\" marker-end=\"url(#d1)\" />\n",
       "<path d=\"M1,0 L0.75,-0.4330127018922193\" stroke=\"red\" stroke-width=\"0.02\" />\n",
       "<path d=\"M0.75,-0.4330127018922193 L0.42696152422706635,-0.24650635094610965\" stroke=\"red\" stroke-width=\"0.02\" fill=\"none\" marker-end=\"url(#d2)\" />\n",
       "<path d=\"M0.75,-0.4330127018922193 L0,0\" stroke=\"red\" stroke-width=\"0.02\" />\n",
       "<circle cx=\"0\" cy=\"0\" r=\"0.02\" fill=\"red\" />\n",
       "<text x=\"-0.1\" y=\"-0.0\" font-size=\"0.2\" fill=\"black\" text-anchor=\"middle\" transform=\"translate(0,0.06)\">Γ</text>\n",
       "<circle cx=\"1\" cy=\"0\" r=\"0.02\" fill=\"red\" />\n",
       "<text x=\"1.1\" y=\"-0.0\" font-size=\"0.2\" fill=\"black\" text-anchor=\"middle\" transform=\"translate(0,0.06)\">K</text>\n",
       "<circle cx=\"0.75\" cy=\"-0.4330127018922193\" r=\"0.02\" fill=\"red\" />\n",
       "<text x=\"0.85\" y=\"-0.5330127018922193\" font-size=\"0.2\" fill=\"black\" text-anchor=\"middle\" transform=\"translate(0,0.06)\">M</text>\n",
       "</svg>"
      ],
      "text/plain": [
       "<drawSvg.drawing.Drawing at 0x7f122477ed50>"
      ]
     },
     "metadata": {
      "scrapbook": {
       "mime_prefix": "",
       "name": "fig:k_path"
      }
     },
     "output_type": "display_data"
    }
   ],
   "source": [
    "color = 'red'\n",
    "arrow_width = 0.02\n",
    "corners = [(1/2, np.sqrt(3)/2), (-1/2, np.sqrt(3)/2), (-1, 0), (-1/2, -np.sqrt(3)/2), (1/2, -np.sqrt(3)/2)]\n",
    "path = [np.array(point) for point in [(0, 0), (1, 0), (3/4, np.sqrt(3)/4)]]\n",
    "path_symbols = [\"Γ\", \"K\", \"M\"]\n",
    "offset = [(-0.1, 0), (0.1, 0), (0.1, 0.1)]\n",
    "drawing = draw.Drawing(3, 3, origin=\"center\")\n",
    "p = draw.Path(stroke_width=0.01, stroke='blue', fill='none')\n",
    "p.M(1, 0)\n",
    "for corner in corners:\n",
    "    p.L(*corner)\n",
    "p.Z()\n",
    "drawing.append(p)\n",
    "for i in range(3):\n",
    "    mid = (path[(i+1)%3] + path[i]) / 2\n",
    "    drawing.append(arrow(path[i], mid, stroke=color, stroke_width=arrow_width))\n",
    "    drawing.append(draw.Line(*(path[i]), *(path[(i+1)%3]), stroke=color, stroke_width=arrow_width))\n",
    "for i in range(3):\n",
    "    drawing.append(draw.Circle(*(path[i]), 0.02, fill=color))\n",
    "    drawing.append(draw.Text(path_symbols[i], 0.2, *(path[i]+offset[i]), center=0.6, fill='black'))\n",
    "drawing.setRenderSize(500)\n",
    "glue('fig:k_path', drawing)"
   ]
  },
  {
   "cell_type": "markdown",
   "metadata": {},
   "source": [
    "````{margin}\n",
    "```{glue:figure} fig:k_path\n",
    ":name: fig:k_path\n",
    "Path along high symmetry points of the Brillouin zone: $\\Gamma:(0,\\,0)$, $K:(4\\pi/3, \\,0)$ and $M:(\\pi,\\,\\pi/\\sqrt3)$.\n",
    "```\n",
    "````\n",
    "\n",
    "We solve for the bandstructure along the path connecting the high symmetry $\\Gamma$, $K$ and $M$ points as shown in {numref}`fig:k_path`. We set the zero of energy at the maximum of the valence band, at the $K$ point: $(4\\pi/3, \\,0)$. Here the couplings with the $d_{z^2}$ orbital in {numref}`tab:hopping-terms` go to zero and we solve for the eigenvalues of the Hamiltonian:\n",
    "\n",
    "$$\n",
    "\\mathcal H^\\sigma(K) = \\begin{pmatrix}\n",
    "        -\\frac32(t_1+t_2)+\\varepsilon_1&-i(3\\sqrt3t_{12}+\\lambda_\\text{SOC}\\sigma)\\\\\n",
    "        i(3\\sqrt3t_{12}+\\lambda_\\text{SOC}\\sigma)&-\\frac32(t_1+t_2)+\\varepsilon_1\n",
    "    \\end{pmatrix}\n",
    "    \\oplus \\begin{pmatrix}-3t_3+\\varepsilon_3\\end{pmatrix},\n",
    "$$\n",
    "\n",
    "and we conclude that the maximum of the valence band is at energy:\n",
    "\n",
    "$$\n",
    "    E_K(\\sigma) = \\varepsilon_1-\\frac32(t_1+t_2)-(3\\sqrt3t_{12}-\\lambda_\\text{SOC}\\sigma).\n",
    "$$\n",
    "\n",
    "We notice that the SOC lowers (raises) the $K$ point of the valence band, at the $-K$ point the opposite takes place. The $K$ and $-K$ points of the conduction band at energies $-3t_3+\\varepsilon_3$ are however unaffected.\n",
    "\n",
    "```{figure} logo.png\n",
    "---\n",
    "height: 0px\n",
    "name: three_band_model_band_structure\n",
    "figclass: margin\n",
    "---\n",
    "Three band model with an without spin-orbit coupling.\n",
    "```"
   ]
  },
  {
   "cell_type": "code",
   "execution_count": 8,
   "metadata": {
    "tags": []
   },
   "outputs": [
    {
     "data": {
      "application/vnd.plotly.v1+json": {
       "config": {
        "plotlyServerURL": "https://plot.ly"
       },
       "data": [
        {
         "legendgroup": "0",
         "marker": {
          "color": "#636EFA"
         },
         "name": "spinless",
         "showlegend": true,
         "type": "scatter",
         "xaxis": "x",
         "y": [
          -0.30000000000000004,
          -0.3002731793907589,
          -0.3010916863684409,
          -0.30245243594427806,
          -0.3043503149627627,
          -0.3067782242937553,
          -0.30972713682633446,
          -0.3131861702304227,
          -0.3171426732131735,
          -0.3215823237964806,
          -0.32648923798431273,
          -0.3318460870764044,
          -0.33763422181900976,
          -0.34383380156256405,
          -0.35042392661765315,
          -0.3573827720603979,
          -0.36468772133118565,
          -0.3723154980908489,
          -0.380242294939792,
          -0.3884438977620905,
          -0.39689580462243923,
          -0.4055733383135639,
          -0.41445175182065075,
          -0.4235063261334334,
          -0.43271245999263463,
          -0.44204575130287105,
          -0.4514820700773822,
          -0.46099762289975105,
          -0.47056900899379955,
          -0.48017326808503763,
          -0.48978792031580975,
          -0.49939099854231156,
          -0.5089610733958808,
          -0.5184772715343869,
          -0.5279192875433029,
          -0.5372673899712035,
          -0.5465024220021198,
          -0.5556057972783243,
          -0.5645594913927378,
          -0.5733460295709537,
          -0.5819484710596805,
          -0.5903503907317117,
          -0.598535858407941,
          -0.6064894163847877,
          -0.6141960556410677,
          -0.6216411911820542,
          -0.6288106369604997,
          -0.6356905807947846,
          -0.6422675596834079,
          -0.6485284358927286,
          -0.6544603741714174,
          -0.6600508204205059,
          -0.6652874821225114,
          -0.6701583108068121,
          -0.6746514868015858,
          -0.678755406495361,
          -0.6824586723036107,
          -0.6857500855084259,
          -0.6886186421119397,
          -0.6910535318175534,
          -0.6930441402270313,
          -0.6945800543167842,
          -0.6956510712332019,
          -0.6962472104251399,
          -0.6963587291118618,
          -0.695976141067097,
          -0.695090238684729,
          -0.6936921182790907,
          -0.6917732085632172,
          -0.6893253022418044,
          -0.6863405906522076,
          -0.6828117013867179,
          -0.6787317388327085,
          -0.6740943275740696,
          -0.6688936586077702,
          -0.6631245383434518,
          -0.6567824403716361,
          -0.6498635600075723,
          -0.6423648716428432,
          -0.6342841889656762,
          -0.6256202281434923,
          -0.616372674097425,
          -0.6065422500384404,
          -0.596130790478088,
          -0.5851413179737104,
          -0.573578123917789,
          -0.5614468537336755,
          -0.548754596894561,
          -0.5355099822382429,
          -0.5217232791057697,
          -0.5074065048854602,
          -0.4925735395924765,
          -0.4772402481544739,
          -0.46142461110095645,
          -0.4451468643611988,
          -0.42842964885411894,
          -0.4112981704918642,
          -0.393780371101825,
          -0.3759071105799807,
          -0.35771236029720144,
          -0.3392334073582388,
          -0.320511068722485,
          -0.3015899133898634,
          -0.28251848978019134,
          -0.26334955402832283,
          -0.24414029311407098,
          -0.22495253447936564,
          -0.2058529309993063,
          -0.186913106837131,
          -0.1682097458408211,
          -0.14982459982412566,
          -0.13184438952786914,
          -0.11436056665487104,
          -0.09746890170414668,
          -0.08126886024051305,
          -0.0658627308262788,
          -0.05135447241992308,
          -0.03784825897650834,
          -0.025446715414910726,
          -0.014248862580341637,
          -0.004347818756651578,
          0.004171660461243509,
          0.011235687479181133,
          0.016783647266702895,
          0.02077033730793232,
          0.023167678505929934,
          0.023965852929517584,
          0.02317376528496451,
          0.02081878203304266,
          0.016945766759953407,
          0.011615492441716335,
          0.004902560919863519,
          -0.003107009532566596,
          -0.012318358722743061,
          -0.022630362151986883,
          -0.03393807845263952,
          -0.04613496746060519,
          -0.05911481595310719,
          -0.07277334147897585,
          -0.08700947217957189,
          -0.10172632072320009,
          -0.11683188353322127,
          -0.1322395033453512,
          -0.14786813515947922,
          -0.1636424542911109,
          -0.1794928417533171,
          -0.1953552776288742,
          -0.211171168163165,
          -0.2268871275110863,
          -0.24245473069486972,
          -0.25783025051675657,
          -0.2729743879626348,
          -0.2878520030098341,
          -0.30243185065914463,
          -0.3166863253773651,
          -0.33059121588818946,
          -0.3441254713162278,
          -0.3572709790085828,
          -0.37001235387721654,
          -0.3823367387786821,
          -0.3942336152394562,
          -0.40569462371610127,
          -0.41671339252723694,
          -0.42728537459103166,
          -0.43740769113432953,
          -0.4470789815971377,
          -0.4562992590315028,
          -0.46506977038076797,
          -0.4733928611196146,
          -0.48127184383386573,
          -0.488710870418988,
          -0.4957148076759618,
          -0.5022891161807416,
          -0.5084397323976281,
          -0.5141729540963668,
          -0.5194953292163118,
          -0.5244135483977143,
          -0.5289343414688163,
          -0.5330643782371571,
          -0.5368101739832589,
          -0.5401780000939073,
          -0.5431738002998565,
          -0.5458031129983829,
          -0.5480710001444766,
          -0.5499819831853454,
          -0.5515399864917071,
          -0.5527482887062806,
          -0.5536094823860463,
          -0.554125442260905,
          -0.5542973023691625,
          -0.5544360091331265,
          -0.5548514877208542,
          -0.5555418164156208,
          -0.5565038036405594,
          -0.5577330047635614,
          -0.5592237453834916,
          -0.5609691508628617,
          -0.5629611818131269,
          -0.5651906751854703,
          -0.5676473905732817,
          -0.570320061293107,
          -0.5731964497792731,
          -0.576263406803772,
          -0.5795069340174878,
          -0.5829122493012517,
          -0.5864638544152013,
          -0.5901456044419586,
          -0.5939407785326641,
          -0.5978321514840927,
          -0.6018020656991949,
          -0.6058325031115744,
          -0.6099051566857415,
          -0.6140015011387141,
          -0.6181028625637403,
          -0.6221904866729484,
          -0.6262456054117828,
          -0.6302495017336792,
          -0.6341835723578997,
          -0.6380293883664471,
          -0.6417687535271037,
          -0.6453837602586134,
          -0.6488568431807072,
          -0.6521708302158145,
          -0.6553089912309897,
          -0.6582550842277034,
          -0.6609933991037578,
          -0.6635087990257835,
          -0.6657867594626563,
          -0.6678134049398525,
          -0.6695755435823767,
          -0.6710606995196279,
          -0.6722571432295523,
          -0.6731539199017778,
          -0.6737408759003966,
          -0.6740086834066472,
          -0.6739488633202289,
          -0.6735538064953486,
          -0.6728167933840646,
          -0.6717320121550776,
          -0.6702945753509333,
          -0.6685005351407197,
          -0.666346897218802,
          -0.6638316333929652,
          -0.6609536928976195,
          -0.6577130124594102,
          -0.654110525133683,
          -0.6501481679209039,
          -0.6458288881620684,
          -0.6411566487016567,
          -0.636136431795494,
          -0.6307742417291728,
          -0.6250771061003157,
          -0.6190530757050121,
          -0.6127112229551437,
          -0.6060616387391615,
          -0.5991154276240876,
          -0.5918847012812586,
          -0.5843825700025895,
          -0.5766231321581007,
          -0.568621461429177,
          -0.560393591635821,
          -0.5519564989601523,
          -0.5433280813529308,
          -0.5345271348953461,
          -0.525573326875054,
          -0.5164871653240549,
          -0.5072899647569991,
          -0.49800380784253334,
          -0.4886515027381791,
          -0.4792565358216222,
          -0.46984301955915136,
          -0.4604356352661947,
          -0.45105957053632023,
          -0.4417404511446791,
          -0.43250426727047503,
          -0.4233772939314637,
          -0.4143860055822664,
          -0.4055569848979509,
          -0.3969168258449032,
          -0.38849203123246195,
          -0.38030890504035947,
          -0.3723934399278027,
          -0.36477120044838984,
          -0.3574672026189085,
          -0.35050579061675,
          -0.34391051150699387,
          -0.3377039890223912,
          -0.3319077975335783,
          -0.3265423374482546,
          -0.32162671336247506,
          -0.3171786163501298,
          -0.31321421181396025,
          -0.3097480343296379,
          -0.30679289089062456,
          -0.3043597739040318,
          -0.30245778519582656,
          -0.3010940721583193,
          -0.3002737770159025,
          -0.30000000000000004
         ],
         "yaxis": "y"
        },
        {
         "legendgroup": "0",
         "marker": {
          "color": "#636EFA"
         },
         "name": "spinless",
         "showlegend": false,
         "type": "scatter",
         "xaxis": "x",
         "y": [
          3.07,
          3.0698487678345616,
          3.0693955563668567,
          3.068641819626793,
          3.067589977477651,
          3.0662434103355642,
          3.0646064517755818,
          3.0626843790232323,
          3.06048340133051,
          3.058010646235299,
          3.055274143703662,
          3.05228280815504,
          3.049046418371393,
          3.045575595292619,
          3.0418817777023466,
          3.0379771958103508,
          3.033874842740511,
          3.0295884439364387,
          3.0251324245006384,
          3.020521874487423,
          3.0157725121748116,
          3.01090064534623,
          3.005923130619189,
          3.00085733086507,
          2.995721070771854,
          2.9905325906099796,
          2.9853104982705427,
          2.980073719654707,
          2.9748414475034575,
          2.9696330887676012,
          2.9644682106291795,
          2.959366485297067,
          2.9543476337114254,
          2.9494313683037143,
          2.944637334971015,
          2.9399850544353043,
          2.9354938631699175,
          2.9311828540865332,
          2.9270708171864213,
          2.9231761803892136,
          2.919516950760911,
          2.916110656369946,
          2.9129742890057457,
          2.9101242479981293,
          2.907576285377803,
          2.9053454526180054,
          2.903446049194761,
          2.901891573197995,
          2.9006946742176725,
          2.8998671087178067,
          2.8994196980962106,
          2.8993622896085482,
          2.8997037203105864,
          2.9004517841409254,
          2.9016132022252408,
          2.903193596427692,
          2.905197466097893,
          2.9076281678489946,
          2.9104878980291082,
          2.9137776772677437,
          2.9174973360002316,
          2.9216454990113596,
          2.926219565399617,
          2.9312156770499205,
          2.936628661539074,
          2.9424519186308884,
          2.94867717628271,
          2.9552939160421112,
          2.9622878351683637,
          2.969635841732861,
          2.977283392372349,
          2.984936371783851,
          2.9825619270754684,
          2.9606356057663916,
          2.9370337960635418,
          2.91257854917043,
          2.8873619035991522,
          2.8614215864288655,
          2.834784699366808,
          2.8074758281613175,
          2.779519335090704,
          2.7509401881905493,
          2.7217643187813843,
          2.6920188003736287,
          2.6617319524355123,
          2.63093341076586,
          2.599654183231573,
          2.567926700154395,
          2.535784864400319,
          2.503264104213197,
          2.470401430830185,
          2.4372355023956738,
          2.403806695409118,
          2.370157184779873,
          2.3363310334528364,
          2.3023742924730026,
          2.2683351122456257,
          2.23426386559749,
          2.2002132830282513,
          2.166238600231053,
          2.1323977175254734,
          2.0987513702438,
          2.0653633082965666,
          2.032300482060382,
          1.9996332303182927,
          1.967435464173688,
          1.935784838587047,
          1.9047629003943263,
          1.8744551983249083,
          1.84495133666099,
          1.8163449498618078,
          1.7887335709260235,
          1.762218361860288,
          1.7369036709516947,
          1.712896379450148,
          1.6903050008553575,
          1.669238500579958,
          1.6498048136891899,
          1.6321090548475456,
          1.6162514380666613,
          1.6023249537760111,
          1.5904128849963524,
          1.5805862790450305,
          1.5729015206853583,
          1.5673981705702233,
          1.5640972334118648,
          1.563,
          1.5640875662150824,
          1.5673210751680342,
          1.5726426639385889,
          1.5799770343893391,
          1.5892335178990342,
          1.6003084733526218,
          1.6130878488400582,
          1.627449748454426,
          1.6432668713750829,
          1.6604087246322752,
          1.6787435473074606,
          1.6981399174875165,
          1.7184680409556046,
          1.7396007410497678,
          1.7614141824320102,
          1.7837883686504443,
          1.806607455719256,
          1.8297599229146992,
          1.853138638855835,
          1.876640856706812,
          1.9001681677182076,
          1.9236264377750878,
          1.9469257473851669,
          1.969980351709718,
          1.9927086737901685,
          2.0150333409614674,
          2.0368812714381734,
          2.0581838150689045,
          2.0788769491504286,
          2.098901526880819,
          2.1182035724756885,
          2.1367346132124556,
          2.154452034836673,
          2.171319443089782,
          2.1873070109154447,
          2.2023917885495514,
          2.2165579525884045,
          2.2297969706026253,
          2.2421076601420564,
          2.253496125094369,
          2.263975558123791,
          2.2735659049003236,
          2.282293393415478,
          2.290189939139526,
          2.297292443377947,
          2.3036420073124413,
          2.309283087448408,
          2.314262619372602,
          2.3186291359437203,
          2.322431903599842,
          2.325720096816819,
          2.3285420263960566,
          2.330944432686405,
          2.332971850465996,
          2.334666048331454,
          2.3360655422534022,
          2.337205180541438,
          2.338115795816123,
          2.33882391864732,
          2.3393515471899127,
          2.339715967317387,
          2.3399296183103537,
          2.3399999999999994,
          2.340151593141794,
          2.3406062466467357,
          2.341363582858093,
          2.342422972696548,
          2.343783536182739,
          2.3454441431682036,
          2.3474034142741504,
          2.349659722037219,
          2.3522111922613433,
          2.3550557055745363,
          2.358190899189345,
          2.3616141688654952,
          2.3653226710730935,
          2.3693133253546,
          2.373582816883603,
          2.378127599218267,
          2.382943897247181,
          2.3880277103251366,
          2.3933748155962626,
          2.3989807715017233,
          2.4048409214690882,
          2.4109503977803026,
          2.417304125615045,
          2.423896827266112,
          2.4307230265233333,
          2.4377770532223684,
          2.445053047954619,
          2.452544966934322,
          2.460246587018817,
          2.46815151087777,
          2.476253172307108,
          2.484544841683215,
          2.4930196315528796,
          2.501670502354333,
          2.5104902682646495,
          2.5194716031686295,
          2.528607046744212,
          2.5378890106593808,
          2.5473097848753854,
          2.556861544051066,
          2.5665363540429547,
          2.5763261784957474,
          2.586222885517681,
          2.5962182544352745,
          2.6063039826217995,
          2.616471692393842,
          2.6267129379702006,
          2.637019212487353,
          2.647381955065661,
          2.6577925579204376,
          2.668242373511986,
          2.6787227217286538,
          2.6892248970969437,
          2.699740176012692,
          2.710259823987309,
          2.720775102903057,
          2.7312772782713455,
          2.7417576264880137,
          2.752207442079562,
          2.7626180449343383,
          2.7729807875126466,
          2.7832870620297996,
          2.7935283076061577,
          2.803696017378201,
          2.813781745564725,
          2.823777114482318,
          2.8336738215042527,
          2.8434636459570455,
          2.8531384559489337,
          2.8626902151246147,
          2.8721109893406185,
          2.881392953255788,
          2.890528396831371,
          2.8995097317353498,
          2.908329497645667,
          2.91698036844712,
          2.925455158316784,
          2.9337468276928913,
          2.94184848912223,
          2.9497534129811824,
          2.9574550330656773,
          2.9649469520453806,
          2.972222946777631,
          2.9792769734766664,
          2.9861031727338876,
          2.9926958743849545,
          2.9990496022196975,
          3.005159078530912,
          3.011019228498277,
          3.016625184403737,
          3.0219722896748626,
          3.0270561027528187,
          3.0318724007817317,
          3.0364171831163964,
          3.0406866746453987,
          3.0446773289269062,
          3.048385831134505,
          3.0518091008106545,
          3.054944294425463,
          3.0577888077386564,
          3.0603402779627804,
          3.06259658572585,
          3.064555856831796,
          3.0662164638172613,
          3.0675770273034515,
          3.068636417141907,
          3.0693937533532645,
          3.0698484068582053,
          3.07
         ],
         "yaxis": "y"
        },
        {
         "legendgroup": "0",
         "marker": {
          "color": "#636EFA"
         },
         "name": "spinless",
         "showlegend": false,
         "type": "scatter",
         "xaxis": "x",
         "y": [
          3.07,
          3.070275221492876,
          3.0710994933982554,
          3.0724686475220686,
          3.074375768469153,
          3.0768112404902777,
          3.0797628119950358,
          3.083215676698659,
          3.087152570132031,
          3.091553880043733,
          3.096397769065139,
          3.1016603078970357,
          3.107315617209766,
          3.113336016426852,
          3.119692177582257,
          3.1263532824991573,
          3.133287181628488,
          3.1404605530028404,
          3.1478390598990456,
          3.1553875059552947,
          3.1630699866497327,
          3.170850036211676,
          3.178690769199671,
          3.1865550161376994,
          3.1944054527496215,
          3.2022047224690207,
          3.2099155520262266,
          3.2175008600244874,
          3.22492385851327,
          3.2321481476483385,
          3.2391378035957477,
          3.2458574598917496,
          3.252272382512821,
          3.258348538941818,
          3.264052661537924,
          3.2693523055316054,
          3.2742159019719135,
          3.2786128059537205,
          3.282513340447765,
          3.285888836047732,
          3.288711666937181,
          3.29095528336525,
          3.2925942409050757,
          3.293604226752834,
          3.2939620833091157,
          3.293645829268341,
          3.2926346784265927,
          3.2909090564038563,
          3.2884506154638684,
          3.28524224760378,
          3.2812680960773637,
          3.27651356551028,
          3.270965330765134,
          3.2646113447193628,
          3.2574408451333516,
          3.2494443608142727,
          3.2406137173307235,
          3.2309420426186515,
          3.2204237729649554,
          3.2090546601089986,
          3.1968317806549646,
          3.183753549824795,
          3.16981974319789,
          3.1550315333752184,
          3.139391555649402,
          3.122904033511692,
          3.1055750380468954,
          3.0874130812973863,
          3.068430676211918,
          3.0486493668685286,
          3.028122419237583,
          3.007142973335786,
          2.9957432435997733,
          3.003447418635506,
          3.0123792616757203,
          3.021717331963502,
          3.0313707070821625,
          3.04130333130037,
          3.0514903821137267,
          3.0619102164991667,
          3.072542137256493,
          3.0833656259087125,
          3.0943600507730142,
          3.1055045573425413,
          3.1167780377568297,
          3.1281591379321765,
          3.139626283957661,
          3.1511577188920277,
          3.1627315453834903,
          3.1743257716013926,
          3.1859183590258646,
          3.1974872712110254,
          3.2090105229585117,
          3.2204662295273847,
          3.23183265562256,
          3.2430882639781213,
          3.254211763401127,
          3.2651821561755403,
          3.2759787847504103,
          3.2865813776545125,
          3.296970094593758,
          3.307125570698746,
          3.3170289598989684,
          3.3266619774077553,
          3.3360069413085616,
          3.3450468132388256,
          3.353765238172582,
          3.3621465833074504,
          3.3701759760655152,
          3.3778393412212764,
          3.3851234371729757,
          3.392015891376575,
          3.3985052349642615,
          3.404580936571616,
          3.4102334353996318,
          3.4154541735393185,
          3.4202356275878634,
          3.424571339586048,
          3.428455947306677,
          3.43188521392321,
          3.4348560570861855,
          3.4373665774324067,
          3.4394160865477383,
          3.441005134398539,
          3.4421355362387676,
          3.442810398989107,
          3.443034147070482,
          3.442812547656369,
          3.4421527352853247,
          3.441063235746274,
          3.4395539891129525,
          3.4376363717590124,
          3.435323217130117,
          3.432628834981684,
          3.4295690287088796,
          3.426161110296276,
          3.4224239122959457,
          3.418377796101578,
          3.4140446556200423,
          3.409447915247897,
          3.4046125208368023,
          3.3995649220773707,
          3.3943330444464346,
          3.3889462485503445,
          3.38343527436323,
          3.377832167514384,
          3.372170184439691,
          3.3664836729021728,
          3.360807924139258,
          3.355178992752419,
          3.3496334804725265,
          3.3442082801762747,
          3.3389402770679815,
          3.3338660048531636,
          3.32902125608685,
          3.324440647735655,
          3.3201571453714016,
          3.3162015522893813,
          3.312601973122199,
          3.3093832650245636,
          3.306566492970878,
          3.3041684087907295,
          3.3022009758673874,
          3.300670962531878,
          3.299579626744688,
          3.2989225124372266,
          3.2986893738431635,
          3.298864238473243,
          3.299425612497779,
          3.3003468248141297,
          3.3015964987176534,
          3.3031391335918836,
          3.3049357740037393,
          3.306944740447344,
          3.309122394887938,
          3.3114239151220692,
          3.3138040544860368,
          3.3162178671631954,
          3.3186213837563994,
          3.3209722264155497,
          3.323230157228372,
          3.3253575574888803,
          3.32731983866225,
          3.32908578828423,
          3.3306278556700324,
          3.331922383224788,
          3.3329497894433295,
          3.3336947094738054,
          3.3341460985096356,
          3.334297302369163,
          3.334433932514746,
          3.3348431829722687,
          3.335523137198388,
          3.3364706122337564,
          3.3376811755007845,
          3.3391491680798167,
          3.3408677342289694,
          3.342828856853713,
          3.345023398579151,
          3.347441148031165,
          3.3500708708932527,
          3.352900365274268,
          3.3559165208986617,
          3.35910538161537,
          3.362452210713804,
          3.3659415585354977,
          3.369557331876929,
          3.3732828646925945,
          3.3771009896266087,
          3.380994109925199,
          3.3849442713106277,
          3.388933233428477,
          3.3929425405138516,
          3.3969535909573567,
          3.400947705487697,
          3.4049061937238037,
          3.408810418884986,
          3.412641860482087,
          3.4163821748456416,
          3.4200132533780927,
          3.4235172784461887,
          3.4268767768562802,
          3.430074670879473,
          3.4330943268151763,
          3.435919601100789,
          3.43853488399186,
          3.4409251408512045,
          3.4430759510974585,
          3.444973544873067,
          3.4466048374994847,
          3.4479574617930107,
          3.44901979831865,
          3.4497810036618084,
          3.4502310367985443,
          3.4503606836447043,
          3.4501615798627787,
          3.4496262320026037,
          3.4487480370486203,
          3.4475213004418492,
          3.4459412526396944,
          3.444004064270691,
          3.4417068599348473,
          3.439047730693006,
          3.4360257452810066,
          3.4326409600760224,
          3.42889442783364,
          3.4247882052048575,
          3.4203253590320957,
          3.415509971412895,
          3.410347143508721,
          3.4048429980646158,
          3.399004680593057,
          3.392840359162462,
          3.3863592227170862,
          3.3795714778410146,
          3.372488343864055,
          3.365122046192159,
          3.357485807729205,
          3.3495938382409913,
          3.3414613214959648,
          3.333104400001017,
          3.32454015713473,
          3.3157865964648296,
          3.30686261802226,
          3.2977879912908663,
          3.2885833246603955,
          3.2792700310814267,
          3.2698702896549587,
          3.2604070028871894,
          3.2509037493424273,
          3.2413847314349624,
          3.231874718114888,
          3.2223989822242975,
          3.2129832323299294,
          3.2036535388768597,
          3.194436254556326,
          3.18535792883953,
          3.1764452166988972,
          3.167724781618899,
          3.1592231930899457,
          3.1509668188804296,
          3.142981712492832,
          3.1352934963280914,
          3.1279272412063546,
          3.120907343018869,
          3.1142573974121044,
          3.108000073527397,
          3.1021569879334336,
          3.0967485799903716,
          3.0917939899687954,
          3.0873109413095436,
          3.0833156284478527,
          3.079822611633312,
          3.0768447201534013,
          3.074392965310835,
          3.0724764644130604,
          3.0711023769069046,
          3.0702758536342825,
          3.07
         ],
         "yaxis": "y"
        },
        {
         "legendgroup": "1",
         "marker": {
          "color": "#EF553B"
         },
         "name": "σ: 1/2",
         "showlegend": true,
         "type": "scatter",
         "xaxis": "x",
         "y": [
          -0.30000000000000004,
          -0.30027527251826613,
          -0.3010970909028184,
          -0.30245792715516595,
          -0.3043482618837433,
          -0.30675665678523617,
          -0.309669841613339,
          -0.3130728141664973,
          -0.316948951645843,
          -0.32128013160181973,
          -0.32604686060420096,
          -0.33122840873455534,
          -0.3368029480101306,
          -0.34274769289950063,
          -0.349039041177918,
          -0.35565271348803734,
          -0.36256389011306683,
          -0.369747343627925,
          -0.37717756626332,
          -0.38482889099197076,
          -0.3926756055203431,
          -0.4006920585388217,
          -0.40885275774470603,
          -0.4171324593030061,
          -0.4255062485479328,
          -0.4339496118519327,
          -0.4424384996987086,
          -0.4509493810918582,
          -0.45945928951200277,
          -0.46794586070339417,
          -0.47638736262706244,
          -0.48476271796256293,
          -0.49305151957585525,
          -0.5012340393977955,
          -0.5092912311774098,
          -0.5172047275878698,
          -0.5249568321715475,
          -0.5325305066151094,
          -0.5399093538464932,
          -0.5470775974440764,
          -0.5540200578442939,
          -0.5607221258283195,
          -0.567169733761076,
          -0.5733493250472049,
          -0.5792478222587553,
          -0.584852594378196,
          -0.5901514235881035,
          -0.595132472025243,
          -0.5997842489019104,
          -0.6040955783810729,
          -0.6080555685741776,
          -0.611653582011207,
          -0.6148792079118752,
          -0.6177222365646372,
          -0.6201726360965626,
          -0.6222205318921464,
          -0.6238561888930864,
          -0.6250699969839562,
          -0.6258524596409663,
          -0.6261941859928306,
          -0.626085886414477,
          -0.6255183717463397,
          -0.6244825562045995,
          -0.6229694640213982,
          -0.6209702398291174,
          -0.6184761627797509,
          -0.6154786643694703,
          -0.6119693499202068,
          -0.6079400236546707,
          -0.6033827172891306,
          -0.5982897220597103,
          -0.5926536240932345,
          -0.586467343033063,
          -0.5797241738339767,
          -0.5724178316484745,
          -0.5645424997397049,
          -0.5560928803742287,
          -0.5470642486706906,
          -0.537452509408982,
          -0.5272542568383158,
          -0.5164668375625688,
          -0.5050884166272631,
          -0.4931180469852943,
          -0.4805557425781976,
          -0.46740255533716313,
          -0.4536606564835003,
          -0.43933342259263475,
          -0.42442552697969066,
          -0.40894303706884705,
          -0.39289351852378485,
          -0.3762861470431178,
          -0.3591318288629621,
          -0.34144333115865644,
          -0.3232354236981732,
          -0.304525033268924,
          -0.2853314125738176,
          -0.2656763254656157,
          -0.24558425055107302,
          -0.2250826053339209,
          -0.2042019931570418,
          -0.18297647521867855,
          -0.16144386983201678,
          -0.1396460808118668,
          -0.11762945632418449,
          -0.0954451786134212,
          -0.07314968358364467,
          -0.050805107064989016,
          -0.02847975151405535,
          -0.0062485625961682945,
          0.01580640073545861,
          0.037595526734842705,
          0.05902127581305283,
          0.079977915870518,
          0.10035142802297625,
          0.12001965809651438,
          0.13885280430286795,
          0.15671434342278168,
          0.17346250240594618,
          0.18895237392976505,
          0.20303874673033695,
          0.21557966865689965,
          0.22644067973035437,
          0.23549954757303887,
          0.24265122104086617,
          0.2478126121217899,
          0.25092675008031035,
          0.25196585292951756,
          0.25093294489961343,
          0.2478618086285323,
          0.2428152679122435,
          0.23588200585980235,
          0.22717228821414026,
          0.21681305097449388,
          0.2049428170697341,
          0.1917068425902374,
          0.17725278631744423,
          0.1617270767167186,
          0.145272041791921,
          0.12802378294819095,
          0.11011071850655169,
          0.09165269329720405,
          0.07276054194082637,
          0.053535998312976896,
          0.03407185635556691,
          0.014452303374664455,
          -0.0052466367273640395,
          -0.024956597911291185,
          -0.04461633903786826,
          -0.06417120802491992,
          -0.08357261959348351,
          -0.10277755697356336,
          -0.12174810347108954,
          -0.14045100661928953,
          -0.15885727545076478,
          -0.1769418099817281,
          -0.1946830610979726,
          -0.21206271851887262,
          -0.2290654242745665,
          -0.24567850907589342,
          -0.26189174902412865,
          -0.2776971402529201,
          -0.29308868928682164,
          -0.30806221711749643,
          -0.32261517522555,
          -0.33674647200314334,
          -0.3504563082541109,
          -0.36374602066016787,
          -0.37661793230193186,
          -0.38907520951050073,
          -0.40112172449865857,
          -0.4127619233800826,
          -0.4240006993301156,
          -0.43484327077251955,
          -0.4452950645931459,
          -0.45536160448346324,
          -0.46504840460407754,
          -0.4743608688307888,
          -0.4833041959030067,
          -0.4918832908364895,
          -0.5001026829894053,
          -0.5079664511828487,
          -0.5154781562745594,
          -0.5226407815682633,
          -0.5294566814118447,
          -0.5359275382963243,
          -0.5420543287160351,
          -0.5478372979898928,
          -0.5532759441761353,
          -0.5583690111403553,
          -0.5631144907610794,
          -0.563250752332216,
          -0.563658903152165,
          -0.5643370448618108,
          -0.5652820245665806,
          -0.5664894512753241,
          -0.5679537186830821,
          -0.5696680340715817,
          -0.5716244530443312,
          -0.57381391976173,
          -0.5762263122962478,
          -0.5788504926895516,
          -0.581674361262383,
          -0.5846849147048597,
          -0.5878683074592169,
          -0.5912099158991045,
          -0.5946944048088157,
          -0.5983057956719399,
          -0.6020275362912809,
          -0.6058425712797246,
          -0.6097334129844127,
          -0.6136822124331889,
          -0.6176708299220827,
          -0.621680904894743,
          -0.6256939247984664,
          -0.6296912926360672,
          -0.6336543929675563,
          -0.6375646561500589,
          -0.6414036206377298,
          -0.6451529931955953,
          -0.6487947069115638,
          -0.6523109769192339,
          -0.6556843537702891,
          -0.6588977744191172,
          -0.6619346108037162,
          -0.6647787160259522,
          -0.6674144681508367,
          -0.669826811658761,
          -0.672001296596607,
          -0.6739241154835639,
          -0.6755821380353224,
          -0.6769629437763206,
          -0.6780548526140104,
          -0.6788469534517994,
          -0.6793291309185897,
          -0.679492090292793,
          -0.6793273806974985,
          -0.678827416641176,
          -0.677985497975084,
          -0.6767958283344049,
          -0.6752535321253118,
          -0.6733546701144748,
          -0.6710962536712773,
          -0.6684762577060623,
          -0.665493632340214,
          -0.662148313335738,
          -0.6584412313033133,
          -0.6543743196985177,
          -0.6499505216059892,
          -0.6451737953009067,
          -0.6400491185659667,
          -0.6345824917303673,
          -0.6287809393849018,
          -0.6226525107142096,
          -0.6162062783735454,
          -0.6094523358230439,
          -0.6024017930174931,
          -0.595066770334031,
          -0.587460390604159,
          -0.5795967690999062,
          -0.5714910013073227,
          -0.5631591483035912,
          -0.5546182195374353,
          -0.5458861527962446,
          -0.5369817911280226,
          -0.5279248564720396,
          -0.5187359197397247,
          -0.5094363670772859,
          -0.5000483620344714,
          -0.49059480336062905,
          -0.4810992781505153,
          -0.4715860100690801,
          -0.46207980239760327,
          -0.452605975664186,
          -0.44319029965043816,
          -0.4338589196043908,
          -0.42463827653794173,
          -0.4155550215461694,
          -0.4066359241561969,
          -0.3979077747951271,
          -0.38939728155975506,
          -0.3811309615748281,
          -0.37313502734043247,
          -0.3654352685912047,
          -0.35805693031826613,
          -0.3510245877363501,
          -0.3443620191102749,
          -0.3380920774827866,
          -0.33223656246561095,
          -0.32681609336272116,
          -0.3218499849845594,
          -0.31735612757958565,
          -0.3133508723507158,
          -0.3098489240350659,
          -0.3068632420030108,
          -0.3044049512748752,
          -0.30248326475990295,
          -0.3011054178932317,
          -0.3002766166844846,
          -0.30000000000000004
         ],
         "yaxis": "y"
        },
        {
         "legendgroup": "1",
         "marker": {
          "color": "#EF553B"
         },
         "name": "σ: 1/2",
         "showlegend": false,
         "type": "scatter",
         "xaxis": "x",
         "y": [
          2.8419999999999996,
          2.842081434517298,
          2.8423127703549533,
          2.8426721396289736,
          2.843134648015869,
          2.84367267840462,
          2.844256266835435,
          2.844853549860143,
          2.8454312797071966,
          2.845955400245026,
          2.846391672854637,
          2.846706337214515,
          2.8468667880599585,
          2.8468422456912412,
          2.846604395890159,
          2.846127974427244,
          2.8453912728135746,
          2.8443765454415733,
          2.843070303549153,
          2.8414634880317724,
          2.839551520310261,
          2.8373342374449297,
          2.8348157237275147,
          2.8320040555181922,
          2.82891097881668,
          2.825551539930533,
          2.8219436888346805,
          2.818107872772413,
          2.814066634773732,
          2.80984422850152,
          2.80546625755435,
          2.800959344336076,
          2.796350831021377,
          2.791668513084357,
          2.786940404321739,
          2.782194531250286,
          2.777458754118248,
          2.772760611460029,
          2.7681271850595737,
          2.7635849822972594,
          2.7591598330754223,
          2.7548767987996925,
          2.7507600912001298,
          2.746832999081209,
          2.743117821374467,
          2.7396358051207272,
          2.736407087222541,
          2.733450638977781,
          2.730784212529074,
          2.7284242884390215,
          2.7263860236245607,
          2.724683198851429,
          2.7233281648941694,
          2.7223317862980814,
          2.7217033814206015,
          2.7214506570572206,
          2.721579635436305,
          2.7220945706475717,
          2.722997850576576,
          2.724289879044307,
          2.7259689309370194,
          2.7280309704188,
          2.7304694184894274,
          2.733274850636893,
          2.7364345972959763,
          2.7399322079502477,
          2.7437467219379186,
          2.7478516620549263,
          2.7522136256289556,
          2.756790283435126,
          2.7615274962637892,
          2.7663551015684495,
          2.7711806792327773,
          2.775880243259775,
          2.7802843193745894,
          2.784157394834261,
          2.7871689077277995,
          2.7888568316904196,
          2.7885954002273317,
          2.785602852352621,
          2.7790531085729953,
          2.768323296559389,
          2.753253887646162,
          2.7341909344518536,
          2.7117756976917176,
          2.6866902861406277,
          2.6595161425821408,
          2.630701420231221,
          2.6005789143300717,
          2.569395377314315,
          2.537337221543292,
          2.5045495655174,
          2.4711494934818665,
          2.437235100859639,
          2.4028916646023912,
          2.3681958989475236,
          2.3332189440386077,
          2.2980285144336454,
          2.2626904882066503,
          2.2272701222949047,
          2.191833018233738,
          2.1564459223707493,
          2.1211774182100314,
          2.086098550675004,
          2.051283409557539,
          2.0168096901130084,
          1.9827592412108976,
          1.9492186046087627,
          1.9162795419707488,
          1.8840395385352398,
          1.852602263293213,
          1.8220779547420736,
          1.7925836885053246,
          1.7642434684847395,
          1.7371880674410165,
          1.7115545275546955,
          1.6874852193655967,
          1.6651263527243363,
          1.6446258416111872,
          1.6261304522915623,
          1.6097822170469154,
          1.5957141763151388,
          1.5840456169259018,
          1.5748770906009766,
          1.5682856026139291,
          1.5643204265528596,
          1.563,
          1.5643102723339102,
          1.5682047157907333,
          1.5746060038057905,
          1.5834091516579596,
          1.5944857495467948,
          1.607688828900046,
          1.6228578971633347,
          1.6398237406646499,
          1.6584127020554476,
          1.6784502585965857,
          1.699763836584051,
          1.7221848818038241,
          1.7455502618534027,
          1.7697031059541986,
          1.7944931974154401,
          1.8197770299162794,
          1.8454176271904643,
          1.87128421101847,
          1.8972517876285968,
          1.9232007093741132,
          1.9490162576303234,
          1.9745882843403493,
          1.999810943215716,
          2.02458253669636,
          2.0488055006650794,
          2.0723865447700693,
          2.095236961174942,
          2.117273107806054,
          2.138417063033714,
          2.158597436854323,
          2.1777503091942076,
          2.195820249793984,
          2.2127613579268033,
          2.228538246379591,
          2.2431268855539797,
          2.256515222970431,
          2.2687035027646574,
          2.2797042292436687,
          2.289541746508432,
          2.2982514389340762,
          2.305878590089078,
          2.3124769655111725,
          2.3181072037221297,
          2.322835107926317,
          2.326729928130297,
          2.3298627119115904,
          2.3323047848331018,
          2.334126401890592,
          2.335395592306275,
          2.3361772035103967,
          2.3365321374005514,
          2.33651676321759,
          2.336182486311434,
          2.3355754500350736,
          2.334736348223365,
          2.333700327438094,
          2.3324969607591566,
          2.3311502778884283,
          2.3296788393665033,
          2.3280958455658762,
          2.32640927369484,
          2.3246220382700873,
          2.3227321723811674,
          2.3228766098087146,
          2.3233097976999697,
          2.3240313628627725,
          2.325040683251909,
          2.326336887887648,
          2.32791885675339,
          2.3297852206836174,
          2.331934361255877,
          2.3343644107025208,
          2.3370732518594743,
          2.340058518170223,
          2.3433175937635435,
          2.3468476136232708,
          2.3506454638675893,
          2.354707782154029,
          2.35903095822457,
          2.3636111346030826,
          2.3684442074548837,
          2.3735258276154667,
          2.378851401792575,
          2.3844160939428525,
          2.390214826821377,
          2.396242283699337,
          2.402492910242429,
          2.4089609165397325,
          2.4156402792703395,
          2.422524743992654,
          2.4296078275391113,
          2.4368828204971082,
          2.444342789755197,
          2.451980581092014,
          2.4597888217840453,
          2.467759923207146,
          2.4758860834056833,
          2.484159289602351,
          2.492571320620978,
          2.501113749194152,
          2.5097779441272,
          2.5185550722899017,
          2.5274361004075527,
          2.536411796623453,
          2.5454727318058015,
          2.5546092805733993,
          2.5638116220166305,
          2.5730697400930342,
          2.582373423680701,
          2.591712266277886,
          2.6010756653440144,
          2.610452821285978,
          2.6198327361048444,
          2.629204211732231,
          2.6385558481034264,
          2.6478760410365387,
          2.657152980014436,
          2.6663746460000373,
          2.6755288094567495,
          2.684603028795807,
          2.693584649532363,
          2.7024608045037644,
          2.7112184155880588,
          2.7198441974596683,
          2.7283246640333134,
          2.7366461383773553,
          2.74479476702319,
          2.7527565397567675,
          2.760517316148352,
          2.76806286025133,
          2.775378885071486,
          2.782451108561502,
          2.7892653230139612,
          2.7958074797865304,
          2.8020637912666837,
          2.808020851836151,
          2.8136657792893036,
          2.818986377656439,
          2.823971321646229,
          2.828610361926862,
          2.8328945492043385,
          2.836816473549476,
          2.8403705137282453,
          2.8435530895021417,
          2.8463629081300104,
          2.84880119480167,
          2.8508718956716703,
          2.8525818417403768,
          2.8539408622156266,
          2.854961837277199,
          2.8556606823538964,
          2.8560562589888274,
          2.856170210880431,
          2.856026727427638,
          2.855652240719717,
          2.8550750650515395,
          2.854324990436872,
          2.8534328430649776,
          2.8524300261513957,
          2.8513480542413534,
          2.850218092895302,
          2.8490705140370616,
          2.847934475309572,
          2.8468375297779183,
          2.8458052704206875,
          2.8448610121842313,
          2.844025513012337,
          2.843316734233084,
          2.8427496399758594,
          2.842336034872313,
          2.842084439119352,
          2.8419999999999996
         ],
         "yaxis": "y"
        },
        {
         "legendgroup": "1",
         "marker": {
          "color": "#EF553B"
         },
         "name": "σ: 1/2",
         "showlegend": false,
         "type": "scatter",
         "xaxis": "x",
         "y": [
          3.298,
          3.2980446479376484,
          3.298187683944536,
          3.298443818730776,
          3.298829044851915,
          3.299360404912701,
          3.300055701722185,
          3.3009331497978227,
          3.3020109701880123,
          3.303306933839344,
          3.3048378625340504,
          3.30661910049571,
          3.3086639737123216,
          3.310983257365166,
          3.3135846739547095,
          3.316472445309903,
          3.319646920337306,
          3.3231042970347824,
          3.3268364521740557,
          3.330830885640827,
          3.3350707794121854,
          3.3395351643382347,
          3.3441991820154002,
          3.349034424654149,
          3.3540093332600924,
          3.359089633697528,
          3.3642387910834146,
          3.3694184650988888,
          3.3745889517612015,
          3.379709600532775,
          3.3847391989818316,
          3.3896363202729916,
          3.3943596313828444,
          3.398868162024583,
          3.40312153582131,
          3.4070801663332904,
          3.41070542119301,
          3.413959757917008,
          3.4168068350283676,
          3.419211602012811,
          3.421140371407283,
          3.4225608760321125,
          3.4234423140638257,
          3.4237553843321713,
          3.4234723139301373,
          3.4225668799617632,
          3.4210144270264164,
          3.41879188185453,
          3.4158777663709685,
          3.4122522103709088,
          3.407896964951771,
          3.4027954178581004,
          3.396932611970913,
          3.390295268320034,
          3.3828718152329698,
          3.37465242558153,
          3.3656290645817877,
          3.355795551295605,
          3.345147637946514,
          3.3336831125077144,
          3.321401931905621,
          3.3083063958469094,
          3.294401375079476,
          3.279694613384505,
          3.2641971306097535,
          3.247923765904987,
          3.2308939180764282,
          3.213132566925686,
          3.1946717008427816,
          3.175552340213592,
          3.1558274467536442,
          3.135566166257702,
          3.1148600956428187,
          3.093832627402032,
          3.0726529114053767,
          3.0515564476959263,
          3.030874142956109,
          3.0110687747019327,
          2.992767319019344,
          2.976753260180504,
          2.9638549731932766,
          2.954698260069711,
          2.9494462788550897,
          2.947757375364427,
          2.9489955298640766,
          2.952484795123122,
          2.9576508934660515,
          2.9640539289003307,
          2.971370550284342,
          2.979364737918289,
          2.987862210470417,
          2.9967314973597827,
          3.0058708078899454,
          3.0151991260448336,
          3.0246501933807264,
          3.034168421223301,
          3.043706086581898,
          3.053221386788632,
          3.0626770743259493,
          3.0720394884505025,
          3.081277861745934,
          3.09036381968133,
          3.0992710174075055,
          3.1079748753371264,
          3.1164523866544123,
          3.1246819777690766,
          3.1326434081343555,
          3.1403176996077624,
          3.147687088178709,
          3.1547349927707478,
          3.1614459971826,
          3.167805842219604,
          3.173801425793837,
          3.1794208093114484,
          3.1846532290717358,
          3.1894891117108326,
          3.1939200929595195,
          3.1979390391684466,
          3.2015400711983624,
          3.2047185903876314,
          3.2074713064017293,
          3.209796266844511,
          3.2116928885730087,
          3.2131619907087554,
          3.2142058293812052,
          3.2148281342737315,
          3.215034147070482,
          3.2148306619228935,
          3.214226068067136,
          3.213230394726782,
          3.2118553584262455,
          3.210114412816977,
          3.208022801075632,
          3.205597610865932,
          3.2028578317564316,
          3.1998244148458266,
          3.19652033415431,
          3.1929706490799594,
          3.1892025668765673,
          3.1852455036639746,
          3.1811311419119663,
          3.176893481619894,
          3.1725688815222717,
          3.1681960855640905,
          3.1638162285936846,
          3.159472813715669,
          3.1552116520548084,
          3.151080753864759,
          3.1471301580878297,
          3.143411685820484,
          3.139978601942691,
          3.1368851688098185,
          3.1341860768688377,
          3.131935739908015,
          3.1301874479540666,
          3.128992379062153,
          3.1283984826005433,
          3.128449260836847,
          3.129182491739347,
          3.1306289521798805,
          3.1328112146945326,
          3.1357425997229145,
          3.1394263660367665,
          3.1438552129901423,
          3.149011148972459,
          3.154865752727825,
          3.1613808216321204,
          3.1685093684291195,
          3.176196900277816,
          3.1843828951722695,
          3.1930023828919554,
          3.201987540493687,
          3.2112692239963656,
          3.2207783752581682,
          3.2304472627570444,
          3.240210534147278,
          3.250006075008555,
          3.259775681013654,
          3.2694655595341997,
          3.2790266817966627,
          3.2884150087482347,
          3.297591613571671,
          3.306522722047437,
          3.315179689333879,
          3.3235389287087087,
          3.3315818047299377,
          3.339294500350978,
          3.3466678648864434,
          3.3536972474293494,
          3.360382318379911,
          3.360523659046915,
          3.3609470473503427,
          3.3616505856398984,
          3.3626311226044185,
          3.3638842703076364,
          3.3654044277942226,
          3.367184811028221,
          3.3692174888662585,
          3.371493424714232,
          3.374002523469195,
          3.37673368330882,
          3.3796748518593285,
          3.38281308624957,
          3.386134616544109,
          3.3896249120412296,
          3.393268749922811,
          3.3970502857510096,
          3.4009531253214638,
          3.4049603974030362,
          3.409054826919567,
          3.4132188081584776,
          3.4174344776237433,
          3.4216837861855867,
          3.4259485702157657,
          3.4302106214344157,
          3.434451755231607,
          3.4386538772633313,
          3.44279904815713,
          3.4468695461965004,
          3.4508479278851265,
          3.4547170863219017,
          3.4584603073450286,
          3.462061323428512,
          3.4655043653365545,
          3.4687742115613363,
          3.471856235586589,
          3.4747364510342402,
          3.4774015547635893,
          3.479838968002264,
          3.482036875595944,
          3.483984263469206,
          3.485670954393054,
          3.487087642156114,
          3.4882259242353806,
          3.4890783330596156,
          3.489638365953189,
          3.489900513840748,
          3.48986028878298,
          3.4895142504008616,
          3.4888600312296667,
          3.4878963610242044,
          3.486623090012552,
          3.4850412110665108,
          3.4831528807218577,
          3.480961438939621,
          3.4784714274495805,
          3.475688606458012,
          3.4726199694316673,
          3.4692737555879454,
          3.4656594596254755,
          3.4617878381187888,
          3.457670911874131,
          3.4533219634004615,
          3.448755528490498,
          3.4439873807328545,
          3.439034507591426,
          3.433915076497854,
          3.4286483892163346,
          3.4232548225702284,
          3.417755753484762,
          3.41217346622288,
          3.406531039701115,
          3.400852212903365,
          3.395161226700981,
          3.3894826408770804,
          3.3838411258769567,
          3.3782612297916383,
          3.3727671223354534,
          3.3673823190823917,
          3.3621293909242604,
          3.3570296655084295,
          3.352102929161668,
          3.3473671393281252,
          3.342838158640685,
          3.3385295222042863,
          3.3344522493321325,
          3.330614709745932,
          3.3270225521341605,
          3.3236787000785726,
          3.320583416940545,
          3.317734437662124,
          3.315127161938563,
          3.312754900201098,
          3.310609161585237,
          3.308679971718888,
          3.3069562077908956,
          3.3054259388809455,
          3.304076760780818,
          3.3028961162932404,
          3.301871594019962,
          3.3009912007238627,
          3.3002436042897707,
          3.299618345986304,
          3.299106022070711,
          3.2986984357520446,
          3.2983887211431844,
          3.2981714411227685,
          3.2980426610417184,
          3.298
         ],
         "yaxis": "y"
        },
        {
         "legendgroup": "2",
         "marker": {
          "color": "#00CC96"
         },
         "name": "σ: -1/2",
         "showlegend": true,
         "type": "scatter",
         "xaxis": "x",
         "y": [
          -0.30000000000000004,
          -0.3002767532033386,
          -0.3011089238018965,
          -0.30249779264600274,
          -0.30444252488598117,
          -0.30694018289835023,
          -0.3099857567215295,
          -0.31357221138549296,
          -0.31769055021738046,
          -0.3223298929318444,
          -0.32747756707878,
          -0.3331192112282981,
          -0.3392388881273752,
          -0.3458192059666141,
          -0.3528414458488395,
          -0.3602856935518044,
          -0.36813097372149295,
          -0.376355384715341,
          -0.38493623243024117,
          -0.393850161592069,
          -0.40307328314481644,
          -0.4125812965519069,
          -0.4223496060035548,
          -0.43235342970673163,
          -0.44256790161352955,
          -0.45296816511546917,
          -0.46352945839263743,
          -0.4742271912549192,
          -0.48503701344670647,
          -0.4959348745053662,
          -0.5068970753672681,
          -0.5179003120034225,
          -0.5289217114405222,
          -0.5399388605831961,
          -0.5509298283006877,
          -0.5618731812770661,
          -0.5727479941498396,
          -0.583533854478488,
          -0.5942108630932569,
          -0.6047596303765691,
          -0.6151612690256728,
          -0.6253973838364282,
          -0.6354500590353823,
          -0.6453018436709701,
          -0.6549357355556328,
          -0.6643351642291316,
          -0.6734839733899702,
          -0.682366403216852,
          -0.690967072975937,
          -0.6992709642824567,
          -0.7072634053573953,
          -0.7149300565915552,
          -0.7222568977007212,
          -0.7292302167268878,
          -0.735836601112035,
          -0.7420629310426843,
          -0.7478963752358383,
          -0.7533243893100545,
          -0.7583347168594541,
          -0.7629153933237596,
          -0.7670547527240562,
          -0.7707414373121976,
          -0.7739644101616748,
          -0.7767129707096551,
          -0.7789767732437785,
          -0.7807458483134473,
          -0.7820106270337787,
          -0.7827619682412434,
          -0.7829911884533792,
          -0.7826900945808618,
          -0.7818510193386767,
          -0.7804668593041972,
          -0.7785311155735706,
          -0.7760379369739349,
          -0.7729821657975632,
          -0.769359386034962,
          -0.7651659740970983,
          -0.7603991520321789,
          -0.7550570432595093,
          -0.749138730861774,
          -0.7426443184971158,
          -0.7355749940135633,
          -0.7279330958699035,
          -0.7197221824886257,
          -0.7109471046872344,
          -0.7016140813532022,
          -0.6917307785437433,
          -0.6813063922031121,
          -0.6703517346952723,
          -0.6588793253460801,
          -0.646903485173703,
          -0.6344404359549609,
          -0.6215084037240279,
          -0.6081277267227215,
          -0.5943209677113648,
          -0.5801130303975545,
          -0.5655312795369013,
          -0.5506056639931499,
          -0.5353688417012455,
          -0.5198563050406799,
          -0.5041065045808012,
          -0.4881609684877414,
          -0.4720644140670104,
          -0.45586484694291307,
          -0.43961364223691646,
          -0.4233656008034858,
          -0.4071789721300631,
          -0.3911154339476984,
          -0.3752400170006057,
          -0.3596209618989276,
          -0.34432949369143084,
          -0.3294394989639637,
          -0.3150270901754899,
          -0.30117004291855465,
          -0.28794709419762354,
          -0.27543709400808813,
          -0.26371800874610807,
          -0.25286578339935184,
          -0.24295307991557125,
          -0.23404792112123918,
          -0.22621228215324718,
          -0.21950068325150973,
          -0.21395884731201764,
          -0.2096224910984874,
          -0.20651631895312872,
          -0.20465328129434301,
          -0.20403414707048195,
          -0.2046474206085247,
          -0.2064696108781916,
          -0.20946583768777938,
          -0.213590737554752,
          -0.21878961446046574,
          -0.2249997691598033,
          -0.23215193592138084,
          -0.2401717572444551,
          -0.24898123412352902,
          -0.25850010019001723,
          -0.26864708077732724,
          -0.2793410110049942,
          -0.29050179908106466,
          -0.3020512313352908,
          -0.31391362359737246,
          -0.3260163293531167,
          -0.338290118823637,
          -0.3506694450420329,
          -0.3630926135320707,
          -0.37550187170622557,
          -0.38784343293706985,
          -0.4000674486978251,
          -0.4121279404312273,
          -0.4239827010467711,
          -0.4355931742686586,
          -0.44692431852367714,
          -0.4579444607014744,
          -0.46862514394981314,
          -0.4789409726801248,
          -0.4888694571411403,
          -0.4983908592531188,
          -0.5074880408627545,
          -0.5161463151600817,
          -0.5243533016755215,
          -0.5320987850313152,
          -0.5393745774428206,
          -0.5461743848392838,
          -0.5524936763905574,
          -0.558329557177397,
          -0.5636806437213614,
          -0.5685469420905472,
          -0.5729297283146492,
          -0.5768314308735342,
          -0.5802555150647256,
          -0.5832063691043694,
          -0.5856891918713891,
          -0.587709882263859,
          -0.5892749301986789,
          -0.5903913093488947,
          -0.5910663717762861,
          -0.5913077446788065,
          -0.5911232295318668,
          -0.5905207039581782,
          -0.5895080267115929,
          -0.5880929462050369,
          -0.586283013050026,
          -0.584085497104497,
          -0.5815073095456518,
          -0.5785549304947295,
          -0.5752343427202147,
          -0.5715509719349797,
          -0.5675096341807804,
          -0.5631144907610799,
          -0.5632507523322168,
          -0.5636589031521642,
          -0.5643370448618112,
          -0.5652820245665806,
          -0.5664894512753237,
          -0.5679537186830811,
          -0.5696680340715804,
          -0.5716244530443316,
          -0.5738139197617291,
          -0.5762263122962478,
          -0.5788504926895516,
          -0.5816743612623836,
          -0.5846849147048597,
          -0.5878683074592169,
          -0.5912099158991041,
          -0.5946944048088157,
          -0.59830579567194,
          -0.6020275362912814,
          -0.6058425712797251,
          -0.6097334129844132,
          -0.6136822124331884,
          -0.6176708299220834,
          -0.6216809048947421,
          -0.6256939247984664,
          -0.6296912926360664,
          -0.6336543929675553,
          -0.6375646561500589,
          -0.64140362063773,
          -0.6451529931955948,
          -0.6487947069115634,
          -0.6523109769192339,
          -0.6556843537702891,
          -0.6588977744191172,
          -0.6619346108037162,
          -0.6647787160259517,
          -0.667414468150837,
          -0.6698268116587606,
          -0.672001296596607,
          -0.6739241154835641,
          -0.6755821380353224,
          -0.67696294377632,
          -0.6780548526140104,
          -0.6788469534517994,
          -0.6793291309185897,
          -0.679492090292793,
          -0.6793273806974985,
          -0.678827416641176,
          -0.677985497975084,
          -0.6767958283344053,
          -0.6752535321253118,
          -0.6733546701144754,
          -0.6710962536712779,
          -0.6684762577060619,
          -0.6654936323402135,
          -0.662148313335738,
          -0.6584412313033134,
          -0.6543743196985181,
          -0.6499505216059888,
          -0.6451737953009068,
          -0.6400491185659667,
          -0.6345824917303668,
          -0.6287809393849026,
          -0.6226525107142088,
          -0.6162062783735454,
          -0.6094523358230444,
          -0.6024017930174925,
          -0.5950667703340305,
          -0.5874603906041594,
          -0.5795967690999058,
          -0.5714910013073222,
          -0.563159148303592,
          -0.5546182195374348,
          -0.5458861527962442,
          -0.536981791128023,
          -0.5279248564720396,
          -0.5187359197397247,
          -0.5094363670772859,
          -0.5000483620344719,
          -0.49059480336062816,
          -0.48109927815051573,
          -0.47158601006907874,
          -0.46207980239760327,
          -0.4526059756641864,
          -0.44319029965043816,
          -0.43385891960439077,
          -0.42463827653794173,
          -0.41555502154616897,
          -0.40663592415619737,
          -0.3979077747951271,
          -0.3893972815597555,
          -0.3811309615748281,
          -0.37313502734043286,
          -0.3654352685912047,
          -0.35805693031826613,
          -0.3510245877363501,
          -0.344362019110275,
          -0.3380920774827866,
          -0.33223656246561134,
          -0.3268160933627214,
          -0.3218499849845593,
          -0.31735612757958576,
          -0.3133508723507161,
          -0.3098489240350658,
          -0.3068632420030106,
          -0.3044049512748754,
          -0.30248326475990295,
          -0.3011054178932318,
          -0.3002766166844846,
          -0.30000000000000004
         ],
         "yaxis": "y"
        },
        {
         "legendgroup": "2",
         "marker": {
          "color": "#00CC96"
         },
         "name": "σ: -1/2",
         "showlegend": false,
         "type": "scatter",
         "xaxis": "x",
         "y": [
          2.8419999999999996,
          2.8420870756703955,
          2.842357847221499,
          2.8428239778796005,
          2.8434935699558572,
          2.8443711830696765,
          2.8454579049295963,
          2.8467514707319284,
          2.848246427453281,
          2.8499343395109156,
          2.851804032398989,
          2.8538418709451228,
          2.856032068746158,
          2.858357025119261,
          2.8607976855397443,
          2.863333921036053,
          2.8659449213952684,
          2.8686095963344003,
          2.871306978066131,
          2.8740166180005016,
          2.8767189697577997,
          2.879395750309891,
          2.8820302710025514,
          2.8846077305099658,
          2.8871154624789352,
          2.8895431317412212,
          2.891882874471785,
          2.894129379468086,
          2.8962799097027334,
          2.8983342653146424,
          2.9002946911001235,
          2.9021657332022848,
          2.903954050959034,
          2.9056681906798074,
          2.9073183284461135,
          2.908915988881524,
          2.910473746258235,
          2.9120049133697057,
          2.913523222382187,
          2.915042500460932,
          2.9165763414153165,
          2.918137772967226,
          2.9197389175409074,
          2.9213906426967524,
          2.9231021954589194,
          2.924880812769802,
          2.92673129808172,
          2.928655551603232,
          2.9306520389048463,
          2.932715179454149,
          2.9348346332951416,
          2.936994460813818,
          2.9391721280131042,
          2.9413373292658833,
          2.9434506034941044,
          2.945461732157359,
          2.9473079347197673,
          2.948911928728724,
          2.9501800091611616,
          2.9510004366229223,
          2.951242608414188,
          2.950757695585593,
          2.949381585533808,
          2.946940924876082,
          2.943262619485872,
          2.938186206764154,
          2.931577246725769,
          2.9233388648421186,
          2.9134185624998494,
          2.901808691444325,
          2.888541009099655,
          2.8736774093170867,
          2.8572994910282423,
          2.839499120301028,
          2.8203711415349004,
          2.800008479231345,
          2.7784993125960007,
          2.7559257929577754,
          2.7323637825051525,
          2.7078831980473694,
          2.6825486667282874,
          2.656420305777858,
          2.629554515651583,
          2.602004727590977,
          2.573822078846811,
          2.5450560076281112,
          2.5157547700613114,
          2.485965886424336,
          2.455736525858611,
          2.425113839028051,
          2.3941452476075327,
          2.3628786985146304,
          2.331362889704595,
          2.2996474732594425,
          2.267783240473785,
          2.2358222926867675,
          2.2038182007231253,
          2.1718261549658475,
          2.139903107262372,
          2.108107905035573,
          2.076501417100902,
          2.0451466497521493,
          2.0141088506440727,
          1.983455596847158,
          1.9532568621633437,
          1.923585057366094,
          1.8945150354765132,
          1.8661240525440967,
          1.8384916727344367,
          1.8116996049455694,
          1.785831456840402,
          1.7609723913131,
          1.7372086702813014,
          1.714627071644788,
          1.693314167636383,
          1.673355456962725,
          1.654834349366251,
          1.6378310096489612,
          1.6224210786376336,
          1.6086743005405493,
          1.5966530987338345,
          1.5864111539005514,
          1.5779920479996983,
          1.571428043045982,
          1.5667390636313276,
          1.5639319455769614,
          1.563,
          1.5639229233652818,
          1.566667061695784,
          1.5711860136356752,
          1.577421535316424,
          1.5853046924772025,
          1.59475719379227,
          1.6056928346087416,
          1.6180189820208013,
          1.6316380392900793,
          1.6464488384458524,
          1.6623479226881095,
          1.6792306933446584,
          1.6969924083216283,
          1.715529029389196,
          1.7347379238377716,
          1.7545184319499518,
          1.7747723155330852,
          1.795404104764604,
          1.8163213611943896,
          1.8374348742989055,
          1.8586588078218014,
          1.8799108105344993,
          1.9011121042109576,
          1.9221875596745979,
          1.943065769831062,
          1.9636791266965687,
          1.9839639075875324,
          2.0038603738547462,
          2.023312883818381,
          2.0422700198822965,
          2.06068472817831,
          2.0785144675256637,
          2.0957213630158416,
          2.1122723581917286,
          2.1281393586420636,
          2.143299358946592,
          2.1577345443585942,
          2.171432358468713,
          2.1843855284115716,
          2.196592039983412,
          2.208055056328794,
          2.2187827755813583,
          2.2287882249202045,
          2.2380889908055375,
          2.2467068875346885,
          2.254667568550028,
          2.2620000869770727,
          2.2687364135390693,
          2.2749109211844516,
          2.2805598464215024,
          2.2857207374734565,
          2.2904318989847283,
          2.294731842199029,
          2.2986587483911327,
          2.3022499519770023,
          2.3055414482625642,
          2.3085674293213345,
          2.3113598501006742,
          2.3139480256117833,
          2.3163582590061322,
          2.3186134995096004,
          2.3207330285901833,
          2.3227321723811674,
          2.3228766098087146,
          2.32330979769997,
          2.3240313628627716,
          2.325040683251909,
          2.3263368878876483,
          2.32791885675339,
          2.329785220683617,
          2.3319343612558776,
          2.3343644107025217,
          2.3370732518594743,
          2.340058518170223,
          2.3433175937635435,
          2.346847613623271,
          2.3506454638675893,
          2.35470778215403,
          2.35903095822457,
          2.363611134603082,
          2.3684442074548833,
          2.373525827615468,
          2.3788514017925735,
          2.3844160939428525,
          2.3902148268213765,
          2.396242283699337,
          2.402492910242429,
          2.408960916539733,
          2.415640279270339,
          2.422524743992654,
          2.4296078275391104,
          2.4368828204971074,
          2.4443427897551966,
          2.4519805810920143,
          2.4597888217840462,
          2.467759923207145,
          2.475886083405683,
          2.484159289602351,
          2.4925713206209776,
          2.501113749194153,
          2.5097779441272,
          2.5185550722899017,
          2.5274361004075523,
          2.5364117966234536,
          2.5454727318058015,
          2.5546092805733993,
          2.5638116220166305,
          2.5730697400930347,
          2.582373423680701,
          2.5917122662778866,
          2.6010756653440144,
          2.610452821285978,
          2.619832736104845,
          2.629204211732231,
          2.638555848103426,
          2.6478760410365387,
          2.657152980014436,
          2.6663746460000373,
          2.675528809456749,
          2.684603028795807,
          2.693584649532363,
          2.7024608045037635,
          2.7112184155880588,
          2.7198441974596683,
          2.728324664033312,
          2.7366461383773553,
          2.74479476702319,
          2.7527565397567675,
          2.760517316148352,
          2.76806286025133,
          2.7753788850714853,
          2.7824511085615025,
          2.7892653230139612,
          2.795807479786529,
          2.802063791266685,
          2.808020851836151,
          2.813665779289304,
          2.8189863776564383,
          2.823971321646229,
          2.828610361926862,
          2.8328945492043367,
          2.8368164735494763,
          2.8403705137282453,
          2.8435530895021417,
          2.8463629081300095,
          2.84880119480167,
          2.8508718956716708,
          2.8525818417403785,
          2.853940862215626,
          2.854961837277199,
          2.855660682353896,
          2.856056258988828,
          2.856170210880431,
          2.8560267274276385,
          2.855652240719718,
          2.8550750650515404,
          2.854324990436872,
          2.8534328430649776,
          2.8524300261513957,
          2.8513480542413534,
          2.850218092895302,
          2.8490705140370607,
          2.847934475309573,
          2.8468375297779183,
          2.8458052704206875,
          2.844861012184231,
          2.8440255130123373,
          2.843316734233084,
          2.8427496399758585,
          2.8423360348723126,
          2.842084439119352,
          2.8419999999999996
         ],
         "yaxis": "y"
        },
        {
         "legendgroup": "2",
         "marker": {
          "color": "#00CC96"
         },
         "name": "σ: -1/2",
         "showlegend": false,
         "type": "scatter",
         "xaxis": "x",
         "y": [
          3.298,
          3.2980404874696223,
          3.2981544399770706,
          3.2983318459709867,
          3.298564385914165,
          3.29884542636076,
          3.2991699787362148,
          3.2995346261450327,
          3.299937421013466,
          3.300377755903479,
          3.300856209464278,
          3.301374369258847,
          3.3019346331433654,
          3.3025399910042585,
          3.3031937889760465,
          3.3038994787648592,
          3.3046603553640392,
          3.3054792872293715,
          3.3063584438239997,
          3.307299026272192,
          3.308301007589122,
          3.3093628894863594,
          3.31048148299921,
          3.3116517200661026,
          3.312866502663434,
          3.314116595150375,
          3.3153905641402415,
          3.3166747685662776,
          3.3179534007669034,
          3.3192085775216245,
          3.320420478176261,
          3.3215675254476436,
          3.3226266033098515,
          3.3235733056145342,
          3.324382208820208,
          3.3250271623912493,
          3.3254815910313145,
          3.3257188038707115,
          3.325712306952516,
          3.3254361167816304,
          3.3248650742487666,
          3.3239751598726848,
          3.3227438129973557,
          3.3211502593403908,
          3.3191758531425655,
          3.3168044421636234,
          3.3140227659691064,
          3.310820900420685,
          3.3071927640692227,
          3.3031367052571694,
          3.298656192064411,
          3.293760630476059,
          3.2884663386408275,
          3.282797705514483,
          3.276788558174938,
          3.2704837496319303,
          3.263940951641078,
          3.2572325855405513,
          3.2504477365804165,
          3.243693762260028,
          3.237097120738031,
          3.2308027362459733,
          3.2249710619921688,
          3.219772045833573,
          3.2153756418345187,
          3.211939452624776,
          3.2095953559528843,
          3.2084379824595333,
          3.2085179287705947,
          3.209841309496121,
          3.2123752311967473,
          3.2160570937200257,
          3.220805056387863,
          3.226527513500734,
          3.2331304233941545,
          3.240522249594097,
          3.2486168318107764,
          3.2573347167960662,
          3.2666034705920493,
          3.276357388509213,
          3.2865368959725347,
          3.2970878282375415,
          3.30796069973428,
          3.3191100221357304,
          3.3304936980590534,
          3.342072498505341,
          3.353809621937991,
          3.365670327930637,
          3.3776216363822282,
          3.3896320830268496,
          3.4016715225367617,
          3.4137109714545515,
          3.4257224842325917,
          3.437679056669579,
          3.4495545519517776,
          3.46132364530779,
          3.472961783968663,
          3.484445159698505,
          3.495750691637553,
          3.5068560175934684,
          3.517739492240894,
          3.5283801909556534,
          3.5387579182286104,
          3.5488532197837,
          3.558647397672105,
          3.568122527735833,
          3.5772614789338144,
          3.5860479341060714,
          3.594466411819459,
          3.6025022889948044,
          3.610141824061687,
          3.617372180425593,
          3.624181450063867,
          3.630558677092929,
          3.6364938811705074,
          3.6419780806137605,
          3.6470033151277548,
          3.651562668049121,
          3.6556502880172506,
          3.659261409990221,
          3.6623923755249566,
          3.6650406522409598,
          3.6672048523842697,
          3.6688847504031044,
          3.670081299438727,
          3.670796646624284,
          3.6710341470704817,
          3.6707983763996603,
          3.6700951416688103,
          3.66893149049692,
          3.667315718182336,
          3.665257372561174,
          3.6627672563177045,
          3.659857426411639,
          3.6565411902349725,
          3.6528330980521693,
          3.64874893121178,
          3.64430568554515,
          3.6395215492889195,
          3.6344158747833646,
          3.6290091431094647,
          3.6233229207357622,
          3.617379807154693,
          3.6112033724006736,
          3.604818083264247,
          3.5982492169545828,
          3.591522760924949,
          3.584665297572484,
          3.577703872566585,
          3.5706658456629867,
          3.5635787230376628,
          3.5564699704414062,
          3.549366806846726,
          3.542295978746134,
          3.5352835158734575,
          3.5283544698596394,
          3.521532638194837,
          3.514840276831298,
          3.508297805794528,
          3.501923513226795,
          3.495733264304997,
          3.4897402223793246,
          3.48395459038593,
          3.478383381009938,
          3.4730302241348294,
          3.4678952197479727,
          3.4629748436439765,
          3.4582619119780174,
          3.453745609011779,
          3.449411580349074,
          3.445242091697379,
          3.441216250863549,
          3.4373102884568016,
          3.4334978907849125,
          3.429750576823783,
          3.4260381100139212,
          3.4223289350429487,
          3.4185906297165474,
          3.414790362462436,
          3.410895346877843,
          3.40687328592092,
          3.402692799748512,
          3.3983238327047314,
          3.3937380364643555,
          3.3889091277457872,
          3.383813220263349,
          3.3784291316410453,
          3.372738666830524,
          3.3667268801496797,
          3.3603823183799113,
          3.360523659046913,
          3.3609470473503453,
          3.3616505856398957,
          3.3626311226044194,
          3.3638842703076364,
          3.3654044277942208,
          3.367184811028218,
          3.36921748886626,
          3.3714934247142327,
          3.374002523469194,
          3.37673368330882,
          3.3796748518593267,
          3.3828130862495716,
          3.3861346165441106,
          3.3896249120412305,
          3.393268749922811,
          3.3970502857510088,
          3.4009531253214638,
          3.4049603974030376,
          3.409054826919566,
          3.4132188081584776,
          3.4174344776237433,
          3.4216837861855876,
          3.425948570215764,
          3.430210621434415,
          3.4344517552316063,
          3.4386538772633304,
          3.442799048157129,
          3.446869546196499,
          3.4508479278851265,
          3.4547170863219017,
          3.45846030734503,
          3.4620613234285096,
          3.4655043653365523,
          3.468774211561337,
          3.471856235586588,
          3.474736451034242,
          3.47740155476359,
          3.4798389680022623,
          3.482036875595945,
          3.4839842634692073,
          3.485670954393054,
          3.487087642156114,
          3.4882259242353806,
          3.4890783330596156,
          3.489638365953189,
          3.489900513840748,
          3.48986028878298,
          3.489514250400861,
          3.488860031229666,
          3.4878963610242026,
          3.4866230900125506,
          3.48504121106651,
          3.483152880721857,
          3.480961438939621,
          3.4784714274495796,
          3.475688606458011,
          3.4726199694316673,
          3.4692737555879436,
          3.4656594596254755,
          3.4617878381187888,
          3.4576709118741302,
          3.4533219634004606,
          3.448755528490498,
          3.443987380732853,
          3.4390345075914257,
          3.4339150764978545,
          3.428648389216334,
          3.423254822570228,
          3.4177557534847613,
          3.4121734662228778,
          3.4065310397011173,
          3.400852212903364,
          3.3951612267009814,
          3.389482640877079,
          3.383841125876957,
          3.3782612297916375,
          3.3727671223354516,
          3.367382319082393,
          3.3621293909242604,
          3.357029665508429,
          3.3521029291616675,
          3.3473671393281252,
          3.342838158640685,
          3.3385295222042872,
          3.3344522493321316,
          3.330614709745932,
          3.3270225521341596,
          3.323678700078572,
          3.320583416940545,
          3.317734437662125,
          3.315127161938563,
          3.312754900201098,
          3.310609161585237,
          3.3086799717188877,
          3.306956207790896,
          3.3054259388809455,
          3.3040767607808177,
          3.30289611629324,
          3.3018715940199628,
          3.300991200723862,
          3.300243604289771,
          3.299618345986304,
          3.299106022070711,
          3.298698435752044,
          3.298388721143185,
          3.2981714411227685,
          3.2980426610417184,
          3.298
         ],
         "yaxis": "y"
        }
       ],
       "layout": {
        "autosize": true,
        "template": {
         "data": {
          "bar": [
           {
            "error_x": {
             "color": "#2a3f5f"
            },
            "error_y": {
             "color": "#2a3f5f"
            },
            "marker": {
             "line": {
              "color": "#E5ECF6",
              "width": 0.5
             }
            },
            "type": "bar"
           }
          ],
          "barpolar": [
           {
            "marker": {
             "line": {
              "color": "#E5ECF6",
              "width": 0.5
             }
            },
            "type": "barpolar"
           }
          ],
          "carpet": [
           {
            "aaxis": {
             "endlinecolor": "#2a3f5f",
             "gridcolor": "white",
             "linecolor": "white",
             "minorgridcolor": "white",
             "startlinecolor": "#2a3f5f"
            },
            "baxis": {
             "endlinecolor": "#2a3f5f",
             "gridcolor": "white",
             "linecolor": "white",
             "minorgridcolor": "white",
             "startlinecolor": "#2a3f5f"
            },
            "type": "carpet"
           }
          ],
          "choropleth": [
           {
            "colorbar": {
             "outlinewidth": 0,
             "ticks": ""
            },
            "type": "choropleth"
           }
          ],
          "contour": [
           {
            "colorbar": {
             "outlinewidth": 0,
             "ticks": ""
            },
            "colorscale": [
             [
              0,
              "#0d0887"
             ],
             [
              0.1111111111111111,
              "#46039f"
             ],
             [
              0.2222222222222222,
              "#7201a8"
             ],
             [
              0.3333333333333333,
              "#9c179e"
             ],
             [
              0.4444444444444444,
              "#bd3786"
             ],
             [
              0.5555555555555556,
              "#d8576b"
             ],
             [
              0.6666666666666666,
              "#ed7953"
             ],
             [
              0.7777777777777778,
              "#fb9f3a"
             ],
             [
              0.8888888888888888,
              "#fdca26"
             ],
             [
              1,
              "#f0f921"
             ]
            ],
            "type": "contour"
           }
          ],
          "contourcarpet": [
           {
            "colorbar": {
             "outlinewidth": 0,
             "ticks": ""
            },
            "type": "contourcarpet"
           }
          ],
          "heatmap": [
           {
            "colorbar": {
             "outlinewidth": 0,
             "ticks": ""
            },
            "colorscale": [
             [
              0,
              "#0d0887"
             ],
             [
              0.1111111111111111,
              "#46039f"
             ],
             [
              0.2222222222222222,
              "#7201a8"
             ],
             [
              0.3333333333333333,
              "#9c179e"
             ],
             [
              0.4444444444444444,
              "#bd3786"
             ],
             [
              0.5555555555555556,
              "#d8576b"
             ],
             [
              0.6666666666666666,
              "#ed7953"
             ],
             [
              0.7777777777777778,
              "#fb9f3a"
             ],
             [
              0.8888888888888888,
              "#fdca26"
             ],
             [
              1,
              "#f0f921"
             ]
            ],
            "type": "heatmap"
           }
          ],
          "heatmapgl": [
           {
            "colorbar": {
             "outlinewidth": 0,
             "ticks": ""
            },
            "colorscale": [
             [
              0,
              "#0d0887"
             ],
             [
              0.1111111111111111,
              "#46039f"
             ],
             [
              0.2222222222222222,
              "#7201a8"
             ],
             [
              0.3333333333333333,
              "#9c179e"
             ],
             [
              0.4444444444444444,
              "#bd3786"
             ],
             [
              0.5555555555555556,
              "#d8576b"
             ],
             [
              0.6666666666666666,
              "#ed7953"
             ],
             [
              0.7777777777777778,
              "#fb9f3a"
             ],
             [
              0.8888888888888888,
              "#fdca26"
             ],
             [
              1,
              "#f0f921"
             ]
            ],
            "type": "heatmapgl"
           }
          ],
          "histogram": [
           {
            "marker": {
             "colorbar": {
              "outlinewidth": 0,
              "ticks": ""
             }
            },
            "type": "histogram"
           }
          ],
          "histogram2d": [
           {
            "colorbar": {
             "outlinewidth": 0,
             "ticks": ""
            },
            "colorscale": [
             [
              0,
              "#0d0887"
             ],
             [
              0.1111111111111111,
              "#46039f"
             ],
             [
              0.2222222222222222,
              "#7201a8"
             ],
             [
              0.3333333333333333,
              "#9c179e"
             ],
             [
              0.4444444444444444,
              "#bd3786"
             ],
             [
              0.5555555555555556,
              "#d8576b"
             ],
             [
              0.6666666666666666,
              "#ed7953"
             ],
             [
              0.7777777777777778,
              "#fb9f3a"
             ],
             [
              0.8888888888888888,
              "#fdca26"
             ],
             [
              1,
              "#f0f921"
             ]
            ],
            "type": "histogram2d"
           }
          ],
          "histogram2dcontour": [
           {
            "colorbar": {
             "outlinewidth": 0,
             "ticks": ""
            },
            "colorscale": [
             [
              0,
              "#0d0887"
             ],
             [
              0.1111111111111111,
              "#46039f"
             ],
             [
              0.2222222222222222,
              "#7201a8"
             ],
             [
              0.3333333333333333,
              "#9c179e"
             ],
             [
              0.4444444444444444,
              "#bd3786"
             ],
             [
              0.5555555555555556,
              "#d8576b"
             ],
             [
              0.6666666666666666,
              "#ed7953"
             ],
             [
              0.7777777777777778,
              "#fb9f3a"
             ],
             [
              0.8888888888888888,
              "#fdca26"
             ],
             [
              1,
              "#f0f921"
             ]
            ],
            "type": "histogram2dcontour"
           }
          ],
          "mesh3d": [
           {
            "colorbar": {
             "outlinewidth": 0,
             "ticks": ""
            },
            "type": "mesh3d"
           }
          ],
          "parcoords": [
           {
            "line": {
             "colorbar": {
              "outlinewidth": 0,
              "ticks": ""
             }
            },
            "type": "parcoords"
           }
          ],
          "pie": [
           {
            "automargin": true,
            "type": "pie"
           }
          ],
          "scatter": [
           {
            "marker": {
             "colorbar": {
              "outlinewidth": 0,
              "ticks": ""
             }
            },
            "type": "scatter"
           }
          ],
          "scatter3d": [
           {
            "line": {
             "colorbar": {
              "outlinewidth": 0,
              "ticks": ""
             }
            },
            "marker": {
             "colorbar": {
              "outlinewidth": 0,
              "ticks": ""
             }
            },
            "type": "scatter3d"
           }
          ],
          "scattercarpet": [
           {
            "marker": {
             "colorbar": {
              "outlinewidth": 0,
              "ticks": ""
             }
            },
            "type": "scattercarpet"
           }
          ],
          "scattergeo": [
           {
            "marker": {
             "colorbar": {
              "outlinewidth": 0,
              "ticks": ""
             }
            },
            "type": "scattergeo"
           }
          ],
          "scattergl": [
           {
            "marker": {
             "colorbar": {
              "outlinewidth": 0,
              "ticks": ""
             }
            },
            "type": "scattergl"
           }
          ],
          "scattermapbox": [
           {
            "marker": {
             "colorbar": {
              "outlinewidth": 0,
              "ticks": ""
             }
            },
            "type": "scattermapbox"
           }
          ],
          "scatterpolar": [
           {
            "marker": {
             "colorbar": {
              "outlinewidth": 0,
              "ticks": ""
             }
            },
            "type": "scatterpolar"
           }
          ],
          "scatterpolargl": [
           {
            "marker": {
             "colorbar": {
              "outlinewidth": 0,
              "ticks": ""
             }
            },
            "type": "scatterpolargl"
           }
          ],
          "scatterternary": [
           {
            "marker": {
             "colorbar": {
              "outlinewidth": 0,
              "ticks": ""
             }
            },
            "type": "scatterternary"
           }
          ],
          "surface": [
           {
            "colorbar": {
             "outlinewidth": 0,
             "ticks": ""
            },
            "colorscale": [
             [
              0,
              "#0d0887"
             ],
             [
              0.1111111111111111,
              "#46039f"
             ],
             [
              0.2222222222222222,
              "#7201a8"
             ],
             [
              0.3333333333333333,
              "#9c179e"
             ],
             [
              0.4444444444444444,
              "#bd3786"
             ],
             [
              0.5555555555555556,
              "#d8576b"
             ],
             [
              0.6666666666666666,
              "#ed7953"
             ],
             [
              0.7777777777777778,
              "#fb9f3a"
             ],
             [
              0.8888888888888888,
              "#fdca26"
             ],
             [
              1,
              "#f0f921"
             ]
            ],
            "type": "surface"
           }
          ],
          "table": [
           {
            "cells": {
             "fill": {
              "color": "#EBF0F8"
             },
             "line": {
              "color": "white"
             }
            },
            "header": {
             "fill": {
              "color": "#C8D4E3"
             },
             "line": {
              "color": "white"
             }
            },
            "type": "table"
           }
          ]
         },
         "layout": {
          "annotationdefaults": {
           "arrowcolor": "#2a3f5f",
           "arrowhead": 0,
           "arrowwidth": 1
          },
          "coloraxis": {
           "colorbar": {
            "outlinewidth": 0,
            "ticks": ""
           }
          },
          "colorscale": {
           "diverging": [
            [
             0,
             "#8e0152"
            ],
            [
             0.1,
             "#c51b7d"
            ],
            [
             0.2,
             "#de77ae"
            ],
            [
             0.3,
             "#f1b6da"
            ],
            [
             0.4,
             "#fde0ef"
            ],
            [
             0.5,
             "#f7f7f7"
            ],
            [
             0.6,
             "#e6f5d0"
            ],
            [
             0.7,
             "#b8e186"
            ],
            [
             0.8,
             "#7fbc41"
            ],
            [
             0.9,
             "#4d9221"
            ],
            [
             1,
             "#276419"
            ]
           ],
           "sequential": [
            [
             0,
             "#0d0887"
            ],
            [
             0.1111111111111111,
             "#46039f"
            ],
            [
             0.2222222222222222,
             "#7201a8"
            ],
            [
             0.3333333333333333,
             "#9c179e"
            ],
            [
             0.4444444444444444,
             "#bd3786"
            ],
            [
             0.5555555555555556,
             "#d8576b"
            ],
            [
             0.6666666666666666,
             "#ed7953"
            ],
            [
             0.7777777777777778,
             "#fb9f3a"
            ],
            [
             0.8888888888888888,
             "#fdca26"
            ],
            [
             1,
             "#f0f921"
            ]
           ],
           "sequentialminus": [
            [
             0,
             "#0d0887"
            ],
            [
             0.1111111111111111,
             "#46039f"
            ],
            [
             0.2222222222222222,
             "#7201a8"
            ],
            [
             0.3333333333333333,
             "#9c179e"
            ],
            [
             0.4444444444444444,
             "#bd3786"
            ],
            [
             0.5555555555555556,
             "#d8576b"
            ],
            [
             0.6666666666666666,
             "#ed7953"
            ],
            [
             0.7777777777777778,
             "#fb9f3a"
            ],
            [
             0.8888888888888888,
             "#fdca26"
            ],
            [
             1,
             "#f0f921"
            ]
           ]
          },
          "colorway": [
           "#636efa",
           "#EF553B",
           "#00cc96",
           "#ab63fa",
           "#FFA15A",
           "#19d3f3",
           "#FF6692",
           "#B6E880",
           "#FF97FF",
           "#FECB52"
          ],
          "font": {
           "color": "#2a3f5f"
          },
          "geo": {
           "bgcolor": "white",
           "lakecolor": "white",
           "landcolor": "#E5ECF6",
           "showlakes": true,
           "showland": true,
           "subunitcolor": "white"
          },
          "hoverlabel": {
           "align": "left"
          },
          "hovermode": "closest",
          "mapbox": {
           "style": "light"
          },
          "paper_bgcolor": "white",
          "plot_bgcolor": "#E5ECF6",
          "polar": {
           "angularaxis": {
            "gridcolor": "white",
            "linecolor": "white",
            "ticks": ""
           },
           "bgcolor": "#E5ECF6",
           "radialaxis": {
            "gridcolor": "white",
            "linecolor": "white",
            "ticks": ""
           }
          },
          "scene": {
           "xaxis": {
            "backgroundcolor": "#E5ECF6",
            "gridcolor": "white",
            "gridwidth": 2,
            "linecolor": "white",
            "showbackground": true,
            "ticks": "",
            "zerolinecolor": "white"
           },
           "yaxis": {
            "backgroundcolor": "#E5ECF6",
            "gridcolor": "white",
            "gridwidth": 2,
            "linecolor": "white",
            "showbackground": true,
            "ticks": "",
            "zerolinecolor": "white"
           },
           "zaxis": {
            "backgroundcolor": "#E5ECF6",
            "gridcolor": "white",
            "gridwidth": 2,
            "linecolor": "white",
            "showbackground": true,
            "ticks": "",
            "zerolinecolor": "white"
           }
          },
          "shapedefaults": {
           "line": {
            "color": "#2a3f5f"
           }
          },
          "ternary": {
           "aaxis": {
            "gridcolor": "white",
            "linecolor": "white",
            "ticks": ""
           },
           "baxis": {
            "gridcolor": "white",
            "linecolor": "white",
            "ticks": ""
           },
           "bgcolor": "#E5ECF6",
           "caxis": {
            "gridcolor": "white",
            "linecolor": "white",
            "ticks": ""
           }
          },
          "title": {
           "x": 0.05
          },
          "xaxis": {
           "automargin": true,
           "gridcolor": "white",
           "linecolor": "white",
           "ticks": "",
           "title": {
            "standoff": 15
           },
           "zerolinecolor": "white",
           "zerolinewidth": 2
          },
          "yaxis": {
           "automargin": true,
           "gridcolor": "white",
           "linecolor": "white",
           "ticks": "",
           "title": {
            "standoff": 15
           },
           "zerolinecolor": "white",
           "zerolinewidth": 2
          }
         }
        },
        "xaxis": {
         "anchor": "y",
         "autorange": true,
         "domain": [
          0,
          1
         ],
         "range": [
          0,
          298
         ],
         "ticktext": [
          "Γ",
          "K",
          "M",
          "Γ"
         ],
         "tickvals": [
          0,
          126,
          189,
          298
         ],
         "title": {
          "text": "Momentum"
         }
        },
        "yaxis": {
         "anchor": "x",
         "autorange": true,
         "domain": [
          0,
          1
         ],
         "range": [
          -1.030437040426927,
          3.9184799990440293
         ],
         "title": {
          "text": "Energy (eV)"
         },
         "type": "linear"
        }
       }
      },
      "image/png": "[encoded data removed]",
      "text/html": [
       "<div>                            <div id=\"6bc238bc-6f52-46de-a163-780a511bd26a\" class=\"plotly-graph-div\" style=\"height:525px; width:100%;\"></div>            <script type=\"text/javascript\">                require([\"plotly\"], function(Plotly) {                    window.PLOTLYENV=window.PLOTLYENV || {};                                    if (document.getElementById(\"6bc238bc-6f52-46de-a163-780a511bd26a\")) {                    Plotly.newPlot(                        \"6bc238bc-6f52-46de-a163-780a511bd26a\",                        [{\"legendgroup\": \"0\", \"marker\": {\"color\": \"#636EFA\"}, \"name\": \"spinless\", \"showlegend\": true, \"type\": \"scatter\", \"xaxis\": \"x\", \"y\": [-0.30000000000000004, -0.3002731793907589, -0.3010916863684409, -0.30245243594427806, -0.3043503149627627, -0.3067782242937553, -0.30972713682633446, -0.3131861702304227, -0.3171426732131735, -0.3215823237964806, -0.32648923798431273, -0.3318460870764044, -0.33763422181900976, -0.34383380156256405, -0.35042392661765315, -0.3573827720603979, -0.36468772133118565, -0.3723154980908489, -0.380242294939792, -0.3884438977620905, -0.39689580462243923, -0.4055733383135639, -0.41445175182065075, -0.4235063261334334, -0.43271245999263463, -0.44204575130287105, -0.4514820700773822, -0.46099762289975105, -0.47056900899379955, -0.48017326808503763, -0.48978792031580975, -0.49939099854231156, -0.5089610733958808, -0.5184772715343869, -0.5279192875433029, -0.5372673899712035, -0.5465024220021198, -0.5556057972783243, -0.5645594913927378, -0.5733460295709537, -0.5819484710596805, -0.5903503907317117, -0.598535858407941, -0.6064894163847877, -0.6141960556410677, -0.6216411911820542, -0.6288106369604997, -0.6356905807947846, -0.6422675596834079, -0.6485284358927286, -0.6544603741714174, -0.6600508204205059, -0.6652874821225114, -0.6701583108068121, -0.6746514868015858, -0.678755406495361, -0.6824586723036107, -0.6857500855084259, -0.6886186421119397, -0.6910535318175534, -0.6930441402270313, -0.6945800543167842, -0.6956510712332019, -0.6962472104251399, -0.6963587291118618, -0.695976141067097, -0.695090238684729, -0.6936921182790907, -0.6917732085632172, -0.6893253022418044, -0.6863405906522076, -0.6828117013867179, -0.6787317388327085, -0.6740943275740696, -0.6688936586077702, -0.6631245383434518, -0.6567824403716361, -0.6498635600075723, -0.6423648716428432, -0.6342841889656762, -0.6256202281434923, -0.616372674097425, -0.6065422500384404, -0.596130790478088, -0.5851413179737104, -0.573578123917789, -0.5614468537336755, -0.548754596894561, -0.5355099822382429, -0.5217232791057697, -0.5074065048854602, -0.4925735395924765, -0.4772402481544739, -0.46142461110095645, -0.4451468643611988, -0.42842964885411894, -0.4112981704918642, -0.393780371101825, -0.3759071105799807, -0.35771236029720144, -0.3392334073582388, -0.320511068722485, -0.3015899133898634, -0.28251848978019134, -0.26334955402832283, -0.24414029311407098, -0.22495253447936564, -0.2058529309993063, -0.186913106837131, -0.1682097458408211, -0.14982459982412566, -0.13184438952786914, -0.11436056665487104, -0.09746890170414668, -0.08126886024051305, -0.0658627308262788, -0.05135447241992308, -0.03784825897650834, -0.025446715414910726, -0.014248862580341637, -0.004347818756651578, 0.004171660461243509, 0.011235687479181133, 0.016783647266702895, 0.02077033730793232, 0.023167678505929934, 0.023965852929517584, 0.02317376528496451, 0.02081878203304266, 0.016945766759953407, 0.011615492441716335, 0.004902560919863519, -0.003107009532566596, -0.012318358722743061, -0.022630362151986883, -0.03393807845263952, -0.04613496746060519, -0.05911481595310719, -0.07277334147897585, -0.08700947217957189, -0.10172632072320009, -0.11683188353322127, -0.1322395033453512, -0.14786813515947922, -0.1636424542911109, -0.1794928417533171, -0.1953552776288742, -0.211171168163165, -0.2268871275110863, -0.24245473069486972, -0.25783025051675657, -0.2729743879626348, -0.2878520030098341, -0.30243185065914463, -0.3166863253773651, -0.33059121588818946, -0.3441254713162278, -0.3572709790085828, -0.37001235387721654, -0.3823367387786821, -0.3942336152394562, -0.40569462371610127, -0.41671339252723694, -0.42728537459103166, -0.43740769113432953, -0.4470789815971377, -0.4562992590315028, -0.46506977038076797, -0.4733928611196146, -0.48127184383386573, -0.488710870418988, -0.4957148076759618, -0.5022891161807416, -0.5084397323976281, -0.5141729540963668, -0.5194953292163118, -0.5244135483977143, -0.5289343414688163, -0.5330643782371571, -0.5368101739832589, -0.5401780000939073, -0.5431738002998565, -0.5458031129983829, -0.5480710001444766, -0.5499819831853454, -0.5515399864917071, -0.5527482887062806, -0.5536094823860463, -0.554125442260905, -0.5542973023691625, -0.5544360091331265, -0.5548514877208542, -0.5555418164156208, -0.5565038036405594, -0.5577330047635614, -0.5592237453834916, -0.5609691508628617, -0.5629611818131269, -0.5651906751854703, -0.5676473905732817, -0.570320061293107, -0.5731964497792731, -0.576263406803772, -0.5795069340174878, -0.5829122493012517, -0.5864638544152013, -0.5901456044419586, -0.5939407785326641, -0.5978321514840927, -0.6018020656991949, -0.6058325031115744, -0.6099051566857415, -0.6140015011387141, -0.6181028625637403, -0.6221904866729484, -0.6262456054117828, -0.6302495017336792, -0.6341835723578997, -0.6380293883664471, -0.6417687535271037, -0.6453837602586134, -0.6488568431807072, -0.6521708302158145, -0.6553089912309897, -0.6582550842277034, -0.6609933991037578, -0.6635087990257835, -0.6657867594626563, -0.6678134049398525, -0.6695755435823767, -0.6710606995196279, -0.6722571432295523, -0.6731539199017778, -0.6737408759003966, -0.6740086834066472, -0.6739488633202289, -0.6735538064953486, -0.6728167933840646, -0.6717320121550776, -0.6702945753509333, -0.6685005351407197, -0.666346897218802, -0.6638316333929652, -0.6609536928976195, -0.6577130124594102, -0.654110525133683, -0.6501481679209039, -0.6458288881620684, -0.6411566487016567, -0.636136431795494, -0.6307742417291728, -0.6250771061003157, -0.6190530757050121, -0.6127112229551437, -0.6060616387391615, -0.5991154276240876, -0.5918847012812586, -0.5843825700025895, -0.5766231321581007, -0.568621461429177, -0.560393591635821, -0.5519564989601523, -0.5433280813529308, -0.5345271348953461, -0.525573326875054, -0.5164871653240549, -0.5072899647569991, -0.49800380784253334, -0.4886515027381791, -0.4792565358216222, -0.46984301955915136, -0.4604356352661947, -0.45105957053632023, -0.4417404511446791, -0.43250426727047503, -0.4233772939314637, -0.4143860055822664, -0.4055569848979509, -0.3969168258449032, -0.38849203123246195, -0.38030890504035947, -0.3723934399278027, -0.36477120044838984, -0.3574672026189085, -0.35050579061675, -0.34391051150699387, -0.3377039890223912, -0.3319077975335783, -0.3265423374482546, -0.32162671336247506, -0.3171786163501298, -0.31321421181396025, -0.3097480343296379, -0.30679289089062456, -0.3043597739040318, -0.30245778519582656, -0.3010940721583193, -0.3002737770159025, -0.30000000000000004], \"yaxis\": \"y\"}, {\"legendgroup\": \"0\", \"marker\": {\"color\": \"#636EFA\"}, \"name\": \"spinless\", \"showlegend\": false, \"type\": \"scatter\", \"xaxis\": \"x\", \"y\": [3.07, 3.0698487678345616, 3.0693955563668567, 3.068641819626793, 3.067589977477651, 3.0662434103355642, 3.0646064517755818, 3.0626843790232323, 3.06048340133051, 3.058010646235299, 3.055274143703662, 3.05228280815504, 3.049046418371393, 3.045575595292619, 3.0418817777023466, 3.0379771958103508, 3.033874842740511, 3.0295884439364387, 3.0251324245006384, 3.020521874487423, 3.0157725121748116, 3.01090064534623, 3.005923130619189, 3.00085733086507, 2.995721070771854, 2.9905325906099796, 2.9853104982705427, 2.980073719654707, 2.9748414475034575, 2.9696330887676012, 2.9644682106291795, 2.959366485297067, 2.9543476337114254, 2.9494313683037143, 2.944637334971015, 2.9399850544353043, 2.9354938631699175, 2.9311828540865332, 2.9270708171864213, 2.9231761803892136, 2.919516950760911, 2.916110656369946, 2.9129742890057457, 2.9101242479981293, 2.907576285377803, 2.9053454526180054, 2.903446049194761, 2.901891573197995, 2.9006946742176725, 2.8998671087178067, 2.8994196980962106, 2.8993622896085482, 2.8997037203105864, 2.9004517841409254, 2.9016132022252408, 2.903193596427692, 2.905197466097893, 2.9076281678489946, 2.9104878980291082, 2.9137776772677437, 2.9174973360002316, 2.9216454990113596, 2.926219565399617, 2.9312156770499205, 2.936628661539074, 2.9424519186308884, 2.94867717628271, 2.9552939160421112, 2.9622878351683637, 2.969635841732861, 2.977283392372349, 2.984936371783851, 2.9825619270754684, 2.9606356057663916, 2.9370337960635418, 2.91257854917043, 2.8873619035991522, 2.8614215864288655, 2.834784699366808, 2.8074758281613175, 2.779519335090704, 2.7509401881905493, 2.7217643187813843, 2.6920188003736287, 2.6617319524355123, 2.63093341076586, 2.599654183231573, 2.567926700154395, 2.535784864400319, 2.503264104213197, 2.470401430830185, 2.4372355023956738, 2.403806695409118, 2.370157184779873, 2.3363310334528364, 2.3023742924730026, 2.2683351122456257, 2.23426386559749, 2.2002132830282513, 2.166238600231053, 2.1323977175254734, 2.0987513702438, 2.0653633082965666, 2.032300482060382, 1.9996332303182927, 1.967435464173688, 1.935784838587047, 1.9047629003943263, 1.8744551983249083, 1.84495133666099, 1.8163449498618078, 1.7887335709260235, 1.762218361860288, 1.7369036709516947, 1.712896379450148, 1.6903050008553575, 1.669238500579958, 1.6498048136891899, 1.6321090548475456, 1.6162514380666613, 1.6023249537760111, 1.5904128849963524, 1.5805862790450305, 1.5729015206853583, 1.5673981705702233, 1.5640972334118648, 1.563, 1.5640875662150824, 1.5673210751680342, 1.5726426639385889, 1.5799770343893391, 1.5892335178990342, 1.6003084733526218, 1.6130878488400582, 1.627449748454426, 1.6432668713750829, 1.6604087246322752, 1.6787435473074606, 1.6981399174875165, 1.7184680409556046, 1.7396007410497678, 1.7614141824320102, 1.7837883686504443, 1.806607455719256, 1.8297599229146992, 1.853138638855835, 1.876640856706812, 1.9001681677182076, 1.9236264377750878, 1.9469257473851669, 1.969980351709718, 1.9927086737901685, 2.0150333409614674, 2.0368812714381734, 2.0581838150689045, 2.0788769491504286, 2.098901526880819, 2.1182035724756885, 2.1367346132124556, 2.154452034836673, 2.171319443089782, 2.1873070109154447, 2.2023917885495514, 2.2165579525884045, 2.2297969706026253, 2.2421076601420564, 2.253496125094369, 2.263975558123791, 2.2735659049003236, 2.282293393415478, 2.290189939139526, 2.297292443377947, 2.3036420073124413, 2.309283087448408, 2.314262619372602, 2.3186291359437203, 2.322431903599842, 2.325720096816819, 2.3285420263960566, 2.330944432686405, 2.332971850465996, 2.334666048331454, 2.3360655422534022, 2.337205180541438, 2.338115795816123, 2.33882391864732, 2.3393515471899127, 2.339715967317387, 2.3399296183103537, 2.3399999999999994, 2.340151593141794, 2.3406062466467357, 2.341363582858093, 2.342422972696548, 2.343783536182739, 2.3454441431682036, 2.3474034142741504, 2.349659722037219, 2.3522111922613433, 2.3550557055745363, 2.358190899189345, 2.3616141688654952, 2.3653226710730935, 2.3693133253546, 2.373582816883603, 2.378127599218267, 2.382943897247181, 2.3880277103251366, 2.3933748155962626, 2.3989807715017233, 2.4048409214690882, 2.4109503977803026, 2.417304125615045, 2.423896827266112, 2.4307230265233333, 2.4377770532223684, 2.445053047954619, 2.452544966934322, 2.460246587018817, 2.46815151087777, 2.476253172307108, 2.484544841683215, 2.4930196315528796, 2.501670502354333, 2.5104902682646495, 2.5194716031686295, 2.528607046744212, 2.5378890106593808, 2.5473097848753854, 2.556861544051066, 2.5665363540429547, 2.5763261784957474, 2.586222885517681, 2.5962182544352745, 2.6063039826217995, 2.616471692393842, 2.6267129379702006, 2.637019212487353, 2.647381955065661, 2.6577925579204376, 2.668242373511986, 2.6787227217286538, 2.6892248970969437, 2.699740176012692, 2.710259823987309, 2.720775102903057, 2.7312772782713455, 2.7417576264880137, 2.752207442079562, 2.7626180449343383, 2.7729807875126466, 2.7832870620297996, 2.7935283076061577, 2.803696017378201, 2.813781745564725, 2.823777114482318, 2.8336738215042527, 2.8434636459570455, 2.8531384559489337, 2.8626902151246147, 2.8721109893406185, 2.881392953255788, 2.890528396831371, 2.8995097317353498, 2.908329497645667, 2.91698036844712, 2.925455158316784, 2.9337468276928913, 2.94184848912223, 2.9497534129811824, 2.9574550330656773, 2.9649469520453806, 2.972222946777631, 2.9792769734766664, 2.9861031727338876, 2.9926958743849545, 2.9990496022196975, 3.005159078530912, 3.011019228498277, 3.016625184403737, 3.0219722896748626, 3.0270561027528187, 3.0318724007817317, 3.0364171831163964, 3.0406866746453987, 3.0446773289269062, 3.048385831134505, 3.0518091008106545, 3.054944294425463, 3.0577888077386564, 3.0603402779627804, 3.06259658572585, 3.064555856831796, 3.0662164638172613, 3.0675770273034515, 3.068636417141907, 3.0693937533532645, 3.0698484068582053, 3.07], \"yaxis\": \"y\"}, {\"legendgroup\": \"0\", \"marker\": {\"color\": \"#636EFA\"}, \"name\": \"spinless\", \"showlegend\": false, \"type\": \"scatter\", \"xaxis\": \"x\", \"y\": [3.07, 3.070275221492876, 3.0710994933982554, 3.0724686475220686, 3.074375768469153, 3.0768112404902777, 3.0797628119950358, 3.083215676698659, 3.087152570132031, 3.091553880043733, 3.096397769065139, 3.1016603078970357, 3.107315617209766, 3.113336016426852, 3.119692177582257, 3.1263532824991573, 3.133287181628488, 3.1404605530028404, 3.1478390598990456, 3.1553875059552947, 3.1630699866497327, 3.170850036211676, 3.178690769199671, 3.1865550161376994, 3.1944054527496215, 3.2022047224690207, 3.2099155520262266, 3.2175008600244874, 3.22492385851327, 3.2321481476483385, 3.2391378035957477, 3.2458574598917496, 3.252272382512821, 3.258348538941818, 3.264052661537924, 3.2693523055316054, 3.2742159019719135, 3.2786128059537205, 3.282513340447765, 3.285888836047732, 3.288711666937181, 3.29095528336525, 3.2925942409050757, 3.293604226752834, 3.2939620833091157, 3.293645829268341, 3.2926346784265927, 3.2909090564038563, 3.2884506154638684, 3.28524224760378, 3.2812680960773637, 3.27651356551028, 3.270965330765134, 3.2646113447193628, 3.2574408451333516, 3.2494443608142727, 3.2406137173307235, 3.2309420426186515, 3.2204237729649554, 3.2090546601089986, 3.1968317806549646, 3.183753549824795, 3.16981974319789, 3.1550315333752184, 3.139391555649402, 3.122904033511692, 3.1055750380468954, 3.0874130812973863, 3.068430676211918, 3.0486493668685286, 3.028122419237583, 3.007142973335786, 2.9957432435997733, 3.003447418635506, 3.0123792616757203, 3.021717331963502, 3.0313707070821625, 3.04130333130037, 3.0514903821137267, 3.0619102164991667, 3.072542137256493, 3.0833656259087125, 3.0943600507730142, 3.1055045573425413, 3.1167780377568297, 3.1281591379321765, 3.139626283957661, 3.1511577188920277, 3.1627315453834903, 3.1743257716013926, 3.1859183590258646, 3.1974872712110254, 3.2090105229585117, 3.2204662295273847, 3.23183265562256, 3.2430882639781213, 3.254211763401127, 3.2651821561755403, 3.2759787847504103, 3.2865813776545125, 3.296970094593758, 3.307125570698746, 3.3170289598989684, 3.3266619774077553, 3.3360069413085616, 3.3450468132388256, 3.353765238172582, 3.3621465833074504, 3.3701759760655152, 3.3778393412212764, 3.3851234371729757, 3.392015891376575, 3.3985052349642615, 3.404580936571616, 3.4102334353996318, 3.4154541735393185, 3.4202356275878634, 3.424571339586048, 3.428455947306677, 3.43188521392321, 3.4348560570861855, 3.4373665774324067, 3.4394160865477383, 3.441005134398539, 3.4421355362387676, 3.442810398989107, 3.443034147070482, 3.442812547656369, 3.4421527352853247, 3.441063235746274, 3.4395539891129525, 3.4376363717590124, 3.435323217130117, 3.432628834981684, 3.4295690287088796, 3.426161110296276, 3.4224239122959457, 3.418377796101578, 3.4140446556200423, 3.409447915247897, 3.4046125208368023, 3.3995649220773707, 3.3943330444464346, 3.3889462485503445, 3.38343527436323, 3.377832167514384, 3.372170184439691, 3.3664836729021728, 3.360807924139258, 3.355178992752419, 3.3496334804725265, 3.3442082801762747, 3.3389402770679815, 3.3338660048531636, 3.32902125608685, 3.324440647735655, 3.3201571453714016, 3.3162015522893813, 3.312601973122199, 3.3093832650245636, 3.306566492970878, 3.3041684087907295, 3.3022009758673874, 3.300670962531878, 3.299579626744688, 3.2989225124372266, 3.2986893738431635, 3.298864238473243, 3.299425612497779, 3.3003468248141297, 3.3015964987176534, 3.3031391335918836, 3.3049357740037393, 3.306944740447344, 3.309122394887938, 3.3114239151220692, 3.3138040544860368, 3.3162178671631954, 3.3186213837563994, 3.3209722264155497, 3.323230157228372, 3.3253575574888803, 3.32731983866225, 3.32908578828423, 3.3306278556700324, 3.331922383224788, 3.3329497894433295, 3.3336947094738054, 3.3341460985096356, 3.334297302369163, 3.334433932514746, 3.3348431829722687, 3.335523137198388, 3.3364706122337564, 3.3376811755007845, 3.3391491680798167, 3.3408677342289694, 3.342828856853713, 3.345023398579151, 3.347441148031165, 3.3500708708932527, 3.352900365274268, 3.3559165208986617, 3.35910538161537, 3.362452210713804, 3.3659415585354977, 3.369557331876929, 3.3732828646925945, 3.3771009896266087, 3.380994109925199, 3.3849442713106277, 3.388933233428477, 3.3929425405138516, 3.3969535909573567, 3.400947705487697, 3.4049061937238037, 3.408810418884986, 3.412641860482087, 3.4163821748456416, 3.4200132533780927, 3.4235172784461887, 3.4268767768562802, 3.430074670879473, 3.4330943268151763, 3.435919601100789, 3.43853488399186, 3.4409251408512045, 3.4430759510974585, 3.444973544873067, 3.4466048374994847, 3.4479574617930107, 3.44901979831865, 3.4497810036618084, 3.4502310367985443, 3.4503606836447043, 3.4501615798627787, 3.4496262320026037, 3.4487480370486203, 3.4475213004418492, 3.4459412526396944, 3.444004064270691, 3.4417068599348473, 3.439047730693006, 3.4360257452810066, 3.4326409600760224, 3.42889442783364, 3.4247882052048575, 3.4203253590320957, 3.415509971412895, 3.410347143508721, 3.4048429980646158, 3.399004680593057, 3.392840359162462, 3.3863592227170862, 3.3795714778410146, 3.372488343864055, 3.365122046192159, 3.357485807729205, 3.3495938382409913, 3.3414613214959648, 3.333104400001017, 3.32454015713473, 3.3157865964648296, 3.30686261802226, 3.2977879912908663, 3.2885833246603955, 3.2792700310814267, 3.2698702896549587, 3.2604070028871894, 3.2509037493424273, 3.2413847314349624, 3.231874718114888, 3.2223989822242975, 3.2129832323299294, 3.2036535388768597, 3.194436254556326, 3.18535792883953, 3.1764452166988972, 3.167724781618899, 3.1592231930899457, 3.1509668188804296, 3.142981712492832, 3.1352934963280914, 3.1279272412063546, 3.120907343018869, 3.1142573974121044, 3.108000073527397, 3.1021569879334336, 3.0967485799903716, 3.0917939899687954, 3.0873109413095436, 3.0833156284478527, 3.079822611633312, 3.0768447201534013, 3.074392965310835, 3.0724764644130604, 3.0711023769069046, 3.0702758536342825, 3.07], \"yaxis\": \"y\"}, {\"legendgroup\": \"1\", \"marker\": {\"color\": \"#EF553B\"}, \"name\": \"\\u03c3: 1/2\", \"showlegend\": true, \"type\": \"scatter\", \"xaxis\": \"x\", \"y\": [-0.30000000000000004, -0.30027527251826613, -0.3010970909028184, -0.30245792715516595, -0.3043482618837433, -0.30675665678523617, -0.309669841613339, -0.3130728141664973, -0.316948951645843, -0.32128013160181973, -0.32604686060420096, -0.33122840873455534, -0.3368029480101306, -0.34274769289950063, -0.349039041177918, -0.35565271348803734, -0.36256389011306683, -0.369747343627925, -0.37717756626332, -0.38482889099197076, -0.3926756055203431, -0.4006920585388217, -0.40885275774470603, -0.4171324593030061, -0.4255062485479328, -0.4339496118519327, -0.4424384996987086, -0.4509493810918582, -0.45945928951200277, -0.46794586070339417, -0.47638736262706244, -0.48476271796256293, -0.49305151957585525, -0.5012340393977955, -0.5092912311774098, -0.5172047275878698, -0.5249568321715475, -0.5325305066151094, -0.5399093538464932, -0.5470775974440764, -0.5540200578442939, -0.5607221258283195, -0.567169733761076, -0.5733493250472049, -0.5792478222587553, -0.584852594378196, -0.5901514235881035, -0.595132472025243, -0.5997842489019104, -0.6040955783810729, -0.6080555685741776, -0.611653582011207, -0.6148792079118752, -0.6177222365646372, -0.6201726360965626, -0.6222205318921464, -0.6238561888930864, -0.6250699969839562, -0.6258524596409663, -0.6261941859928306, -0.626085886414477, -0.6255183717463397, -0.6244825562045995, -0.6229694640213982, -0.6209702398291174, -0.6184761627797509, -0.6154786643694703, -0.6119693499202068, -0.6079400236546707, -0.6033827172891306, -0.5982897220597103, -0.5926536240932345, -0.586467343033063, -0.5797241738339767, -0.5724178316484745, -0.5645424997397049, -0.5560928803742287, -0.5470642486706906, -0.537452509408982, -0.5272542568383158, -0.5164668375625688, -0.5050884166272631, -0.4931180469852943, -0.4805557425781976, -0.46740255533716313, -0.4536606564835003, -0.43933342259263475, -0.42442552697969066, -0.40894303706884705, -0.39289351852378485, -0.3762861470431178, -0.3591318288629621, -0.34144333115865644, -0.3232354236981732, -0.304525033268924, -0.2853314125738176, -0.2656763254656157, -0.24558425055107302, -0.2250826053339209, -0.2042019931570418, -0.18297647521867855, -0.16144386983201678, -0.1396460808118668, -0.11762945632418449, -0.0954451786134212, -0.07314968358364467, -0.050805107064989016, -0.02847975151405535, -0.0062485625961682945, 0.01580640073545861, 0.037595526734842705, 0.05902127581305283, 0.079977915870518, 0.10035142802297625, 0.12001965809651438, 0.13885280430286795, 0.15671434342278168, 0.17346250240594618, 0.18895237392976505, 0.20303874673033695, 0.21557966865689965, 0.22644067973035437, 0.23549954757303887, 0.24265122104086617, 0.2478126121217899, 0.25092675008031035, 0.25196585292951756, 0.25093294489961343, 0.2478618086285323, 0.2428152679122435, 0.23588200585980235, 0.22717228821414026, 0.21681305097449388, 0.2049428170697341, 0.1917068425902374, 0.17725278631744423, 0.1617270767167186, 0.145272041791921, 0.12802378294819095, 0.11011071850655169, 0.09165269329720405, 0.07276054194082637, 0.053535998312976896, 0.03407185635556691, 0.014452303374664455, -0.0052466367273640395, -0.024956597911291185, -0.04461633903786826, -0.06417120802491992, -0.08357261959348351, -0.10277755697356336, -0.12174810347108954, -0.14045100661928953, -0.15885727545076478, -0.1769418099817281, -0.1946830610979726, -0.21206271851887262, -0.2290654242745665, -0.24567850907589342, -0.26189174902412865, -0.2776971402529201, -0.29308868928682164, -0.30806221711749643, -0.32261517522555, -0.33674647200314334, -0.3504563082541109, -0.36374602066016787, -0.37661793230193186, -0.38907520951050073, -0.40112172449865857, -0.4127619233800826, -0.4240006993301156, -0.43484327077251955, -0.4452950645931459, -0.45536160448346324, -0.46504840460407754, -0.4743608688307888, -0.4833041959030067, -0.4918832908364895, -0.5001026829894053, -0.5079664511828487, -0.5154781562745594, -0.5226407815682633, -0.5294566814118447, -0.5359275382963243, -0.5420543287160351, -0.5478372979898928, -0.5532759441761353, -0.5583690111403553, -0.5631144907610794, -0.563250752332216, -0.563658903152165, -0.5643370448618108, -0.5652820245665806, -0.5664894512753241, -0.5679537186830821, -0.5696680340715817, -0.5716244530443312, -0.57381391976173, -0.5762263122962478, -0.5788504926895516, -0.581674361262383, -0.5846849147048597, -0.5878683074592169, -0.5912099158991045, -0.5946944048088157, -0.5983057956719399, -0.6020275362912809, -0.6058425712797246, -0.6097334129844127, -0.6136822124331889, -0.6176708299220827, -0.621680904894743, -0.6256939247984664, -0.6296912926360672, -0.6336543929675563, -0.6375646561500589, -0.6414036206377298, -0.6451529931955953, -0.6487947069115638, -0.6523109769192339, -0.6556843537702891, -0.6588977744191172, -0.6619346108037162, -0.6647787160259522, -0.6674144681508367, -0.669826811658761, -0.672001296596607, -0.6739241154835639, -0.6755821380353224, -0.6769629437763206, -0.6780548526140104, -0.6788469534517994, -0.6793291309185897, -0.679492090292793, -0.6793273806974985, -0.678827416641176, -0.677985497975084, -0.6767958283344049, -0.6752535321253118, -0.6733546701144748, -0.6710962536712773, -0.6684762577060623, -0.665493632340214, -0.662148313335738, -0.6584412313033133, -0.6543743196985177, -0.6499505216059892, -0.6451737953009067, -0.6400491185659667, -0.6345824917303673, -0.6287809393849018, -0.6226525107142096, -0.6162062783735454, -0.6094523358230439, -0.6024017930174931, -0.595066770334031, -0.587460390604159, -0.5795967690999062, -0.5714910013073227, -0.5631591483035912, -0.5546182195374353, -0.5458861527962446, -0.5369817911280226, -0.5279248564720396, -0.5187359197397247, -0.5094363670772859, -0.5000483620344714, -0.49059480336062905, -0.4810992781505153, -0.4715860100690801, -0.46207980239760327, -0.452605975664186, -0.44319029965043816, -0.4338589196043908, -0.42463827653794173, -0.4155550215461694, -0.4066359241561969, -0.3979077747951271, -0.38939728155975506, -0.3811309615748281, -0.37313502734043247, -0.3654352685912047, -0.35805693031826613, -0.3510245877363501, -0.3443620191102749, -0.3380920774827866, -0.33223656246561095, -0.32681609336272116, -0.3218499849845594, -0.31735612757958565, -0.3133508723507158, -0.3098489240350659, -0.3068632420030108, -0.3044049512748752, -0.30248326475990295, -0.3011054178932317, -0.3002766166844846, -0.30000000000000004], \"yaxis\": \"y\"}, {\"legendgroup\": \"1\", \"marker\": {\"color\": \"#EF553B\"}, \"name\": \"\\u03c3: 1/2\", \"showlegend\": false, \"type\": \"scatter\", \"xaxis\": \"x\", \"y\": [2.8419999999999996, 2.842081434517298, 2.8423127703549533, 2.8426721396289736, 2.843134648015869, 2.84367267840462, 2.844256266835435, 2.844853549860143, 2.8454312797071966, 2.845955400245026, 2.846391672854637, 2.846706337214515, 2.8468667880599585, 2.8468422456912412, 2.846604395890159, 2.846127974427244, 2.8453912728135746, 2.8443765454415733, 2.843070303549153, 2.8414634880317724, 2.839551520310261, 2.8373342374449297, 2.8348157237275147, 2.8320040555181922, 2.82891097881668, 2.825551539930533, 2.8219436888346805, 2.818107872772413, 2.814066634773732, 2.80984422850152, 2.80546625755435, 2.800959344336076, 2.796350831021377, 2.791668513084357, 2.786940404321739, 2.782194531250286, 2.777458754118248, 2.772760611460029, 2.7681271850595737, 2.7635849822972594, 2.7591598330754223, 2.7548767987996925, 2.7507600912001298, 2.746832999081209, 2.743117821374467, 2.7396358051207272, 2.736407087222541, 2.733450638977781, 2.730784212529074, 2.7284242884390215, 2.7263860236245607, 2.724683198851429, 2.7233281648941694, 2.7223317862980814, 2.7217033814206015, 2.7214506570572206, 2.721579635436305, 2.7220945706475717, 2.722997850576576, 2.724289879044307, 2.7259689309370194, 2.7280309704188, 2.7304694184894274, 2.733274850636893, 2.7364345972959763, 2.7399322079502477, 2.7437467219379186, 2.7478516620549263, 2.7522136256289556, 2.756790283435126, 2.7615274962637892, 2.7663551015684495, 2.7711806792327773, 2.775880243259775, 2.7802843193745894, 2.784157394834261, 2.7871689077277995, 2.7888568316904196, 2.7885954002273317, 2.785602852352621, 2.7790531085729953, 2.768323296559389, 2.753253887646162, 2.7341909344518536, 2.7117756976917176, 2.6866902861406277, 2.6595161425821408, 2.630701420231221, 2.6005789143300717, 2.569395377314315, 2.537337221543292, 2.5045495655174, 2.4711494934818665, 2.437235100859639, 2.4028916646023912, 2.3681958989475236, 2.3332189440386077, 2.2980285144336454, 2.2626904882066503, 2.2272701222949047, 2.191833018233738, 2.1564459223707493, 2.1211774182100314, 2.086098550675004, 2.051283409557539, 2.0168096901130084, 1.9827592412108976, 1.9492186046087627, 1.9162795419707488, 1.8840395385352398, 1.852602263293213, 1.8220779547420736, 1.7925836885053246, 1.7642434684847395, 1.7371880674410165, 1.7115545275546955, 1.6874852193655967, 1.6651263527243363, 1.6446258416111872, 1.6261304522915623, 1.6097822170469154, 1.5957141763151388, 1.5840456169259018, 1.5748770906009766, 1.5682856026139291, 1.5643204265528596, 1.563, 1.5643102723339102, 1.5682047157907333, 1.5746060038057905, 1.5834091516579596, 1.5944857495467948, 1.607688828900046, 1.6228578971633347, 1.6398237406646499, 1.6584127020554476, 1.6784502585965857, 1.699763836584051, 1.7221848818038241, 1.7455502618534027, 1.7697031059541986, 1.7944931974154401, 1.8197770299162794, 1.8454176271904643, 1.87128421101847, 1.8972517876285968, 1.9232007093741132, 1.9490162576303234, 1.9745882843403493, 1.999810943215716, 2.02458253669636, 2.0488055006650794, 2.0723865447700693, 2.095236961174942, 2.117273107806054, 2.138417063033714, 2.158597436854323, 2.1777503091942076, 2.195820249793984, 2.2127613579268033, 2.228538246379591, 2.2431268855539797, 2.256515222970431, 2.2687035027646574, 2.2797042292436687, 2.289541746508432, 2.2982514389340762, 2.305878590089078, 2.3124769655111725, 2.3181072037221297, 2.322835107926317, 2.326729928130297, 2.3298627119115904, 2.3323047848331018, 2.334126401890592, 2.335395592306275, 2.3361772035103967, 2.3365321374005514, 2.33651676321759, 2.336182486311434, 2.3355754500350736, 2.334736348223365, 2.333700327438094, 2.3324969607591566, 2.3311502778884283, 2.3296788393665033, 2.3280958455658762, 2.32640927369484, 2.3246220382700873, 2.3227321723811674, 2.3228766098087146, 2.3233097976999697, 2.3240313628627725, 2.325040683251909, 2.326336887887648, 2.32791885675339, 2.3297852206836174, 2.331934361255877, 2.3343644107025208, 2.3370732518594743, 2.340058518170223, 2.3433175937635435, 2.3468476136232708, 2.3506454638675893, 2.354707782154029, 2.35903095822457, 2.3636111346030826, 2.3684442074548837, 2.3735258276154667, 2.378851401792575, 2.3844160939428525, 2.390214826821377, 2.396242283699337, 2.402492910242429, 2.4089609165397325, 2.4156402792703395, 2.422524743992654, 2.4296078275391113, 2.4368828204971082, 2.444342789755197, 2.451980581092014, 2.4597888217840453, 2.467759923207146, 2.4758860834056833, 2.484159289602351, 2.492571320620978, 2.501113749194152, 2.5097779441272, 2.5185550722899017, 2.5274361004075527, 2.536411796623453, 2.5454727318058015, 2.5546092805733993, 2.5638116220166305, 2.5730697400930342, 2.582373423680701, 2.591712266277886, 2.6010756653440144, 2.610452821285978, 2.6198327361048444, 2.629204211732231, 2.6385558481034264, 2.6478760410365387, 2.657152980014436, 2.6663746460000373, 2.6755288094567495, 2.684603028795807, 2.693584649532363, 2.7024608045037644, 2.7112184155880588, 2.7198441974596683, 2.7283246640333134, 2.7366461383773553, 2.74479476702319, 2.7527565397567675, 2.760517316148352, 2.76806286025133, 2.775378885071486, 2.782451108561502, 2.7892653230139612, 2.7958074797865304, 2.8020637912666837, 2.808020851836151, 2.8136657792893036, 2.818986377656439, 2.823971321646229, 2.828610361926862, 2.8328945492043385, 2.836816473549476, 2.8403705137282453, 2.8435530895021417, 2.8463629081300104, 2.84880119480167, 2.8508718956716703, 2.8525818417403768, 2.8539408622156266, 2.854961837277199, 2.8556606823538964, 2.8560562589888274, 2.856170210880431, 2.856026727427638, 2.855652240719717, 2.8550750650515395, 2.854324990436872, 2.8534328430649776, 2.8524300261513957, 2.8513480542413534, 2.850218092895302, 2.8490705140370616, 2.847934475309572, 2.8468375297779183, 2.8458052704206875, 2.8448610121842313, 2.844025513012337, 2.843316734233084, 2.8427496399758594, 2.842336034872313, 2.842084439119352, 2.8419999999999996], \"yaxis\": \"y\"}, {\"legendgroup\": \"1\", \"marker\": {\"color\": \"#EF553B\"}, \"name\": \"\\u03c3: 1/2\", \"showlegend\": false, \"type\": \"scatter\", \"xaxis\": \"x\", \"y\": [3.298, 3.2980446479376484, 3.298187683944536, 3.298443818730776, 3.298829044851915, 3.299360404912701, 3.300055701722185, 3.3009331497978227, 3.3020109701880123, 3.303306933839344, 3.3048378625340504, 3.30661910049571, 3.3086639737123216, 3.310983257365166, 3.3135846739547095, 3.316472445309903, 3.319646920337306, 3.3231042970347824, 3.3268364521740557, 3.330830885640827, 3.3350707794121854, 3.3395351643382347, 3.3441991820154002, 3.349034424654149, 3.3540093332600924, 3.359089633697528, 3.3642387910834146, 3.3694184650988888, 3.3745889517612015, 3.379709600532775, 3.3847391989818316, 3.3896363202729916, 3.3943596313828444, 3.398868162024583, 3.40312153582131, 3.4070801663332904, 3.41070542119301, 3.413959757917008, 3.4168068350283676, 3.419211602012811, 3.421140371407283, 3.4225608760321125, 3.4234423140638257, 3.4237553843321713, 3.4234723139301373, 3.4225668799617632, 3.4210144270264164, 3.41879188185453, 3.4158777663709685, 3.4122522103709088, 3.407896964951771, 3.4027954178581004, 3.396932611970913, 3.390295268320034, 3.3828718152329698, 3.37465242558153, 3.3656290645817877, 3.355795551295605, 3.345147637946514, 3.3336831125077144, 3.321401931905621, 3.3083063958469094, 3.294401375079476, 3.279694613384505, 3.2641971306097535, 3.247923765904987, 3.2308939180764282, 3.213132566925686, 3.1946717008427816, 3.175552340213592, 3.1558274467536442, 3.135566166257702, 3.1148600956428187, 3.093832627402032, 3.0726529114053767, 3.0515564476959263, 3.030874142956109, 3.0110687747019327, 2.992767319019344, 2.976753260180504, 2.9638549731932766, 2.954698260069711, 2.9494462788550897, 2.947757375364427, 2.9489955298640766, 2.952484795123122, 2.9576508934660515, 2.9640539289003307, 2.971370550284342, 2.979364737918289, 2.987862210470417, 2.9967314973597827, 3.0058708078899454, 3.0151991260448336, 3.0246501933807264, 3.034168421223301, 3.043706086581898, 3.053221386788632, 3.0626770743259493, 3.0720394884505025, 3.081277861745934, 3.09036381968133, 3.0992710174075055, 3.1079748753371264, 3.1164523866544123, 3.1246819777690766, 3.1326434081343555, 3.1403176996077624, 3.147687088178709, 3.1547349927707478, 3.1614459971826, 3.167805842219604, 3.173801425793837, 3.1794208093114484, 3.1846532290717358, 3.1894891117108326, 3.1939200929595195, 3.1979390391684466, 3.2015400711983624, 3.2047185903876314, 3.2074713064017293, 3.209796266844511, 3.2116928885730087, 3.2131619907087554, 3.2142058293812052, 3.2148281342737315, 3.215034147070482, 3.2148306619228935, 3.214226068067136, 3.213230394726782, 3.2118553584262455, 3.210114412816977, 3.208022801075632, 3.205597610865932, 3.2028578317564316, 3.1998244148458266, 3.19652033415431, 3.1929706490799594, 3.1892025668765673, 3.1852455036639746, 3.1811311419119663, 3.176893481619894, 3.1725688815222717, 3.1681960855640905, 3.1638162285936846, 3.159472813715669, 3.1552116520548084, 3.151080753864759, 3.1471301580878297, 3.143411685820484, 3.139978601942691, 3.1368851688098185, 3.1341860768688377, 3.131935739908015, 3.1301874479540666, 3.128992379062153, 3.1283984826005433, 3.128449260836847, 3.129182491739347, 3.1306289521798805, 3.1328112146945326, 3.1357425997229145, 3.1394263660367665, 3.1438552129901423, 3.149011148972459, 3.154865752727825, 3.1613808216321204, 3.1685093684291195, 3.176196900277816, 3.1843828951722695, 3.1930023828919554, 3.201987540493687, 3.2112692239963656, 3.2207783752581682, 3.2304472627570444, 3.240210534147278, 3.250006075008555, 3.259775681013654, 3.2694655595341997, 3.2790266817966627, 3.2884150087482347, 3.297591613571671, 3.306522722047437, 3.315179689333879, 3.3235389287087087, 3.3315818047299377, 3.339294500350978, 3.3466678648864434, 3.3536972474293494, 3.360382318379911, 3.360523659046915, 3.3609470473503427, 3.3616505856398984, 3.3626311226044185, 3.3638842703076364, 3.3654044277942226, 3.367184811028221, 3.3692174888662585, 3.371493424714232, 3.374002523469195, 3.37673368330882, 3.3796748518593285, 3.38281308624957, 3.386134616544109, 3.3896249120412296, 3.393268749922811, 3.3970502857510096, 3.4009531253214638, 3.4049603974030362, 3.409054826919567, 3.4132188081584776, 3.4174344776237433, 3.4216837861855867, 3.4259485702157657, 3.4302106214344157, 3.434451755231607, 3.4386538772633313, 3.44279904815713, 3.4468695461965004, 3.4508479278851265, 3.4547170863219017, 3.4584603073450286, 3.462061323428512, 3.4655043653365545, 3.4687742115613363, 3.471856235586589, 3.4747364510342402, 3.4774015547635893, 3.479838968002264, 3.482036875595944, 3.483984263469206, 3.485670954393054, 3.487087642156114, 3.4882259242353806, 3.4890783330596156, 3.489638365953189, 3.489900513840748, 3.48986028878298, 3.4895142504008616, 3.4888600312296667, 3.4878963610242044, 3.486623090012552, 3.4850412110665108, 3.4831528807218577, 3.480961438939621, 3.4784714274495805, 3.475688606458012, 3.4726199694316673, 3.4692737555879454, 3.4656594596254755, 3.4617878381187888, 3.457670911874131, 3.4533219634004615, 3.448755528490498, 3.4439873807328545, 3.439034507591426, 3.433915076497854, 3.4286483892163346, 3.4232548225702284, 3.417755753484762, 3.41217346622288, 3.406531039701115, 3.400852212903365, 3.395161226700981, 3.3894826408770804, 3.3838411258769567, 3.3782612297916383, 3.3727671223354534, 3.3673823190823917, 3.3621293909242604, 3.3570296655084295, 3.352102929161668, 3.3473671393281252, 3.342838158640685, 3.3385295222042863, 3.3344522493321325, 3.330614709745932, 3.3270225521341605, 3.3236787000785726, 3.320583416940545, 3.317734437662124, 3.315127161938563, 3.312754900201098, 3.310609161585237, 3.308679971718888, 3.3069562077908956, 3.3054259388809455, 3.304076760780818, 3.3028961162932404, 3.301871594019962, 3.3009912007238627, 3.3002436042897707, 3.299618345986304, 3.299106022070711, 3.2986984357520446, 3.2983887211431844, 3.2981714411227685, 3.2980426610417184, 3.298], \"yaxis\": \"y\"}, {\"legendgroup\": \"2\", \"marker\": {\"color\": \"#00CC96\"}, \"name\": \"\\u03c3: -1/2\", \"showlegend\": true, \"type\": \"scatter\", \"xaxis\": \"x\", \"y\": [-0.30000000000000004, -0.3002767532033386, -0.3011089238018965, -0.30249779264600274, -0.30444252488598117, -0.30694018289835023, -0.3099857567215295, -0.31357221138549296, -0.31769055021738046, -0.3223298929318444, -0.32747756707878, -0.3331192112282981, -0.3392388881273752, -0.3458192059666141, -0.3528414458488395, -0.3602856935518044, -0.36813097372149295, -0.376355384715341, -0.38493623243024117, -0.393850161592069, -0.40307328314481644, -0.4125812965519069, -0.4223496060035548, -0.43235342970673163, -0.44256790161352955, -0.45296816511546917, -0.46352945839263743, -0.4742271912549192, -0.48503701344670647, -0.4959348745053662, -0.5068970753672681, -0.5179003120034225, -0.5289217114405222, -0.5399388605831961, -0.5509298283006877, -0.5618731812770661, -0.5727479941498396, -0.583533854478488, -0.5942108630932569, -0.6047596303765691, -0.6151612690256728, -0.6253973838364282, -0.6354500590353823, -0.6453018436709701, -0.6549357355556328, -0.6643351642291316, -0.6734839733899702, -0.682366403216852, -0.690967072975937, -0.6992709642824567, -0.7072634053573953, -0.7149300565915552, -0.7222568977007212, -0.7292302167268878, -0.735836601112035, -0.7420629310426843, -0.7478963752358383, -0.7533243893100545, -0.7583347168594541, -0.7629153933237596, -0.7670547527240562, -0.7707414373121976, -0.7739644101616748, -0.7767129707096551, -0.7789767732437785, -0.7807458483134473, -0.7820106270337787, -0.7827619682412434, -0.7829911884533792, -0.7826900945808618, -0.7818510193386767, -0.7804668593041972, -0.7785311155735706, -0.7760379369739349, -0.7729821657975632, -0.769359386034962, -0.7651659740970983, -0.7603991520321789, -0.7550570432595093, -0.749138730861774, -0.7426443184971158, -0.7355749940135633, -0.7279330958699035, -0.7197221824886257, -0.7109471046872344, -0.7016140813532022, -0.6917307785437433, -0.6813063922031121, -0.6703517346952723, -0.6588793253460801, -0.646903485173703, -0.6344404359549609, -0.6215084037240279, -0.6081277267227215, -0.5943209677113648, -0.5801130303975545, -0.5655312795369013, -0.5506056639931499, -0.5353688417012455, -0.5198563050406799, -0.5041065045808012, -0.4881609684877414, -0.4720644140670104, -0.45586484694291307, -0.43961364223691646, -0.4233656008034858, -0.4071789721300631, -0.3911154339476984, -0.3752400170006057, -0.3596209618989276, -0.34432949369143084, -0.3294394989639637, -0.3150270901754899, -0.30117004291855465, -0.28794709419762354, -0.27543709400808813, -0.26371800874610807, -0.25286578339935184, -0.24295307991557125, -0.23404792112123918, -0.22621228215324718, -0.21950068325150973, -0.21395884731201764, -0.2096224910984874, -0.20651631895312872, -0.20465328129434301, -0.20403414707048195, -0.2046474206085247, -0.2064696108781916, -0.20946583768777938, -0.213590737554752, -0.21878961446046574, -0.2249997691598033, -0.23215193592138084, -0.2401717572444551, -0.24898123412352902, -0.25850010019001723, -0.26864708077732724, -0.2793410110049942, -0.29050179908106466, -0.3020512313352908, -0.31391362359737246, -0.3260163293531167, -0.338290118823637, -0.3506694450420329, -0.3630926135320707, -0.37550187170622557, -0.38784343293706985, -0.4000674486978251, -0.4121279404312273, -0.4239827010467711, -0.4355931742686586, -0.44692431852367714, -0.4579444607014744, -0.46862514394981314, -0.4789409726801248, -0.4888694571411403, -0.4983908592531188, -0.5074880408627545, -0.5161463151600817, -0.5243533016755215, -0.5320987850313152, -0.5393745774428206, -0.5461743848392838, -0.5524936763905574, -0.558329557177397, -0.5636806437213614, -0.5685469420905472, -0.5729297283146492, -0.5768314308735342, -0.5802555150647256, -0.5832063691043694, -0.5856891918713891, -0.587709882263859, -0.5892749301986789, -0.5903913093488947, -0.5910663717762861, -0.5913077446788065, -0.5911232295318668, -0.5905207039581782, -0.5895080267115929, -0.5880929462050369, -0.586283013050026, -0.584085497104497, -0.5815073095456518, -0.5785549304947295, -0.5752343427202147, -0.5715509719349797, -0.5675096341807804, -0.5631144907610799, -0.5632507523322168, -0.5636589031521642, -0.5643370448618112, -0.5652820245665806, -0.5664894512753237, -0.5679537186830811, -0.5696680340715804, -0.5716244530443316, -0.5738139197617291, -0.5762263122962478, -0.5788504926895516, -0.5816743612623836, -0.5846849147048597, -0.5878683074592169, -0.5912099158991041, -0.5946944048088157, -0.59830579567194, -0.6020275362912814, -0.6058425712797251, -0.6097334129844132, -0.6136822124331884, -0.6176708299220834, -0.6216809048947421, -0.6256939247984664, -0.6296912926360664, -0.6336543929675553, -0.6375646561500589, -0.64140362063773, -0.6451529931955948, -0.6487947069115634, -0.6523109769192339, -0.6556843537702891, -0.6588977744191172, -0.6619346108037162, -0.6647787160259517, -0.667414468150837, -0.6698268116587606, -0.672001296596607, -0.6739241154835641, -0.6755821380353224, -0.67696294377632, -0.6780548526140104, -0.6788469534517994, -0.6793291309185897, -0.679492090292793, -0.6793273806974985, -0.678827416641176, -0.677985497975084, -0.6767958283344053, -0.6752535321253118, -0.6733546701144754, -0.6710962536712779, -0.6684762577060619, -0.6654936323402135, -0.662148313335738, -0.6584412313033134, -0.6543743196985181, -0.6499505216059888, -0.6451737953009068, -0.6400491185659667, -0.6345824917303668, -0.6287809393849026, -0.6226525107142088, -0.6162062783735454, -0.6094523358230444, -0.6024017930174925, -0.5950667703340305, -0.5874603906041594, -0.5795967690999058, -0.5714910013073222, -0.563159148303592, -0.5546182195374348, -0.5458861527962442, -0.536981791128023, -0.5279248564720396, -0.5187359197397247, -0.5094363670772859, -0.5000483620344719, -0.49059480336062816, -0.48109927815051573, -0.47158601006907874, -0.46207980239760327, -0.4526059756641864, -0.44319029965043816, -0.43385891960439077, -0.42463827653794173, -0.41555502154616897, -0.40663592415619737, -0.3979077747951271, -0.3893972815597555, -0.3811309615748281, -0.37313502734043286, -0.3654352685912047, -0.35805693031826613, -0.3510245877363501, -0.344362019110275, -0.3380920774827866, -0.33223656246561134, -0.3268160933627214, -0.3218499849845593, -0.31735612757958576, -0.3133508723507161, -0.3098489240350658, -0.3068632420030106, -0.3044049512748754, -0.30248326475990295, -0.3011054178932318, -0.3002766166844846, -0.30000000000000004], \"yaxis\": \"y\"}, {\"legendgroup\": \"2\", \"marker\": {\"color\": \"#00CC96\"}, \"name\": \"\\u03c3: -1/2\", \"showlegend\": false, \"type\": \"scatter\", \"xaxis\": \"x\", \"y\": [2.8419999999999996, 2.8420870756703955, 2.842357847221499, 2.8428239778796005, 2.8434935699558572, 2.8443711830696765, 2.8454579049295963, 2.8467514707319284, 2.848246427453281, 2.8499343395109156, 2.851804032398989, 2.8538418709451228, 2.856032068746158, 2.858357025119261, 2.8607976855397443, 2.863333921036053, 2.8659449213952684, 2.8686095963344003, 2.871306978066131, 2.8740166180005016, 2.8767189697577997, 2.879395750309891, 2.8820302710025514, 2.8846077305099658, 2.8871154624789352, 2.8895431317412212, 2.891882874471785, 2.894129379468086, 2.8962799097027334, 2.8983342653146424, 2.9002946911001235, 2.9021657332022848, 2.903954050959034, 2.9056681906798074, 2.9073183284461135, 2.908915988881524, 2.910473746258235, 2.9120049133697057, 2.913523222382187, 2.915042500460932, 2.9165763414153165, 2.918137772967226, 2.9197389175409074, 2.9213906426967524, 2.9231021954589194, 2.924880812769802, 2.92673129808172, 2.928655551603232, 2.9306520389048463, 2.932715179454149, 2.9348346332951416, 2.936994460813818, 2.9391721280131042, 2.9413373292658833, 2.9434506034941044, 2.945461732157359, 2.9473079347197673, 2.948911928728724, 2.9501800091611616, 2.9510004366229223, 2.951242608414188, 2.950757695585593, 2.949381585533808, 2.946940924876082, 2.943262619485872, 2.938186206764154, 2.931577246725769, 2.9233388648421186, 2.9134185624998494, 2.901808691444325, 2.888541009099655, 2.8736774093170867, 2.8572994910282423, 2.839499120301028, 2.8203711415349004, 2.800008479231345, 2.7784993125960007, 2.7559257929577754, 2.7323637825051525, 2.7078831980473694, 2.6825486667282874, 2.656420305777858, 2.629554515651583, 2.602004727590977, 2.573822078846811, 2.5450560076281112, 2.5157547700613114, 2.485965886424336, 2.455736525858611, 2.425113839028051, 2.3941452476075327, 2.3628786985146304, 2.331362889704595, 2.2996474732594425, 2.267783240473785, 2.2358222926867675, 2.2038182007231253, 2.1718261549658475, 2.139903107262372, 2.108107905035573, 2.076501417100902, 2.0451466497521493, 2.0141088506440727, 1.983455596847158, 1.9532568621633437, 1.923585057366094, 1.8945150354765132, 1.8661240525440967, 1.8384916727344367, 1.8116996049455694, 1.785831456840402, 1.7609723913131, 1.7372086702813014, 1.714627071644788, 1.693314167636383, 1.673355456962725, 1.654834349366251, 1.6378310096489612, 1.6224210786376336, 1.6086743005405493, 1.5966530987338345, 1.5864111539005514, 1.5779920479996983, 1.571428043045982, 1.5667390636313276, 1.5639319455769614, 1.563, 1.5639229233652818, 1.566667061695784, 1.5711860136356752, 1.577421535316424, 1.5853046924772025, 1.59475719379227, 1.6056928346087416, 1.6180189820208013, 1.6316380392900793, 1.6464488384458524, 1.6623479226881095, 1.6792306933446584, 1.6969924083216283, 1.715529029389196, 1.7347379238377716, 1.7545184319499518, 1.7747723155330852, 1.795404104764604, 1.8163213611943896, 1.8374348742989055, 1.8586588078218014, 1.8799108105344993, 1.9011121042109576, 1.9221875596745979, 1.943065769831062, 1.9636791266965687, 1.9839639075875324, 2.0038603738547462, 2.023312883818381, 2.0422700198822965, 2.06068472817831, 2.0785144675256637, 2.0957213630158416, 2.1122723581917286, 2.1281393586420636, 2.143299358946592, 2.1577345443585942, 2.171432358468713, 2.1843855284115716, 2.196592039983412, 2.208055056328794, 2.2187827755813583, 2.2287882249202045, 2.2380889908055375, 2.2467068875346885, 2.254667568550028, 2.2620000869770727, 2.2687364135390693, 2.2749109211844516, 2.2805598464215024, 2.2857207374734565, 2.2904318989847283, 2.294731842199029, 2.2986587483911327, 2.3022499519770023, 2.3055414482625642, 2.3085674293213345, 2.3113598501006742, 2.3139480256117833, 2.3163582590061322, 2.3186134995096004, 2.3207330285901833, 2.3227321723811674, 2.3228766098087146, 2.32330979769997, 2.3240313628627716, 2.325040683251909, 2.3263368878876483, 2.32791885675339, 2.329785220683617, 2.3319343612558776, 2.3343644107025217, 2.3370732518594743, 2.340058518170223, 2.3433175937635435, 2.346847613623271, 2.3506454638675893, 2.35470778215403, 2.35903095822457, 2.363611134603082, 2.3684442074548833, 2.373525827615468, 2.3788514017925735, 2.3844160939428525, 2.3902148268213765, 2.396242283699337, 2.402492910242429, 2.408960916539733, 2.415640279270339, 2.422524743992654, 2.4296078275391104, 2.4368828204971074, 2.4443427897551966, 2.4519805810920143, 2.4597888217840462, 2.467759923207145, 2.475886083405683, 2.484159289602351, 2.4925713206209776, 2.501113749194153, 2.5097779441272, 2.5185550722899017, 2.5274361004075523, 2.5364117966234536, 2.5454727318058015, 2.5546092805733993, 2.5638116220166305, 2.5730697400930347, 2.582373423680701, 2.5917122662778866, 2.6010756653440144, 2.610452821285978, 2.619832736104845, 2.629204211732231, 2.638555848103426, 2.6478760410365387, 2.657152980014436, 2.6663746460000373, 2.675528809456749, 2.684603028795807, 2.693584649532363, 2.7024608045037635, 2.7112184155880588, 2.7198441974596683, 2.728324664033312, 2.7366461383773553, 2.74479476702319, 2.7527565397567675, 2.760517316148352, 2.76806286025133, 2.7753788850714853, 2.7824511085615025, 2.7892653230139612, 2.795807479786529, 2.802063791266685, 2.808020851836151, 2.813665779289304, 2.8189863776564383, 2.823971321646229, 2.828610361926862, 2.8328945492043367, 2.8368164735494763, 2.8403705137282453, 2.8435530895021417, 2.8463629081300095, 2.84880119480167, 2.8508718956716708, 2.8525818417403785, 2.853940862215626, 2.854961837277199, 2.855660682353896, 2.856056258988828, 2.856170210880431, 2.8560267274276385, 2.855652240719718, 2.8550750650515404, 2.854324990436872, 2.8534328430649776, 2.8524300261513957, 2.8513480542413534, 2.850218092895302, 2.8490705140370607, 2.847934475309573, 2.8468375297779183, 2.8458052704206875, 2.844861012184231, 2.8440255130123373, 2.843316734233084, 2.8427496399758585, 2.8423360348723126, 2.842084439119352, 2.8419999999999996], \"yaxis\": \"y\"}, {\"legendgroup\": \"2\", \"marker\": {\"color\": \"#00CC96\"}, \"name\": \"\\u03c3: -1/2\", \"showlegend\": false, \"type\": \"scatter\", \"xaxis\": \"x\", \"y\": [3.298, 3.2980404874696223, 3.2981544399770706, 3.2983318459709867, 3.298564385914165, 3.29884542636076, 3.2991699787362148, 3.2995346261450327, 3.299937421013466, 3.300377755903479, 3.300856209464278, 3.301374369258847, 3.3019346331433654, 3.3025399910042585, 3.3031937889760465, 3.3038994787648592, 3.3046603553640392, 3.3054792872293715, 3.3063584438239997, 3.307299026272192, 3.308301007589122, 3.3093628894863594, 3.31048148299921, 3.3116517200661026, 3.312866502663434, 3.314116595150375, 3.3153905641402415, 3.3166747685662776, 3.3179534007669034, 3.3192085775216245, 3.320420478176261, 3.3215675254476436, 3.3226266033098515, 3.3235733056145342, 3.324382208820208, 3.3250271623912493, 3.3254815910313145, 3.3257188038707115, 3.325712306952516, 3.3254361167816304, 3.3248650742487666, 3.3239751598726848, 3.3227438129973557, 3.3211502593403908, 3.3191758531425655, 3.3168044421636234, 3.3140227659691064, 3.310820900420685, 3.3071927640692227, 3.3031367052571694, 3.298656192064411, 3.293760630476059, 3.2884663386408275, 3.282797705514483, 3.276788558174938, 3.2704837496319303, 3.263940951641078, 3.2572325855405513, 3.2504477365804165, 3.243693762260028, 3.237097120738031, 3.2308027362459733, 3.2249710619921688, 3.219772045833573, 3.2153756418345187, 3.211939452624776, 3.2095953559528843, 3.2084379824595333, 3.2085179287705947, 3.209841309496121, 3.2123752311967473, 3.2160570937200257, 3.220805056387863, 3.226527513500734, 3.2331304233941545, 3.240522249594097, 3.2486168318107764, 3.2573347167960662, 3.2666034705920493, 3.276357388509213, 3.2865368959725347, 3.2970878282375415, 3.30796069973428, 3.3191100221357304, 3.3304936980590534, 3.342072498505341, 3.353809621937991, 3.365670327930637, 3.3776216363822282, 3.3896320830268496, 3.4016715225367617, 3.4137109714545515, 3.4257224842325917, 3.437679056669579, 3.4495545519517776, 3.46132364530779, 3.472961783968663, 3.484445159698505, 3.495750691637553, 3.5068560175934684, 3.517739492240894, 3.5283801909556534, 3.5387579182286104, 3.5488532197837, 3.558647397672105, 3.568122527735833, 3.5772614789338144, 3.5860479341060714, 3.594466411819459, 3.6025022889948044, 3.610141824061687, 3.617372180425593, 3.624181450063867, 3.630558677092929, 3.6364938811705074, 3.6419780806137605, 3.6470033151277548, 3.651562668049121, 3.6556502880172506, 3.659261409990221, 3.6623923755249566, 3.6650406522409598, 3.6672048523842697, 3.6688847504031044, 3.670081299438727, 3.670796646624284, 3.6710341470704817, 3.6707983763996603, 3.6700951416688103, 3.66893149049692, 3.667315718182336, 3.665257372561174, 3.6627672563177045, 3.659857426411639, 3.6565411902349725, 3.6528330980521693, 3.64874893121178, 3.64430568554515, 3.6395215492889195, 3.6344158747833646, 3.6290091431094647, 3.6233229207357622, 3.617379807154693, 3.6112033724006736, 3.604818083264247, 3.5982492169545828, 3.591522760924949, 3.584665297572484, 3.577703872566585, 3.5706658456629867, 3.5635787230376628, 3.5564699704414062, 3.549366806846726, 3.542295978746134, 3.5352835158734575, 3.5283544698596394, 3.521532638194837, 3.514840276831298, 3.508297805794528, 3.501923513226795, 3.495733264304997, 3.4897402223793246, 3.48395459038593, 3.478383381009938, 3.4730302241348294, 3.4678952197479727, 3.4629748436439765, 3.4582619119780174, 3.453745609011779, 3.449411580349074, 3.445242091697379, 3.441216250863549, 3.4373102884568016, 3.4334978907849125, 3.429750576823783, 3.4260381100139212, 3.4223289350429487, 3.4185906297165474, 3.414790362462436, 3.410895346877843, 3.40687328592092, 3.402692799748512, 3.3983238327047314, 3.3937380364643555, 3.3889091277457872, 3.383813220263349, 3.3784291316410453, 3.372738666830524, 3.3667268801496797, 3.3603823183799113, 3.360523659046913, 3.3609470473503453, 3.3616505856398957, 3.3626311226044194, 3.3638842703076364, 3.3654044277942208, 3.367184811028218, 3.36921748886626, 3.3714934247142327, 3.374002523469194, 3.37673368330882, 3.3796748518593267, 3.3828130862495716, 3.3861346165441106, 3.3896249120412305, 3.393268749922811, 3.3970502857510088, 3.4009531253214638, 3.4049603974030376, 3.409054826919566, 3.4132188081584776, 3.4174344776237433, 3.4216837861855876, 3.425948570215764, 3.430210621434415, 3.4344517552316063, 3.4386538772633304, 3.442799048157129, 3.446869546196499, 3.4508479278851265, 3.4547170863219017, 3.45846030734503, 3.4620613234285096, 3.4655043653365523, 3.468774211561337, 3.471856235586588, 3.474736451034242, 3.47740155476359, 3.4798389680022623, 3.482036875595945, 3.4839842634692073, 3.485670954393054, 3.487087642156114, 3.4882259242353806, 3.4890783330596156, 3.489638365953189, 3.489900513840748, 3.48986028878298, 3.489514250400861, 3.488860031229666, 3.4878963610242026, 3.4866230900125506, 3.48504121106651, 3.483152880721857, 3.480961438939621, 3.4784714274495796, 3.475688606458011, 3.4726199694316673, 3.4692737555879436, 3.4656594596254755, 3.4617878381187888, 3.4576709118741302, 3.4533219634004606, 3.448755528490498, 3.443987380732853, 3.4390345075914257, 3.4339150764978545, 3.428648389216334, 3.423254822570228, 3.4177557534847613, 3.4121734662228778, 3.4065310397011173, 3.400852212903364, 3.3951612267009814, 3.389482640877079, 3.383841125876957, 3.3782612297916375, 3.3727671223354516, 3.367382319082393, 3.3621293909242604, 3.357029665508429, 3.3521029291616675, 3.3473671393281252, 3.342838158640685, 3.3385295222042872, 3.3344522493321316, 3.330614709745932, 3.3270225521341596, 3.323678700078572, 3.320583416940545, 3.317734437662125, 3.315127161938563, 3.312754900201098, 3.310609161585237, 3.3086799717188877, 3.306956207790896, 3.3054259388809455, 3.3040767607808177, 3.30289611629324, 3.3018715940199628, 3.300991200723862, 3.300243604289771, 3.299618345986304, 3.299106022070711, 3.298698435752044, 3.298388721143185, 3.2981714411227685, 3.2980426610417184, 3.298], \"yaxis\": \"y\"}],                        {\"template\": {\"data\": {\"bar\": [{\"error_x\": {\"color\": \"#2a3f5f\"}, \"error_y\": {\"color\": \"#2a3f5f\"}, \"marker\": {\"line\": {\"color\": \"#E5ECF6\", \"width\": 0.5}}, \"type\": \"bar\"}], \"barpolar\": [{\"marker\": {\"line\": {\"color\": \"#E5ECF6\", \"width\": 0.5}}, \"type\": \"barpolar\"}], \"carpet\": [{\"aaxis\": {\"endlinecolor\": \"#2a3f5f\", \"gridcolor\": \"white\", \"linecolor\": \"white\", \"minorgridcolor\": \"white\", \"startlinecolor\": \"#2a3f5f\"}, \"baxis\": {\"endlinecolor\": \"#2a3f5f\", \"gridcolor\": \"white\", \"linecolor\": \"white\", \"minorgridcolor\": \"white\", \"startlinecolor\": \"#2a3f5f\"}, \"type\": \"carpet\"}], \"choropleth\": [{\"colorbar\": {\"outlinewidth\": 0, \"ticks\": \"\"}, \"type\": \"choropleth\"}], \"contour\": [{\"colorbar\": {\"outlinewidth\": 0, \"ticks\": \"\"}, \"colorscale\": [[0.0, \"#0d0887\"], [0.1111111111111111, \"#46039f\"], [0.2222222222222222, \"#7201a8\"], [0.3333333333333333, \"#9c179e\"], [0.4444444444444444, \"#bd3786\"], [0.5555555555555556, \"#d8576b\"], [0.6666666666666666, \"#ed7953\"], [0.7777777777777778, \"#fb9f3a\"], [0.8888888888888888, \"#fdca26\"], [1.0, \"#f0f921\"]], \"type\": \"contour\"}], \"contourcarpet\": [{\"colorbar\": {\"outlinewidth\": 0, \"ticks\": \"\"}, \"type\": \"contourcarpet\"}], \"heatmap\": [{\"colorbar\": {\"outlinewidth\": 0, \"ticks\": \"\"}, \"colorscale\": [[0.0, \"#0d0887\"], [0.1111111111111111, \"#46039f\"], [0.2222222222222222, \"#7201a8\"], [0.3333333333333333, \"#9c179e\"], [0.4444444444444444, \"#bd3786\"], [0.5555555555555556, \"#d8576b\"], [0.6666666666666666, \"#ed7953\"], [0.7777777777777778, \"#fb9f3a\"], [0.8888888888888888, \"#fdca26\"], [1.0, \"#f0f921\"]], \"type\": \"heatmap\"}], \"heatmapgl\": [{\"colorbar\": {\"outlinewidth\": 0, \"ticks\": \"\"}, \"colorscale\": [[0.0, \"#0d0887\"], [0.1111111111111111, \"#46039f\"], [0.2222222222222222, \"#7201a8\"], [0.3333333333333333, \"#9c179e\"], [0.4444444444444444, \"#bd3786\"], [0.5555555555555556, \"#d8576b\"], [0.6666666666666666, \"#ed7953\"], [0.7777777777777778, \"#fb9f3a\"], [0.8888888888888888, \"#fdca26\"], [1.0, \"#f0f921\"]], \"type\": \"heatmapgl\"}], \"histogram\": [{\"marker\": {\"colorbar\": {\"outlinewidth\": 0, \"ticks\": \"\"}}, \"type\": \"histogram\"}], \"histogram2d\": [{\"colorbar\": {\"outlinewidth\": 0, \"ticks\": \"\"}, \"colorscale\": [[0.0, \"#0d0887\"], [0.1111111111111111, \"#46039f\"], [0.2222222222222222, \"#7201a8\"], [0.3333333333333333, \"#9c179e\"], [0.4444444444444444, \"#bd3786\"], [0.5555555555555556, \"#d8576b\"], [0.6666666666666666, \"#ed7953\"], [0.7777777777777778, \"#fb9f3a\"], [0.8888888888888888, \"#fdca26\"], [1.0, \"#f0f921\"]], \"type\": \"histogram2d\"}], \"histogram2dcontour\": [{\"colorbar\": {\"outlinewidth\": 0, \"ticks\": \"\"}, \"colorscale\": [[0.0, \"#0d0887\"], [0.1111111111111111, \"#46039f\"], [0.2222222222222222, \"#7201a8\"], [0.3333333333333333, \"#9c179e\"], [0.4444444444444444, \"#bd3786\"], [0.5555555555555556, \"#d8576b\"], [0.6666666666666666, \"#ed7953\"], [0.7777777777777778, \"#fb9f3a\"], [0.8888888888888888, \"#fdca26\"], [1.0, \"#f0f921\"]], \"type\": \"histogram2dcontour\"}], \"mesh3d\": [{\"colorbar\": {\"outlinewidth\": 0, \"ticks\": \"\"}, \"type\": \"mesh3d\"}], \"parcoords\": [{\"line\": {\"colorbar\": {\"outlinewidth\": 0, \"ticks\": \"\"}}, \"type\": \"parcoords\"}], \"pie\": [{\"automargin\": true, \"type\": \"pie\"}], \"scatter\": [{\"marker\": {\"colorbar\": {\"outlinewidth\": 0, \"ticks\": \"\"}}, \"type\": \"scatter\"}], \"scatter3d\": [{\"line\": {\"colorbar\": {\"outlinewidth\": 0, \"ticks\": \"\"}}, \"marker\": {\"colorbar\": {\"outlinewidth\": 0, \"ticks\": \"\"}}, \"type\": \"scatter3d\"}], \"scattercarpet\": [{\"marker\": {\"colorbar\": {\"outlinewidth\": 0, \"ticks\": \"\"}}, \"type\": \"scattercarpet\"}], \"scattergeo\": [{\"marker\": {\"colorbar\": {\"outlinewidth\": 0, \"ticks\": \"\"}}, \"type\": \"scattergeo\"}], \"scattergl\": [{\"marker\": {\"colorbar\": {\"outlinewidth\": 0, \"ticks\": \"\"}}, \"type\": \"scattergl\"}], \"scattermapbox\": [{\"marker\": {\"colorbar\": {\"outlinewidth\": 0, \"ticks\": \"\"}}, \"type\": \"scattermapbox\"}], \"scatterpolar\": [{\"marker\": {\"colorbar\": {\"outlinewidth\": 0, \"ticks\": \"\"}}, \"type\": \"scatterpolar\"}], \"scatterpolargl\": [{\"marker\": {\"colorbar\": {\"outlinewidth\": 0, \"ticks\": \"\"}}, \"type\": \"scatterpolargl\"}], \"scatterternary\": [{\"marker\": {\"colorbar\": {\"outlinewidth\": 0, \"ticks\": \"\"}}, \"type\": \"scatterternary\"}], \"surface\": [{\"colorbar\": {\"outlinewidth\": 0, \"ticks\": \"\"}, \"colorscale\": [[0.0, \"#0d0887\"], [0.1111111111111111, \"#46039f\"], [0.2222222222222222, \"#7201a8\"], [0.3333333333333333, \"#9c179e\"], [0.4444444444444444, \"#bd3786\"], [0.5555555555555556, \"#d8576b\"], [0.6666666666666666, \"#ed7953\"], [0.7777777777777778, \"#fb9f3a\"], [0.8888888888888888, \"#fdca26\"], [1.0, \"#f0f921\"]], \"type\": \"surface\"}], \"table\": [{\"cells\": {\"fill\": {\"color\": \"#EBF0F8\"}, \"line\": {\"color\": \"white\"}}, \"header\": {\"fill\": {\"color\": \"#C8D4E3\"}, \"line\": {\"color\": \"white\"}}, \"type\": \"table\"}]}, \"layout\": {\"annotationdefaults\": {\"arrowcolor\": \"#2a3f5f\", \"arrowhead\": 0, \"arrowwidth\": 1}, \"coloraxis\": {\"colorbar\": {\"outlinewidth\": 0, \"ticks\": \"\"}}, \"colorscale\": {\"diverging\": [[0, \"#8e0152\"], [0.1, \"#c51b7d\"], [0.2, \"#de77ae\"], [0.3, \"#f1b6da\"], [0.4, \"#fde0ef\"], [0.5, \"#f7f7f7\"], [0.6, \"#e6f5d0\"], [0.7, \"#b8e186\"], [0.8, \"#7fbc41\"], [0.9, \"#4d9221\"], [1, \"#276419\"]], \"sequential\": [[0.0, \"#0d0887\"], [0.1111111111111111, \"#46039f\"], [0.2222222222222222, \"#7201a8\"], [0.3333333333333333, \"#9c179e\"], [0.4444444444444444, \"#bd3786\"], [0.5555555555555556, \"#d8576b\"], [0.6666666666666666, \"#ed7953\"], [0.7777777777777778, \"#fb9f3a\"], [0.8888888888888888, \"#fdca26\"], [1.0, \"#f0f921\"]], \"sequentialminus\": [[0.0, \"#0d0887\"], [0.1111111111111111, \"#46039f\"], [0.2222222222222222, \"#7201a8\"], [0.3333333333333333, \"#9c179e\"], [0.4444444444444444, \"#bd3786\"], [0.5555555555555556, \"#d8576b\"], [0.6666666666666666, \"#ed7953\"], [0.7777777777777778, \"#fb9f3a\"], [0.8888888888888888, \"#fdca26\"], [1.0, \"#f0f921\"]]}, \"colorway\": [\"#636efa\", \"#EF553B\", \"#00cc96\", \"#ab63fa\", \"#FFA15A\", \"#19d3f3\", \"#FF6692\", \"#B6E880\", \"#FF97FF\", \"#FECB52\"], \"font\": {\"color\": \"#2a3f5f\"}, \"geo\": {\"bgcolor\": \"white\", \"lakecolor\": \"white\", \"landcolor\": \"#E5ECF6\", \"showlakes\": true, \"showland\": true, \"subunitcolor\": \"white\"}, \"hoverlabel\": {\"align\": \"left\"}, \"hovermode\": \"closest\", \"mapbox\": {\"style\": \"light\"}, \"paper_bgcolor\": \"white\", \"plot_bgcolor\": \"#E5ECF6\", \"polar\": {\"angularaxis\": {\"gridcolor\": \"white\", \"linecolor\": \"white\", \"ticks\": \"\"}, \"bgcolor\": \"#E5ECF6\", \"radialaxis\": {\"gridcolor\": \"white\", \"linecolor\": \"white\", \"ticks\": \"\"}}, \"scene\": {\"xaxis\": {\"backgroundcolor\": \"#E5ECF6\", \"gridcolor\": \"white\", \"gridwidth\": 2, \"linecolor\": \"white\", \"showbackground\": true, \"ticks\": \"\", \"zerolinecolor\": \"white\"}, \"yaxis\": {\"backgroundcolor\": \"#E5ECF6\", \"gridcolor\": \"white\", \"gridwidth\": 2, \"linecolor\": \"white\", \"showbackground\": true, \"ticks\": \"\", \"zerolinecolor\": \"white\"}, \"zaxis\": {\"backgroundcolor\": \"#E5ECF6\", \"gridcolor\": \"white\", \"gridwidth\": 2, \"linecolor\": \"white\", \"showbackground\": true, \"ticks\": \"\", \"zerolinecolor\": \"white\"}}, \"shapedefaults\": {\"line\": {\"color\": \"#2a3f5f\"}}, \"ternary\": {\"aaxis\": {\"gridcolor\": \"white\", \"linecolor\": \"white\", \"ticks\": \"\"}, \"baxis\": {\"gridcolor\": \"white\", \"linecolor\": \"white\", \"ticks\": \"\"}, \"bgcolor\": \"#E5ECF6\", \"caxis\": {\"gridcolor\": \"white\", \"linecolor\": \"white\", \"ticks\": \"\"}}, \"title\": {\"x\": 0.05}, \"xaxis\": {\"automargin\": true, \"gridcolor\": \"white\", \"linecolor\": \"white\", \"ticks\": \"\", \"title\": {\"standoff\": 15}, \"zerolinecolor\": \"white\", \"zerolinewidth\": 2}, \"yaxis\": {\"automargin\": true, \"gridcolor\": \"white\", \"linecolor\": \"white\", \"ticks\": \"\", \"title\": {\"standoff\": 15}, \"zerolinecolor\": \"white\", \"zerolinewidth\": 2}}}, \"xaxis\": {\"anchor\": \"y\", \"domain\": [0.0, 1.0], \"ticktext\": [\"\\u0393\", \"K\", \"M\", \"\\u0393\"], \"tickvals\": [0, 126, 189, 298], \"title\": {\"text\": \"Momentum\"}}, \"yaxis\": {\"anchor\": \"x\", \"domain\": [0.0, 1.0], \"title\": {\"text\": \"Energy (eV)\"}}},                        {\"responsive\": true}                    ).then(function(){\n",
       "                            \n",
       "var gd = document.getElementById('6bc238bc-6f52-46de-a163-780a511bd26a');\n",
       "var x = new MutationObserver(function (mutations, observer) {{\n",
       "        var display = window.getComputedStyle(gd).display;\n",
       "        if (!display || display === 'none') {{\n",
       "            console.log([gd, 'removed!']);\n",
       "            Plotly.purge(gd);\n",
       "            observer.disconnect();\n",
       "        }}\n",
       "}});\n",
       "\n",
       "// Listen for the removal of the full notebook cells\n",
       "var notebookContainer = gd.closest('#notebook-container');\n",
       "if (notebookContainer) {{\n",
       "    x.observe(notebookContainer, {childList: true});\n",
       "}}\n",
       "\n",
       "// Listen for the clearing of the current output cell\n",
       "var outputEl = gd.closest('.output');\n",
       "if (outputEl) {{\n",
       "    x.observe(outputEl, {childList: true});\n",
       "}}\n",
       "\n",
       "                        })                };                });            </script>        </div>"
      ]
     },
     "metadata": {},
     "output_type": "display_data"
    }
   ],
   "source": [
    "def H_mono(k, σ=0, **kwargs):\n",
    "    t_1, t_2, t_3, t_12, t_13, t_23, ε_1, ε_3, λ_SOC = wse2_var_dic.values()\n",
    "    k_x, k_y = k[0]/2, k[1]*np.sqrt(3)/2\n",
    "    cos2x, cosx, cosy = np.cos(2*k_x), np.cos(k_x), np.cos(k_y)\n",
    "    sin2x, sinx, siny = np.sin(2*k_x), np.sin(k_x), np.sin(k_y)\n",
    "    h_1 = 2*t_1*cos2x + (t_1+3*t_2)*cosx*cosy\n",
    "    h_2 = 2*t_2*cos2x + (t_2+3*t_1)*cosx*cosy\n",
    "    h_3 = 2*t_3*cos2x + 4*t_3*cosx*cosy\n",
    "    h_12 = np.sqrt(3)*(t_1-t_2)*sinx*siny + 2j*t_12*(sin2x-2*sinx*cosy)\n",
    "    h_13 = 2*t_13*(cos2x-cosx*cosy) + 2j*np.sqrt(3)*t_23*cosx*siny\n",
    "    h_23 = -2*np.sqrt(3)*t_13*sinx*siny + 2j*t_23*(sin2x+sinx*cosy)\n",
    "    return np.array([\n",
    "            [ε_1+h_1, 1j*λ_SOC*σ+h_12, h_13],\n",
    "            [-1j*λ_SOC*σ+np.conj(h_12), ε_1+h_2, h_23],\n",
    "            [np.conj(h_13), np.conj(h_23), ε_3+h_3]\n",
    "        ])\n",
    "\n",
    "bandstructure = BandStructure()\n",
    "bandstructure.set_k_path([np.array([0, 0]), np.array([4*np.pi/3, 0]), np.array([np.pi, np.pi/np.sqrt(3)]), np.zeros(2)], \n",
    "          ['Γ', 'K', 'M', 'Γ'], 300)\n",
    "legend = dict(\n",
    "    args=dict(H=[(lambda k, σ=σ: H_mono(k, σ=σ)) for σ in [0, 1, -1]]), \n",
    "    tags=['spinless', 'σ: 1/2', 'σ: -1/2'])\n",
    "bandstructure.plot_from_H(legend=legend)\n",
    "\n",
    "bandstructure.fig"
   ]
  }
 ],
 "metadata": {
  "kernelspec": {
   "display_name": "Python 3",
   "language": "python",
   "name": "python3"
  },
  "language_info": {
   "codemirror_mode": {
    "name": "ipython",
    "version": 3
   },
   "file_extension": ".py",
   "mimetype": "text/x-python",
   "name": "python",
   "nbconvert_exporter": "python",
   "pygments_lexer": "ipython3",
   "version": "3.7.6"
  }
 },
 "nbformat": 4,
 "nbformat_minor": 4
}
