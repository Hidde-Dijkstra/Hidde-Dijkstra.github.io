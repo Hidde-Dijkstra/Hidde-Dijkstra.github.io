{
 "cells": [
  {
   "cell_type": "markdown",
   "metadata": {},
   "source": [
    "# Monolayer WSe$_2$"
   ]
  },
  {
   "cell_type": "code",
   "execution_count": 14,
   "metadata": {},
   "outputs": [],
   "source": [
    "from moire.lattice import Lattice\n",
    "import ipywidgets as widgets\n",
    "import numpy as np\n",
    "from myst_nb import glue"
   ]
  },
  {
   "cell_type": "markdown",
   "metadata": {},
   "source": [
    "## Lattice\n",
    "\n",
    "We base our tight binding model of monolayer WSe$_2$ (mWSe$_2$) on the three band model by Liu et al. {cite}`three_band`. In this model of mWSe2 we consider only the tungsten sites, which form a triangular lattice in the $xy$ plane:"
   ]
  },
  {
   "cell_type": "code",
   "execution_count": 11,
   "metadata": {},
   "outputs": [
    {
     "data": {
      "application/vnd.plotly.v1+json": {
       "config": {
        "plotlyServerURL": "https://plot.ly"
       },
       "data": [
        {
         "line": {
          "width": 1
         },
         "marker": {
          "color": "red",
          "line": {
           "width": 1
          },
          "size": 15.037593984962406
         },
         "mode": "markers",
         "name": "W",
         "showlegend": true,
         "type": "scatter",
         "x": [
          -1.5,
          -0.5,
          -1,
          -1.5,
          0.5,
          0,
          -0.5,
          1.5,
          1,
          0.5,
          1.5
         ],
         "y": [
          -0.8660254037844386,
          -0.8660254037844386,
          0,
          0.8660254037844386,
          -0.8660254037844386,
          0,
          0.8660254037844386,
          -0.8660254037844386,
          0,
          0.8660254037844386,
          0.8660254037844386
         ]
        },
        {
         "line": {
          "width": 1
         },
         "marker": {
          "color": "blue",
          "line": {
           "width": 1
          },
          "size": 12.030075187969924
         },
         "mode": "markers",
         "name": "Se",
         "showlegend": true,
         "type": "scatter",
         "x": [
          -1,
          -1.5,
          0,
          -0.5,
          -1,
          1,
          0.5,
          0,
          1.5,
          1,
          -1,
          -1.5,
          0,
          -0.5,
          -1,
          1,
          0.5,
          0,
          1.5,
          1
         ],
         "y": [
          -1.1547005383959448,
          -0.2886751346115063,
          -1.1547005383959448,
          -0.2886751346115063,
          0.5773502691729323,
          -1.1547005383959448,
          -0.2886751346115063,
          0.5773502691729323,
          -0.2886751346115063,
          0.5773502691729323,
          -1.1547005383959448,
          -0.2886751346115063,
          -1.1547005383959448,
          -0.2886751346115063,
          0.5773502691729323,
          -1.1547005383959448,
          -0.2886751346115063,
          0.5773502691729323,
          -0.2886751346115063,
          0.5773502691729323
         ]
        }
       ],
       "layout": {
        "autosize": true,
        "template": {
         "data": {
          "bar": [
           {
            "error_x": {
             "color": "#2a3f5f"
            },
            "error_y": {
             "color": "#2a3f5f"
            },
            "marker": {
             "line": {
              "color": "#E5ECF6",
              "width": 0.5
             }
            },
            "type": "bar"
           }
          ],
          "barpolar": [
           {
            "marker": {
             "line": {
              "color": "#E5ECF6",
              "width": 0.5
             }
            },
            "type": "barpolar"
           }
          ],
          "carpet": [
           {
            "aaxis": {
             "endlinecolor": "#2a3f5f",
             "gridcolor": "white",
             "linecolor": "white",
             "minorgridcolor": "white",
             "startlinecolor": "#2a3f5f"
            },
            "baxis": {
             "endlinecolor": "#2a3f5f",
             "gridcolor": "white",
             "linecolor": "white",
             "minorgridcolor": "white",
             "startlinecolor": "#2a3f5f"
            },
            "type": "carpet"
           }
          ],
          "choropleth": [
           {
            "colorbar": {
             "outlinewidth": 0,
             "ticks": ""
            },
            "type": "choropleth"
           }
          ],
          "contour": [
           {
            "colorbar": {
             "outlinewidth": 0,
             "ticks": ""
            },
            "colorscale": [
             [
              0,
              "#0d0887"
             ],
             [
              0.1111111111111111,
              "#46039f"
             ],
             [
              0.2222222222222222,
              "#7201a8"
             ],
             [
              0.3333333333333333,
              "#9c179e"
             ],
             [
              0.4444444444444444,
              "#bd3786"
             ],
             [
              0.5555555555555556,
              "#d8576b"
             ],
             [
              0.6666666666666666,
              "#ed7953"
             ],
             [
              0.7777777777777778,
              "#fb9f3a"
             ],
             [
              0.8888888888888888,
              "#fdca26"
             ],
             [
              1,
              "#f0f921"
             ]
            ],
            "type": "contour"
           }
          ],
          "contourcarpet": [
           {
            "colorbar": {
             "outlinewidth": 0,
             "ticks": ""
            },
            "type": "contourcarpet"
           }
          ],
          "heatmap": [
           {
            "colorbar": {
             "outlinewidth": 0,
             "ticks": ""
            },
            "colorscale": [
             [
              0,
              "#0d0887"
             ],
             [
              0.1111111111111111,
              "#46039f"
             ],
             [
              0.2222222222222222,
              "#7201a8"
             ],
             [
              0.3333333333333333,
              "#9c179e"
             ],
             [
              0.4444444444444444,
              "#bd3786"
             ],
             [
              0.5555555555555556,
              "#d8576b"
             ],
             [
              0.6666666666666666,
              "#ed7953"
             ],
             [
              0.7777777777777778,
              "#fb9f3a"
             ],
             [
              0.8888888888888888,
              "#fdca26"
             ],
             [
              1,
              "#f0f921"
             ]
            ],
            "type": "heatmap"
           }
          ],
          "heatmapgl": [
           {
            "colorbar": {
             "outlinewidth": 0,
             "ticks": ""
            },
            "colorscale": [
             [
              0,
              "#0d0887"
             ],
             [
              0.1111111111111111,
              "#46039f"
             ],
             [
              0.2222222222222222,
              "#7201a8"
             ],
             [
              0.3333333333333333,
              "#9c179e"
             ],
             [
              0.4444444444444444,
              "#bd3786"
             ],
             [
              0.5555555555555556,
              "#d8576b"
             ],
             [
              0.6666666666666666,
              "#ed7953"
             ],
             [
              0.7777777777777778,
              "#fb9f3a"
             ],
             [
              0.8888888888888888,
              "#fdca26"
             ],
             [
              1,
              "#f0f921"
             ]
            ],
            "type": "heatmapgl"
           }
          ],
          "histogram": [
           {
            "marker": {
             "colorbar": {
              "outlinewidth": 0,
              "ticks": ""
             }
            },
            "type": "histogram"
           }
          ],
          "histogram2d": [
           {
            "colorbar": {
             "outlinewidth": 0,
             "ticks": ""
            },
            "colorscale": [
             [
              0,
              "#0d0887"
             ],
             [
              0.1111111111111111,
              "#46039f"
             ],
             [
              0.2222222222222222,
              "#7201a8"
             ],
             [
              0.3333333333333333,
              "#9c179e"
             ],
             [
              0.4444444444444444,
              "#bd3786"
             ],
             [
              0.5555555555555556,
              "#d8576b"
             ],
             [
              0.6666666666666666,
              "#ed7953"
             ],
             [
              0.7777777777777778,
              "#fb9f3a"
             ],
             [
              0.8888888888888888,
              "#fdca26"
             ],
             [
              1,
              "#f0f921"
             ]
            ],
            "type": "histogram2d"
           }
          ],
          "histogram2dcontour": [
           {
            "colorbar": {
             "outlinewidth": 0,
             "ticks": ""
            },
            "colorscale": [
             [
              0,
              "#0d0887"
             ],
             [
              0.1111111111111111,
              "#46039f"
             ],
             [
              0.2222222222222222,
              "#7201a8"
             ],
             [
              0.3333333333333333,
              "#9c179e"
             ],
             [
              0.4444444444444444,
              "#bd3786"
             ],
             [
              0.5555555555555556,
              "#d8576b"
             ],
             [
              0.6666666666666666,
              "#ed7953"
             ],
             [
              0.7777777777777778,
              "#fb9f3a"
             ],
             [
              0.8888888888888888,
              "#fdca26"
             ],
             [
              1,
              "#f0f921"
             ]
            ],
            "type": "histogram2dcontour"
           }
          ],
          "mesh3d": [
           {
            "colorbar": {
             "outlinewidth": 0,
             "ticks": ""
            },
            "type": "mesh3d"
           }
          ],
          "parcoords": [
           {
            "line": {
             "colorbar": {
              "outlinewidth": 0,
              "ticks": ""
             }
            },
            "type": "parcoords"
           }
          ],
          "pie": [
           {
            "automargin": true,
            "type": "pie"
           }
          ],
          "scatter": [
           {
            "marker": {
             "colorbar": {
              "outlinewidth": 0,
              "ticks": ""
             }
            },
            "type": "scatter"
           }
          ],
          "scatter3d": [
           {
            "line": {
             "colorbar": {
              "outlinewidth": 0,
              "ticks": ""
             }
            },
            "marker": {
             "colorbar": {
              "outlinewidth": 0,
              "ticks": ""
             }
            },
            "type": "scatter3d"
           }
          ],
          "scattercarpet": [
           {
            "marker": {
             "colorbar": {
              "outlinewidth": 0,
              "ticks": ""
             }
            },
            "type": "scattercarpet"
           }
          ],
          "scattergeo": [
           {
            "marker": {
             "colorbar": {
              "outlinewidth": 0,
              "ticks": ""
             }
            },
            "type": "scattergeo"
           }
          ],
          "scattergl": [
           {
            "marker": {
             "colorbar": {
              "outlinewidth": 0,
              "ticks": ""
             }
            },
            "type": "scattergl"
           }
          ],
          "scattermapbox": [
           {
            "marker": {
             "colorbar": {
              "outlinewidth": 0,
              "ticks": ""
             }
            },
            "type": "scattermapbox"
           }
          ],
          "scatterpolar": [
           {
            "marker": {
             "colorbar": {
              "outlinewidth": 0,
              "ticks": ""
             }
            },
            "type": "scatterpolar"
           }
          ],
          "scatterpolargl": [
           {
            "marker": {
             "colorbar": {
              "outlinewidth": 0,
              "ticks": ""
             }
            },
            "type": "scatterpolargl"
           }
          ],
          "scatterternary": [
           {
            "marker": {
             "colorbar": {
              "outlinewidth": 0,
              "ticks": ""
             }
            },
            "type": "scatterternary"
           }
          ],
          "surface": [
           {
            "colorbar": {
             "outlinewidth": 0,
             "ticks": ""
            },
            "colorscale": [
             [
              0,
              "#0d0887"
             ],
             [
              0.1111111111111111,
              "#46039f"
             ],
             [
              0.2222222222222222,
              "#7201a8"
             ],
             [
              0.3333333333333333,
              "#9c179e"
             ],
             [
              0.4444444444444444,
              "#bd3786"
             ],
             [
              0.5555555555555556,
              "#d8576b"
             ],
             [
              0.6666666666666666,
              "#ed7953"
             ],
             [
              0.7777777777777778,
              "#fb9f3a"
             ],
             [
              0.8888888888888888,
              "#fdca26"
             ],
             [
              1,
              "#f0f921"
             ]
            ],
            "type": "surface"
           }
          ],
          "table": [
           {
            "cells": {
             "fill": {
              "color": "#EBF0F8"
             },
             "line": {
              "color": "white"
             }
            },
            "header": {
             "fill": {
              "color": "#C8D4E3"
             },
             "line": {
              "color": "white"
             }
            },
            "type": "table"
           }
          ]
         },
         "layout": {
          "annotationdefaults": {
           "arrowcolor": "#2a3f5f",
           "arrowhead": 0,
           "arrowwidth": 1
          },
          "coloraxis": {
           "colorbar": {
            "outlinewidth": 0,
            "ticks": ""
           }
          },
          "colorscale": {
           "diverging": [
            [
             0,
             "#8e0152"
            ],
            [
             0.1,
             "#c51b7d"
            ],
            [
             0.2,
             "#de77ae"
            ],
            [
             0.3,
             "#f1b6da"
            ],
            [
             0.4,
             "#fde0ef"
            ],
            [
             0.5,
             "#f7f7f7"
            ],
            [
             0.6,
             "#e6f5d0"
            ],
            [
             0.7,
             "#b8e186"
            ],
            [
             0.8,
             "#7fbc41"
            ],
            [
             0.9,
             "#4d9221"
            ],
            [
             1,
             "#276419"
            ]
           ],
           "sequential": [
            [
             0,
             "#0d0887"
            ],
            [
             0.1111111111111111,
             "#46039f"
            ],
            [
             0.2222222222222222,
             "#7201a8"
            ],
            [
             0.3333333333333333,
             "#9c179e"
            ],
            [
             0.4444444444444444,
             "#bd3786"
            ],
            [
             0.5555555555555556,
             "#d8576b"
            ],
            [
             0.6666666666666666,
             "#ed7953"
            ],
            [
             0.7777777777777778,
             "#fb9f3a"
            ],
            [
             0.8888888888888888,
             "#fdca26"
            ],
            [
             1,
             "#f0f921"
            ]
           ],
           "sequentialminus": [
            [
             0,
             "#0d0887"
            ],
            [
             0.1111111111111111,
             "#46039f"
            ],
            [
             0.2222222222222222,
             "#7201a8"
            ],
            [
             0.3333333333333333,
             "#9c179e"
            ],
            [
             0.4444444444444444,
             "#bd3786"
            ],
            [
             0.5555555555555556,
             "#d8576b"
            ],
            [
             0.6666666666666666,
             "#ed7953"
            ],
            [
             0.7777777777777778,
             "#fb9f3a"
            ],
            [
             0.8888888888888888,
             "#fdca26"
            ],
            [
             1,
             "#f0f921"
            ]
           ]
          },
          "colorway": [
           "#636efa",
           "#EF553B",
           "#00cc96",
           "#ab63fa",
           "#FFA15A",
           "#19d3f3",
           "#FF6692",
           "#B6E880",
           "#FF97FF",
           "#FECB52"
          ],
          "font": {
           "color": "#2a3f5f"
          },
          "geo": {
           "bgcolor": "white",
           "lakecolor": "white",
           "landcolor": "#E5ECF6",
           "showlakes": true,
           "showland": true,
           "subunitcolor": "white"
          },
          "hoverlabel": {
           "align": "left"
          },
          "hovermode": "closest",
          "mapbox": {
           "style": "light"
          },
          "paper_bgcolor": "white",
          "plot_bgcolor": "#E5ECF6",
          "polar": {
           "angularaxis": {
            "gridcolor": "white",
            "linecolor": "white",
            "ticks": ""
           },
           "bgcolor": "#E5ECF6",
           "radialaxis": {
            "gridcolor": "white",
            "linecolor": "white",
            "ticks": ""
           }
          },
          "scene": {
           "xaxis": {
            "backgroundcolor": "#E5ECF6",
            "gridcolor": "white",
            "gridwidth": 2,
            "linecolor": "white",
            "showbackground": true,
            "ticks": "",
            "zerolinecolor": "white"
           },
           "yaxis": {
            "backgroundcolor": "#E5ECF6",
            "gridcolor": "white",
            "gridwidth": 2,
            "linecolor": "white",
            "showbackground": true,
            "ticks": "",
            "zerolinecolor": "white"
           },
           "zaxis": {
            "backgroundcolor": "#E5ECF6",
            "gridcolor": "white",
            "gridwidth": 2,
            "linecolor": "white",
            "showbackground": true,
            "ticks": "",
            "zerolinecolor": "white"
           }
          },
          "shapedefaults": {
           "line": {
            "color": "#2a3f5f"
           }
          },
          "ternary": {
           "aaxis": {
            "gridcolor": "white",
            "linecolor": "white",
            "ticks": ""
           },
           "baxis": {
            "gridcolor": "white",
            "linecolor": "white",
            "ticks": ""
           },
           "bgcolor": "#E5ECF6",
           "caxis": {
            "gridcolor": "white",
            "linecolor": "white",
            "ticks": ""
           }
          },
          "title": {
           "x": 0.05
          },
          "xaxis": {
           "automargin": true,
           "gridcolor": "white",
           "linecolor": "white",
           "ticks": "",
           "title": {
            "standoff": 15
           },
           "zerolinecolor": "white",
           "zerolinewidth": 2
          },
          "yaxis": {
           "automargin": true,
           "gridcolor": "white",
           "linecolor": "white",
           "ticks": "",
           "title": {
            "standoff": 15
           },
           "zerolinecolor": "white",
           "zerolinewidth": 2
          }
         }
        },
        "xaxis": {
         "domain": [
          0,
          1
         ],
         "range": [
          -3.784444444444444,
          3.784444444444444
         ],
         "type": "linear"
        },
        "yaxis": {
         "domain": [
          0,
          1
         ],
         "range": [
          -1.8410810810810807,
          1.8410810810810807
         ],
         "scaleanchor": "x",
         "scaleratio": 1,
         "type": "linear"
        }
       }
      },
      "image/png": "[encoded data removed]",
      "text/html": [
       "<div>                            <div id=\"5d7e3abd-2029-4354-a1b4-043cedf3e868\" class=\"plotly-graph-div\" style=\"height:525px; width:100%;\"></div>            <script type=\"text/javascript\">                require([\"plotly\"], function(Plotly) {                    window.PLOTLYENV=window.PLOTLYENV || {};                                    if (document.getElementById(\"5d7e3abd-2029-4354-a1b4-043cedf3e868\")) {                    Plotly.newPlot(                        \"5d7e3abd-2029-4354-a1b4-043cedf3e868\",                        [{\"line\": {\"width\": 1}, \"marker\": {\"color\": \"red\", \"line\": {\"width\": 1}, \"size\": 15.037593984962406}, \"mode\": \"markers\", \"name\": \"W\", \"showlegend\": true, \"type\": \"scatter\", \"x\": [-1.5, -0.5, -1.0, -1.5, 0.5, 0.0, -0.5, 1.5, 1.0, 0.5, 1.5], \"y\": [-0.8660254037844386, -0.8660254037844386, 0.0, 0.8660254037844386, -0.8660254037844386, 0.0, 0.8660254037844386, -0.8660254037844386, 0.0, 0.8660254037844386, 0.8660254037844386]}, {\"line\": {\"width\": 1}, \"marker\": {\"color\": \"blue\", \"line\": {\"width\": 1}, \"size\": 12.030075187969924}, \"mode\": \"markers\", \"name\": \"Se\", \"showlegend\": true, \"type\": \"scatter\", \"x\": [-1.0, -1.5, 0.0, -0.5, -1.0, 1.0, 0.5, 0.0, 1.5, 1.0, -1.0, -1.5, 0.0, -0.5, -1.0, 1.0, 0.5, 0.0, 1.5, 1.0], \"y\": [-1.1547005383959448, -0.2886751346115063, -1.1547005383959448, -0.2886751346115063, 0.5773502691729323, -1.1547005383959448, -0.2886751346115063, 0.5773502691729323, -0.2886751346115063, 0.5773502691729323, -1.1547005383959448, -0.2886751346115063, -1.1547005383959448, -0.2886751346115063, 0.5773502691729323, -1.1547005383959448, -0.2886751346115063, 0.5773502691729323, -0.2886751346115063, 0.5773502691729323]}],                        {\"template\": {\"data\": {\"bar\": [{\"error_x\": {\"color\": \"#2a3f5f\"}, \"error_y\": {\"color\": \"#2a3f5f\"}, \"marker\": {\"line\": {\"color\": \"#E5ECF6\", \"width\": 0.5}}, \"type\": \"bar\"}], \"barpolar\": [{\"marker\": {\"line\": {\"color\": \"#E5ECF6\", \"width\": 0.5}}, \"type\": \"barpolar\"}], \"carpet\": [{\"aaxis\": {\"endlinecolor\": \"#2a3f5f\", \"gridcolor\": \"white\", \"linecolor\": \"white\", \"minorgridcolor\": \"white\", \"startlinecolor\": \"#2a3f5f\"}, \"baxis\": {\"endlinecolor\": \"#2a3f5f\", \"gridcolor\": \"white\", \"linecolor\": \"white\", \"minorgridcolor\": \"white\", \"startlinecolor\": \"#2a3f5f\"}, \"type\": \"carpet\"}], \"choropleth\": [{\"colorbar\": {\"outlinewidth\": 0, \"ticks\": \"\"}, \"type\": \"choropleth\"}], \"contour\": [{\"colorbar\": {\"outlinewidth\": 0, \"ticks\": \"\"}, \"colorscale\": [[0.0, \"#0d0887\"], [0.1111111111111111, \"#46039f\"], [0.2222222222222222, \"#7201a8\"], [0.3333333333333333, \"#9c179e\"], [0.4444444444444444, \"#bd3786\"], [0.5555555555555556, \"#d8576b\"], [0.6666666666666666, \"#ed7953\"], [0.7777777777777778, \"#fb9f3a\"], [0.8888888888888888, \"#fdca26\"], [1.0, \"#f0f921\"]], \"type\": \"contour\"}], \"contourcarpet\": [{\"colorbar\": {\"outlinewidth\": 0, \"ticks\": \"\"}, \"type\": \"contourcarpet\"}], \"heatmap\": [{\"colorbar\": {\"outlinewidth\": 0, \"ticks\": \"\"}, \"colorscale\": [[0.0, \"#0d0887\"], [0.1111111111111111, \"#46039f\"], [0.2222222222222222, \"#7201a8\"], [0.3333333333333333, \"#9c179e\"], [0.4444444444444444, \"#bd3786\"], [0.5555555555555556, \"#d8576b\"], [0.6666666666666666, \"#ed7953\"], [0.7777777777777778, \"#fb9f3a\"], [0.8888888888888888, \"#fdca26\"], [1.0, \"#f0f921\"]], \"type\": \"heatmap\"}], \"heatmapgl\": [{\"colorbar\": {\"outlinewidth\": 0, \"ticks\": \"\"}, \"colorscale\": [[0.0, \"#0d0887\"], [0.1111111111111111, \"#46039f\"], [0.2222222222222222, \"#7201a8\"], [0.3333333333333333, \"#9c179e\"], [0.4444444444444444, \"#bd3786\"], [0.5555555555555556, \"#d8576b\"], [0.6666666666666666, \"#ed7953\"], [0.7777777777777778, \"#fb9f3a\"], [0.8888888888888888, \"#fdca26\"], [1.0, \"#f0f921\"]], \"type\": \"heatmapgl\"}], \"histogram\": [{\"marker\": {\"colorbar\": {\"outlinewidth\": 0, \"ticks\": \"\"}}, \"type\": \"histogram\"}], \"histogram2d\": [{\"colorbar\": {\"outlinewidth\": 0, \"ticks\": \"\"}, \"colorscale\": [[0.0, \"#0d0887\"], [0.1111111111111111, \"#46039f\"], [0.2222222222222222, \"#7201a8\"], [0.3333333333333333, \"#9c179e\"], [0.4444444444444444, \"#bd3786\"], [0.5555555555555556, \"#d8576b\"], [0.6666666666666666, \"#ed7953\"], [0.7777777777777778, \"#fb9f3a\"], [0.8888888888888888, \"#fdca26\"], [1.0, \"#f0f921\"]], \"type\": \"histogram2d\"}], \"histogram2dcontour\": [{\"colorbar\": {\"outlinewidth\": 0, \"ticks\": \"\"}, \"colorscale\": [[0.0, \"#0d0887\"], [0.1111111111111111, \"#46039f\"], [0.2222222222222222, \"#7201a8\"], [0.3333333333333333, \"#9c179e\"], [0.4444444444444444, \"#bd3786\"], [0.5555555555555556, \"#d8576b\"], [0.6666666666666666, \"#ed7953\"], [0.7777777777777778, \"#fb9f3a\"], [0.8888888888888888, \"#fdca26\"], [1.0, \"#f0f921\"]], \"type\": \"histogram2dcontour\"}], \"mesh3d\": [{\"colorbar\": {\"outlinewidth\": 0, \"ticks\": \"\"}, \"type\": \"mesh3d\"}], \"parcoords\": [{\"line\": {\"colorbar\": {\"outlinewidth\": 0, \"ticks\": \"\"}}, \"type\": \"parcoords\"}], \"pie\": [{\"automargin\": true, \"type\": \"pie\"}], \"scatter\": [{\"marker\": {\"colorbar\": {\"outlinewidth\": 0, \"ticks\": \"\"}}, \"type\": \"scatter\"}], \"scatter3d\": [{\"line\": {\"colorbar\": {\"outlinewidth\": 0, \"ticks\": \"\"}}, \"marker\": {\"colorbar\": {\"outlinewidth\": 0, \"ticks\": \"\"}}, \"type\": \"scatter3d\"}], \"scattercarpet\": [{\"marker\": {\"colorbar\": {\"outlinewidth\": 0, \"ticks\": \"\"}}, \"type\": \"scattercarpet\"}], \"scattergeo\": [{\"marker\": {\"colorbar\": {\"outlinewidth\": 0, \"ticks\": \"\"}}, \"type\": \"scattergeo\"}], \"scattergl\": [{\"marker\": {\"colorbar\": {\"outlinewidth\": 0, \"ticks\": \"\"}}, \"type\": \"scattergl\"}], \"scattermapbox\": [{\"marker\": {\"colorbar\": {\"outlinewidth\": 0, \"ticks\": \"\"}}, \"type\": \"scattermapbox\"}], \"scatterpolar\": [{\"marker\": {\"colorbar\": {\"outlinewidth\": 0, \"ticks\": \"\"}}, \"type\": \"scatterpolar\"}], \"scatterpolargl\": [{\"marker\": {\"colorbar\": {\"outlinewidth\": 0, \"ticks\": \"\"}}, \"type\": \"scatterpolargl\"}], \"scatterternary\": [{\"marker\": {\"colorbar\": {\"outlinewidth\": 0, \"ticks\": \"\"}}, \"type\": \"scatterternary\"}], \"surface\": [{\"colorbar\": {\"outlinewidth\": 0, \"ticks\": \"\"}, \"colorscale\": [[0.0, \"#0d0887\"], [0.1111111111111111, \"#46039f\"], [0.2222222222222222, \"#7201a8\"], [0.3333333333333333, \"#9c179e\"], [0.4444444444444444, \"#bd3786\"], [0.5555555555555556, \"#d8576b\"], [0.6666666666666666, \"#ed7953\"], [0.7777777777777778, \"#fb9f3a\"], [0.8888888888888888, \"#fdca26\"], [1.0, \"#f0f921\"]], \"type\": \"surface\"}], \"table\": [{\"cells\": {\"fill\": {\"color\": \"#EBF0F8\"}, \"line\": {\"color\": \"white\"}}, \"header\": {\"fill\": {\"color\": \"#C8D4E3\"}, \"line\": {\"color\": \"white\"}}, \"type\": \"table\"}]}, \"layout\": {\"annotationdefaults\": {\"arrowcolor\": \"#2a3f5f\", \"arrowhead\": 0, \"arrowwidth\": 1}, \"coloraxis\": {\"colorbar\": {\"outlinewidth\": 0, \"ticks\": \"\"}}, \"colorscale\": {\"diverging\": [[0, \"#8e0152\"], [0.1, \"#c51b7d\"], [0.2, \"#de77ae\"], [0.3, \"#f1b6da\"], [0.4, \"#fde0ef\"], [0.5, \"#f7f7f7\"], [0.6, \"#e6f5d0\"], [0.7, \"#b8e186\"], [0.8, \"#7fbc41\"], [0.9, \"#4d9221\"], [1, \"#276419\"]], \"sequential\": [[0.0, \"#0d0887\"], [0.1111111111111111, \"#46039f\"], [0.2222222222222222, \"#7201a8\"], [0.3333333333333333, \"#9c179e\"], [0.4444444444444444, \"#bd3786\"], [0.5555555555555556, \"#d8576b\"], [0.6666666666666666, \"#ed7953\"], [0.7777777777777778, \"#fb9f3a\"], [0.8888888888888888, \"#fdca26\"], [1.0, \"#f0f921\"]], \"sequentialminus\": [[0.0, \"#0d0887\"], [0.1111111111111111, \"#46039f\"], [0.2222222222222222, \"#7201a8\"], [0.3333333333333333, \"#9c179e\"], [0.4444444444444444, \"#bd3786\"], [0.5555555555555556, \"#d8576b\"], [0.6666666666666666, \"#ed7953\"], [0.7777777777777778, \"#fb9f3a\"], [0.8888888888888888, \"#fdca26\"], [1.0, \"#f0f921\"]]}, \"colorway\": [\"#636efa\", \"#EF553B\", \"#00cc96\", \"#ab63fa\", \"#FFA15A\", \"#19d3f3\", \"#FF6692\", \"#B6E880\", \"#FF97FF\", \"#FECB52\"], \"font\": {\"color\": \"#2a3f5f\"}, \"geo\": {\"bgcolor\": \"white\", \"lakecolor\": \"white\", \"landcolor\": \"#E5ECF6\", \"showlakes\": true, \"showland\": true, \"subunitcolor\": \"white\"}, \"hoverlabel\": {\"align\": \"left\"}, \"hovermode\": \"closest\", \"mapbox\": {\"style\": \"light\"}, \"paper_bgcolor\": \"white\", \"plot_bgcolor\": \"#E5ECF6\", \"polar\": {\"angularaxis\": {\"gridcolor\": \"white\", \"linecolor\": \"white\", \"ticks\": \"\"}, \"bgcolor\": \"#E5ECF6\", \"radialaxis\": {\"gridcolor\": \"white\", \"linecolor\": \"white\", \"ticks\": \"\"}}, \"scene\": {\"xaxis\": {\"backgroundcolor\": \"#E5ECF6\", \"gridcolor\": \"white\", \"gridwidth\": 2, \"linecolor\": \"white\", \"showbackground\": true, \"ticks\": \"\", \"zerolinecolor\": \"white\"}, \"yaxis\": {\"backgroundcolor\": \"#E5ECF6\", \"gridcolor\": \"white\", \"gridwidth\": 2, \"linecolor\": \"white\", \"showbackground\": true, \"ticks\": \"\", \"zerolinecolor\": \"white\"}, \"zaxis\": {\"backgroundcolor\": \"#E5ECF6\", \"gridcolor\": \"white\", \"gridwidth\": 2, \"linecolor\": \"white\", \"showbackground\": true, \"ticks\": \"\", \"zerolinecolor\": \"white\"}}, \"shapedefaults\": {\"line\": {\"color\": \"#2a3f5f\"}}, \"ternary\": {\"aaxis\": {\"gridcolor\": \"white\", \"linecolor\": \"white\", \"ticks\": \"\"}, \"baxis\": {\"gridcolor\": \"white\", \"linecolor\": \"white\", \"ticks\": \"\"}, \"bgcolor\": \"#E5ECF6\", \"caxis\": {\"gridcolor\": \"white\", \"linecolor\": \"white\", \"ticks\": \"\"}}, \"title\": {\"x\": 0.05}, \"xaxis\": {\"automargin\": true, \"gridcolor\": \"white\", \"linecolor\": \"white\", \"ticks\": \"\", \"title\": {\"standoff\": 15}, \"zerolinecolor\": \"white\", \"zerolinewidth\": 2}, \"yaxis\": {\"automargin\": true, \"gridcolor\": \"white\", \"linecolor\": \"white\", \"ticks\": \"\", \"title\": {\"standoff\": 15}, \"zerolinecolor\": \"white\", \"zerolinewidth\": 2}}}, \"xaxis\": {\"range\": [-2.0, 2.0]}, \"yaxis\": {\"range\": [-1.3, 1.3], \"scaleanchor\": \"x\", \"scaleratio\": 1}},                        {\"responsive\": true}                    ).then(function(){\n",
       "                            \n",
       "var gd = document.getElementById('5d7e3abd-2029-4354-a1b4-043cedf3e868');\n",
       "var x = new MutationObserver(function (mutations, observer) {{\n",
       "        var display = window.getComputedStyle(gd).display;\n",
       "        if (!display || display === 'none') {{\n",
       "            console.log([gd, 'removed!']);\n",
       "            Plotly.purge(gd);\n",
       "            observer.disconnect();\n",
       "        }}\n",
       "}});\n",
       "\n",
       "// Listen for the removal of the full notebook cells\n",
       "var notebookContainer = gd.closest('#notebook-container');\n",
       "if (notebookContainer) {{\n",
       "    x.observe(notebookContainer, {childList: true});\n",
       "}}\n",
       "\n",
       "// Listen for the clearing of the current output cell\n",
       "var outputEl = gd.closest('.output');\n",
       "if (outputEl) {{\n",
       "    x.observe(outputEl, {childList: true});\n",
       "}}\n",
       "\n",
       "                        })                };                });            </script>        </div>"
      ]
     },
     "metadata": {},
     "output_type": "display_data"
    }
   ],
   "source": [
    "\n",
    "\n",
    "W_dic = dict(name='W', color='red', draw_radius=50, key= 'W')\n",
    "Se_dic = dict(name='Se', color='blue', draw_radius=40, key='Se')\n",
    "\n",
    "wse2_lat = Lattice(3.325)\n",
    "wse2_lat.set_atom([0, 0], W_dic)\n",
    "wse2_lat.set_atom([0, 1.919689645, 1.67871166], Se_dic)\n",
    "wse2_lat.set_atom([0, 1.919689645, -1.67871166], Se_dic)\n",
    "\n",
    "wse2_lat.plot(4, 2.6, plot_3d=False, all=dict(showlegend=True)).show()"
   ]
  },
  {
   "cell_type": "code",
   "execution_count": 12,
   "metadata": {},
   "outputs": [
    {
     "data": {
      "application/vnd.plotly.v1+json": {
       "config": {
        "plotlyServerURL": "https://plot.ly"
       },
       "data": [
        {
         "line": {
          "width": 1
         },
         "marker": {
          "color": "red",
          "line": {
           "width": 1
          },
          "size": 15.037593984962406
         },
         "mode": "markers",
         "name": "W",
         "showlegend": true,
         "type": "scatter3d",
         "x": [
          -0.5,
          -1,
          0.5,
          0,
          -0.5,
          1,
          0.5
         ],
         "y": [
          -0.8660254037844386,
          0,
          -0.8660254037844386,
          0,
          0.8660254037844386,
          0,
          0.8660254037844386
         ],
         "z": [
          0,
          0,
          0,
          0,
          0,
          0,
          0
         ]
        },
        {
         "line": {
          "width": 1
         },
         "marker": {
          "color": "blue",
          "line": {
           "width": 1
          },
          "size": 12.030075187969924
         },
         "mode": "markers",
         "name": "Se",
         "showlegend": true,
         "type": "scatter3d",
         "x": [
          -1,
          0,
          -0.5,
          -1,
          1,
          0.5,
          0,
          -0.5,
          1,
          0.5,
          -1,
          0,
          -0.5,
          -1,
          1,
          0.5,
          0,
          -0.5,
          1,
          0.5
         ],
         "y": [
          -1.1547005383959448,
          -1.1547005383959448,
          -0.2886751346115063,
          0.5773502691729323,
          -1.1547005383959448,
          -0.2886751346115063,
          0.5773502691729323,
          1.4433756729573708,
          0.5773502691729323,
          1.4433756729573708,
          -1.1547005383959448,
          -1.1547005383959448,
          -0.2886751346115063,
          0.5773502691729323,
          -1.1547005383959448,
          -0.2886751346115063,
          0.5773502691729323,
          1.4433756729573708,
          0.5773502691729323,
          1.4433756729573708
         ],
         "z": [
          0.5048756872180451,
          0.5048756872180451,
          0.5048756872180451,
          0.5048756872180451,
          0.5048756872180451,
          0.5048756872180451,
          0.5048756872180451,
          0.5048756872180451,
          0.5048756872180451,
          0.5048756872180451,
          -0.5048756872180451,
          -0.5048756872180451,
          -0.5048756872180451,
          -0.5048756872180451,
          -0.5048756872180451,
          -0.5048756872180451,
          -0.5048756872180451,
          -0.5048756872180451,
          -0.5048756872180451,
          -0.5048756872180451
         ]
        }
       ],
       "layout": {
        "autosize": true,
        "scene": {
         "aspectmode": "auto",
         "aspectratio": {
          "x": 1.1509714489678031,
          "y": 1.495155770755053,
          "z": 0.5810975012659687
         },
         "camera": {
          "center": {
           "x": 0,
           "y": 0,
           "z": 0
          },
          "eye": {
           "x": 1.3187296029778963,
           "y": 1.2426128012807045,
           "z": 0.9960995384113718
          },
          "projection": {
           "type": "perspective"
          },
          "up": {
           "x": 0,
           "y": 0,
           "z": 1
          }
         },
         "zaxis": {
          "range": [
           -1.5,
           1.5
          ],
          "type": "linear"
         }
        },
        "template": {
         "data": {
          "bar": [
           {
            "error_x": {
             "color": "#2a3f5f"
            },
            "error_y": {
             "color": "#2a3f5f"
            },
            "marker": {
             "line": {
              "color": "#E5ECF6",
              "width": 0.5
             }
            },
            "type": "bar"
           }
          ],
          "barpolar": [
           {
            "marker": {
             "line": {
              "color": "#E5ECF6",
              "width": 0.5
             }
            },
            "type": "barpolar"
           }
          ],
          "carpet": [
           {
            "aaxis": {
             "endlinecolor": "#2a3f5f",
             "gridcolor": "white",
             "linecolor": "white",
             "minorgridcolor": "white",
             "startlinecolor": "#2a3f5f"
            },
            "baxis": {
             "endlinecolor": "#2a3f5f",
             "gridcolor": "white",
             "linecolor": "white",
             "minorgridcolor": "white",
             "startlinecolor": "#2a3f5f"
            },
            "type": "carpet"
           }
          ],
          "choropleth": [
           {
            "colorbar": {
             "outlinewidth": 0,
             "ticks": ""
            },
            "type": "choropleth"
           }
          ],
          "contour": [
           {
            "colorbar": {
             "outlinewidth": 0,
             "ticks": ""
            },
            "colorscale": [
             [
              0,
              "#0d0887"
             ],
             [
              0.1111111111111111,
              "#46039f"
             ],
             [
              0.2222222222222222,
              "#7201a8"
             ],
             [
              0.3333333333333333,
              "#9c179e"
             ],
             [
              0.4444444444444444,
              "#bd3786"
             ],
             [
              0.5555555555555556,
              "#d8576b"
             ],
             [
              0.6666666666666666,
              "#ed7953"
             ],
             [
              0.7777777777777778,
              "#fb9f3a"
             ],
             [
              0.8888888888888888,
              "#fdca26"
             ],
             [
              1,
              "#f0f921"
             ]
            ],
            "type": "contour"
           }
          ],
          "contourcarpet": [
           {
            "colorbar": {
             "outlinewidth": 0,
             "ticks": ""
            },
            "type": "contourcarpet"
           }
          ],
          "heatmap": [
           {
            "colorbar": {
             "outlinewidth": 0,
             "ticks": ""
            },
            "colorscale": [
             [
              0,
              "#0d0887"
             ],
             [
              0.1111111111111111,
              "#46039f"
             ],
             [
              0.2222222222222222,
              "#7201a8"
             ],
             [
              0.3333333333333333,
              "#9c179e"
             ],
             [
              0.4444444444444444,
              "#bd3786"
             ],
             [
              0.5555555555555556,
              "#d8576b"
             ],
             [
              0.6666666666666666,
              "#ed7953"
             ],
             [
              0.7777777777777778,
              "#fb9f3a"
             ],
             [
              0.8888888888888888,
              "#fdca26"
             ],
             [
              1,
              "#f0f921"
             ]
            ],
            "type": "heatmap"
           }
          ],
          "heatmapgl": [
           {
            "colorbar": {
             "outlinewidth": 0,
             "ticks": ""
            },
            "colorscale": [
             [
              0,
              "#0d0887"
             ],
             [
              0.1111111111111111,
              "#46039f"
             ],
             [
              0.2222222222222222,
              "#7201a8"
             ],
             [
              0.3333333333333333,
              "#9c179e"
             ],
             [
              0.4444444444444444,
              "#bd3786"
             ],
             [
              0.5555555555555556,
              "#d8576b"
             ],
             [
              0.6666666666666666,
              "#ed7953"
             ],
             [
              0.7777777777777778,
              "#fb9f3a"
             ],
             [
              0.8888888888888888,
              "#fdca26"
             ],
             [
              1,
              "#f0f921"
             ]
            ],
            "type": "heatmapgl"
           }
          ],
          "histogram": [
           {
            "marker": {
             "colorbar": {
              "outlinewidth": 0,
              "ticks": ""
             }
            },
            "type": "histogram"
           }
          ],
          "histogram2d": [
           {
            "colorbar": {
             "outlinewidth": 0,
             "ticks": ""
            },
            "colorscale": [
             [
              0,
              "#0d0887"
             ],
             [
              0.1111111111111111,
              "#46039f"
             ],
             [
              0.2222222222222222,
              "#7201a8"
             ],
             [
              0.3333333333333333,
              "#9c179e"
             ],
             [
              0.4444444444444444,
              "#bd3786"
             ],
             [
              0.5555555555555556,
              "#d8576b"
             ],
             [
              0.6666666666666666,
              "#ed7953"
             ],
             [
              0.7777777777777778,
              "#fb9f3a"
             ],
             [
              0.8888888888888888,
              "#fdca26"
             ],
             [
              1,
              "#f0f921"
             ]
            ],
            "type": "histogram2d"
           }
          ],
          "histogram2dcontour": [
           {
            "colorbar": {
             "outlinewidth": 0,
             "ticks": ""
            },
            "colorscale": [
             [
              0,
              "#0d0887"
             ],
             [
              0.1111111111111111,
              "#46039f"
             ],
             [
              0.2222222222222222,
              "#7201a8"
             ],
             [
              0.3333333333333333,
              "#9c179e"
             ],
             [
              0.4444444444444444,
              "#bd3786"
             ],
             [
              0.5555555555555556,
              "#d8576b"
             ],
             [
              0.6666666666666666,
              "#ed7953"
             ],
             [
              0.7777777777777778,
              "#fb9f3a"
             ],
             [
              0.8888888888888888,
              "#fdca26"
             ],
             [
              1,
              "#f0f921"
             ]
            ],
            "type": "histogram2dcontour"
           }
          ],
          "mesh3d": [
           {
            "colorbar": {
             "outlinewidth": 0,
             "ticks": ""
            },
            "type": "mesh3d"
           }
          ],
          "parcoords": [
           {
            "line": {
             "colorbar": {
              "outlinewidth": 0,
              "ticks": ""
             }
            },
            "type": "parcoords"
           }
          ],
          "pie": [
           {
            "automargin": true,
            "type": "pie"
           }
          ],
          "scatter": [
           {
            "marker": {
             "colorbar": {
              "outlinewidth": 0,
              "ticks": ""
             }
            },
            "type": "scatter"
           }
          ],
          "scatter3d": [
           {
            "line": {
             "colorbar": {
              "outlinewidth": 0,
              "ticks": ""
             }
            },
            "marker": {
             "colorbar": {
              "outlinewidth": 0,
              "ticks": ""
             }
            },
            "type": "scatter3d"
           }
          ],
          "scattercarpet": [
           {
            "marker": {
             "colorbar": {
              "outlinewidth": 0,
              "ticks": ""
             }
            },
            "type": "scattercarpet"
           }
          ],
          "scattergeo": [
           {
            "marker": {
             "colorbar": {
              "outlinewidth": 0,
              "ticks": ""
             }
            },
            "type": "scattergeo"
           }
          ],
          "scattergl": [
           {
            "marker": {
             "colorbar": {
              "outlinewidth": 0,
              "ticks": ""
             }
            },
            "type": "scattergl"
           }
          ],
          "scattermapbox": [
           {
            "marker": {
             "colorbar": {
              "outlinewidth": 0,
              "ticks": ""
             }
            },
            "type": "scattermapbox"
           }
          ],
          "scatterpolar": [
           {
            "marker": {
             "colorbar": {
              "outlinewidth": 0,
              "ticks": ""
             }
            },
            "type": "scatterpolar"
           }
          ],
          "scatterpolargl": [
           {
            "marker": {
             "colorbar": {
              "outlinewidth": 0,
              "ticks": ""
             }
            },
            "type": "scatterpolargl"
           }
          ],
          "scatterternary": [
           {
            "marker": {
             "colorbar": {
              "outlinewidth": 0,
              "ticks": ""
             }
            },
            "type": "scatterternary"
           }
          ],
          "surface": [
           {
            "colorbar": {
             "outlinewidth": 0,
             "ticks": ""
            },
            "colorscale": [
             [
              0,
              "#0d0887"
             ],
             [
              0.1111111111111111,
              "#46039f"
             ],
             [
              0.2222222222222222,
              "#7201a8"
             ],
             [
              0.3333333333333333,
              "#9c179e"
             ],
             [
              0.4444444444444444,
              "#bd3786"
             ],
             [
              0.5555555555555556,
              "#d8576b"
             ],
             [
              0.6666666666666666,
              "#ed7953"
             ],
             [
              0.7777777777777778,
              "#fb9f3a"
             ],
             [
              0.8888888888888888,
              "#fdca26"
             ],
             [
              1,
              "#f0f921"
             ]
            ],
            "type": "surface"
           }
          ],
          "table": [
           {
            "cells": {
             "fill": {
              "color": "#EBF0F8"
             },
             "line": {
              "color": "white"
             }
            },
            "header": {
             "fill": {
              "color": "#C8D4E3"
             },
             "line": {
              "color": "white"
             }
            },
            "type": "table"
           }
          ]
         },
         "layout": {
          "annotationdefaults": {
           "arrowcolor": "#2a3f5f",
           "arrowhead": 0,
           "arrowwidth": 1
          },
          "coloraxis": {
           "colorbar": {
            "outlinewidth": 0,
            "ticks": ""
           }
          },
          "colorscale": {
           "diverging": [
            [
             0,
             "#8e0152"
            ],
            [
             0.1,
             "#c51b7d"
            ],
            [
             0.2,
             "#de77ae"
            ],
            [
             0.3,
             "#f1b6da"
            ],
            [
             0.4,
             "#fde0ef"
            ],
            [
             0.5,
             "#f7f7f7"
            ],
            [
             0.6,
             "#e6f5d0"
            ],
            [
             0.7,
             "#b8e186"
            ],
            [
             0.8,
             "#7fbc41"
            ],
            [
             0.9,
             "#4d9221"
            ],
            [
             1,
             "#276419"
            ]
           ],
           "sequential": [
            [
             0,
             "#0d0887"
            ],
            [
             0.1111111111111111,
             "#46039f"
            ],
            [
             0.2222222222222222,
             "#7201a8"
            ],
            [
             0.3333333333333333,
             "#9c179e"
            ],
            [
             0.4444444444444444,
             "#bd3786"
            ],
            [
             0.5555555555555556,
             "#d8576b"
            ],
            [
             0.6666666666666666,
             "#ed7953"
            ],
            [
             0.7777777777777778,
             "#fb9f3a"
            ],
            [
             0.8888888888888888,
             "#fdca26"
            ],
            [
             1,
             "#f0f921"
            ]
           ],
           "sequentialminus": [
            [
             0,
             "#0d0887"
            ],
            [
             0.1111111111111111,
             "#46039f"
            ],
            [
             0.2222222222222222,
             "#7201a8"
            ],
            [
             0.3333333333333333,
             "#9c179e"
            ],
            [
             0.4444444444444444,
             "#bd3786"
            ],
            [
             0.5555555555555556,
             "#d8576b"
            ],
            [
             0.6666666666666666,
             "#ed7953"
            ],
            [
             0.7777777777777778,
             "#fb9f3a"
            ],
            [
             0.8888888888888888,
             "#fdca26"
            ],
            [
             1,
             "#f0f921"
            ]
           ]
          },
          "colorway": [
           "#636efa",
           "#EF553B",
           "#00cc96",
           "#ab63fa",
           "#FFA15A",
           "#19d3f3",
           "#FF6692",
           "#B6E880",
           "#FF97FF",
           "#FECB52"
          ],
          "font": {
           "color": "#2a3f5f"
          },
          "geo": {
           "bgcolor": "white",
           "lakecolor": "white",
           "landcolor": "#E5ECF6",
           "showlakes": true,
           "showland": true,
           "subunitcolor": "white"
          },
          "hoverlabel": {
           "align": "left"
          },
          "hovermode": "closest",
          "mapbox": {
           "style": "light"
          },
          "paper_bgcolor": "white",
          "plot_bgcolor": "#E5ECF6",
          "polar": {
           "angularaxis": {
            "gridcolor": "white",
            "linecolor": "white",
            "ticks": ""
           },
           "bgcolor": "#E5ECF6",
           "radialaxis": {
            "gridcolor": "white",
            "linecolor": "white",
            "ticks": ""
           }
          },
          "scene": {
           "xaxis": {
            "backgroundcolor": "#E5ECF6",
            "gridcolor": "white",
            "gridwidth": 2,
            "linecolor": "white",
            "showbackground": true,
            "ticks": "",
            "zerolinecolor": "white"
           },
           "yaxis": {
            "backgroundcolor": "#E5ECF6",
            "gridcolor": "white",
            "gridwidth": 2,
            "linecolor": "white",
            "showbackground": true,
            "ticks": "",
            "zerolinecolor": "white"
           },
           "zaxis": {
            "backgroundcolor": "#E5ECF6",
            "gridcolor": "white",
            "gridwidth": 2,
            "linecolor": "white",
            "showbackground": true,
            "ticks": "",
            "zerolinecolor": "white"
           }
          },
          "shapedefaults": {
           "line": {
            "color": "#2a3f5f"
           }
          },
          "ternary": {
           "aaxis": {
            "gridcolor": "white",
            "linecolor": "white",
            "ticks": ""
           },
           "baxis": {
            "gridcolor": "white",
            "linecolor": "white",
            "ticks": ""
           },
           "bgcolor": "#E5ECF6",
           "caxis": {
            "gridcolor": "white",
            "linecolor": "white",
            "ticks": ""
           }
          },
          "title": {
           "x": 0.05
          },
          "xaxis": {
           "automargin": true,
           "gridcolor": "white",
           "linecolor": "white",
           "ticks": "",
           "title": {
            "standoff": 15
           },
           "zerolinecolor": "white",
           "zerolinewidth": 2
          },
          "yaxis": {
           "automargin": true,
           "gridcolor": "white",
           "linecolor": "white",
           "ticks": "",
           "title": {
            "standoff": 15
           },
           "zerolinecolor": "white",
           "zerolinewidth": 2
          }
         }
        },
        "xaxis": {
         "range": [
          -1.5,
          1.5
         ]
        },
        "yaxis": {
         "range": [
          -1.5,
          1.5
         ],
         "scaleanchor": "x",
         "scaleratio": 1
        }
       }
      },
      "image/png": "[encoded data removed]",
      "text/html": [
       "<div>                            <div id=\"202620b5-bd8b-49e9-bc9b-08903d21e353\" class=\"plotly-graph-div\" style=\"height:525px; width:100%;\"></div>            <script type=\"text/javascript\">                require([\"plotly\"], function(Plotly) {                    window.PLOTLYENV=window.PLOTLYENV || {};                                    if (document.getElementById(\"202620b5-bd8b-49e9-bc9b-08903d21e353\")) {                    Plotly.newPlot(                        \"202620b5-bd8b-49e9-bc9b-08903d21e353\",                        [{\"line\": {\"width\": 1}, \"marker\": {\"color\": \"red\", \"line\": {\"width\": 1}, \"size\": 15.037593984962406}, \"mode\": \"markers\", \"name\": \"W\", \"showlegend\": true, \"type\": \"scatter3d\", \"x\": [-0.5, -1.0, 0.5, 0.0, -0.5, 1.0, 0.5], \"y\": [-0.8660254037844386, 0.0, -0.8660254037844386, 0.0, 0.8660254037844386, 0.0, 0.8660254037844386], \"z\": [0.0, 0.0, 0.0, 0.0, 0.0, 0.0, 0.0]}, {\"line\": {\"width\": 1}, \"marker\": {\"color\": \"blue\", \"line\": {\"width\": 1}, \"size\": 12.030075187969924}, \"mode\": \"markers\", \"name\": \"Se\", \"showlegend\": true, \"type\": \"scatter3d\", \"x\": [-1.0, 0.0, -0.5, -1.0, 1.0, 0.5, 0.0, -0.5, 1.0, 0.5, -1.0, 0.0, -0.5, -1.0, 1.0, 0.5, 0.0, -0.5, 1.0, 0.5], \"y\": [-1.1547005383959448, -1.1547005383959448, -0.2886751346115063, 0.5773502691729323, -1.1547005383959448, -0.2886751346115063, 0.5773502691729323, 1.4433756729573708, 0.5773502691729323, 1.4433756729573708, -1.1547005383959448, -1.1547005383959448, -0.2886751346115063, 0.5773502691729323, -1.1547005383959448, -0.2886751346115063, 0.5773502691729323, 1.4433756729573708, 0.5773502691729323, 1.4433756729573708], \"z\": [0.5048756872180451, 0.5048756872180451, 0.5048756872180451, 0.5048756872180451, 0.5048756872180451, 0.5048756872180451, 0.5048756872180451, 0.5048756872180451, 0.5048756872180451, 0.5048756872180451, -0.5048756872180451, -0.5048756872180451, -0.5048756872180451, -0.5048756872180451, -0.5048756872180451, -0.5048756872180451, -0.5048756872180451, -0.5048756872180451, -0.5048756872180451, -0.5048756872180451]}],                        {\"scene\": {\"zaxis\": {\"range\": [-1.5, 1.5]}}, \"template\": {\"data\": {\"bar\": [{\"error_x\": {\"color\": \"#2a3f5f\"}, \"error_y\": {\"color\": \"#2a3f5f\"}, \"marker\": {\"line\": {\"color\": \"#E5ECF6\", \"width\": 0.5}}, \"type\": \"bar\"}], \"barpolar\": [{\"marker\": {\"line\": {\"color\": \"#E5ECF6\", \"width\": 0.5}}, \"type\": \"barpolar\"}], \"carpet\": [{\"aaxis\": {\"endlinecolor\": \"#2a3f5f\", \"gridcolor\": \"white\", \"linecolor\": \"white\", \"minorgridcolor\": \"white\", \"startlinecolor\": \"#2a3f5f\"}, \"baxis\": {\"endlinecolor\": \"#2a3f5f\", \"gridcolor\": \"white\", \"linecolor\": \"white\", \"minorgridcolor\": \"white\", \"startlinecolor\": \"#2a3f5f\"}, \"type\": \"carpet\"}], \"choropleth\": [{\"colorbar\": {\"outlinewidth\": 0, \"ticks\": \"\"}, \"type\": \"choropleth\"}], \"contour\": [{\"colorbar\": {\"outlinewidth\": 0, \"ticks\": \"\"}, \"colorscale\": [[0.0, \"#0d0887\"], [0.1111111111111111, \"#46039f\"], [0.2222222222222222, \"#7201a8\"], [0.3333333333333333, \"#9c179e\"], [0.4444444444444444, \"#bd3786\"], [0.5555555555555556, \"#d8576b\"], [0.6666666666666666, \"#ed7953\"], [0.7777777777777778, \"#fb9f3a\"], [0.8888888888888888, \"#fdca26\"], [1.0, \"#f0f921\"]], \"type\": \"contour\"}], \"contourcarpet\": [{\"colorbar\": {\"outlinewidth\": 0, \"ticks\": \"\"}, \"type\": \"contourcarpet\"}], \"heatmap\": [{\"colorbar\": {\"outlinewidth\": 0, \"ticks\": \"\"}, \"colorscale\": [[0.0, \"#0d0887\"], [0.1111111111111111, \"#46039f\"], [0.2222222222222222, \"#7201a8\"], [0.3333333333333333, \"#9c179e\"], [0.4444444444444444, \"#bd3786\"], [0.5555555555555556, \"#d8576b\"], [0.6666666666666666, \"#ed7953\"], [0.7777777777777778, \"#fb9f3a\"], [0.8888888888888888, \"#fdca26\"], [1.0, \"#f0f921\"]], \"type\": \"heatmap\"}], \"heatmapgl\": [{\"colorbar\": {\"outlinewidth\": 0, \"ticks\": \"\"}, \"colorscale\": [[0.0, \"#0d0887\"], [0.1111111111111111, \"#46039f\"], [0.2222222222222222, \"#7201a8\"], [0.3333333333333333, \"#9c179e\"], [0.4444444444444444, \"#bd3786\"], [0.5555555555555556, \"#d8576b\"], [0.6666666666666666, \"#ed7953\"], [0.7777777777777778, \"#fb9f3a\"], [0.8888888888888888, \"#fdca26\"], [1.0, \"#f0f921\"]], \"type\": \"heatmapgl\"}], \"histogram\": [{\"marker\": {\"colorbar\": {\"outlinewidth\": 0, \"ticks\": \"\"}}, \"type\": \"histogram\"}], \"histogram2d\": [{\"colorbar\": {\"outlinewidth\": 0, \"ticks\": \"\"}, \"colorscale\": [[0.0, \"#0d0887\"], [0.1111111111111111, \"#46039f\"], [0.2222222222222222, \"#7201a8\"], [0.3333333333333333, \"#9c179e\"], [0.4444444444444444, \"#bd3786\"], [0.5555555555555556, \"#d8576b\"], [0.6666666666666666, \"#ed7953\"], [0.7777777777777778, \"#fb9f3a\"], [0.8888888888888888, \"#fdca26\"], [1.0, \"#f0f921\"]], \"type\": \"histogram2d\"}], \"histogram2dcontour\": [{\"colorbar\": {\"outlinewidth\": 0, \"ticks\": \"\"}, \"colorscale\": [[0.0, \"#0d0887\"], [0.1111111111111111, \"#46039f\"], [0.2222222222222222, \"#7201a8\"], [0.3333333333333333, \"#9c179e\"], [0.4444444444444444, \"#bd3786\"], [0.5555555555555556, \"#d8576b\"], [0.6666666666666666, \"#ed7953\"], [0.7777777777777778, \"#fb9f3a\"], [0.8888888888888888, \"#fdca26\"], [1.0, \"#f0f921\"]], \"type\": \"histogram2dcontour\"}], \"mesh3d\": [{\"colorbar\": {\"outlinewidth\": 0, \"ticks\": \"\"}, \"type\": \"mesh3d\"}], \"parcoords\": [{\"line\": {\"colorbar\": {\"outlinewidth\": 0, \"ticks\": \"\"}}, \"type\": \"parcoords\"}], \"pie\": [{\"automargin\": true, \"type\": \"pie\"}], \"scatter\": [{\"marker\": {\"colorbar\": {\"outlinewidth\": 0, \"ticks\": \"\"}}, \"type\": \"scatter\"}], \"scatter3d\": [{\"line\": {\"colorbar\": {\"outlinewidth\": 0, \"ticks\": \"\"}}, \"marker\": {\"colorbar\": {\"outlinewidth\": 0, \"ticks\": \"\"}}, \"type\": \"scatter3d\"}], \"scattercarpet\": [{\"marker\": {\"colorbar\": {\"outlinewidth\": 0, \"ticks\": \"\"}}, \"type\": \"scattercarpet\"}], \"scattergeo\": [{\"marker\": {\"colorbar\": {\"outlinewidth\": 0, \"ticks\": \"\"}}, \"type\": \"scattergeo\"}], \"scattergl\": [{\"marker\": {\"colorbar\": {\"outlinewidth\": 0, \"ticks\": \"\"}}, \"type\": \"scattergl\"}], \"scattermapbox\": [{\"marker\": {\"colorbar\": {\"outlinewidth\": 0, \"ticks\": \"\"}}, \"type\": \"scattermapbox\"}], \"scatterpolar\": [{\"marker\": {\"colorbar\": {\"outlinewidth\": 0, \"ticks\": \"\"}}, \"type\": \"scatterpolar\"}], \"scatterpolargl\": [{\"marker\": {\"colorbar\": {\"outlinewidth\": 0, \"ticks\": \"\"}}, \"type\": \"scatterpolargl\"}], \"scatterternary\": [{\"marker\": {\"colorbar\": {\"outlinewidth\": 0, \"ticks\": \"\"}}, \"type\": \"scatterternary\"}], \"surface\": [{\"colorbar\": {\"outlinewidth\": 0, \"ticks\": \"\"}, \"colorscale\": [[0.0, \"#0d0887\"], [0.1111111111111111, \"#46039f\"], [0.2222222222222222, \"#7201a8\"], [0.3333333333333333, \"#9c179e\"], [0.4444444444444444, \"#bd3786\"], [0.5555555555555556, \"#d8576b\"], [0.6666666666666666, \"#ed7953\"], [0.7777777777777778, \"#fb9f3a\"], [0.8888888888888888, \"#fdca26\"], [1.0, \"#f0f921\"]], \"type\": \"surface\"}], \"table\": [{\"cells\": {\"fill\": {\"color\": \"#EBF0F8\"}, \"line\": {\"color\": \"white\"}}, \"header\": {\"fill\": {\"color\": \"#C8D4E3\"}, \"line\": {\"color\": \"white\"}}, \"type\": \"table\"}]}, \"layout\": {\"annotationdefaults\": {\"arrowcolor\": \"#2a3f5f\", \"arrowhead\": 0, \"arrowwidth\": 1}, \"coloraxis\": {\"colorbar\": {\"outlinewidth\": 0, \"ticks\": \"\"}}, \"colorscale\": {\"diverging\": [[0, \"#8e0152\"], [0.1, \"#c51b7d\"], [0.2, \"#de77ae\"], [0.3, \"#f1b6da\"], [0.4, \"#fde0ef\"], [0.5, \"#f7f7f7\"], [0.6, \"#e6f5d0\"], [0.7, \"#b8e186\"], [0.8, \"#7fbc41\"], [0.9, \"#4d9221\"], [1, \"#276419\"]], \"sequential\": [[0.0, \"#0d0887\"], [0.1111111111111111, \"#46039f\"], [0.2222222222222222, \"#7201a8\"], [0.3333333333333333, \"#9c179e\"], [0.4444444444444444, \"#bd3786\"], [0.5555555555555556, \"#d8576b\"], [0.6666666666666666, \"#ed7953\"], [0.7777777777777778, \"#fb9f3a\"], [0.8888888888888888, \"#fdca26\"], [1.0, \"#f0f921\"]], \"sequentialminus\": [[0.0, \"#0d0887\"], [0.1111111111111111, \"#46039f\"], [0.2222222222222222, \"#7201a8\"], [0.3333333333333333, \"#9c179e\"], [0.4444444444444444, \"#bd3786\"], [0.5555555555555556, \"#d8576b\"], [0.6666666666666666, \"#ed7953\"], [0.7777777777777778, \"#fb9f3a\"], [0.8888888888888888, \"#fdca26\"], [1.0, \"#f0f921\"]]}, \"colorway\": [\"#636efa\", \"#EF553B\", \"#00cc96\", \"#ab63fa\", \"#FFA15A\", \"#19d3f3\", \"#FF6692\", \"#B6E880\", \"#FF97FF\", \"#FECB52\"], \"font\": {\"color\": \"#2a3f5f\"}, \"geo\": {\"bgcolor\": \"white\", \"lakecolor\": \"white\", \"landcolor\": \"#E5ECF6\", \"showlakes\": true, \"showland\": true, \"subunitcolor\": \"white\"}, \"hoverlabel\": {\"align\": \"left\"}, \"hovermode\": \"closest\", \"mapbox\": {\"style\": \"light\"}, \"paper_bgcolor\": \"white\", \"plot_bgcolor\": \"#E5ECF6\", \"polar\": {\"angularaxis\": {\"gridcolor\": \"white\", \"linecolor\": \"white\", \"ticks\": \"\"}, \"bgcolor\": \"#E5ECF6\", \"radialaxis\": {\"gridcolor\": \"white\", \"linecolor\": \"white\", \"ticks\": \"\"}}, \"scene\": {\"xaxis\": {\"backgroundcolor\": \"#E5ECF6\", \"gridcolor\": \"white\", \"gridwidth\": 2, \"linecolor\": \"white\", \"showbackground\": true, \"ticks\": \"\", \"zerolinecolor\": \"white\"}, \"yaxis\": {\"backgroundcolor\": \"#E5ECF6\", \"gridcolor\": \"white\", \"gridwidth\": 2, \"linecolor\": \"white\", \"showbackground\": true, \"ticks\": \"\", \"zerolinecolor\": \"white\"}, \"zaxis\": {\"backgroundcolor\": \"#E5ECF6\", \"gridcolor\": \"white\", \"gridwidth\": 2, \"linecolor\": \"white\", \"showbackground\": true, \"ticks\": \"\", \"zerolinecolor\": \"white\"}}, \"shapedefaults\": {\"line\": {\"color\": \"#2a3f5f\"}}, \"ternary\": {\"aaxis\": {\"gridcolor\": \"white\", \"linecolor\": \"white\", \"ticks\": \"\"}, \"baxis\": {\"gridcolor\": \"white\", \"linecolor\": \"white\", \"ticks\": \"\"}, \"bgcolor\": \"#E5ECF6\", \"caxis\": {\"gridcolor\": \"white\", \"linecolor\": \"white\", \"ticks\": \"\"}}, \"title\": {\"x\": 0.05}, \"xaxis\": {\"automargin\": true, \"gridcolor\": \"white\", \"linecolor\": \"white\", \"ticks\": \"\", \"title\": {\"standoff\": 15}, \"zerolinecolor\": \"white\", \"zerolinewidth\": 2}, \"yaxis\": {\"automargin\": true, \"gridcolor\": \"white\", \"linecolor\": \"white\", \"ticks\": \"\", \"title\": {\"standoff\": 15}, \"zerolinecolor\": \"white\", \"zerolinewidth\": 2}}}, \"xaxis\": {\"range\": [-1.5, 1.5]}, \"yaxis\": {\"range\": [-1.5, 1.5], \"scaleanchor\": \"x\", \"scaleratio\": 1}},                        {\"responsive\": true}                    ).then(function(){\n",
       "                            \n",
       "var gd = document.getElementById('202620b5-bd8b-49e9-bc9b-08903d21e353');\n",
       "var x = new MutationObserver(function (mutations, observer) {{\n",
       "        var display = window.getComputedStyle(gd).display;\n",
       "        if (!display || display === 'none') {{\n",
       "            console.log([gd, 'removed!']);\n",
       "            Plotly.purge(gd);\n",
       "            observer.disconnect();\n",
       "        }}\n",
       "}});\n",
       "\n",
       "// Listen for the removal of the full notebook cells\n",
       "var notebookContainer = gd.closest('#notebook-container');\n",
       "if (notebookContainer) {{\n",
       "    x.observe(notebookContainer, {childList: true});\n",
       "}}\n",
       "\n",
       "// Listen for the clearing of the current output cell\n",
       "var outputEl = gd.closest('.output');\n",
       "if (outputEl) {{\n",
       "    x.observe(outputEl, {childList: true});\n",
       "}}\n",
       "\n",
       "                        })                };                });            </script>        </div>"
      ]
     },
     "metadata": {},
     "output_type": "display_data"
    }
   ],
   "source": [
    "wse2_lat.plot(3, 3, plot_3d=True, all=dict(showlegend=True)).show()"
   ]
  },
  {
   "cell_type": "markdown",
   "metadata": {},
   "source": [
    "with real space unit vectors:\n",
    "\n",
    "$$\n",
    "\\vec a_1=\\begin{pmatrix}1\\\\ 0\\end{pmatrix}\\text{ and } \\vec a_2=\\frac12\\begin{pmatrix}1\\\\ \\sqrt{3}\\end{pmatrix},    \n",
    "$$\n",
    "\n",
    "and reciprocal lattice vectors:\n",
    "\n",
    "$$\n",
    "\\vec b_1=2\\pi\\begin{pmatrix}1\\\\ -1/\\sqrt{3}\\end{pmatrix}\\text{ and } \\vec b_2=2\\pi\\begin{pmatrix}0\\\\ 2/\\sqrt{3}\\end{pmatrix},    \n",
    "$$\n",
    "\n",
    "where length is in units of the lattice spacing $a$ between two tungsten atoms."
   ]
  },
  {
   "cell_type": "markdown",
   "metadata": {},
   "source": [
    "## Symmetries\n",
    "\n",
    "The symmetric point group of this triangular lattice is $D_3$ with generators $\\{C_3, \\sigma\\}$. $C_3$ is a rotation of $2\\pi/3$ in the $xy$ plane and $\\sigma$ is a reflection with respect to the bisector of $\\vec a_1$ and $\\vec a_2$. $C_6$ is not a symmetry element of this lattice since this operation exchanges triangles containing Se$_2$ and empty triangles.\n",
    "\n",
    "We restrict the orbitals of tungsten to the $d$ orbitals $d_{x^2-y^2}$, $d_{xy}$ and $d_{z^2}$, which dictate the low energy $K$ points. The other orbitals are either at a different energy scale or do not mix with these orbitals due to the symmetries of the lattice. The tight binding hopping matrix between these orbitals in the hopping direction $\\vec a_1$ writes:\n",
    "\n",
    "$$\n",
    "    \\mathcal H_0 = \\begin{pmatrix}\n",
    "        t_1&t_{12}&t_{13}\\\\\n",
    "        -t_{12}&t_2&t_{23}\\\\\n",
    "        t_{13}&-t_{23}&t_3\n",
    "    \\end{pmatrix},\n",
    "$$\n",
    "\n",
    "in the basis $(d_{x^2-y^2}\\, d_{xy}\\,d_{z^2})$."
   ]
  },
  {
   "cell_type": "code",
   "execution_count": 15,
   "metadata": {},
   "outputs": [
    {
     "data": {
      "text/plain": [
       "0.034"
      ]
     },
     "metadata": {
      "scrapbook": {
       "mime_prefix": "",
       "name": "var:t_1"
      }
     },
     "output_type": "display_data"
    },
    {
     "data": {
      "text/plain": [
       "0.263"
      ]
     },
     "metadata": {
      "scrapbook": {
       "mime_prefix": "",
       "name": "var:t_2"
      }
     },
     "output_type": "display_data"
    },
    {
     "data": {
      "text/plain": [
       "-0.207"
      ]
     },
     "metadata": {
      "scrapbook": {
       "mime_prefix": "",
       "name": "var:t_3"
      }
     },
     "output_type": "display_data"
    },
    {
     "data": {
      "text/plain": [
       "0.329"
      ]
     },
     "metadata": {
      "scrapbook": {
       "mime_prefix": "",
       "name": "var:t_12"
      }
     },
     "output_type": "display_data"
    },
    {
     "data": {
      "text/plain": [
       "0.486"
      ]
     },
     "metadata": {
      "scrapbook": {
       "mime_prefix": "",
       "name": "var:t_13"
      }
     },
     "output_type": "display_data"
    },
    {
     "data": {
      "text/plain": [
       "0.457"
      ]
     },
     "metadata": {
      "scrapbook": {
       "mime_prefix": "",
       "name": "var:t_23"
      }
     },
     "output_type": "display_data"
    },
    {
     "data": {
      "text/plain": [
       "2.179"
      ]
     },
     "metadata": {
      "scrapbook": {
       "mime_prefix": "",
       "name": "var:ε_1"
      }
     },
     "output_type": "display_data"
    },
    {
     "data": {
      "text/plain": [
       "0.942"
      ]
     },
     "metadata": {
      "scrapbook": {
       "mime_prefix": "",
       "name": "var:ε_3"
      }
     },
     "output_type": "display_data"
    },
    {
     "data": {
      "text/plain": [
       "0.228"
      ]
     },
     "metadata": {
      "scrapbook": {
       "mime_prefix": "",
       "name": "var:λ_SOC"
      }
     },
     "output_type": "display_data"
    }
   ],
   "source": [
    "wse2_var_dic = {\n",
    "        \"t_1\": 0.034, \n",
    "        \"t_2\": 0.263, \n",
    "        \"t_3\": -0.207, \n",
    "        \"t_12\": 0.329, \n",
    "        \"t_13\": 0.486, \n",
    "        \"t_23\": 0.457, \n",
    "        \"ε_1\": 2.179, \n",
    "        \"ε_3\": 0.942, \n",
    "        \"λ_SOC\": 0.228\n",
    "    }\n",
    "for key, value in wse2_var_dic.items():\n",
    "    glue(\"var:\"+key, value)"
   ]
  },
  {
   "cell_type": "markdown",
   "metadata": {},
   "source": [
    "````{admonition} GGA coupling constants in eV\n",
    "GGA coupling constants for WSe$_2$ in the hopping direction $\\vec{a}_1$, subscripts 1, 2 and 3 refer to the $d_{x^2-y^2}$, $d_{xy}$ and $d_{z^2}$ orbitals respectively. $\\varepsilon_i$ are the on-site energies where $\\varepsilon_1=\\varepsilon_2$ due to symmetry. $\\lambda_\\text{SOC}$ is the spin orbit coupling. {cite}`three_band`.\n",
    "```{list-table}\n",
    ":header-rows: 1\n",
    ":name: tab:constants\n",
    "* - $t_1$\n",
    "  - $t_2$\n",
    "  - $t_3$\n",
    "  - $t_{12}$\n",
    "  - $t_{13}$\n",
    "  - $t_{23}$\n",
    "  - $\\varepsilon_1$\n",
    "  - $\\varepsilon_3$\n",
    "  - $\\lambda_\\text{SOC}$\n",
    "* - {glue:}`var:t_1`\n",
    "  - {glue:}`var:t_2`\n",
    "  - {glue:}`var:t_3`\n",
    "  - {glue:}`var:t_12`\n",
    "  - {glue:}`var:t_13`\n",
    "  - {glue:}`var:t_23`\n",
    "  - {glue:}`var:ε_1`\n",
    "  - {glue:}`var:ε_3`\n",
    "  - {glue:}`var:λ_SOC`\n",
    "```\n",
    "where all energies are measured in eV. \n",
    "````\n",
    "\n",
    "\n",
    "Surprisingly, $\\mathcal H_0$ is not symmetric. We recognize the lack of $C_6$ symmetry as the source of this irregularity. This is more easily understood when we consider the interaction between orbitals $d_{xy}$ and $d_{z^2}$:\n",
    "\n",
    "```{glue:figure} fig:d_z2-d_xy\n",
    "Representation of atomic orbitals $d_{xy}$ and $d_{z^2}$, the colors represent the different signs of the lobes. We see that the $d_{z^2}$ orbital is symmetric under reflection while the $d_{xy}$ are antisymmetric.\n",
    "```\n",
    "Mirroring the hopping direction is equivalent to applying a reflection with respect to the $y$-axis. The $d_{xy}$ orbital changes sign under this operation so $t_{32}=-t_{23}$. If this reflection was a symmetry of the lattice we would require $t_{32}=t^*_{23}$, forcing $t_{23}=0$. We can use a similar argument to exclude the $d_{xz}$ and $d_{yz}$ orbitals from our model, since for a monolayer we do have a reflection symmetry with respect to the $xy$ plane."
   ]
  },
  {
   "cell_type": "markdown",
   "metadata": {},
   "source": [
    "## Rotating orbitals"
   ]
  },
  {
   "cell_type": "code",
   "execution_count": null,
   "metadata": {},
   "outputs": [],
   "source": [
    "drawing = draw.Drawing(10, 3.5, origin=\"center\")\n",
    "stroke_width = 0.03\n",
    "orb = dg.Orbital()\n",
    "drawing.append(orb.d_z2())\n",
    "drawing.append(orb.d_xy(translate=(3, 0)))\n",
    "drawing.append(orb.d_xy(translate=(-3, 0)))\n",
    "drawing.append(draw.Line(0, -2, 0, 2, stroke='black', stroke_width=stroke_width, stroke_dasharray=\"0.05,0.05\"))\n",
    "drawing.setRenderSize(700)\n",
    "glue('fig:d_z2-d_xy', drawing)"
   ]
  },
  {
   "cell_type": "code",
   "execution_count": null,
   "metadata": {},
   "outputs": [],
   "source": [
    "pos_1 = (1.5, 1.5)\n",
    "pos_2 = (4.5, 1.5+np.sqrt(3))\n",
    "R = 0.5\n",
    "stroke_width = 0.03\n",
    "color = 'black'\n",
    "drawing = draw.Drawing(7, 5)\n",
    "orb = dg.Orbital()\n",
    "drawing.append(orb.d_x2y2(translate=(pos_1[0], -pos_1[1])))\n",
    "drawing.append(orb.d_x2y2(translate=(pos_2[0], -pos_2[1])))\n",
    "drawing.append(draw.Line(*pos_1, *pos_2, stroke=color, stroke_width=stroke_width))\n",
    "drawing.append(draw.Line(*pos_1, pos_2[0], pos_1[1], stroke=color, stroke_width=stroke_width, stroke_dasharray=\"0.05,0.05\"))\n",
    "drawing.append(draw.Line(pos_2[0], pos_1[1], *pos_2, stroke=color, stroke_width=stroke_width, stroke_dasharray=\"0.05,0.05\"))\n",
    "drawing.append(draw.Arc(*pos_1, R, 30, 0, cw=True, stroke=color, stroke_width=stroke_width, fill='none'))\n",
    "drawing.append(draw.Text('θ', R*2/3, pos_1[0]+1.5*R*np.cos(np.pi/12), pos_1[1]+1.5*R*np.sin(np.pi/12), center=0.6, fill=color))\n",
    "drawing.setRenderSize(500)\n",
    "glue('fig:rotate_orbital', drawing)"
   ]
  },
  {
   "cell_type": "markdown",
   "metadata": {},
   "source": [
    "Having figured out the hopping terms for $\\pm\\vec a_1$, we need also formulate the coupling between orbitals at an angle with respect to the principal axis:\n",
    "\n",
    "```{glue:figure} fig:rotate_orbital\n",
    "Two $d_{x^2-y^2}$ orbitals at angle $\\theta$ with respect to the principal axis of the orbitals.\n",
    "```\n",
    "\n",
    "We can however decompose any misaligned $d$ orbital as a linear sum of all $d$ orbitals aligned with the hopping axis. Since $d_{z^2}$ is symmetric under rotation in the $xy$ plane we can exclude this orbital from our analysis. We assume the existence of some matrix $R(\\theta) = R'(\\theta)\\oplus 1$ which governs rotations in our basis and apply it to the $d_{x^2-y^2}$ orbital:\n",
    "\n",
    "$$\n",
    "\\begin{align*}\n",
    "R'(\\theta)|{x^2-y^2}\\rangle &= |{(x\\cos\\theta +y\\sin\\theta )^2-(y\\cos\\theta -x\\sin\\theta )^2}\\rangle\\\\\n",
    "&=|{x^2\\cos^2\\theta +y^2\\sin^2\\theta +xy\\sin2\\theta-y^2\\cos^2\\theta -x^2\\sin^2\\theta +xy\\sin2\\theta}\\rangle\\\\\n",
    "&=\\cos2\\theta|x^2-y^2\\rangle + \\sin2\\theta|2xy\\rangle,\n",
    "\\end{align*}\n",
    "$$\n",
    "\n",
    "which leads us to express $R'(\\theta)$ in matrix form as:\n",
    "\n",
    "$$\n",
    "R'(\\theta)=\\begin{pmatrix}\\cos2\\theta&-\\sin2\\theta\\\\ \\sin2\\theta&\\cos2\\theta\\end{pmatrix}\\rightarrow \\mathcal R=R'(\\pi/3)\\oplus 1=\\begin{pmatrix}-1/2&-\\sqrt{3}/2\\\\ \\sqrt{3}/2&-1/2\\end{pmatrix} \\oplus 1.\n",
    "$$ (eq:rotation_matrix)\n",
    "\n",
    "Powers of $\\mathcal R$ now rotate the orbitals towards the respective hopping axes. Next we need also rotate $\\mathcal H_0$ to adhere to the lattice symmetries. We use powers of $C_6$ which we express as $\\text{Diag}([1, -1, 1])$ in accordance with the arguments of the previous part on lattice symmetry. \n",
    "\n",
    "We now give the hopping matrix for each hopping vector in: \n",
    "\n",
    "$$A = \\{ \\vec a_1, \\vec a_2, -\\vec a_1+\\vec a_2, -\\vec a_1, -\\vec a_2, \\vec a_1-\\vec a_2 \\} ,$$ \n",
    "\n",
    "where enumeration starts at zero:\n",
    "\n",
    "$$\n",
    "\\mathcal H_i = \\mathcal R^i C_6^i \\mathcal H_0C_6^i \\mathcal R^{-i}.\n",
    "$$"
   ]
  },
  {
   "cell_type": "markdown",
   "metadata": {},
   "source": [
    "## Hamiltonian\n",
    "\n",
    "The total hopping Hamiltonian is now the sum of all $\\mathcal H_i$ multiplied by the appropriate complex phases:\n",
    "\n",
    "$$\n",
    "\\mathcal H_\\text{hop}(\\mathbf k) = \\sum_{i=0}^5\\mathcal H_i \\text e^{i \\mathbf k\\cdot A_i} =    \\begin{pmatrix}\n",
    "        h_1&h_{12}&h_{13}\\\\ h_{12}^\\dagger&h_2&h_{23}\\\\\n",
    "        h_{13}^\\dagger&h_{23}^\\dagger&h_3\n",
    "    \\end{pmatrix} ,\n",
    "$$\n",
    "\n",
    "````{dropdown} with: (click dropdown for justification)\n",
    "\n",
    "We start by noticing that all rotation matrices share a quite similar form:\n",
    "\n",
    "```{list-table} The matrix expressions for $\\mathcal R^iC_6^i$ excluding the $d_{z^2}$ component which is block diagonal.\n",
    ":header-rows: 1\n",
    ":name: tab:rotation-matrices\n",
    "* - $I_3$\n",
    "  - $\\mathcal RC_6$\n",
    "  - $\\mathcal R^2C_6^2=\\mathcal R^2$\n",
    "  - $\\mathcal R^3C_6^3=C_6$\n",
    "  - $\\mathcal R^4C_6^4=\\mathcal R$\n",
    "  - $\\mathcal R^5C_6^5=\\mathcal R^2C_6$\n",
    "* - $I_2$\n",
    "  - $\\begin{pmatrix}-1/2&\\sqrt{3}/2\\\\\\sqrt{3}/2&1/2 \\end{pmatrix}$\n",
    "  - $\\begin{pmatrix}-1/2&\\sqrt{3}/2\\\\-\\sqrt{3}/2&-1/2 \\end{pmatrix}$\n",
    "  - $\\begin{pmatrix}1&0\\\\0&-1 \\end{pmatrix}$\n",
    "  - $\\begin{pmatrix}-1/2&-\\sqrt{3}/2\\\\\\sqrt{3}/2&-1/2 \\end{pmatrix}$\n",
    "  - $\\begin{pmatrix}-1/2&-\\sqrt{3}/2\\\\-\\sqrt{3}/2&1/2 \\end{pmatrix}$ \n",
    "```\n",
    "As such we can express all of them as some variant of:\n",
    "\n",
    "$$\n",
    "\\mathcal{\\tilde R}(\\alpha, \\alpha', \\beta, \\beta')=\\begin{pmatrix}\\alpha&\\beta&0\\\\\\beta'&\\alpha'&0\\\\0&0&1\\end{pmatrix}\n",
    "$$\n",
    "\n",
    "where $\\alpha^2=\\alpha'^2$, $\\beta^2=\\beta'^2$ and $\\alpha\\beta'=-\\alpha'\\beta$. This rotation allows a general expression for the matrix components of $\\mathcal H_i$ where the constants in $\\mathcal{\\tilde R}$ come from {numref}`tab:rotation-matrices`:\n",
    "\n",
    "$$\n",
    "    \\mathcal M=\\mathcal {\\tilde RH_0\\tilde R}^\\dagger=\n",
    "    \\begin{pmatrix}\n",
    "        \\alpha^2t_1+\\beta^2t_2&\\alpha\\beta'(t_1-t_2)+(\\alpha\\alpha'-\\beta\\beta')t_{12}&\\alpha t_{13}+\\beta t_{23}\\\\\n",
    "        \\alpha\\beta'(t_1-t_2)-(\\alpha\\alpha'-\\beta\\beta')t_{12}&\\alpha^2t_2+\\beta^2t_1&\\beta't_{13}+\\alpha't_{23}\\\\\n",
    "        \\alpha t_{13}-\\beta t_{23}&\\beta't_{13}-\\alpha't_{23}&t_3\n",
    "        \\label{eq:rot applied}\n",
    "    \\end{pmatrix}.\n",
    "$$\n",
    "\n",
    "Now we express the hopping Hamiltonian as a sum of $\\mathcal M$ matrices:\n",
    "\n",
    "$$\n",
    "\\mathcal H_\\text{hop} = \\sum_{\\sigma\\in\\{-1, 1\\}}\\mathcal M(1, \\sigma, 0, 0)\\text e^{i\\sigma k_x}+\\sum_{\\sigma,\\tau\\in\\{-1, 1\\}}\\mathcal M\\left(-\\frac12,\\frac\\sigma2, \\frac{\\tau\\sqrt3}{2},\\frac{\\sigma\\tau\\sqrt3}2\\right)\\text e^{i\\sigma k_x/2+i\\tau k_y\\sqrt3/2},\n",
    "$$\n",
    "\n",
    "the advantage of which is that we quickly see which terms contribute (co)sines. For example we see that a component proportional to $\\alpha\\beta'\\propto \\sigma\\tau$ will result in a sine for both $k_x$ and $k_y$ for the second sum. Collecting all terms we acquire {numref}`tab:hopping-terms`  \n",
    "````\n",
    "\n",
    "```{list-table} Hamiltonian components with $\\tilde k_x=k_x/2$ and $\\tilde k_y = k_y\\cdot \\sqrt3/2$. We split the terms in real and imaginary parts for clarity.\n",
    ":header-rows: 1\n",
    ":name: tab:hopping-terms\n",
    "* -  \n",
    "  - Real\n",
    "  - Imaginary\n",
    "* - $h_1$\n",
    "  - $2t_1\\cos 2\\tilde k_x+(t_1+3t_2)\\cos\\tilde k_x\\cos\\tilde k_y$\n",
    "  - 0\n",
    "* - $h_2$\n",
    "  - $2t_2\\cos 2\\tilde k_x+(t_2+3t_1)\\cos\\tilde k_x\\cos\\tilde k_y$\n",
    "  - 0\n",
    "* - $h_3$\n",
    "  - $2t_3\\cos 2\\tilde k_x+4t_3\\cos\\tilde k_x\\cos\\tilde k_y$\n",
    "  - 0\n",
    "* - $h_{12}$\n",
    "  - $\\sqrt3(t_1-t_2)\\sin\\tilde k_x\\sin\\tilde k_y$\n",
    "  - $2t_{12}(\\sin 2\\tilde k_x-2\\sin\\tilde k_x\\cos\\tilde k_y)$\n",
    "* - $h_{13}$\n",
    "  - $2t_{13}(\\cos2\\tilde k_x-\\cos\\tilde k_x\\cos\\tilde k_y)$\n",
    "  - $2\\sqrt{3}t_{23}\\cos\\tilde k_x\\sin\\tilde k_y$\n",
    "* - $h_{23}$\n",
    "  - $-2\\sqrt3t_{13}\\sin\\tilde k_x\\sin\\tilde k_y$\n",
    "  - $2t_{23}(\\sin 2\\tilde k_x+\\sin\\tilde k_x\\cos\\tilde k_y)$\n",
    "```\n",
    "\n",
    "Now for the total Hamiltonian we need only to include the on-site energies. Here the spin-orbit coupling, which is quite high for tungsten, also plays an important role. We follow {cite}`three_band` which gives the SOC contribution of the Hamiltonian as $\\lambda_{SOC}/2\\cdot\\mathbf{L\\cdot S}$, with pure $z$ polarized spin, doubling the degrees of freedom. We write, with $\\sigma=\\pm1$ as the two spin possibilities:\n",
    "\n",
    "$$\n",
    "    \\mathcal H_\\text{on-site}(\\sigma)=\\begin{pmatrix}\n",
    "        \\varepsilon_{1}&\\lambda_\\text{SOC}\\sigma i&0\\\\\n",
    "        -\\lambda_\\text{SOC}\\sigma i&\\varepsilon_{1}&0\\\\\n",
    "        0&0&\\varepsilon_{3}\n",
    "    \\end{pmatrix},\n",
    "$$\n",
    "\n",
    "with $\\varepsilon$ the energy of the $d_{x^2-y^2}$ and $d_{xy}$ orbitals, which are equal due to symmetry. $\\varepsilon_3$ is the energy of the $d_{z^2}$ orbital. All values are given in {numref}`tab:constants`. The total Hamiltonian is:\n",
    "\n",
    "$$\n",
    "\\mathcal H^\\sigma(\\mathbf k) = \\mathcal H_\\text{hop}(\\mathbf k)+\\mathcal H_\\text{on-site}(\\sigma).\n",
    "$$"
   ]
  },
  {
   "cell_type": "code",
   "execution_count": null,
   "metadata": {},
   "outputs": [],
   "source": [
    "color = 'red'\n",
    "arrow_width = 0.02\n",
    "corners = [(1/2, np.sqrt(3)/2), (-1/2, np.sqrt(3)/2), (-1, 0), (-1/2, -np.sqrt(3)/2), (1/2, -np.sqrt(3)/2)]\n",
    "path = [np.array(point) for point in [(0, 0), (1, 0), (3/4, np.sqrt(3)/4)]]\n",
    "path_symbols = [\"Γ\", \"K\", \"M\"]\n",
    "offset = [(-0.1, 0), (0.1, 0), (0.1, 0.1)]\n",
    "drawing = draw.Drawing(3, 3, origin=\"center\")\n",
    "p = draw.Path(stroke_width=0.01, stroke='blue', fill='none')\n",
    "p.M(1, 0)\n",
    "for corner in corners:\n",
    "    p.L(*corner)\n",
    "p.Z()\n",
    "drawing.append(p)\n",
    "for i in range(3):\n",
    "    mid = (path[(i+1)%3] + path[i]) / 2\n",
    "    drawing.append(dg.arrow(path[i], mid, stroke=color, stroke_width=arrow_width))\n",
    "    drawing.append(draw.Line(*(path[i]), *(path[(i+1)%3]), stroke=color, stroke_width=arrow_width))\n",
    "for i in range(3):\n",
    "    drawing.append(draw.Circle(*(path[i]), 0.02, fill=color))\n",
    "    drawing.append(draw.Text(path_symbols[i], 0.2, *(path[i]+offset[i]), center=0.6, fill='black'))\n",
    "drawing.setRenderSize(500)\n",
    "glue('fig:k_path', drawing)"
   ]
  },
  {
   "cell_type": "markdown",
   "metadata": {},
   "source": [
    "````{margin}\n",
    "```{glue:figure} fig:k_path\n",
    ":name: fig:k_path\n",
    "Path along high symmetry points of the Brillouin zone: $\\Gamma:(0,\\,0)$, $K:(4\\pi/3, \\,0)$ and $M:(\\pi,\\,\\pi/\\sqrt3)$.\n",
    "```\n",
    "````\n",
    "\n",
    "We solve for the bandstructure along the path connecting the high symmetry $\\Gamma$, $K$ and $M$ points as shown in {numref}`fig:k_path`. We set the zero of energy at the maximum of the valence band, at the $K$ point: $(4\\pi/3, \\,0)$. Here the couplings with the $d_{z^2}$ orbital in {numref}`tab:hopping-terms` go to zero and we solve for the eigenvalues of the Hamiltonian:\n",
    "\n",
    "$$\n",
    "\\mathcal H^\\sigma(K) = \\begin{pmatrix}\n",
    "        -\\frac32(t_1+t_2)+\\varepsilon_1&-i(3\\sqrt3t_{12}+\\lambda_\\text{SOC}\\sigma)\\\\\n",
    "        i(3\\sqrt3t_{12}+\\lambda_\\text{SOC}\\sigma)&-\\frac32(t_1+t_2)+\\varepsilon_1\n",
    "    \\end{pmatrix}\n",
    "    \\oplus \\begin{pmatrix}-3t_3+\\varepsilon_3\\end{pmatrix},\n",
    "$$\n",
    "\n",
    "and we conclude that the maximum of the valence band is at energy:\n",
    "\n",
    "$$\n",
    "    E_K(\\sigma) = \\varepsilon_1-\\frac32(t_1+t_2)-(3\\sqrt3t_{12}-\\lambda_\\text{SOC}\\sigma).\n",
    "$$\n",
    "\n",
    "We notice that the SOC lowers (raises) the $K$ point of the valence band, at the $-K$ point the opposite takes place. The $K$ and $-K$ points of the conduction band at energies $-3t_3+\\varepsilon_3$ are however unaffected."
   ]
  },
  {
   "cell_type": "code",
   "execution_count": null,
   "metadata": {},
   "outputs": [],
   "source": [
    "def H_mono(k, σ):\n",
    "    t_1, t_2, t_3, t_12, t_13, t_23, ε_1, ε_3, λ_SOC = wse2_var_dic.values()\n",
    "    k_x, k_y = k[0]/2, k[1]*np.sqrt(3)/2\n",
    "    cos2x, cosx, cosy = np.cos(2*k_x), np.cos(k_x), np.cos(k_y)\n",
    "    sin2x, sinx, siny = np.sin(2*k_x), np.sin(k_x), np.sin(k_y)\n",
    "    h_1 = 2*t_1*cos2x + (t_1+3*t_2)*cosx*cosy\n",
    "    h_2 = 2*t_2*cos2x + (t_2+3*t_1)*cosx*cosy\n",
    "    h_3 = 2*t_3*cos2x + 4*t_3*cosx*cosy\n",
    "    h_12 = np.sqrt(3)*(t_1-t_2)*sinx*siny + 2j*t_12*(sin2x-2*sinx*cosy)\n",
    "    h_13 = 2*t_13*(cos2x-cosx*cosy) + 2j*np.sqrt(3)*t_23*cosx*siny\n",
    "    h_23 = -2*np.sqrt(3)*t_13*sinx*siny + 2j*t_23*(sin2x+sinx*cosy)\n",
    "    return np.array([\n",
    "            [ε_1+h_1, 1j*λ_SOC*σ+h_12, h_13],\n",
    "            [-1j*λ_SOC*σ+np.conj(h_12), ε_1+h_2, h_23],\n",
    "            [np.conj(h_13), np.conj(h_23), ε_3+h_3]\n",
    "        ])\n",
    "\n",
    "bandstructure = bs.BandStructure()\n",
    "bandstructure.set_k_path([np.array([0, 0]), np.array([4*np.pi/3, 0]), np.array([np.pi, np.pi/np.sqrt(3)]), np.zeros(2)], \n",
    "          [r'$\\Gamma$', 'K', 'M', r'$\\Gamma$'], 300)\n",
    "colors = ['blue', 'red', 'green']\n",
    "for i, σ in enumerate([-1, 0, 1]):\n",
    "    bandstructure.plot_from_H(lambda k: H_mono(k, σ), 'σ='+str(σ), color=colors[i])\n",
    "\n",
    "bandstructure.fig"
   ]
  }
 ],
 "metadata": {
  "kernelspec": {
   "display_name": "Python 3",
   "language": "python",
   "name": "python3"
  },
  "language_info": {
   "codemirror_mode": {
    "name": "ipython",
    "version": 3
   },
   "file_extension": ".py",
   "mimetype": "text/x-python",
   "name": "python",
   "nbconvert_exporter": "python",
   "pygments_lexer": "ipython3",
   "version": "3.7.6"
  }
 },
 "nbformat": 4,
 "nbformat_minor": 4
}
