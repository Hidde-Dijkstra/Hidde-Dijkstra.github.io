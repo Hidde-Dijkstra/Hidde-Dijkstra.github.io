{
 "cells": [
  {
   "cell_type": "markdown",
   "metadata": {},
   "source": [
    "# Bandstructure plotting"
   ]
  },
  {
   "cell_type": "code",
   "execution_count": null,
   "metadata": {},
   "outputs": [],
   "source": [
    "import numpy as np\n",
    "import plotly.graph_objects as go"
   ]
  },
  {
   "cell_type": "markdown",
   "metadata": {},
   "source": [
    "## BandStructure\n",
    "\n"
   ]
  },
  {
   "cell_type": "code",
   "execution_count": null,
   "metadata": {},
   "outputs": [],
   "source": [
    "class BandStructure:\n",
    "    \n",
    "    def __init__(self):\n",
    "        self.fig = go.Figure()\n",
    "        self.fig.update_layout(xaxis_title=r\"$k$\", yaxis_title= 'Energy (eV)')\n",
    "    \n",
    "    def plot_from_H(self, H, name, color='red', N_input=2):\n",
    "        N = len(H(np.zeros(N_input)))\n",
    "        bands = np.zeros((len(self.k_path), N))\n",
    "        for j in range(len(self.k_path)):\n",
    "            bands[j, :] = np.linalg.eigvalsh(H(self.k_path[j]))\n",
    "        self.add_bands(bands, color, name)\n",
    "            \n",
    "    def add_bands(self, bands, color, name, k_arr=None):\n",
    "        style_dict = {\n",
    "                'legendgroup': name,\n",
    "                'mode': 'lines',\n",
    "                'line': {'color': color},\n",
    "                'name': name\n",
    "            }\n",
    "        if np.all(k_arr == None):\n",
    "            k_arr = np.arange(self.N_k)\n",
    "        for i in range(0, bands.shape[1]):\n",
    "            self.fig.add_trace(go.Scatter(x=k_arr, y=bands[:, i], showlegend=(i==0), **style_dict))\n",
    "    \n",
    "    def set_k_path(self, k_list, k_tags, N_k):\n",
    "        self.N_k = N_k\n",
    "        k_norms = [np.linalg.norm(k_list[i+1]-k_list[i]) for i in range(len(k_list)-1)]\n",
    "        self.spacing = [int(N_k*k_norms[i]/sum(k_norms)) for i in range(len(k_norms))]\n",
    "        self.k_path = []\n",
    "        for i in range(len(self.spacing)):\n",
    "            self.k_path += [k_list[i] + (k_list[i+1]-k_list[i])*j/self.spacing[i] for j in range(self.spacing[i])]\n",
    "        self.k_path += [k_list[-1]]\n",
    "        self.fig.update_xaxes(ticktext=k_tags, tickvals=[sum(self.spacing[:i]) for i in range(len(self.spacing)+1)])"
   ]
  }
 ],
 "metadata": {
  "jupytext": {
   "encoding": "# -*- coding: utf-8 -*-",
   "formats": "ipynb,py:light"
  },
  "kernelspec": {
   "display_name": "Python 3",
   "language": "python",
   "name": "python3"
  },
  "language_info": {
   "codemirror_mode": {
    "name": "ipython",
    "version": 3
   },
   "file_extension": ".py",
   "mimetype": "text/x-python",
   "name": "python",
   "nbconvert_exporter": "python",
   "pygments_lexer": "ipython3",
   "version": "3.7.6"
  }
 },
 "nbformat": 4,
 "nbformat_minor": 4
}
