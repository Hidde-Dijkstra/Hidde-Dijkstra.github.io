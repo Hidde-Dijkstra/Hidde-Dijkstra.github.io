{
 "cells": [
  {
   "cell_type": "markdown",
   "metadata": {},
   "source": [
    "# Logbook"
   ]
  },
  {
   "cell_type": "markdown",
   "metadata": {},
   "source": [
    "## To-do: \n",
    "* Rename files for clarity\n",
    "* Figure out how to wrap function for small screen viewing (or maybe scroll bar like for tables)\n",
    "* Write introduction file and update site image\n",
    "* Make lattice drawing class more variable\n",
    "* Include reciprocal vectors in k_path image\n",
    "* Resolve reference conflicts\n",
    "* Include horizontal lines in band structure\n",
    "* Choose theme for plotly plots\n",
    "* Write explanations for code when refactoring is done"
   ]
  },
  {
   "cell_type": "markdown",
   "metadata": {},
   "source": [
    "## 9-15 October\n",
    "\n",
    "### Meeting\n",
    "\n",
    "### 15 October\n",
    "\n",
    "* Find papers on bilayer WSe$_2$:\n",
    "    * [Isotope Effect in Bilayer WSe2](https://pubs.acs.org/doi/pdf/10.1021/acs.nanolett.8b04269) interlayer distance is 1.3 nm.\n",
    "    * [Spin-Layer Locking Effects in Optical Orientation of Exciton Spin in\n",
    "Bilayer WSe2](https://arxiv.org/pdf/1311.7087.pdf) AB stacking tight-binding useless since assumes coupling of d_$z2$ orbital to other layer is zero due to symmetry, only coupling between valence bands.\n",
    "\n",
    "### 14 October\n",
    "\n",
    "* Made tabbed plots for different supercells\n",
    "* Wrote pseudocode to explain NN code\n",
    "\n",
    "### 12-13 October\n",
    "\n",
    "* Combine svg objects into groups for clearer code, apparently groups cannot be elements of groups.\n",
    "\n",
    "### 10-11 October\n",
    "\n",
    "* Fail to add caption to html figure, probable need to wait for update of jupyterbook"
   ]
  },
  {
   "cell_type": "markdown",
   "metadata": {},
   "source": [
    "## 2-8 October\n",
    "\n",
    "### Meeting\n",
    "\n",
    "* Find papers using people that cite relevant papers\n",
    "* Consider only in plane rotations of orbitals for interlayer hopping\n",
    "\n",
    "### 8 October\n",
    "\n",
    "* Looking for papers on twisted bilayer WSe$_2$\n",
    "    * [Deep moir´e potentials in twisted transition metal dichalcogenide bilayers](https://arxiv.org/pdf/2008.07696.pdf) about stacking types between WSe$_2$ and MSe$_2$, does not seem so useful.\n",
    "    * [Atomic reconstruction and moiré patterns in transition metal\n",
    "dichalcogenide van der Waals heterostructures](https://arxiv.org/pdf/1911.12282.pdf) seems to be about fractional filling of moiré supercells between MoS(e)$_2$ WS(e)$_2$. For some reason popular heterostructure.\n",
    "    * [Flat bands in long moiré wavelength twisted bilayer\n",
    "WSe2](https://arxiv.org/pdf/1910.13068.pdf) talks a lot about AA vs AB stacking and localization of wavefunctions but does not give information about dimensions of the lattice/coupling.\n",
    "* Just do DFT ourselves?\n",
    "\n",
    "### 6-7 October\n",
    "\n",
    "* Rewrite explanation for derivation of Hamiltonian elements.\n",
    "* Change band structure code to its own class (previously part of WSe2 class).\n",
    "* Figure out how to use plotly to plot functions interactively. Main issue resolved: plotting all bands for one spin to the same toggle key in the legend.\n",
    "\n",
    "### 5 October\n",
    "\n",
    "* Simplify symmetry explanation\n",
    "* Refactoring orbital drawing code\n",
    "* Include rotating orbitals for the monolayer\n",
    "\n",
    "### 3-4 October\n",
    "\n",
    "* Write lattice drawing class for svg lattice which also works for (rotated) bilayer lattices."
   ]
  },
  {
   "cell_type": "markdown",
   "metadata": {},
   "source": [
    "## 1 October\n",
    "\n",
    "### Meeting \n",
    "\n",
    "Talked about restarting the project. Louk set out the general plan of the project and the immenent hurdles to cross:\n",
    "\n",
    "* Correctly describe the mono-layer for both unit- and supercell\n",
    "* Commentate code\n",
    "* Find articles on interlayer coupling of WSe$_2$\n",
    "* Consider $d$ orbital decomposition between the bilayer atoms."
   ]
  }
 ],
 "metadata": {
  "jupytext": {
   "text_representation": {
    "extension": ".md",
    "format_name": "myst",
    "format_version": 0.12,
    "jupytext_version": "1.6.0"
   }
  },
  "kernelspec": {
   "display_name": "Python 3",
   "language": "python",
   "name": "python3"
  },
  "language_info": {
   "codemirror_mode": {
    "name": "ipython",
    "version": 3
   },
   "file_extension": ".py",
   "mimetype": "text/x-python",
   "name": "python",
   "nbconvert_exporter": "python",
   "pygments_lexer": "ipython3",
   "version": "3.7.7"
  },
  "source_map": [
   12,
   16,
   29,
   55,
   90
  ]
 },
 "nbformat": 4,
 "nbformat_minor": 4
}