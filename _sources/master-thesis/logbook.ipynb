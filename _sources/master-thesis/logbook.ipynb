{
 "cells": [
  {
   "cell_type": "markdown",
   "metadata": {},
   "source": [
    "# Log Book"
   ]
  },
  {
   "cell_type": "markdown",
   "metadata": {},
   "source": [
    "## To-do:\n",
    "* Draw lattice vectors in lattice \n",
    "* Combine svg objects into one to pass from functions so I do not need to pass the container as argument\n",
    "* Investigate how to use ipywidgets to toggle between different $m$ and $n$ for bilayer lattice\n",
    "* Rename files for clarity\n",
    "* Figure out how to wrap function for small screen viewing (or maybe scroll bar like for tables)\n",
    "* Write introduction file and update site image\n",
    "* Make lattice drawing class more variable\n",
    "* Include reciprocal vectors in k_path image\n",
    "* Resolve reference conflicts\n",
    "* Include horizontal lines in band structure\n",
    "* Choose theme for plotly plots\n",
    "* Write explanations for code when refactoring is done"
   ]
  },
  {
   "cell_type": "markdown",
   "metadata": {},
   "source": [
    "## 2-8 October\n",
    "\n",
    "### Meeting\n",
    "\n",
    "### 8 October\n",
    "\n",
    "* Looking for papers on twisted bilayer WSe$_2$\n",
    "    * [Deep moir´e potentials in twisted transition metal dichalcogenide bilayers](https://arxiv.org/pdf/2008.07696.pdf) about stacking types between $WSe_2$ and $MSe_2$, does not seem so useful.\n",
    "    * [Atomic reconstruction and moiré patterns in transition metal\n",
    "dichalcogenide van der Waals heterostructures](https://arxiv.org/pdf/1911.12282.pdf) seems to be about fractional filling of moiré supercells between MoS(e)$_2$ WS(e)$_2$. For some reason popular heterostructure.\n",
    "    *\n",
    "\n",
    "### 6-7 October\n",
    "\n",
    "* Rewrite explanation for derivation of Hamiltonian elements.\n",
    "* Change band structure code to its own class (previously part of WSe2 class).\n",
    "* Figure out how to use plotly to plot functions interactively. Main issue resolved: plotting all bands for one spin to the same toggle key in the legend.\n",
    "\n",
    "### 5 October\n",
    "\n",
    "* Simplify symmetry explanation\n",
    "* Refactoring orbital drawing code\n",
    "* Include rotating orbitals for the monolayer\n",
    "\n",
    "### 3-4 October\n",
    "\n",
    "* Write lattice drawing class for svg lattice which also works for (rotated) bilayer lattices."
   ]
  },
  {
   "cell_type": "markdown",
   "metadata": {},
   "source": [
    "## 1 October\n",
    "\n",
    "### Meeting \n",
    "\n",
    "Talked about restarting the project. Louk set out the general plan of the project and the immenent hurdles to cross:\n",
    "\n",
    "* Correctly describe the mono-layer for both unit- and supercell\n",
    "* Commentate code\n",
    "* Find articles on interlayer coupling of WSe$_2$\n",
    "* Consider $d$ orbital decomposition between the bilayer atoms."
   ]
  }
 ],
 "metadata": {
  "jupytext": {
   "formats": "ipynb,md:myst",
   "text_representation": {
    "extension": ".md",
    "format_name": "myst",
    "format_version": 0.12,
    "jupytext_version": "1.6.0"
   }
  },
  "kernelspec": {
   "display_name": "Python 3",
   "language": "python",
   "name": "python3"
  },
  "language_info": {
   "codemirror_mode": {
    "name": "ipython",
    "version": 3
   },
   "file_extension": ".py",
   "mimetype": "text/x-python",
   "name": "python",
   "nbconvert_exporter": "python",
   "pygments_lexer": "ipython3",
   "version": "3.7.7"
  },
  "source_map": [
   13,
   17,
   33,
   63
  ]
 },
 "nbformat": 4,
 "nbformat_minor": 4
}