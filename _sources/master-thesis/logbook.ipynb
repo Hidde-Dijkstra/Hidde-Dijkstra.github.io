{
 "cells": [
  {
   "cell_type": "markdown",
   "metadata": {},
   "source": [
    "# Logbook"
   ]
  },
  {
   "cell_type": "markdown",
   "metadata": {},
   "source": [
    "## To-do: \n",
    "* Rename files for clarity\n",
    "* Figure out how to wrap function for small screen viewing (or maybe scroll bar like for tables)\n",
    "* Write introduction file and update site image\n",
    "* Make lattice drawing class more variable\n",
    "* Include reciprocal vectors in k_path image\n",
    "* Include horizontal lines in band structure\n",
    "* Choose theme for plotly plots\n",
    "* Write explanations for code when refactoring is done\n",
    "* Make lattice arrows prettier\n",
    "* Text for lattice vectors not so readable: include stroke\n",
    "* Update captions"
   ]
  },
  {
   "cell_type": "markdown",
   "metadata": {},
   "source": [
    "## 23-29 October\n",
    "\n",
    "### Meeting\n",
    "\n",
    "### 27-28 October\n",
    "\n",
    "* Selenide atoms ruin nice interlayer hopping, no regularity. \n",
    "* New idea: restrict interlayer NN to 1/2 of distance between tungsten atoms. Not so strange, for AB stacked bilayer graphene other hoppings are also ignored. \n",
    "* DFT to find coupling and fit exponential curve.\n",
    "\n",
    "### -26 October\n",
    "* Realize my original idea for interlayer coupling using [Interlayer coupling in commensurate and incommensurate bilayer structures of\n",
    "transition metal dichalcogenides](https://arxiv.org/pdf/1610.00869.pdf) does not work since it is difficult to untangle the Fourier approach to hoppings between different sites instead of bands."
   ]
  },
  {
   "cell_type": "markdown",
   "metadata": {},
   "source": [
    "## 16-22 October\n",
    "\n",
    "### Meeting\n",
    "\n",
    "* Gave presentation on [Interlayer coupling in commensurate and incommensurate bilayer structures of\n",
    "transition metal dichalcogenides](https://arxiv.org/pdf/1610.00869.pdf).\n",
    "* Figure out how to rotate interlayer coupling.\n",
    "\n",
    "### 21 October\n",
    "* New proposal for sign choice which adheres to symmetries: divide circle in six and have the signs alternate between following parts.\n",
    "* Inspect paper and prepare presentation.\n",
    "\n",
    "### 20 October\n",
    "* Finally managed to visualize interlayer coupling without errors. Proof that code works. \n",
    "\n",
    "### 17-18 October\n",
    "* Figured out that a space is required after a $:name:$ keyword for myst markdown to allow buiding of jupyterbook"
   ]
  },
  {
   "cell_type": "markdown",
   "metadata": {},
   "source": [
    "## 9-15 October\n",
    "\n",
    "### Meeting\n",
    "\n",
    "* Next week: presentation on [Interlayer coupling in commensurate and incommensurate bilayer structures of\n",
    "transition metal dichalcogenides](https://arxiv.org/pdf/1610.00869.pdf)\n",
    "* Consider symmetry sign choice for interlayer coupling.\n",
    "* Interlayer coupling vanishes at $K$ point for conductance band ($d_{z^2}$ orbitals) so we need to take all orbital hopping into account.\n",
    "\n",
    "### 15 October\n",
    "\n",
    "* Find papers on bilayer WSe$_2$:\n",
    "    * [Isotope Effect in Bilayer WSe2](https://pubs.acs.org/doi/pdf/10.1021/acs.nanolett.8b04269) interlayer distance is 1.3 nm.\n",
    "    * [Spin-Layer Locking Effects in Optical Orientation of Exciton Spin in\n",
    "Bilayer WSe2](https://arxiv.org/pdf/1311.7087.pdf) AB stacking tight-binding useless since assumes coupling of d_$z2$ orbital to other layer is zero due to symmetry, only coupling between valence bands.\n",
    "\n",
    "### 14 October\n",
    "\n",
    "* Made tabbed plots for different supercells\n",
    "* Wrote pseudocode to explain NN code\n",
    "\n",
    "### 12-13 October\n",
    "\n",
    "* Combine svg objects into groups for clearer code, apparently groups cannot be elements of groups.\n",
    "\n",
    "### 10-11 October\n",
    "\n",
    "* Fail to add caption to html figure, probable need to wait for update of jupyterbook"
   ]
  },
  {
   "cell_type": "markdown",
   "metadata": {},
   "source": [
    "## 2-8 October\n",
    "\n",
    "### Meeting\n",
    "\n",
    "* Find papers using people that cite relevant papers\n",
    "* Consider only in plane rotations of orbitals for interlayer hopping\n",
    "\n",
    "### 8 October\n",
    "\n",
    "* Looking for papers on twisted bilayer WSe$_2$\n",
    "    * [Deep moir´e potentials in twisted transition metal dichalcogenide bilayers](https://arxiv.org/pdf/2008.07696.pdf) about stacking types between WSe$_2$ and MSe$_2$, does not seem so useful.\n",
    "    * [Atomic reconstruction and moiré patterns in transition metal\n",
    "dichalcogenide van der Waals heterostructures](https://arxiv.org/pdf/1911.12282.pdf) seems to be about fractional filling of moiré supercells between MoS(e)$_2$ WS(e)$_2$. For some reason popular heterostructure.\n",
    "    * [Flat bands in long moiré wavelength twisted bilayer\n",
    "WSe2](https://arxiv.org/pdf/1910.13068.pdf) talks a lot about AA vs AB stacking and localization of wavefunctions but does not give information about dimensions of the lattice/coupling.\n",
    "* Just do DFT ourselves?\n",
    "\n",
    "### 6-7 October\n",
    "\n",
    "* Rewrite explanation for derivation of Hamiltonian elements.\n",
    "* Change band structure code to its own class (previously part of WSe2 class).\n",
    "* Figure out how to use plotly to plot functions interactively. Main issue resolved: plotting all bands for one spin to the same toggle key in the legend.\n",
    "\n",
    "### 5 October\n",
    "\n",
    "* Simplify symmetry explanation\n",
    "* Refactoring orbital drawing code\n",
    "* Include rotating orbitals for the monolayer\n",
    "\n",
    "### 3-4 October\n",
    "\n",
    "* Write lattice drawing class for svg lattice which also works for (rotated) bilayer lattices."
   ]
  },
  {
   "cell_type": "markdown",
   "metadata": {},
   "source": [
    "## 1 October\n",
    "\n",
    "### Meeting \n",
    "\n",
    "Talked about restarting the project. Louk set out the general plan of the project and the immenent hurdles to cross:\n",
    "\n",
    "* Correctly describe the mono-layer for both unit- and supercell\n",
    "* Commentate code\n",
    "* Find articles on interlayer coupling of WSe$_2$\n",
    "* Consider $d$ orbital decomposition between the bilayer atoms."
   ]
  },
  {
   "cell_type": "markdown",
   "metadata": {},
   "source": [
    "## Completed\n",
    "\n",
    "* Draw lattice vectors in lattice plots\n",
    "* Outlign unit cell\n",
    "* Insert pseudo code\n",
    "* Resolve reference conflicts"
   ]
  }
 ],
 "metadata": {
  "jupytext": {
   "text_representation": {
    "extension": ".md",
    "format_name": "myst",
    "format_version": 0.12,
    "jupytext_version": "1.6.0"
   }
  },
  "kernelspec": {
   "display_name": "Python 3",
   "language": "python",
   "name": "python3"
  },
  "language_info": {
   "codemirror_mode": {
    "name": "ipython",
    "version": 3
   },
   "file_extension": ".py",
   "mimetype": "text/x-python",
   "name": "python",
   "nbconvert_exporter": "python",
   "pygments_lexer": "ipython3",
   "version": "3.7.7"
  },
  "source_map": [
   12,
   16,
   31,
   47,
   67,
   98,
   133,
   146
  ]
 },
 "nbformat": 4,
 "nbformat_minor": 4
}