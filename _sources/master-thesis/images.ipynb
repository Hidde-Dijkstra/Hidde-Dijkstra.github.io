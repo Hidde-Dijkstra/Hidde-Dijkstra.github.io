{
 "cells": [
  {
   "cell_type": "markdown",
   "metadata": {},
   "source": [
    "# Notebook for image generation"
   ]
  },
  {
   "cell_type": "code",
   "execution_count": 1,
   "metadata": {},
   "outputs": [],
   "source": [
    "import moire_functions as moire\n",
    "import numpy as np\n",
    "import drawSvg as draw\n",
    "from myst_nb import glue"
   ]
  },
  {
   "cell_type": "markdown",
   "metadata": {},
   "source": [
    "## Atom lattice"
   ]
  },
  {
   "cell_type": "code",
   "execution_count": 27,
   "metadata": {},
   "outputs": [
    {
     "data": {
      "image/svg+xml": [
       "<?xml version=\"1.0\" encoding=\"UTF-8\"?>\n",
       "<svg xmlns=\"http://www.w3.org/2000/svg\" xmlns:xlink=\"http://www.w3.org/1999/xlink\"\n",
       "     width=\"500\" height=\"325.0\" viewBox=\"-2.0 -1.3 4 2.6\">\n",
       "<defs>\n",
       "<radialGradient cx=\"-2.0\" cy=\"0.0\" r=\"0.2\" gradientUnits=\"userSpaceOnUse\" id=\"d0\">\n",
       "<stop offset=\"0\" stop-color=\"white\" stop-opacity=\"1\" />\n",
       "<stop offset=\"1\" stop-color=\"blue\" stop-opacity=\"1\" />\n",
       "</radialGradient>\n",
       "<radialGradient cx=\"-1.5\" cy=\"-0.8660254037844386\" r=\"0.2\" gradientUnits=\"userSpaceOnUse\" id=\"d1\">\n",
       "<stop offset=\"0\" stop-color=\"white\" stop-opacity=\"1\" />\n",
       "<stop offset=\"1\" stop-color=\"blue\" stop-opacity=\"1\" />\n",
       "</radialGradient>\n",
       "<radialGradient cx=\"-1.5\" cy=\"0.8660254037844386\" r=\"0.2\" gradientUnits=\"userSpaceOnUse\" id=\"d2\">\n",
       "<stop offset=\"0\" stop-color=\"white\" stop-opacity=\"1\" />\n",
       "<stop offset=\"1\" stop-color=\"blue\" stop-opacity=\"1\" />\n",
       "</radialGradient>\n",
       "<radialGradient cx=\"-1.0\" cy=\"0.0\" r=\"0.2\" gradientUnits=\"userSpaceOnUse\" id=\"d3\">\n",
       "<stop offset=\"0\" stop-color=\"white\" stop-opacity=\"1\" />\n",
       "<stop offset=\"1\" stop-color=\"blue\" stop-opacity=\"1\" />\n",
       "</radialGradient>\n",
       "<radialGradient cx=\"-0.5\" cy=\"-0.8660254037844386\" r=\"0.2\" gradientUnits=\"userSpaceOnUse\" id=\"d4\">\n",
       "<stop offset=\"0\" stop-color=\"white\" stop-opacity=\"1\" />\n",
       "<stop offset=\"1\" stop-color=\"blue\" stop-opacity=\"1\" />\n",
       "</radialGradient>\n",
       "<radialGradient cx=\"-0.5\" cy=\"0.8660254037844386\" r=\"0.2\" gradientUnits=\"userSpaceOnUse\" id=\"d5\">\n",
       "<stop offset=\"0\" stop-color=\"white\" stop-opacity=\"1\" />\n",
       "<stop offset=\"1\" stop-color=\"blue\" stop-opacity=\"1\" />\n",
       "</radialGradient>\n",
       "<radialGradient cx=\"0.0\" cy=\"0.0\" r=\"0.2\" gradientUnits=\"userSpaceOnUse\" id=\"d6\">\n",
       "<stop offset=\"0\" stop-color=\"white\" stop-opacity=\"1\" />\n",
       "<stop offset=\"1\" stop-color=\"blue\" stop-opacity=\"1\" />\n",
       "</radialGradient>\n",
       "<radialGradient cx=\"0.5\" cy=\"-0.8660254037844386\" r=\"0.2\" gradientUnits=\"userSpaceOnUse\" id=\"d7\">\n",
       "<stop offset=\"0\" stop-color=\"white\" stop-opacity=\"1\" />\n",
       "<stop offset=\"1\" stop-color=\"blue\" stop-opacity=\"1\" />\n",
       "</radialGradient>\n",
       "<radialGradient cx=\"0.5\" cy=\"0.8660254037844386\" r=\"0.2\" gradientUnits=\"userSpaceOnUse\" id=\"d8\">\n",
       "<stop offset=\"0\" stop-color=\"white\" stop-opacity=\"1\" />\n",
       "<stop offset=\"1\" stop-color=\"blue\" stop-opacity=\"1\" />\n",
       "</radialGradient>\n",
       "<radialGradient cx=\"1.0\" cy=\"0.0\" r=\"0.2\" gradientUnits=\"userSpaceOnUse\" id=\"d9\">\n",
       "<stop offset=\"0\" stop-color=\"white\" stop-opacity=\"1\" />\n",
       "<stop offset=\"1\" stop-color=\"blue\" stop-opacity=\"1\" />\n",
       "</radialGradient>\n",
       "<radialGradient cx=\"1.5\" cy=\"-0.8660254037844386\" r=\"0.2\" gradientUnits=\"userSpaceOnUse\" id=\"d10\">\n",
       "<stop offset=\"0\" stop-color=\"white\" stop-opacity=\"1\" />\n",
       "<stop offset=\"1\" stop-color=\"blue\" stop-opacity=\"1\" />\n",
       "</radialGradient>\n",
       "<radialGradient cx=\"1.5\" cy=\"0.8660254037844386\" r=\"0.2\" gradientUnits=\"userSpaceOnUse\" id=\"d11\">\n",
       "<stop offset=\"0\" stop-color=\"white\" stop-opacity=\"1\" />\n",
       "<stop offset=\"1\" stop-color=\"blue\" stop-opacity=\"1\" />\n",
       "</radialGradient>\n",
       "<radialGradient cx=\"2.0\" cy=\"0.0\" r=\"0.2\" gradientUnits=\"userSpaceOnUse\" id=\"d12\">\n",
       "<stop offset=\"0\" stop-color=\"white\" stop-opacity=\"1\" />\n",
       "<stop offset=\"1\" stop-color=\"blue\" stop-opacity=\"1\" />\n",
       "</radialGradient>\n",
       "<radialGradient cx=\"-2.0\" cy=\"-1.1547005383792515\" r=\"0.1\" gradientUnits=\"userSpaceOnUse\" id=\"d13\">\n",
       "<stop offset=\"0\" stop-color=\"white\" stop-opacity=\"1\" />\n",
       "<stop offset=\"1\" stop-color=\"red\" stop-opacity=\"1\" />\n",
       "</radialGradient>\n",
       "<radialGradient cx=\"-2.0\" cy=\"0.5773502691896257\" r=\"0.1\" gradientUnits=\"userSpaceOnUse\" id=\"d14\">\n",
       "<stop offset=\"0\" stop-color=\"white\" stop-opacity=\"1\" />\n",
       "<stop offset=\"1\" stop-color=\"red\" stop-opacity=\"1\" />\n",
       "</radialGradient>\n",
       "<radialGradient cx=\"-1.5\" cy=\"-0.2886751345948129\" r=\"0.1\" gradientUnits=\"userSpaceOnUse\" id=\"d15\">\n",
       "<stop offset=\"0\" stop-color=\"white\" stop-opacity=\"1\" />\n",
       "<stop offset=\"1\" stop-color=\"red\" stop-opacity=\"1\" />\n",
       "</radialGradient>\n",
       "<radialGradient cx=\"-1.0\" cy=\"-1.1547005383792515\" r=\"0.1\" gradientUnits=\"userSpaceOnUse\" id=\"d16\">\n",
       "<stop offset=\"0\" stop-color=\"white\" stop-opacity=\"1\" />\n",
       "<stop offset=\"1\" stop-color=\"red\" stop-opacity=\"1\" />\n",
       "</radialGradient>\n",
       "<radialGradient cx=\"-1.0\" cy=\"0.5773502691896257\" r=\"0.1\" gradientUnits=\"userSpaceOnUse\" id=\"d17\">\n",
       "<stop offset=\"0\" stop-color=\"white\" stop-opacity=\"1\" />\n",
       "<stop offset=\"1\" stop-color=\"red\" stop-opacity=\"1\" />\n",
       "</radialGradient>\n",
       "<radialGradient cx=\"-0.5\" cy=\"-0.2886751345948129\" r=\"0.1\" gradientUnits=\"userSpaceOnUse\" id=\"d18\">\n",
       "<stop offset=\"0\" stop-color=\"white\" stop-opacity=\"1\" />\n",
       "<stop offset=\"1\" stop-color=\"red\" stop-opacity=\"1\" />\n",
       "</radialGradient>\n",
       "<radialGradient cx=\"0.0\" cy=\"-1.1547005383792515\" r=\"0.1\" gradientUnits=\"userSpaceOnUse\" id=\"d19\">\n",
       "<stop offset=\"0\" stop-color=\"white\" stop-opacity=\"1\" />\n",
       "<stop offset=\"1\" stop-color=\"red\" stop-opacity=\"1\" />\n",
       "</radialGradient>\n",
       "<radialGradient cx=\"0.0\" cy=\"0.5773502691896257\" r=\"0.1\" gradientUnits=\"userSpaceOnUse\" id=\"d20\">\n",
       "<stop offset=\"0\" stop-color=\"white\" stop-opacity=\"1\" />\n",
       "<stop offset=\"1\" stop-color=\"red\" stop-opacity=\"1\" />\n",
       "</radialGradient>\n",
       "<radialGradient cx=\"0.5\" cy=\"-0.2886751345948129\" r=\"0.1\" gradientUnits=\"userSpaceOnUse\" id=\"d21\">\n",
       "<stop offset=\"0\" stop-color=\"white\" stop-opacity=\"1\" />\n",
       "<stop offset=\"1\" stop-color=\"red\" stop-opacity=\"1\" />\n",
       "</radialGradient>\n",
       "<radialGradient cx=\"1.0\" cy=\"-1.1547005383792515\" r=\"0.1\" gradientUnits=\"userSpaceOnUse\" id=\"d22\">\n",
       "<stop offset=\"0\" stop-color=\"white\" stop-opacity=\"1\" />\n",
       "<stop offset=\"1\" stop-color=\"red\" stop-opacity=\"1\" />\n",
       "</radialGradient>\n",
       "<radialGradient cx=\"1.0\" cy=\"0.5773502691896257\" r=\"0.1\" gradientUnits=\"userSpaceOnUse\" id=\"d23\">\n",
       "<stop offset=\"0\" stop-color=\"white\" stop-opacity=\"1\" />\n",
       "<stop offset=\"1\" stop-color=\"red\" stop-opacity=\"1\" />\n",
       "</radialGradient>\n",
       "<radialGradient cx=\"1.5\" cy=\"-0.2886751345948129\" r=\"0.1\" gradientUnits=\"userSpaceOnUse\" id=\"d24\">\n",
       "<stop offset=\"0\" stop-color=\"white\" stop-opacity=\"1\" />\n",
       "<stop offset=\"1\" stop-color=\"red\" stop-opacity=\"1\" />\n",
       "</radialGradient>\n",
       "<radialGradient cx=\"2.0\" cy=\"-1.1547005383792515\" r=\"0.1\" gradientUnits=\"userSpaceOnUse\" id=\"d25\">\n",
       "<stop offset=\"0\" stop-color=\"white\" stop-opacity=\"1\" />\n",
       "<stop offset=\"1\" stop-color=\"red\" stop-opacity=\"1\" />\n",
       "</radialGradient>\n",
       "<radialGradient cx=\"2.0\" cy=\"0.5773502691896257\" r=\"0.1\" gradientUnits=\"userSpaceOnUse\" id=\"d26\">\n",
       "<stop offset=\"0\" stop-color=\"white\" stop-opacity=\"1\" />\n",
       "<stop offset=\"1\" stop-color=\"red\" stop-opacity=\"1\" />\n",
       "</radialGradient>\n",
       "</defs>\n",
       "<path d=\"M-2.0,-0.0 L-1.0,-0.0\" stroke=\"black\" stroke-width=\"0.01\" />\n",
       "<path d=\"M-2.0,-0.0 L-1.5,-0.8660254037844386\" stroke=\"black\" stroke-width=\"0.01\" />\n",
       "<path d=\"M-2.0,-0.0 L-1.5,0.8660254037844386\" stroke=\"black\" stroke-width=\"0.01\" />\n",
       "<path d=\"M-2.0,-0.0 L-3.0,-0.0\" stroke=\"black\" stroke-width=\"0.01\" />\n",
       "<path d=\"M-2.0,-0.0 L-2.5,0.8660254037844386\" stroke=\"black\" stroke-width=\"0.01\" />\n",
       "<path d=\"M-2.0,-0.0 L-2.5,-0.8660254037844386\" stroke=\"black\" stroke-width=\"0.01\" />\n",
       "<path d=\"M-1.5,-0.8660254037844386 L-0.5,-0.8660254037844386\" stroke=\"black\" stroke-width=\"0.01\" />\n",
       "<path d=\"M-1.5,-0.8660254037844386 L-1.0,-1.7320508075688772\" stroke=\"black\" stroke-width=\"0.01\" />\n",
       "<path d=\"M-1.5,-0.8660254037844386 L-1.0,-0.0\" stroke=\"black\" stroke-width=\"0.01\" />\n",
       "<path d=\"M-1.5,-0.8660254037844386 L-2.5,-0.8660254037844386\" stroke=\"black\" stroke-width=\"0.01\" />\n",
       "<path d=\"M-1.5,-0.8660254037844386 L-2.0,-0.0\" stroke=\"black\" stroke-width=\"0.01\" />\n",
       "<path d=\"M-1.5,-0.8660254037844386 L-2.0,-1.7320508075688772\" stroke=\"black\" stroke-width=\"0.01\" />\n",
       "<path d=\"M-1.5,0.8660254037844386 L-0.5,0.8660254037844386\" stroke=\"black\" stroke-width=\"0.01\" />\n",
       "<path d=\"M-1.5,0.8660254037844386 L-1.0,-0.0\" stroke=\"black\" stroke-width=\"0.01\" />\n",
       "<path d=\"M-1.5,0.8660254037844386 L-1.0,1.7320508075688772\" stroke=\"black\" stroke-width=\"0.01\" />\n",
       "<path d=\"M-1.5,0.8660254037844386 L-2.5,0.8660254037844386\" stroke=\"black\" stroke-width=\"0.01\" />\n",
       "<path d=\"M-1.5,0.8660254037844386 L-2.0,1.7320508075688772\" stroke=\"black\" stroke-width=\"0.01\" />\n",
       "<path d=\"M-1.5,0.8660254037844386 L-2.0,-0.0\" stroke=\"black\" stroke-width=\"0.01\" />\n",
       "<path d=\"M-1.0,-0.0 L0.0,-0.0\" stroke=\"black\" stroke-width=\"0.01\" />\n",
       "<path d=\"M-1.0,-0.0 L-0.5,-0.8660254037844386\" stroke=\"black\" stroke-width=\"0.01\" />\n",
       "<path d=\"M-1.0,-0.0 L-0.5,0.8660254037844386\" stroke=\"black\" stroke-width=\"0.01\" />\n",
       "<path d=\"M-1.0,-0.0 L-2.0,-0.0\" stroke=\"black\" stroke-width=\"0.01\" />\n",
       "<path d=\"M-1.0,-0.0 L-1.5,0.8660254037844386\" stroke=\"black\" stroke-width=\"0.01\" />\n",
       "<path d=\"M-1.0,-0.0 L-1.5,-0.8660254037844386\" stroke=\"black\" stroke-width=\"0.01\" />\n",
       "<path d=\"M-0.5,-0.8660254037844386 L0.5,-0.8660254037844386\" stroke=\"black\" stroke-width=\"0.01\" />\n",
       "<path d=\"M-0.5,-0.8660254037844386 L0.0,-1.7320508075688772\" stroke=\"black\" stroke-width=\"0.01\" />\n",
       "<path d=\"M-0.5,-0.8660254037844386 L0.0,-0.0\" stroke=\"black\" stroke-width=\"0.01\" />\n",
       "<path d=\"M-0.5,-0.8660254037844386 L-1.5,-0.8660254037844386\" stroke=\"black\" stroke-width=\"0.01\" />\n",
       "<path d=\"M-0.5,-0.8660254037844386 L-1.0,-0.0\" stroke=\"black\" stroke-width=\"0.01\" />\n",
       "<path d=\"M-0.5,-0.8660254037844386 L-1.0,-1.7320508075688772\" stroke=\"black\" stroke-width=\"0.01\" />\n",
       "<path d=\"M-0.5,0.8660254037844386 L0.5,0.8660254037844386\" stroke=\"black\" stroke-width=\"0.01\" />\n",
       "<path d=\"M-0.5,0.8660254037844386 L0.0,-0.0\" stroke=\"black\" stroke-width=\"0.01\" />\n",
       "<path d=\"M-0.5,0.8660254037844386 L0.0,1.7320508075688772\" stroke=\"black\" stroke-width=\"0.01\" />\n",
       "<path d=\"M-0.5,0.8660254037844386 L-1.5,0.8660254037844386\" stroke=\"black\" stroke-width=\"0.01\" />\n",
       "<path d=\"M-0.5,0.8660254037844386 L-1.0,1.7320508075688772\" stroke=\"black\" stroke-width=\"0.01\" />\n",
       "<path d=\"M-0.5,0.8660254037844386 L-1.0,-0.0\" stroke=\"black\" stroke-width=\"0.01\" />\n",
       "<path d=\"M0.0,-0.0 L1.0,-0.0\" stroke=\"black\" stroke-width=\"0.01\" />\n",
       "<path d=\"M0.0,-0.0 L0.5,-0.8660254037844386\" stroke=\"black\" stroke-width=\"0.01\" />\n",
       "<path d=\"M0.0,-0.0 L0.5,0.8660254037844386\" stroke=\"black\" stroke-width=\"0.01\" />\n",
       "<path d=\"M0.0,-0.0 L-1.0,-0.0\" stroke=\"black\" stroke-width=\"0.01\" />\n",
       "<path d=\"M0.0,-0.0 L-0.5,0.8660254037844386\" stroke=\"black\" stroke-width=\"0.01\" />\n",
       "<path d=\"M0.0,-0.0 L-0.5,-0.8660254037844386\" stroke=\"black\" stroke-width=\"0.01\" />\n",
       "<path d=\"M0.5,-0.8660254037844386 L1.5,-0.8660254037844386\" stroke=\"black\" stroke-width=\"0.01\" />\n",
       "<path d=\"M0.5,-0.8660254037844386 L1.0,-1.7320508075688772\" stroke=\"black\" stroke-width=\"0.01\" />\n",
       "<path d=\"M0.5,-0.8660254037844386 L1.0,-0.0\" stroke=\"black\" stroke-width=\"0.01\" />\n",
       "<path d=\"M0.5,-0.8660254037844386 L-0.5,-0.8660254037844386\" stroke=\"black\" stroke-width=\"0.01\" />\n",
       "<path d=\"M0.5,-0.8660254037844386 L0.0,-0.0\" stroke=\"black\" stroke-width=\"0.01\" />\n",
       "<path d=\"M0.5,-0.8660254037844386 L0.0,-1.7320508075688772\" stroke=\"black\" stroke-width=\"0.01\" />\n",
       "<path d=\"M0.5,0.8660254037844386 L1.5,0.8660254037844386\" stroke=\"black\" stroke-width=\"0.01\" />\n",
       "<path d=\"M0.5,0.8660254037844386 L1.0,-0.0\" stroke=\"black\" stroke-width=\"0.01\" />\n",
       "<path d=\"M0.5,0.8660254037844386 L1.0,1.7320508075688772\" stroke=\"black\" stroke-width=\"0.01\" />\n",
       "<path d=\"M0.5,0.8660254037844386 L-0.5,0.8660254037844386\" stroke=\"black\" stroke-width=\"0.01\" />\n",
       "<path d=\"M0.5,0.8660254037844386 L0.0,1.7320508075688772\" stroke=\"black\" stroke-width=\"0.01\" />\n",
       "<path d=\"M0.5,0.8660254037844386 L0.0,-0.0\" stroke=\"black\" stroke-width=\"0.01\" />\n",
       "<path d=\"M1.0,-0.0 L2.0,-0.0\" stroke=\"black\" stroke-width=\"0.01\" />\n",
       "<path d=\"M1.0,-0.0 L1.5,-0.8660254037844386\" stroke=\"black\" stroke-width=\"0.01\" />\n",
       "<path d=\"M1.0,-0.0 L1.5,0.8660254037844386\" stroke=\"black\" stroke-width=\"0.01\" />\n",
       "<path d=\"M1.0,-0.0 L0.0,-0.0\" stroke=\"black\" stroke-width=\"0.01\" />\n",
       "<path d=\"M1.0,-0.0 L0.5,0.8660254037844386\" stroke=\"black\" stroke-width=\"0.01\" />\n",
       "<path d=\"M1.0,-0.0 L0.5,-0.8660254037844386\" stroke=\"black\" stroke-width=\"0.01\" />\n",
       "<path d=\"M1.5,-0.8660254037844386 L2.5,-0.8660254037844386\" stroke=\"black\" stroke-width=\"0.01\" />\n",
       "<path d=\"M1.5,-0.8660254037844386 L2.0,-1.7320508075688772\" stroke=\"black\" stroke-width=\"0.01\" />\n",
       "<path d=\"M1.5,-0.8660254037844386 L2.0,-0.0\" stroke=\"black\" stroke-width=\"0.01\" />\n",
       "<path d=\"M1.5,-0.8660254037844386 L0.5,-0.8660254037844386\" stroke=\"black\" stroke-width=\"0.01\" />\n",
       "<path d=\"M1.5,-0.8660254037844386 L1.0,-0.0\" stroke=\"black\" stroke-width=\"0.01\" />\n",
       "<path d=\"M1.5,-0.8660254037844386 L1.0,-1.7320508075688772\" stroke=\"black\" stroke-width=\"0.01\" />\n",
       "<path d=\"M1.5,0.8660254037844386 L2.5,0.8660254037844386\" stroke=\"black\" stroke-width=\"0.01\" />\n",
       "<path d=\"M1.5,0.8660254037844386 L2.0,-0.0\" stroke=\"black\" stroke-width=\"0.01\" />\n",
       "<path d=\"M1.5,0.8660254037844386 L2.0,1.7320508075688772\" stroke=\"black\" stroke-width=\"0.01\" />\n",
       "<path d=\"M1.5,0.8660254037844386 L0.5,0.8660254037844386\" stroke=\"black\" stroke-width=\"0.01\" />\n",
       "<path d=\"M1.5,0.8660254037844386 L1.0,1.7320508075688772\" stroke=\"black\" stroke-width=\"0.01\" />\n",
       "<path d=\"M1.5,0.8660254037844386 L1.0,-0.0\" stroke=\"black\" stroke-width=\"0.01\" />\n",
       "<path d=\"M2.0,-0.0 L3.0,-0.0\" stroke=\"black\" stroke-width=\"0.01\" />\n",
       "<path d=\"M2.0,-0.0 L2.5,-0.8660254037844386\" stroke=\"black\" stroke-width=\"0.01\" />\n",
       "<path d=\"M2.0,-0.0 L2.5,0.8660254037844386\" stroke=\"black\" stroke-width=\"0.01\" />\n",
       "<path d=\"M2.0,-0.0 L1.0,-0.0\" stroke=\"black\" stroke-width=\"0.01\" />\n",
       "<path d=\"M2.0,-0.0 L1.5,0.8660254037844386\" stroke=\"black\" stroke-width=\"0.01\" />\n",
       "<path d=\"M2.0,-0.0 L1.5,-0.8660254037844386\" stroke=\"black\" stroke-width=\"0.01\" />\n",
       "<circle cx=\"-2.0\" cy=\"-0.0\" r=\"0.2\" stroke=\"black\" stroke-width=\"0.01\" fill=\"url(#d0)\" />\n",
       "<circle cx=\"-1.5\" cy=\"-0.8660254037844386\" r=\"0.2\" stroke=\"black\" stroke-width=\"0.01\" fill=\"url(#d1)\" />\n",
       "<circle cx=\"-1.5\" cy=\"0.8660254037844386\" r=\"0.2\" stroke=\"black\" stroke-width=\"0.01\" fill=\"url(#d2)\" />\n",
       "<circle cx=\"-1.0\" cy=\"-0.0\" r=\"0.2\" stroke=\"black\" stroke-width=\"0.01\" fill=\"url(#d3)\" />\n",
       "<circle cx=\"-0.5\" cy=\"-0.8660254037844386\" r=\"0.2\" stroke=\"black\" stroke-width=\"0.01\" fill=\"url(#d4)\" />\n",
       "<circle cx=\"-0.5\" cy=\"0.8660254037844386\" r=\"0.2\" stroke=\"black\" stroke-width=\"0.01\" fill=\"url(#d5)\" />\n",
       "<circle cx=\"0.0\" cy=\"-0.0\" r=\"0.2\" stroke=\"black\" stroke-width=\"0.01\" fill=\"url(#d6)\" />\n",
       "<circle cx=\"0.5\" cy=\"-0.8660254037844386\" r=\"0.2\" stroke=\"black\" stroke-width=\"0.01\" fill=\"url(#d7)\" />\n",
       "<circle cx=\"0.5\" cy=\"0.8660254037844386\" r=\"0.2\" stroke=\"black\" stroke-width=\"0.01\" fill=\"url(#d8)\" />\n",
       "<circle cx=\"1.0\" cy=\"-0.0\" r=\"0.2\" stroke=\"black\" stroke-width=\"0.01\" fill=\"url(#d9)\" />\n",
       "<circle cx=\"1.5\" cy=\"-0.8660254037844386\" r=\"0.2\" stroke=\"black\" stroke-width=\"0.01\" fill=\"url(#d10)\" />\n",
       "<circle cx=\"1.5\" cy=\"0.8660254037844386\" r=\"0.2\" stroke=\"black\" stroke-width=\"0.01\" fill=\"url(#d11)\" />\n",
       "<circle cx=\"2.0\" cy=\"-0.0\" r=\"0.2\" stroke=\"black\" stroke-width=\"0.01\" fill=\"url(#d12)\" />\n",
       "<circle cx=\"-2.0\" cy=\"-1.1547005383792515\" r=\"0.1\" stroke=\"black\" stroke-width=\"0.01\" fill=\"url(#d13)\" />\n",
       "<circle cx=\"-2.0\" cy=\"0.5773502691896257\" r=\"0.1\" stroke=\"black\" stroke-width=\"0.01\" fill=\"url(#d14)\" />\n",
       "<circle cx=\"-1.5\" cy=\"-0.2886751345948129\" r=\"0.1\" stroke=\"black\" stroke-width=\"0.01\" fill=\"url(#d15)\" />\n",
       "<circle cx=\"-1.0\" cy=\"-1.1547005383792515\" r=\"0.1\" stroke=\"black\" stroke-width=\"0.01\" fill=\"url(#d16)\" />\n",
       "<circle cx=\"-1.0\" cy=\"0.5773502691896257\" r=\"0.1\" stroke=\"black\" stroke-width=\"0.01\" fill=\"url(#d17)\" />\n",
       "<circle cx=\"-0.5\" cy=\"-0.2886751345948129\" r=\"0.1\" stroke=\"black\" stroke-width=\"0.01\" fill=\"url(#d18)\" />\n",
       "<circle cx=\"0.0\" cy=\"-1.1547005383792515\" r=\"0.1\" stroke=\"black\" stroke-width=\"0.01\" fill=\"url(#d19)\" />\n",
       "<circle cx=\"0.0\" cy=\"0.5773502691896257\" r=\"0.1\" stroke=\"black\" stroke-width=\"0.01\" fill=\"url(#d20)\" />\n",
       "<circle cx=\"0.5\" cy=\"-0.2886751345948129\" r=\"0.1\" stroke=\"black\" stroke-width=\"0.01\" fill=\"url(#d21)\" />\n",
       "<circle cx=\"1.0\" cy=\"-1.1547005383792515\" r=\"0.1\" stroke=\"black\" stroke-width=\"0.01\" fill=\"url(#d22)\" />\n",
       "<circle cx=\"1.0\" cy=\"0.5773502691896257\" r=\"0.1\" stroke=\"black\" stroke-width=\"0.01\" fill=\"url(#d23)\" />\n",
       "<circle cx=\"1.5\" cy=\"-0.2886751345948129\" r=\"0.1\" stroke=\"black\" stroke-width=\"0.01\" fill=\"url(#d24)\" />\n",
       "<circle cx=\"2.0\" cy=\"-1.1547005383792515\" r=\"0.1\" stroke=\"black\" stroke-width=\"0.01\" fill=\"url(#d25)\" />\n",
       "<circle cx=\"2.0\" cy=\"0.5773502691896257\" r=\"0.1\" stroke=\"black\" stroke-width=\"0.01\" fill=\"url(#d26)\" />\n",
       "</svg>"
      ],
      "text/plain": [
       "<drawSvg.drawing.Drawing at 0x753f00504210>"
      ]
     },
     "metadata": {
      "scrapbook": {
       "mime_prefix": "",
       "name": "fig:lattice"
      }
     },
     "output_type": "display_data"
    }
   ],
   "source": [
    "width, height = 4, 2.6\n",
    "container = draw.Drawing(width, height, origin=\"center\")\n",
    "W = moire.LatticeAtom([0, 0], atom_radius=0.2)\n",
    "Se2 = moire.LatticeAtom([1/2, 1/(2*np.sqrt(3))], atom_color='red', atom_radius=0.1)\n",
    "lattice = moire.Lattice([1, 0], [1/2, np.sqrt(3)/2], width, height)\n",
    "lattice.add_atom(W)\n",
    "lattice.add_atom(Se2)\n",
    "lattice.NN(W, W, [(1, 0), (0, 1), (1, -1), (-1, 0), (0, -1), (-1, 1)])\n",
    "#lattice.NN(W, Se2, [(0, 0), (-1, 0), (0, -1)])\n",
    "for atom in lattice.draw_lattice():\n",
    "    container.append(atom)\n",
    "container.setRenderSize(500)\n",
    "glue(\"fig:lattice\", container)"
   ]
  },
  {
   "cell_type": "markdown",
   "metadata": {},
   "source": [
    "## Orbitals"
   ]
  },
  {
   "cell_type": "code",
   "execution_count": 26,
   "metadata": {},
   "outputs": [
    {
     "data": {
      "image/svg+xml": [
       "<?xml version=\"1.0\" encoding=\"UTF-8\"?>\n",
       "<svg xmlns=\"http://www.w3.org/2000/svg\" xmlns:xlink=\"http://www.w3.org/1999/xlink\"\n",
       "     width=\"700\" height=\"245.0\" viewBox=\"-5.0 -1.75 10 3.5\">\n",
       "<defs>\n",
       "<radialGradient cx=\"0\" cy=\"-1\" r=\"0.5\" gradientUnits=\"userSpaceOnUse\" id=\"d0\">\n",
       "<stop offset=\"0\" stop-color=\"white\" stop-opacity=\"0.7\" />\n",
       "<stop offset=\"1.7320508075688772\" stop-color=\"dodgerblue\" stop-opacity=\"0.7\" />\n",
       "</radialGradient>\n",
       "<radialGradient cx=\"0\" cy=\"0\" r=\"0.5\" gradientUnits=\"userSpaceOnUse\" id=\"d1\">\n",
       "<stop offset=\"0\" stop-color=\"white\" stop-opacity=\"0.7\" />\n",
       "<stop offset=\"1.7320508075688772\" stop-color=\"red\" stop-opacity=\"0.7\" />\n",
       "</radialGradient>\n",
       "<radialGradient cx=\"0\" cy=\"-1\" r=\"0.5\" gradientUnits=\"userSpaceOnUse\" id=\"d2\">\n",
       "<stop offset=\"0\" stop-color=\"white\" stop-opacity=\"0.7\" />\n",
       "<stop offset=\"1.7320508075688772\" stop-color=\"dodgerblue\" stop-opacity=\"0.7\" />\n",
       "</radialGradient>\n",
       "<radialGradient cx=\"0\" cy=\"-1\" r=\"0.5\" gradientUnits=\"userSpaceOnUse\" id=\"d3\">\n",
       "<stop offset=\"0\" stop-color=\"white\" stop-opacity=\"0.7\" />\n",
       "<stop offset=\"1.7320508075688772\" stop-color=\"dodgerblue\" stop-opacity=\"0.7\" />\n",
       "</radialGradient>\n",
       "<radialGradient cx=\"0\" cy=\"-1\" r=\"0.5\" gradientUnits=\"userSpaceOnUse\" id=\"d4\">\n",
       "<stop offset=\"0\" stop-color=\"white\" stop-opacity=\"0.7\" />\n",
       "<stop offset=\"1.7320508075688772\" stop-color=\"red\" stop-opacity=\"0.7\" />\n",
       "</radialGradient>\n",
       "<radialGradient cx=\"0\" cy=\"-1\" r=\"0.5\" gradientUnits=\"userSpaceOnUse\" id=\"d5\">\n",
       "<stop offset=\"0\" stop-color=\"white\" stop-opacity=\"0.7\" />\n",
       "<stop offset=\"1.7320508075688772\" stop-color=\"red\" stop-opacity=\"0.7\" />\n",
       "</radialGradient>\n",
       "<radialGradient cx=\"0\" cy=\"-1\" r=\"0.5\" gradientUnits=\"userSpaceOnUse\" id=\"d6\">\n",
       "<stop offset=\"0\" stop-color=\"white\" stop-opacity=\"0.7\" />\n",
       "<stop offset=\"1.7320508075688772\" stop-color=\"dodgerblue\" stop-opacity=\"0.7\" />\n",
       "</radialGradient>\n",
       "<radialGradient cx=\"0\" cy=\"-1\" r=\"0.5\" gradientUnits=\"userSpaceOnUse\" id=\"d7\">\n",
       "<stop offset=\"0\" stop-color=\"white\" stop-opacity=\"0.7\" />\n",
       "<stop offset=\"1.7320508075688772\" stop-color=\"dodgerblue\" stop-opacity=\"0.7\" />\n",
       "</radialGradient>\n",
       "<radialGradient cx=\"0\" cy=\"-1\" r=\"0.5\" gradientUnits=\"userSpaceOnUse\" id=\"d8\">\n",
       "<stop offset=\"0\" stop-color=\"white\" stop-opacity=\"0.7\" />\n",
       "<stop offset=\"1.7320508075688772\" stop-color=\"red\" stop-opacity=\"0.7\" />\n",
       "</radialGradient>\n",
       "<radialGradient cx=\"0\" cy=\"-1\" r=\"0.5\" gradientUnits=\"userSpaceOnUse\" id=\"d9\">\n",
       "<stop offset=\"0\" stop-color=\"white\" stop-opacity=\"0.7\" />\n",
       "<stop offset=\"1.7320508075688772\" stop-color=\"red\" stop-opacity=\"0.7\" />\n",
       "</radialGradient>\n",
       "<radialGradient cx=\"0\" cy=\"-1\" r=\"0.5\" gradientUnits=\"userSpaceOnUse\" id=\"d10\">\n",
       "<stop offset=\"0\" stop-color=\"white\" stop-opacity=\"0.7\" />\n",
       "<stop offset=\"1.7320508075688772\" stop-color=\"dodgerblue\" stop-opacity=\"0.7\" />\n",
       "</radialGradient>\n",
       "</defs>\n",
       "<path d=\"M 0,0 C -1.7320508075688772,-2 1.7320508075688772,-2 0,0 z\" stroke=\"black\" stroke-width=\"0.01\" fill=\"url(#d0)\" transform=\"translate(0 0)\n",
       "rotate(180 0 0)\" />\n",
       "<ellipse cx=\"0\" cy=\"0\" rx=\"1\" ry=\"0.25\" stroke=\"black\" stroke-width=\"0.01\" fill=\"url(#d1)\" transform=\"rotate(0 0 0)\n",
       "translate(0 0)\" />\n",
       "<path d=\"M 0,0 C -1.7320508075688772,-2 1.7320508075688772,-2 0,0 z\" stroke=\"black\" stroke-width=\"0.01\" fill=\"url(#d2)\" transform=\"translate(0 0)\n",
       "rotate(0 0 0)\" />\n",
       "<path d=\"M 0,0 C -1.7320508075688772,-2 1.7320508075688772,-2 0,0 z\" stroke=\"black\" stroke-width=\"0.01\" fill=\"url(#d3)\" transform=\"translate(3 0)\n",
       "rotate(85 0 0)\" />\n",
       "<path d=\"M 0,0 C -1.7320508075688772,-2 1.7320508075688772,-2 0,0 z\" stroke=\"black\" stroke-width=\"0.01\" fill=\"url(#d4)\" transform=\"translate(3 0)\n",
       "rotate(95 0 0)\" />\n",
       "<path d=\"M 0,0 C -1.7320508075688772,-2 1.7320508075688772,-2 0,0 z\" stroke=\"black\" stroke-width=\"0.01\" fill=\"url(#d5)\" transform=\"translate(3 0)\n",
       "rotate(275 0 0)\" />\n",
       "<path d=\"M 0,0 C -1.7320508075688772,-2 1.7320508075688772,-2 0,0 z\" stroke=\"black\" stroke-width=\"0.01\" fill=\"url(#d6)\" transform=\"translate(3 0)\n",
       "rotate(265 0 0)\" />\n",
       "<path d=\"M 0,0 C -1.7320508075688772,-2 1.7320508075688772,-2 0,0 z\" stroke=\"black\" stroke-width=\"0.01\" fill=\"url(#d7)\" transform=\"translate(-3 0)\n",
       "rotate(85 0 0)\" />\n",
       "<path d=\"M 0,0 C -1.7320508075688772,-2 1.7320508075688772,-2 0,0 z\" stroke=\"black\" stroke-width=\"0.01\" fill=\"url(#d8)\" transform=\"translate(-3 0)\n",
       "rotate(95 0 0)\" />\n",
       "<path d=\"M 0,0 C -1.7320508075688772,-2 1.7320508075688772,-2 0,0 z\" stroke=\"black\" stroke-width=\"0.01\" fill=\"url(#d9)\" transform=\"translate(-3 0)\n",
       "rotate(275 0 0)\" />\n",
       "<path d=\"M 0,0 C -1.7320508075688772,-2 1.7320508075688772,-2 0,0 z\" stroke=\"black\" stroke-width=\"0.01\" fill=\"url(#d10)\" transform=\"translate(-3 0)\n",
       "rotate(265 0 0)\" />\n",
       "<path d=\"M0,2 L0,-2\" stroke=\"black\" stroke-width=\"0.03\" stroke-dasharray=\"0.05,0.05\" />\n",
       "</svg>"
      ],
      "text/plain": [
       "<drawSvg.drawing.Drawing at 0x753f0054b3d0>"
      ]
     },
     "metadata": {
      "scrapbook": {
       "mime_prefix": "",
       "name": "fig:d_z2-d_xy"
      }
     },
     "output_type": "display_data"
    }
   ],
   "source": [
    "container = draw.Drawing(10, 3.5, origin=\"center\")\n",
    "orb = moire.Orbital()\n",
    "#container.append(orb.lobe('blue'))\n",
    "moire.d_z2(container)\n",
    "moire.d_xy(container, translate=(3, 0))\n",
    "moire.d_xy(container, translate=(-3, 0))\n",
    "container.append(draw.Line(0, -2, 0, 2, stroke='black', stroke_width=stroke_width, stroke_dasharray=\"0.05,0.05\"))\n",
    "container.setRenderSize(700)\n",
    "glue('fig:d_z2-d_xy', container)"
   ]
  },
  {
   "cell_type": "markdown",
   "metadata": {},
   "source": [
    "### Rotating orbitals"
   ]
  },
  {
   "cell_type": "code",
   "execution_count": 24,
   "metadata": {},
   "outputs": [
    {
     "data": {
      "image/svg+xml": [
       "<?xml version=\"1.0\" encoding=\"UTF-8\"?>\n",
       "<svg xmlns=\"http://www.w3.org/2000/svg\" xmlns:xlink=\"http://www.w3.org/1999/xlink\"\n",
       "     width=\"500\" height=\"357.14285714285717\" viewBox=\"0 -5 7 5\">\n",
       "<defs>\n",
       "<radialGradient cx=\"0\" cy=\"-1\" r=\"0.5\" gradientUnits=\"userSpaceOnUse\" id=\"d0\">\n",
       "<stop offset=\"0\" stop-color=\"white\" stop-opacity=\"0.7\" />\n",
       "<stop offset=\"1.7320508075688772\" stop-color=\"dodgerblue\" stop-opacity=\"0.7\" />\n",
       "</radialGradient>\n",
       "<radialGradient cx=\"0\" cy=\"-1\" r=\"0.5\" gradientUnits=\"userSpaceOnUse\" id=\"d1\">\n",
       "<stop offset=\"0\" stop-color=\"white\" stop-opacity=\"0.7\" />\n",
       "<stop offset=\"1.7320508075688772\" stop-color=\"dodgerblue\" stop-opacity=\"0.7\" />\n",
       "</radialGradient>\n",
       "<radialGradient cx=\"0\" cy=\"-1\" r=\"0.5\" gradientUnits=\"userSpaceOnUse\" id=\"d2\">\n",
       "<stop offset=\"0\" stop-color=\"white\" stop-opacity=\"0.7\" />\n",
       "<stop offset=\"1.7320508075688772\" stop-color=\"red\" stop-opacity=\"0.7\" />\n",
       "</radialGradient>\n",
       "<radialGradient cx=\"0\" cy=\"-1\" r=\"0.5\" gradientUnits=\"userSpaceOnUse\" id=\"d3\">\n",
       "<stop offset=\"0\" stop-color=\"white\" stop-opacity=\"0.7\" />\n",
       "<stop offset=\"1.7320508075688772\" stop-color=\"red\" stop-opacity=\"0.7\" />\n",
       "</radialGradient>\n",
       "<radialGradient cx=\"0\" cy=\"-1\" r=\"0.5\" gradientUnits=\"userSpaceOnUse\" id=\"d4\">\n",
       "<stop offset=\"0\" stop-color=\"white\" stop-opacity=\"0.7\" />\n",
       "<stop offset=\"1.7320508075688772\" stop-color=\"dodgerblue\" stop-opacity=\"0.7\" />\n",
       "</radialGradient>\n",
       "<radialGradient cx=\"0\" cy=\"-1\" r=\"0.5\" gradientUnits=\"userSpaceOnUse\" id=\"d5\">\n",
       "<stop offset=\"0\" stop-color=\"white\" stop-opacity=\"0.7\" />\n",
       "<stop offset=\"1.7320508075688772\" stop-color=\"dodgerblue\" stop-opacity=\"0.7\" />\n",
       "</radialGradient>\n",
       "<radialGradient cx=\"0\" cy=\"-1\" r=\"0.5\" gradientUnits=\"userSpaceOnUse\" id=\"d6\">\n",
       "<stop offset=\"0\" stop-color=\"white\" stop-opacity=\"0.7\" />\n",
       "<stop offset=\"1.7320508075688772\" stop-color=\"red\" stop-opacity=\"0.7\" />\n",
       "</radialGradient>\n",
       "<radialGradient cx=\"0\" cy=\"-1\" r=\"0.5\" gradientUnits=\"userSpaceOnUse\" id=\"d7\">\n",
       "<stop offset=\"0\" stop-color=\"white\" stop-opacity=\"0.7\" />\n",
       "<stop offset=\"1.7320508075688772\" stop-color=\"red\" stop-opacity=\"0.7\" />\n",
       "</radialGradient>\n",
       "</defs>\n",
       "<path d=\"M 0,0 C -1.7320508075688772,-2 1.7320508075688772,-2 0,0 z\" stroke=\"black\" stroke-width=\"0.01\" fill=\"url(#d0)\" transform=\"translate(1.5 -1.5)\n",
       "rotate(180 0 0)\" />\n",
       "<path d=\"M 0,0 C -1.7320508075688772,-2 1.7320508075688772,-2 0,0 z\" stroke=\"black\" stroke-width=\"0.01\" fill=\"url(#d1)\" transform=\"translate(1.5 -1.5)\n",
       "rotate(0 0 0)\" />\n",
       "<path d=\"M 0,0 C -1.7320508075688772,-2 1.7320508075688772,-2 0,0 z\" stroke=\"black\" stroke-width=\"0.01\" fill=\"url(#d2)\" transform=\"translate(1.5 -1.5)\n",
       "rotate(90 0 0)\" />\n",
       "<path d=\"M 0,0 C -1.7320508075688772,-2 1.7320508075688772,-2 0,0 z\" stroke=\"black\" stroke-width=\"0.01\" fill=\"url(#d3)\" transform=\"translate(1.5 -1.5)\n",
       "rotate(270 0 0)\" />\n",
       "<path d=\"M 0,0 C -1.7320508075688772,-2 1.7320508075688772,-2 0,0 z\" stroke=\"black\" stroke-width=\"0.01\" fill=\"url(#d4)\" transform=\"translate(4.5 -3.232050807568877)\n",
       "rotate(180 0 0)\" />\n",
       "<path d=\"M 0,0 C -1.7320508075688772,-2 1.7320508075688772,-2 0,0 z\" stroke=\"black\" stroke-width=\"0.01\" fill=\"url(#d5)\" transform=\"translate(4.5 -3.232050807568877)\n",
       "rotate(0 0 0)\" />\n",
       "<path d=\"M 0,0 C -1.7320508075688772,-2 1.7320508075688772,-2 0,0 z\" stroke=\"black\" stroke-width=\"0.01\" fill=\"url(#d6)\" transform=\"translate(4.5 -3.232050807568877)\n",
       "rotate(90 0 0)\" />\n",
       "<path d=\"M 0,0 C -1.7320508075688772,-2 1.7320508075688772,-2 0,0 z\" stroke=\"black\" stroke-width=\"0.01\" fill=\"url(#d7)\" transform=\"translate(4.5 -3.232050807568877)\n",
       "rotate(270 0 0)\" />\n",
       "<path d=\"M1.5,-1.5 L4.5,-3.232050807568877\" stroke=\"black\" stroke-width=\"0.03\" />\n",
       "<path d=\"M1.5,-1.5 L4.5,-1.5\" stroke=\"black\" stroke-width=\"0.03\" stroke-dasharray=\"0.05,0.05\" />\n",
       "<path d=\"M4.5,-1.5 L4.5,-3.232050807568877\" stroke=\"black\" stroke-width=\"0.03\" stroke-dasharray=\"0.05,0.05\" />\n",
       "<path d=\"M1.9330127018922194,-1.75 A0.5,0.5,0,0,1,2.0,-1.5\" stroke=\"black\" stroke-width=\"0.03\" fill=\"none\" />\n",
       "<text x=\"2.2244443697168013\" y=\"-1.6941142838268906\" font-size=\"0.3333333333333333\" fill=\"black\" text-anchor=\"middle\" transform=\"translate(0,0.09999999999999999)\">θ</text>\n",
       "</svg>"
      ],
      "text/plain": [
       "<drawSvg.drawing.Drawing at 0x753f00504050>"
      ]
     },
     "metadata": {
      "scrapbook": {
       "mime_prefix": "",
       "name": "fig:rotate_orbital"
      }
     },
     "output_type": "display_data"
    }
   ],
   "source": [
    "pos_1 = (1.5, 1.5)\n",
    "pos_2 = (4.5, 1.5+np.sqrt(3))\n",
    "R = 0.5\n",
    "stroke_width = 0.03\n",
    "color = 'black'\n",
    "container = draw.Drawing(7, 5)\n",
    "moire.d_x2y2(container, translate=(pos_1[0], -pos_1[1]))\n",
    "moire.d_x2y2(container, translate=(pos_2[0], -pos_2[1]))\n",
    "container.append(draw.Line(*pos_1, *pos_2, stroke=color, stroke_width=stroke_width))\n",
    "container.append(draw.Line(*pos_1, pos_2[0], pos_1[1], stroke=color, stroke_width=stroke_width, stroke_dasharray=\"0.05,0.05\"))\n",
    "container.append(draw.Line(pos_2[0], pos_1[1], *pos_2, stroke=color, stroke_width=stroke_width, stroke_dasharray=\"0.05,0.05\"))\n",
    "container.append(draw.Arc(*pos_1, R, 30, 0, cw=True, stroke=color, stroke_width=stroke_width, fill='none'))\n",
    "container.append(draw.Text('θ', R*2/3, pos_1[0]+1.5*R*np.cos(np.pi/12), pos_1[1]+1.5*R*np.sin(np.pi/12), center=0.6, fill=color))\n",
    "container.setRenderSize(500)\n",
    "glue('fig:rotate_orbital', container)"
   ]
  },
  {
   "cell_type": "markdown",
   "metadata": {},
   "source": [
    "## Constants"
   ]
  },
  {
   "cell_type": "code",
   "execution_count": 5,
   "metadata": {},
   "outputs": [
    {
     "data": {
      "application/papermill.record/text/plain": "0.034"
     },
     "metadata": {
      "scrapbook": {
       "mime_prefix": "application/papermill.record/",
       "name": "var:t_1"
      }
     },
     "output_type": "display_data"
    },
    {
     "data": {
      "application/papermill.record/text/plain": "0.263"
     },
     "metadata": {
      "scrapbook": {
       "mime_prefix": "application/papermill.record/",
       "name": "var:t_2"
      }
     },
     "output_type": "display_data"
    },
    {
     "data": {
      "application/papermill.record/text/plain": "-0.207"
     },
     "metadata": {
      "scrapbook": {
       "mime_prefix": "application/papermill.record/",
       "name": "var:t_3"
      }
     },
     "output_type": "display_data"
    },
    {
     "data": {
      "application/papermill.record/text/plain": "0.329"
     },
     "metadata": {
      "scrapbook": {
       "mime_prefix": "application/papermill.record/",
       "name": "var:t_12"
      }
     },
     "output_type": "display_data"
    },
    {
     "data": {
      "application/papermill.record/text/plain": "0.486"
     },
     "metadata": {
      "scrapbook": {
       "mime_prefix": "application/papermill.record/",
       "name": "var:t_13"
      }
     },
     "output_type": "display_data"
    },
    {
     "data": {
      "application/papermill.record/text/plain": "0.457"
     },
     "metadata": {
      "scrapbook": {
       "mime_prefix": "application/papermill.record/",
       "name": "var:t_23"
      }
     },
     "output_type": "display_data"
    },
    {
     "data": {
      "application/papermill.record/text/plain": "2.179"
     },
     "metadata": {
      "scrapbook": {
       "mime_prefix": "application/papermill.record/",
       "name": "var:ε_1"
      }
     },
     "output_type": "display_data"
    },
    {
     "data": {
      "application/papermill.record/text/plain": "0.942"
     },
     "metadata": {
      "scrapbook": {
       "mime_prefix": "application/papermill.record/",
       "name": "var:ε_3"
      }
     },
     "output_type": "display_data"
    },
    {
     "data": {
      "application/papermill.record/text/plain": "0.228"
     },
     "metadata": {
      "scrapbook": {
       "mime_prefix": "application/papermill.record/",
       "name": "var:λ_SOC"
      }
     },
     "output_type": "display_data"
    }
   ],
   "source": [
    "var_dic = moire.WSe2.var_dic\n",
    "for var_key in var_dic:\n",
    "    glue(\"var:\"+var_key, var_dic[var_key], display=False)"
   ]
  },
  {
   "cell_type": "code",
   "execution_count": null,
   "metadata": {},
   "outputs": [],
   "source": []
  }
 ],
 "metadata": {
  "kernelspec": {
   "display_name": "Python 3",
   "language": "python",
   "name": "python3"
  },
  "language_info": {
   "codemirror_mode": {
    "name": "ipython",
    "version": 3
   },
   "file_extension": ".py",
   "mimetype": "text/x-python",
   "name": "python",
   "nbconvert_exporter": "python",
   "pygments_lexer": "ipython3",
   "version": "3.7.7"
  }
 },
 "nbformat": 4,
 "nbformat_minor": 4
}
