{
 "cells": [
  {
   "cell_type": "markdown",
   "metadata": {},
   "source": [
    "# Bloch Theorem and Tight-Binding Model"
   ]
  },
  {
   "cell_type": "markdown",
   "metadata": {},
   "source": [
    "We study the behavior of electrons in periodic lattices of atoms. Every atom is identical and as such we have translational invariance for any $\\mathbf T=\\sum n_i\\mathbf a_i$, where the $a_i$ are the lattice vectors of the lattice. We model the lattice with a periodic potential $V(\\mathbf r)$ that obeys the translational symmetry: $V(\\mathbf r)=V(\\mathbf r+\\mathbf T)$. Now the stationary Schrödinger equation describes the behavior of an electron in this potential:\n",
    "```{math}\n",
    "H=-\\frac{1}{2m}\\nabla_{\\mathbf r}^2+V(\\mathbf r),\n",
    "```\n",
    "here, and in the future, we take $\\hbar =1$."
   ]
  },
  {
   "cell_type": "markdown",
   "metadata": {},
   "source": [
    "Any eigenstate $\\psi(\\mathbf r)$ must obey the same symmetries as the Hamiltonian. Accordingly we can write $\\psi(\\mathbf r)=\\text e^{i\\mathbf k\\cdot\\mathbf r}\\phi(\\mathbf r)$, with $\\phi(\\mathbf r)=\\phi(\\mathbf r+\\mathbf T)$ for all $\\mathbf T$. This $k$ in the exponent is called the *quasimomentum* and is defined modulo"
   ]
  },
  {
   "cell_type": "code",
   "execution_count": 1,
   "metadata": {},
   "outputs": [
    {
     "name": "stdout",
     "output_type": "stream",
     "text": [
      "99.951171875\n"
     ]
    }
   ],
   "source": [
    "import numpy as np\n",
    "\n",
    "print(sum([50*(1/2)**k for k in range(11)]))"
   ]
  },
  {
   "cell_type": "code",
   "execution_count": null,
   "metadata": {},
   "outputs": [],
   "source": []
  }
 ],
 "metadata": {
  "jupytext": {
   "formats": "ipynb,md:myst",
   "text_representation": {
    "extension": ".md",
    "format_name": "myst",
    "format_version": "0.9",
    "jupytext_version": "1.5.2"
   }
  },
  "kernelspec": {
   "display_name": "Python 3",
   "language": "python",
   "name": "python3"
  },
  "language_info": {
   "codemirror_mode": {
    "name": "ipython",
    "version": 3
   },
   "file_extension": ".py",
   "mimetype": "text/x-python",
   "name": "python",
   "nbconvert_exporter": "python",
   "pygments_lexer": "ipython3",
   "version": "3.7.7"
  },
  "source_map": [
   13,
   17,
   25,
   29,
   35
  ]
 },
 "nbformat": 4,
 "nbformat_minor": 4
}