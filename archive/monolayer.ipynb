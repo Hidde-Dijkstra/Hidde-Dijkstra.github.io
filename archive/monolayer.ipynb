{
 "cells": [
  {
   "cell_type": "markdown",
   "metadata": {},
   "source": [
    "# Monolayer WSe$_2$"
   ]
  },
  {
   "cell_type": "code",
   "execution_count": 1,
   "metadata": {
    "tags": [
     "hide-input"
    ]
   },
   "outputs": [],
   "source": [
    "import numpy as np\n",
    "import matplotlib.pyplot as plt\n",
    "import pandas as pd\n",
    "import drawSvg as draw\n",
    "from myst_nb import glue\n",
    "\n",
    "def rot_mat(θ):\n",
    "    return np.array([[np.cos(θ), -np.sin(θ)], [np.sin(θ), np.cos(θ)]])"
   ]
  },
  {
   "cell_type": "markdown",
   "metadata": {},
   "source": [
    "We base our tight binding model of monolayer WSe$_2$ (mWSe$_2$) on the three band model (TBM) by Liu et al. {cite}`three_band`. In the TBM of mWSe2 the hopping is modeled using only the tungsten sites, forming a triangular lattice in the $xy$ plane with real space unit vectors:\n",
    "```{math}\n",
    "\\vec a_1=\\begin{pmatrix}1\\\\ 0\\end{pmatrix}\\text{ and } \\vec a_2=\\frac12\\begin{pmatrix}1\\\\ \\sqrt{3}\\end{pmatrix},    \n",
    "```\n",
    "and reciprocal lattice vectors:\n",
    "```{math}\n",
    "\\vec b_1=2\\pi\\begin{pmatrix}1\\\\ -1/\\sqrt{3}\\end{pmatrix}\\text{ and } \\vec b_2=2\\pi\\begin{pmatrix}0\\\\ 2/\\sqrt{3}\\end{pmatrix},    \n",
    "```\n",
    "where length is in units of the lattice spacing $a$ between two tungsten atoms.\n",
    "\n",
    "We consider one atom as the origin and label every other atom using the integers $i$ and $j$ which connect this atom to their origin with the vector $i\n",
    "\\vec a_1 + j\\vec a_2$:"
   ]
  },
  {
   "cell_type": "code",
   "execution_count": null,
   "metadata": {
    "tags": [
     "hide-input"
    ]
   },
   "outputs": [],
   "source": [
    "class LatVec:\n",
    "    # We identify each atom as the two integers i and j which connect it to the origin. \n",
    "    # Using a pythonic object we can define how two of these vectors interact.\n",
    "    a_1 = np.array([1, 0])\n",
    "    a_2 = np.array([1/2, np.sqrt(3)/2])\n",
    "    b_1 = 2*np.pi * np.array([1, -1/np.sqrt(3)])\n",
    "    b_2 = 2*np.pi * np.array([0, 2/np.sqrt(3)])\n",
    "    \n",
    "    def __init__(self, i, j, reciprocal=False, scale=1):\n",
    "        self.i = i\n",
    "        self.j = j\n",
    "        self.scale = scale\n",
    "        self.reciprocal = reciprocal\n",
    "        self.vec = self.vectorize()\n",
    "        \n",
    "    def __add__(self, other):\n",
    "        return LatVec(self.i+other.i, self.j+other.j)\n",
    "    \n",
    "    def __eq__(self, other):\n",
    "        return (self.i==other.i) & (self.j==other.j)\n",
    "    \n",
    "    def __and__(self, other):\n",
    "        # A simple way to get all hopping vectors from two unit vectors.\n",
    "        return [self, other.neg(), self.neg()+other.neg(), self.neg(), other, self+other]\n",
    "    \n",
    "    def __mul__(self, other):\n",
    "        if type(other) == LatVec:\n",
    "            return np.dot(self.vec, other.vec)\n",
    "        else:\n",
    "            return np.dot(self.vec, other)\n",
    "        \n",
    "    def __rmul__(self, other):\n",
    "        return self * other\n",
    "    \n",
    "    def neg(self):\n",
    "        return LatVec(-self.i, -self.j)\n",
    "    \n",
    "    def vectorize(self):\n",
    "        if self.reciprocal:\n",
    "            return self.scale*(self.i*self.b_1 + self.j*self.b_2)\n",
    "        else:\n",
    "            return self.scale*(self.i*self.a_1 + self.j*self.a_2)\n",
    "    \n",
    "    def plot(self, container, atom_radius=0.2, atom_color='darkblue', θ=0, atom=\"\", bonds=False, displace=0, **kwargs):\n",
    "        origin = self.vec + displace\n",
    "        a_list = [self.a_1, self.a_2, self.a_1-self.a_2]      \n",
    "        if θ != 0:\n",
    "            origin = rot_mat(θ) @ self.vec\n",
    "            a_list = [rot_mat(θ) @ a for a in a_list]\n",
    "        if bonds: \n",
    "            for a in a_list:\n",
    "                container.append(draw.Line(*(origin-a/2), *(origin+a/2), **kwargs))\n",
    "        gradient = draw.RadialGradient(*origin, atom_radius)\n",
    "        gradient.addStop(0, 'white', 1)\n",
    "        gradient.addStop(1, atom_color, 1)\n",
    "        container.append(draw.Circle(*origin, atom_radius, fill=gradient, **kwargs))\n",
    "        container.append(draw.Text(atom, atom_radius, *origin, text_anchor='middle', alignment_baseline=\"central\"))\n",
    "        return container\n",
    "    \n",
    "container = draw.Drawing(4, 2.3, origin='center', displayInline=False)\n",
    "for (i, j) in [(i, j) for i in range(-3, 3) for j in range(-2, 2)]:\n",
    "    container = LatVec(i, j).plot(container, stroke='black', atom_color='red', bonds=True, atom=str(i)+','+str(j), stroke_width=0.015)\n",
    "    container = LatVec(i, j).plot(container, stroke='black', atom_color='blue', atom=\"Se2\", stroke_width=0.01, \n",
    "                                  displace=[1/2, 1/3], atom_radius=0.15)\n",
    "container.setRenderSize(1000)\n",
    "glue('fig:lattice', container, display=False)"
   ]
  },
  {
   "cell_type": "markdown",
   "metadata": {},
   "source": [
    "```{glue:figure} fig:lattice\n",
    "```\n",
    "\n",
    "The symmetric point group of this triangular lattice is $D_3$ with elements $\\{E, C_3, C^2_3,\\sigma_v, \\sigma_v', \\sigma_v''\\}$. The rotations are in the $xy$ plane, while the reflections are with respect to the $yz$, $xz$ and $xy$ planes. $C_6$ is not a symmetry element of this lattice since this operation exchanges triangles containing Se$_2$ and empty triangles.\n",
    "\n",
    "We restrict the orbitals of tungsten to the $d$ orbitals $d_{x^2-y^2}$, $d_{xy}$ and $d_{z^2}$, which dictate the low energy $K$ points. The other orbitals are either at a different energy scale or do not mix with these orbitals due to the symmetries of the lattice. Since $C_6$ is not a symmetry element, $C_2=C_6\\prod C_3$ is not either."
   ]
  },
  {
   "cell_type": "code",
   "execution_count": null,
   "metadata": {
    "tags": [
     "hide-input"
    ]
   },
   "outputs": [],
   "source": [
    "class Orbital:  \n",
    "    \n",
    "    def lobe(self, color, rotate=0, translate=(0, 0), stroke=\"black\", **kwargs):\n",
    "        gradient = draw.RadialGradient(0, 100, 50)\n",
    "        gradient.addStop(0, 'white', 0.7)\n",
    "        gradient.addStop(173.21, color, 0.7)\n",
    "        transform = \"translate(\" + \" \".join([str(i) for i in translate]) + \")\\nrotate(\" + str(rotate) + \" 0 0)\"\n",
    "        return draw.Path(d=\"M 0,0 C -173.21,-200 173.21,-200 0,0 z\", stroke=stroke, fill=gradient, transform=transform, **kwargs)\n",
    "    \n",
    "    def circle(self, color, ellipse=False, rotate=0, translate=(0, 0), stroke=\"black\", **kwargs):\n",
    "        gradient = draw.RadialGradient(0, 0, 50)\n",
    "        gradient.addStop(0, 'white', 0.7)\n",
    "        gradient.addStop(173.21, color, 0.7)\n",
    "        transform = \"rotate(\" + str(rotate) + \" 0 0)\\ntranslate(\" + \" \".join([str(i) for i in translate]) + \")\"\n",
    "        if ellipse:\n",
    "            clip = draw.ClipPath()\n",
    "            clip.append(draw.Ellipse(0, 0, 50, 12.5, transform=transform))\n",
    "            return draw.Ellipse(0, 0, 100, 25, stroke=stroke, fill=gradient, transform=transform, **kwargs) \n",
    "        else:\n",
    "            return draw.Circle(0, 0, 50, stroke=stroke, fill=gradient, transform=transform, **kwargs)\n",
    "\n",
    "class d_xy(Orbital):\n",
    "    \n",
    "    def __init__(self, container, translate=(0, 0), rotate=0):\n",
    "        container.append(self.lobe(\"dodgerblue\", rotate=85+rotate, translate=translate))\n",
    "        container.append(self.lobe(\"red\", rotate=95+rotate, translate=translate))\n",
    "        container.append(self.lobe(\"red\", rotate=275+rotate, translate=translate))\n",
    "        container.append(self.lobe(\"dodgerblue\", rotate=265+rotate, translate=translate))\n",
    "        \n",
    "class d_z2(Orbital):\n",
    "    \n",
    "    def __init__(self, container, translate=(0, 0), rotate=0):\n",
    "        container.append(self.lobe(\"dodgerblue\", rotate=180+rotate, translate=translate))\n",
    "        container.append(self.circle(\"red\", ellipse=True, rotate=rotate, translate=translate))\n",
    "        container.append(self.lobe(\"dodgerblue\", rotate=rotate, translate=translate))\n",
    "\n",
    "container = draw.Drawing(1000, 350, origin=\"center\")\n",
    "d_z2(container)\n",
    "d_xy(container, translate=(300, 0))\n",
    "d_xy(container, translate=(-300, 0))\n",
    "glue('fig:d_z2-d_xy', container, display=False)"
   ]
  },
  {
   "cell_type": "markdown",
   "metadata": {},
   "source": [
    "```{glue:figure} fig:d_z2-d_xy\n",
    "```"
   ]
  },
  {
   "cell_type": "code",
   "execution_count": null,
   "metadata": {
    "tags": [
     "remove-cell"
    ]
   },
   "outputs": [],
   "source": [
    "var_dic = {\n",
    "    \"t_1\": 0.034, \n",
    "    \"t_2\": 0.263, \n",
    "    \"t_3\": -0.207, \n",
    "    \"t_12\": 0.329, \n",
    "    \"t_13\": 0.486, \n",
    "    \"t_23\": 0.457, \n",
    "    \"ε_1\": 2.179, \n",
    "    \"ε_3\": 0.942, \n",
    "    \"λ_SOC\": 0.228\n",
    "}\n",
    "t_1, t_2, t_3, t_12, t_13, t_23, ε_1, ε_3, λ_SOC = var_dic.values()\n",
    "for var_key in var_dic:\n",
    "    glue(\"var:\"+var_key, var_dic[var_key], display=False)"
   ]
  },
  {
   "cell_type": "markdown",
   "metadata": {},
   "source": [
    "```{admonition} GGA coupling constants in eV\n",
    "Coupling constants for WSe$_2$, subscripts 1, 2 and 3 refer to the $d_{x^2-y^2}$, $d_{xy}$ and $d_{z^2}$ orbitals respectively. These constants are for NN hopping left to right with respect to the $x$-axis. $\\varepsilon_i$ are the on-site energies where $\\varepsilon_1=\\varepsilon_2$ due to symmetry. $\\lambda_\\text{SOC}$ is the spin orbit coupling. These are the GGA constants from {cite}`three_band`.\n",
    "| $t_1$| $t_2$| $t_3$| $t_{12}$| $t_{13}$| $t_{23}$| $\\varepsilon_1$| $\\varepsilon_3$| $\\lambda_{SOC}$|\n",
    "|:----:|:----:|:----:|:-------:|:-------:|:-------:|:--------------:|:--------------:|:--------------:|\n",
    "|{glue:}`var:t_1`|{glue:}`var:t_2`|{glue:}`var:t_3`|{glue:}`var:t_12`|{glue:}`var:t_13`|{glue:}`var:t_23`|{glue:}`var:ε_1`|{glue:}`var:ε_3`|{glue:}`var:λ_SOC`|\n",
    "where all energies are measured in eV. \n",
    "```\n",
    "\n",
    "\n",
    " and collect them in the matrix $\\mathcal E$:\n",
    "```{math}\n",
    "    \\mathcal E = \\begin{pmatrix}\n",
    "        t_1&t_{12}&t_{13}\\\\\n",
    "        -t_{12}&t_2&t_{23}\\\\\n",
    "        t_{13}&-t_{23}&t_3\n",
    "    \\end{pmatrix}.\n",
    "```"
   ]
  },
  {
   "cell_type": "code",
   "execution_count": null,
   "metadata": {},
   "outputs": [],
   "source": [
    "class Supercell:\n",
    "    hop_list = LatVec(1, 0) & LatVec(0, -1)\n",
    "    \n",
    "    def __init__(self, m, n):\n",
    "        self.v_1 = LatVec(m, n)    \n",
    "        self.v_2 = LatVec(n+m, -m)\n",
    "        self.w_1 = LatVec(m, n+m, True, 1/(m**2+m*n+n**2))\n",
    "        self.w_2 = LatVec(n, -m, True, 1/(m**2+m*n+n**2))\n",
    "        r = max(m, n)\n",
    "        self.grid = [LatVec(i, j) for i in range(0, 3*r) for j in range(-r, r+1) if self.in_supercell(i, j)]\n",
    "        self.N_atoms = len(self.grid)\n",
    "        self.Δθ = np.arctan((n-m)/(n+m)/np.sqrt(3))\n",
    "        self.construct_NN_array()\n",
    "         \n",
    "    def in_supercell(self, i, j, tol=10**-5):\n",
    "        M = np.linalg.inv(np.array([self.v_1.vec, self.v_2.vec]).T)\n",
    "        λ, μ = M @ LatVec(i, j).vec\n",
    "        in_parellogram = (tol < λ < 1-tol) and (tol < μ < 1-tol) \n",
    "        return in_parellogram or (i, j) == (0, 0)\n",
    "    \n",
    "    def construct_NN_array(self):\n",
    "        self.NN_array = np.zeros((self.N_atoms, 6, 2), dtype=int)\n",
    "        for i in range(self.N_atoms):\n",
    "            self.NN_array[i, :] = [self.find_NN(i, h_vec) for h_vec in self.hop_list]\n",
    "            \n",
    "    def find_NN(self, i, h_vec):\n",
    "        for m, lat_vec in enumerate((self.v_1 & self.v_2) + [LatVec(0, 0)]):\n",
    "            if self.grid[i]+h_vec+lat_vec in self.grid:\n",
    "                return self.grid.index(self.grid[i]+h_vec+lat_vec), m\n",
    "        raise Exception('No NN found for '+str(i)+' '+str(h_vec))\n",
    "                \n",
    "    def interlayer_hopping_array(self, supercell, tol=10**-5):\n",
    "        if self.N_atoms != supercell.N_atoms:\n",
    "            raise Exception('Supercells have a different number of atoms')\n",
    "        if np.abs(self.Δθ + supercell.Δθ) > tol:\n",
    "            raise Exception('Unequal twist angles')\n",
    "        z_hopping = np.zeros((self.N_atoms, self.N_atoms, 2))\n",
    "        for i in range(self.N_atoms):\n",
    "            vec_i = supercell.grid[i].rot(-supercell.Δθ)    \n",
    "            for j in range(self.N_atoms):\n",
    "                min_ΔR = 10**6\n",
    "                for lat_vec in (self.v_1 & self.v_2) + [LatVec(0, 0)]:\n",
    "                    vec_j_trial = (self.grid[j]+lat_vec).rot(-self.Δθ)\n",
    "                    if np.linalg.norm(vec_i-vec_j_trial) < min_ΔR:\n",
    "                        min_ΔR = np.linalg.norm(vec_i-vec_j_trial)\n",
    "                        vec_j = vec_j_trial\n",
    "                z_hopping[i, j] = vec_i - vec_j\n",
    "        return z_hopping\n",
    "    \n",
    "    def plot_supercell(self, grid_points=None, *, lat_vec=LatVec(0, 0), rotate=True, **kwargs):\n",
    "        if grid_points == None:\n",
    "            grid_points = range(self.N_atoms)\n",
    "        grid_array = np.array([(self.grid[i]+lat_vec).rot(-self.Δθ*rotate) for i in grid_points])\n",
    "        plt.scatter(grid_array[:, 0], grid_array[:, 1], **kwargs)"
   ]
  },
  {
   "cell_type": "code",
   "execution_count": null,
   "metadata": {},
   "outputs": [],
   "source": [
    "\"\"\"n, m = 6, 7\n",
    "layer_1 = Supercell(n, m)\n",
    "layer_2 = Supercell(m, n)\n",
    "z_hopping = layer_1.interlayer_hopping_array(layer_2)\n",
    "layer_1.Δθ*2*180/np.pi\n",
    "\n",
    "j_1 = 2\n",
    "j_2 = 44\n",
    "for lat_vec in [layer_1.v_1+layer_1.v_2, layer_1.v_1,  layer_1.v_2, LatVec(0, 0)]:\n",
    "    layer_1.plot_supercell(lat_vec=lat_vec, c='green', s=10)\n",
    "    layer_1.plot_supercell(list(layer_1.NN_array[j_1, :]), lat_vec=lat_vec, c='blue', marker='d')\n",
    "    layer_1.plot_supercell([j_1], lat_vec=lat_vec, c='blue', s=70, marker='D')\n",
    "    layer_1.plot_supercell([j_2], lat_vec=lat_vec, c='blue', marker='D', s=70)\n",
    "for lat_vec in [layer_2.v_1+layer_2.v_2, layer_2.v_1,  layer_2.v_2, LatVec(0, 0)]:\n",
    "    layer_2.plot_supercell(lat_vec=lat_vec, c='orange', s=10)\n",
    "    layer_2.plot_supercell([i for i in range(layer_2.N_atoms) if np.linalg.norm(z_hopping[i, j_2]) < 1], lat_vec=lat_vec, c='red', marker='d')\n",
    "\n",
    "plt.gca().set_aspect('equal', adjustable='box')\n",
    "plt.axis('off')\"\"\""
   ]
  },
  {
   "cell_type": "markdown",
   "metadata": {},
   "source": [
    "Dit was de functie:\n",
    "\n",
    "$$\n",
    "f(x) = x^2\n",
    "$$"
   ]
  },
  {
   "cell_type": "code",
   "execution_count": null,
   "metadata": {},
   "outputs": [],
   "source": []
  },
  {
   "cell_type": "markdown",
   "metadata": {
    "tags": [
     "remove-cell"
    ]
   },
   "source": [
    "```{bibliography} references.bib\n",
    "```"
   ]
  },
  {
   "cell_type": "code",
   "execution_count": null,
   "metadata": {},
   "outputs": [],
   "source": [
    "[0, 0] + np.array([2, 0])"
   ]
  },
  {
   "cell_type": "code",
   "execution_count": null,
   "metadata": {},
   "outputs": [],
   "source": [
    "\" \".join([\"i\", \"r\"])"
   ]
  },
  {
   "cell_type": "markdown",
   "metadata": {},
   "source": [
    "```{bibliography} references.bib\n",
    "```"
   ]
  },
  {
   "cell_type": "code",
   "execution_count": null,
   "metadata": {},
   "outputs": [],
   "source": []
  }
 ],
 "metadata": {
  "jupytext": {
   "formats": "ipynb,md:myst"
  },
  "kernelspec": {
   "display_name": "Python 3",
   "language": "python",
   "name": "python3"
  },
  "language_info": {
   "codemirror_mode": {
    "name": "ipython",
    "version": 3
   },
   "file_extension": ".py",
   "mimetype": "text/x-python",
   "name": "python",
   "nbconvert_exporter": "python",
   "pygments_lexer": "ipython3",
   "version": "3.7.7"
  }
 },
 "nbformat": 4,
 "nbformat_minor": 4
}
